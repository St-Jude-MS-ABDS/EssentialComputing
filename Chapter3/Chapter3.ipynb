{
 "cells": [
  {
   "cell_type": "markdown",
   "id": "80b7c21c-41dd-4936-95b7-14b0716c2d54",
   "metadata": {},
   "source": [
    "# Chapter 3. Built-In Data Structures, Functions, and Files"
   ]
  },
  {
   "cell_type": "markdown",
   "id": "6fdff639-920f-4f97-87ae-32d5ea59d17f",
   "metadata": {},
   "source": [
    "This chapter discusses capabilities built into the Python language that will be used ubiquitously throughout the book. While add-on libraries like pandas and NumPy add advanced computational functionality for larger datasets, they are designed to be used together with Python’s built-in data manipulation tools.\n",
    "\n",
    "We’ll start with Python’s workhorse data structures: tuples, lists, dictionaries, and sets. Then, we’ll discuss creating your own reusable Python functions. Finally, we’ll look at the mechanics of Python file objects and interacting with your local hard drive."
   ]
  },
  {
   "cell_type": "markdown",
   "id": "7493c591-36f6-4c45-ae59-ec27437b68b1",
   "metadata": {},
   "source": [
    "# 3.1 Data Structures and Sequences"
   ]
  },
  {
   "cell_type": "markdown",
   "id": "fb3ae63d-978a-471d-b033-cf1ff15d60f7",
   "metadata": {},
   "source": [
    "Python’s data structures are simple but powerful. Mastering their use is a critical part of becoming a proficient Python programmer. We start with tuple, list, and dictionary, which are some of the most frequently used sequence types."
   ]
  },
  {
   "cell_type": "markdown",
   "id": "5e72cb65-ca57-456d-8da4-08fdad9ca945",
   "metadata": {},
   "source": [
    "## Tuple"
   ]
  },
  {
   "cell_type": "markdown",
   "id": "3f60bd39-053f-4732-9089-3f5b85ae4580",
   "metadata": {},
   "source": [
    "A tuple is a fixed-length, immutable sequence of Python objects which, once assigned, cannot be changed. The easiest way to create one is with a comma-separated sequence of values wrapped in parentheses:"
   ]
  },
  {
   "cell_type": "code",
   "execution_count": 12,
   "id": "397bb6ee-acec-4c1f-8b62-36d2e0875068",
   "metadata": {},
   "outputs": [],
   "source": [
    "tup = (4, 5, 6)"
   ]
  },
  {
   "cell_type": "code",
   "execution_count": 14,
   "id": "b486c264-08dd-402f-86f6-66878341f407",
   "metadata": {},
   "outputs": [
    {
     "data": {
      "text/plain": [
       "(4, 5, 6)"
      ]
     },
     "execution_count": 14,
     "metadata": {},
     "output_type": "execute_result"
    }
   ],
   "source": [
    "tup"
   ]
  },
  {
   "cell_type": "markdown",
   "id": "bcfa603f-abb8-43f1-8895-0f18a12170cb",
   "metadata": {},
   "source": [
    "In many contexts, the parentheses can be omitted, so here we could also have written:"
   ]
  },
  {
   "cell_type": "code",
   "execution_count": 17,
   "id": "08927d4d-08ab-4ad4-b64e-f12cd029941b",
   "metadata": {},
   "outputs": [],
   "source": [
    "tup = 4, 5, 6"
   ]
  },
  {
   "cell_type": "code",
   "execution_count": 19,
   "id": "60f51f73-6ec8-46ff-878c-9f7f3ddc6720",
   "metadata": {},
   "outputs": [
    {
     "data": {
      "text/plain": [
       "(4, 5, 6)"
      ]
     },
     "execution_count": 19,
     "metadata": {},
     "output_type": "execute_result"
    }
   ],
   "source": [
    "tup"
   ]
  },
  {
   "cell_type": "markdown",
   "id": "346f47b7-5939-40f3-900a-18982a2fb69d",
   "metadata": {},
   "source": [
    "You can convert any sequence or iterator to a tuple by invoking tuple:"
   ]
  },
  {
   "cell_type": "code",
   "execution_count": 22,
   "id": "2a18f38c-ed29-4176-a416-d595c04762ce",
   "metadata": {},
   "outputs": [
    {
     "data": {
      "text/plain": [
       "(4, 0, 2)"
      ]
     },
     "execution_count": 22,
     "metadata": {},
     "output_type": "execute_result"
    }
   ],
   "source": [
    "tuple([4, 0, 2])"
   ]
  },
  {
   "cell_type": "code",
   "execution_count": 24,
   "id": "23c54bab-75dd-4936-928d-d809595838cb",
   "metadata": {},
   "outputs": [],
   "source": [
    "tup = tuple('string')"
   ]
  },
  {
   "cell_type": "code",
   "execution_count": 26,
   "id": "75ff09fa-7006-4df9-a043-3cadfd86720f",
   "metadata": {},
   "outputs": [
    {
     "data": {
      "text/plain": [
       "('s', 't', 'r', 'i', 'n', 'g')"
      ]
     },
     "execution_count": 26,
     "metadata": {},
     "output_type": "execute_result"
    }
   ],
   "source": [
    "tup"
   ]
  },
  {
   "cell_type": "markdown",
   "id": "a4db241c-a79b-4a31-ad83-089da1880b24",
   "metadata": {},
   "source": [
    "Elements can be accessed with square brackets [] as with most other sequence types. As in C, C++, Java, and many other languages, sequences are 0-indexed in Python:"
   ]
  },
  {
   "cell_type": "code",
   "execution_count": 29,
   "id": "5a8a96cb-9427-44ec-a056-deda2ccc40f5",
   "metadata": {},
   "outputs": [
    {
     "data": {
      "text/plain": [
       "'s'"
      ]
     },
     "execution_count": 29,
     "metadata": {},
     "output_type": "execute_result"
    }
   ],
   "source": [
    "tup[0]"
   ]
  },
  {
   "cell_type": "markdown",
   "id": "cb265169-8121-4095-af27-7427a59c4189",
   "metadata": {},
   "source": [
    "When you’re defining tuples within more complicated expressions, it’s often necessary to enclose the values in parentheses, as in this example of creating a tuple of tuples:"
   ]
  },
  {
   "cell_type": "code",
   "execution_count": 32,
   "id": "b7e42d42-c1b9-4e4a-ab6d-469c90f2e8c4",
   "metadata": {},
   "outputs": [],
   "source": [
    "nested_tup = (4, 5, 6), (7, 8)"
   ]
  },
  {
   "cell_type": "code",
   "execution_count": 34,
   "id": "54fdb184-825b-4d29-bd8a-839ae815342b",
   "metadata": {},
   "outputs": [
    {
     "data": {
      "text/plain": [
       "((4, 5, 6), (7, 8))"
      ]
     },
     "execution_count": 34,
     "metadata": {},
     "output_type": "execute_result"
    }
   ],
   "source": [
    "nested_tup"
   ]
  },
  {
   "cell_type": "code",
   "execution_count": 36,
   "id": "5b60fde6-236a-42aa-8c8e-c0c184994f0d",
   "metadata": {},
   "outputs": [
    {
     "data": {
      "text/plain": [
       "(4, 5, 6)"
      ]
     },
     "execution_count": 36,
     "metadata": {},
     "output_type": "execute_result"
    }
   ],
   "source": [
    "nested_tup[0]"
   ]
  },
  {
   "cell_type": "code",
   "execution_count": 38,
   "id": "240da11a-2ec8-4b82-a9c7-9a136bd9c6d9",
   "metadata": {},
   "outputs": [
    {
     "data": {
      "text/plain": [
       "(7, 8)"
      ]
     },
     "execution_count": 38,
     "metadata": {},
     "output_type": "execute_result"
    }
   ],
   "source": [
    "nested_tup[1]"
   ]
  },
  {
   "cell_type": "markdown",
   "id": "86313fc8-3dcf-48cc-84e1-789bd51f5d7f",
   "metadata": {},
   "source": [
    "While the objects stored in a tuple may be mutable themselves, once the tuple is created it’s not possible to modify which object is stored in each slot:\n",
    "\n"
   ]
  },
  {
   "cell_type": "code",
   "execution_count": 41,
   "id": "a6709c79-ebdc-4696-bea9-1e84e8f7c917",
   "metadata": {},
   "outputs": [],
   "source": [
    "tup = tuple(['foo', [1, 2], True])"
   ]
  },
  {
   "cell_type": "code",
   "execution_count": 43,
   "id": "e2aa0ca8-a94b-4b6a-99ef-d89051a6957b",
   "metadata": {},
   "outputs": [
    {
     "ename": "TypeError",
     "evalue": "'tuple' object does not support item assignment",
     "output_type": "error",
     "traceback": [
      "\u001b[0;31m---------------------------------------------------------------------------\u001b[0m",
      "\u001b[0;31mTypeError\u001b[0m                                 Traceback (most recent call last)",
      "Cell \u001b[0;32mIn[43], line 1\u001b[0m\n\u001b[0;32m----> 1\u001b[0m tup[\u001b[38;5;241m2\u001b[39m] \u001b[38;5;241m=\u001b[39m \u001b[38;5;28;01mFalse\u001b[39;00m\n",
      "\u001b[0;31mTypeError\u001b[0m: 'tuple' object does not support item assignment"
     ]
    }
   ],
   "source": [
    "tup[2] = False"
   ]
  },
  {
   "cell_type": "markdown",
   "id": "737f2b90-3857-4706-ad1e-3467d1ac72ed",
   "metadata": {},
   "source": [
    "If an object inside a tuple is mutable, such as a list, you can modify it in place:\n",
    "\n"
   ]
  },
  {
   "cell_type": "code",
   "execution_count": 46,
   "id": "adb4e9cc-2450-48dd-a3cc-ed060fedb87d",
   "metadata": {},
   "outputs": [],
   "source": [
    "tup[1].append(3)"
   ]
  },
  {
   "cell_type": "code",
   "execution_count": 48,
   "id": "757577fa-1d1a-4937-8f9b-55fd687b1832",
   "metadata": {},
   "outputs": [
    {
     "data": {
      "text/plain": [
       "('foo', [1, 2, 3], True)"
      ]
     },
     "execution_count": 48,
     "metadata": {},
     "output_type": "execute_result"
    }
   ],
   "source": [
    "tup"
   ]
  },
  {
   "cell_type": "markdown",
   "id": "7cddcb47-3628-4a3e-9490-4f036739fc9d",
   "metadata": {},
   "source": [
    "You can concatenate tuples using the + operator to produce longer tuples:"
   ]
  },
  {
   "cell_type": "code",
   "execution_count": 51,
   "id": "48f7bb5d-9592-459d-86a3-046b9769c93f",
   "metadata": {},
   "outputs": [
    {
     "data": {
      "text/plain": [
       "(4, None, 'foo', 6, 0, 'bar')"
      ]
     },
     "execution_count": 51,
     "metadata": {},
     "output_type": "execute_result"
    }
   ],
   "source": [
    "(4, None, 'foo') + (6, 0) + ('bar',)"
   ]
  },
  {
   "cell_type": "markdown",
   "id": "ea9ca08e-9a90-4acc-bef7-7e334718c8ff",
   "metadata": {},
   "source": [
    "Multiplying a tuple by an integer, as with lists, has the effect of concatenating that many copies of the tuple:"
   ]
  },
  {
   "cell_type": "code",
   "execution_count": 54,
   "id": "8ebeaaeb-dfad-4278-bd4e-ee0dd805c125",
   "metadata": {},
   "outputs": [
    {
     "data": {
      "text/plain": [
       "('foo', 'bar', 'foo', 'bar', 'foo', 'bar', 'foo', 'bar')"
      ]
     },
     "execution_count": 54,
     "metadata": {},
     "output_type": "execute_result"
    }
   ],
   "source": [
    "('foo', 'bar') * 4"
   ]
  },
  {
   "cell_type": "markdown",
   "id": "0b5afa87-a663-4c48-af0b-f5e68842108f",
   "metadata": {},
   "source": [
    "Note that the objects themselves are not copied, only the references to them."
   ]
  },
  {
   "cell_type": "markdown",
   "id": "c20320eb-20ae-45d3-82d6-4f8d7072a00b",
   "metadata": {},
   "source": [
    "## Unpacking tuples"
   ]
  },
  {
   "cell_type": "markdown",
   "id": "3cee60b5-b8cc-43f2-9026-5d644c05c7a6",
   "metadata": {},
   "source": [
    "If you try to assign to a tuple-like expression of variables, Python will attempt to unpack the value on the righthand side of the equals sign:"
   ]
  },
  {
   "cell_type": "code",
   "execution_count": 59,
   "id": "bed6745a-7103-4c87-afd7-2a50628620a5",
   "metadata": {},
   "outputs": [],
   "source": [
    "tup = (4, 5, 6)"
   ]
  },
  {
   "cell_type": "code",
   "execution_count": 61,
   "id": "c8fc539e-77fc-417c-b6b7-80a76843abbe",
   "metadata": {},
   "outputs": [],
   "source": [
    "a, b, c = tup"
   ]
  },
  {
   "cell_type": "code",
   "execution_count": 63,
   "id": "82fc141d-0a8a-4e71-995c-9cb34ba0c213",
   "metadata": {},
   "outputs": [
    {
     "data": {
      "text/plain": [
       "5"
      ]
     },
     "execution_count": 63,
     "metadata": {},
     "output_type": "execute_result"
    }
   ],
   "source": [
    "b"
   ]
  },
  {
   "cell_type": "markdown",
   "id": "ba0f668c-286b-4739-a59b-a6a3a1e3c9db",
   "metadata": {},
   "source": [
    "Even sequences with nested tuples can be unpacked:"
   ]
  },
  {
   "cell_type": "code",
   "execution_count": 66,
   "id": "9c522ce9-5fc6-4b69-ae77-a6822defe03a",
   "metadata": {},
   "outputs": [],
   "source": [
    "tup = 4, 5, (6, 7)"
   ]
  },
  {
   "cell_type": "code",
   "execution_count": 68,
   "id": "ffd40a6f-ac14-4371-a8bc-f2370e7adeec",
   "metadata": {},
   "outputs": [],
   "source": [
    "a, b, (c, d) = tup"
   ]
  },
  {
   "cell_type": "code",
   "execution_count": 70,
   "id": "e25507a9-d9f1-44c9-b069-c857336cddd2",
   "metadata": {},
   "outputs": [
    {
     "data": {
      "text/plain": [
       "7"
      ]
     },
     "execution_count": 70,
     "metadata": {},
     "output_type": "execute_result"
    }
   ],
   "source": [
    "d"
   ]
  },
  {
   "cell_type": "markdown",
   "id": "2dcd6c0a-c1b2-4767-8143-1e6c1d8beba1",
   "metadata": {},
   "source": [
    "Using this functionality you can easily swap variable names, a task that in many languages might look like:"
   ]
  },
  {
   "cell_type": "code",
   "execution_count": 73,
   "id": "a7256fd9-d18c-4e19-a9af-001ee10d89fc",
   "metadata": {},
   "outputs": [],
   "source": [
    "tmp = a\n",
    "a = b\n",
    "b = tmp"
   ]
  },
  {
   "cell_type": "markdown",
   "id": "5ec63f36-318b-403c-a6fa-6bc806c1e978",
   "metadata": {},
   "source": [
    "But, in Python, the swap can be done like this:"
   ]
  },
  {
   "cell_type": "code",
   "execution_count": 76,
   "id": "4881d19a-e7b5-4b2d-8140-feabfdab2d38",
   "metadata": {},
   "outputs": [],
   "source": [
    "a, b = 1, 2"
   ]
  },
  {
   "cell_type": "code",
   "execution_count": 78,
   "id": "67b037b3-898b-4798-a86f-67ea77be2c46",
   "metadata": {},
   "outputs": [
    {
     "data": {
      "text/plain": [
       "1"
      ]
     },
     "execution_count": 78,
     "metadata": {},
     "output_type": "execute_result"
    }
   ],
   "source": [
    "a"
   ]
  },
  {
   "cell_type": "code",
   "execution_count": 80,
   "id": "6b68fddb-96b9-4979-8c9a-7b8378e8af11",
   "metadata": {},
   "outputs": [
    {
     "data": {
      "text/plain": [
       "2"
      ]
     },
     "execution_count": 80,
     "metadata": {},
     "output_type": "execute_result"
    }
   ],
   "source": [
    "b"
   ]
  },
  {
   "cell_type": "code",
   "execution_count": 82,
   "id": "900b27cf-99f3-41f0-ba07-ca79029fd91b",
   "metadata": {},
   "outputs": [],
   "source": [
    "b, a = a, b"
   ]
  },
  {
   "cell_type": "code",
   "execution_count": 84,
   "id": "1d336350-5797-4369-bc88-122ffa9fbedc",
   "metadata": {},
   "outputs": [
    {
     "data": {
      "text/plain": [
       "2"
      ]
     },
     "execution_count": 84,
     "metadata": {},
     "output_type": "execute_result"
    }
   ],
   "source": [
    "a"
   ]
  },
  {
   "cell_type": "code",
   "execution_count": 86,
   "id": "69635d3f-72e3-4b76-847b-9843a5bc039c",
   "metadata": {},
   "outputs": [
    {
     "data": {
      "text/plain": [
       "1"
      ]
     },
     "execution_count": 86,
     "metadata": {},
     "output_type": "execute_result"
    }
   ],
   "source": [
    "b"
   ]
  },
  {
   "cell_type": "markdown",
   "id": "2eb1dc68-d34d-4ed2-9863-6e5fb0f81438",
   "metadata": {},
   "source": [
    "A common use of variable unpacking is iterating over sequences of tuples or lists:\n",
    "\n"
   ]
  },
  {
   "cell_type": "code",
   "execution_count": 89,
   "id": "1c725210-5d46-4846-babf-1a3bda65014f",
   "metadata": {},
   "outputs": [],
   "source": [
    "seq = [(1, 2, 3), (4, 5, 6), (7, 8, 9)]"
   ]
  },
  {
   "cell_type": "code",
   "execution_count": 91,
   "id": "d93176a9-48b6-4104-9ba6-bc25d4ed70b1",
   "metadata": {},
   "outputs": [
    {
     "name": "stdout",
     "output_type": "stream",
     "text": [
      "a=1, b=2, c=3\n",
      "a=4, b=5, c=6\n",
      "a=7, b=8, c=9\n"
     ]
    }
   ],
   "source": [
    "for a, b, c in seq:\n",
    "    print(f'a={a}, b={b}, c={c}')"
   ]
  },
  {
   "cell_type": "markdown",
   "id": "3307cc94-ddb4-4804-80a4-00d55855d606",
   "metadata": {},
   "source": [
    "Another common use is returning multiple values from a function. I’ll cover this in more detail later."
   ]
  },
  {
   "cell_type": "markdown",
   "id": "b9ea314f-e42b-41ff-a4d9-19037ba5c12f",
   "metadata": {},
   "source": [
    "There are some situations where you may want to “pluck” a few elements from the beginning of a tuple. There is a special syntax that can do this, *rest, which is also used in function signatures to capture an arbitrarily long list of positional arguments:"
   ]
  },
  {
   "cell_type": "code",
   "execution_count": 95,
   "id": "c7d6c504-6d77-4126-ae4f-065677547294",
   "metadata": {},
   "outputs": [],
   "source": [
    "values = 1, 2, 3, 4, 5"
   ]
  },
  {
   "cell_type": "code",
   "execution_count": 97,
   "id": "ac84506d-1b0c-4f61-9f4c-276538cad714",
   "metadata": {},
   "outputs": [],
   "source": [
    "a, b, *rest = values"
   ]
  },
  {
   "cell_type": "code",
   "execution_count": 99,
   "id": "21b5a874-27ca-4722-8e25-b7d8d4bec1f2",
   "metadata": {},
   "outputs": [
    {
     "data": {
      "text/plain": [
       "1"
      ]
     },
     "execution_count": 99,
     "metadata": {},
     "output_type": "execute_result"
    }
   ],
   "source": [
    "a"
   ]
  },
  {
   "cell_type": "code",
   "execution_count": 101,
   "id": "a6e067ee-ae55-4a59-a9cb-ab527eb5b6f5",
   "metadata": {},
   "outputs": [
    {
     "data": {
      "text/plain": [
       "2"
      ]
     },
     "execution_count": 101,
     "metadata": {},
     "output_type": "execute_result"
    }
   ],
   "source": [
    "b"
   ]
  },
  {
   "cell_type": "code",
   "execution_count": 103,
   "id": "47afc6cb-1e5c-41e0-ae84-689dea2e7b3d",
   "metadata": {},
   "outputs": [
    {
     "data": {
      "text/plain": [
       "[3, 4, 5]"
      ]
     },
     "execution_count": 103,
     "metadata": {},
     "output_type": "execute_result"
    }
   ],
   "source": [
    "rest"
   ]
  },
  {
   "cell_type": "markdown",
   "id": "2910689d-220b-4225-9b57-89ff5fdb1aa9",
   "metadata": {},
   "source": [
    "This rest bit is sometimes something you want to discard; there is nothing special about the rest name. As a matter of convention, many Python programmers will use the underscore (_) for unwanted variables:"
   ]
  },
  {
   "cell_type": "code",
   "execution_count": 106,
   "id": "f4530807-1604-48ec-976f-4f4fa119aab5",
   "metadata": {},
   "outputs": [],
   "source": [
    "a, b, *_ = values"
   ]
  },
  {
   "cell_type": "markdown",
   "id": "c1f4f774-1c12-4449-87b8-2a21103c464c",
   "metadata": {},
   "source": [
    "## Tuple methods"
   ]
  },
  {
   "cell_type": "markdown",
   "id": "1ad3a487-6a66-4633-8283-ad09aedb8a68",
   "metadata": {},
   "source": [
    "Since the size and contents of a tuple cannot be modified, it is very light on instance methods. A particularly useful one (also available on lists) is count, which counts the number of occurrences of a value:"
   ]
  },
  {
   "cell_type": "code",
   "execution_count": 110,
   "id": "1a84c9fd-ddfd-4916-9ee2-83e120893ec1",
   "metadata": {},
   "outputs": [],
   "source": [
    "a = (1, 2, 2, 2, 3, 4, 2)"
   ]
  },
  {
   "cell_type": "code",
   "execution_count": 112,
   "id": "66287c34-e644-4dc2-a13e-0b1126475c9e",
   "metadata": {},
   "outputs": [
    {
     "data": {
      "text/plain": [
       "4"
      ]
     },
     "execution_count": 112,
     "metadata": {},
     "output_type": "execute_result"
    }
   ],
   "source": [
    "a.count(2)"
   ]
  },
  {
   "cell_type": "markdown",
   "id": "1e834aa2-c887-40ca-acaf-873f960cda1c",
   "metadata": {},
   "source": [
    "## List"
   ]
  },
  {
   "cell_type": "markdown",
   "id": "01a0f9f3-436f-4e9b-b0e2-1e1ce9e03d95",
   "metadata": {},
   "source": [
    "In contrast with tuples, lists are variable length and their contents can be modified in place. Lists are mutable. You can define them using square brackets [] or using the list type function:"
   ]
  },
  {
   "cell_type": "code",
   "execution_count": 116,
   "id": "f996b352-fd36-472a-a689-c1a6a3822f04",
   "metadata": {},
   "outputs": [],
   "source": [
    "a_list = [2, 3, 7, None]"
   ]
  },
  {
   "cell_type": "code",
   "execution_count": 118,
   "id": "2df00ab6-acc2-4032-8fda-36a62965bccd",
   "metadata": {},
   "outputs": [],
   "source": [
    "tup = (\"foo\", \"bar\", \"baz\")"
   ]
  },
  {
   "cell_type": "code",
   "execution_count": 120,
   "id": "97905caa-f957-4165-ace0-b7eec6fab10a",
   "metadata": {},
   "outputs": [],
   "source": [
    "b_list = list(tup)"
   ]
  },
  {
   "cell_type": "code",
   "execution_count": 122,
   "id": "126722b2-438b-48ac-813f-eb0b452f597e",
   "metadata": {},
   "outputs": [
    {
     "data": {
      "text/plain": [
       "['foo', 'bar', 'baz']"
      ]
     },
     "execution_count": 122,
     "metadata": {},
     "output_type": "execute_result"
    }
   ],
   "source": [
    "b_list"
   ]
  },
  {
   "cell_type": "code",
   "execution_count": 124,
   "id": "2a0b0f65-eb4d-4c4c-94db-1b653cb7dde3",
   "metadata": {},
   "outputs": [],
   "source": [
    "b_list[1] = \"peekaboo\""
   ]
  },
  {
   "cell_type": "code",
   "execution_count": 126,
   "id": "2b2ae5ad-70cb-4dfb-b4a9-ee7f70615ed0",
   "metadata": {},
   "outputs": [
    {
     "data": {
      "text/plain": [
       "['foo', 'peekaboo', 'baz']"
      ]
     },
     "execution_count": 126,
     "metadata": {},
     "output_type": "execute_result"
    }
   ],
   "source": [
    "b_list"
   ]
  },
  {
   "cell_type": "markdown",
   "id": "2ae9f8bb-793d-43f3-b3b9-5ea5576aaeda",
   "metadata": {},
   "source": [
    "Lists and tuples are semantically similar (though tuples cannot be modified) and can be used interchangeably in many functions.\n",
    "\n",
    "The list built-in function is frequently used in data processing as a way to materialize an iterator or generator expression:"
   ]
  },
  {
   "cell_type": "code",
   "execution_count": 129,
   "id": "0c3ef5f2-08eb-4e0e-9b7c-524803d086a9",
   "metadata": {},
   "outputs": [],
   "source": [
    "gen = range(10)"
   ]
  },
  {
   "cell_type": "code",
   "execution_count": 131,
   "id": "ca714c3d-bec6-4969-b43a-d32b4e3ef0cd",
   "metadata": {},
   "outputs": [
    {
     "data": {
      "text/plain": [
       "range(0, 10)"
      ]
     },
     "execution_count": 131,
     "metadata": {},
     "output_type": "execute_result"
    }
   ],
   "source": [
    "gen"
   ]
  },
  {
   "cell_type": "code",
   "execution_count": 133,
   "id": "e7feaf6e-fa2e-4f41-9bb4-92bd05deb426",
   "metadata": {},
   "outputs": [
    {
     "data": {
      "text/plain": [
       "[0, 1, 2, 3, 4, 5, 6, 7, 8, 9]"
      ]
     },
     "execution_count": 133,
     "metadata": {},
     "output_type": "execute_result"
    }
   ],
   "source": [
    "list(gen)"
   ]
  },
  {
   "cell_type": "markdown",
   "id": "719316ed-82d4-46fb-986b-eb690db38f3b",
   "metadata": {},
   "source": [
    "Adding and removing elements"
   ]
  },
  {
   "cell_type": "markdown",
   "id": "a5ff0bd6-bc25-49ac-8039-8f18f4c302f8",
   "metadata": {},
   "source": [
    "Elements can be appended to the end of the list with the append method:\n",
    "\n"
   ]
  },
  {
   "cell_type": "code",
   "execution_count": 137,
   "id": "604ebb6d-43d0-4ec7-b556-b7c30bdff1f6",
   "metadata": {},
   "outputs": [],
   "source": [
    "b_list.append(\"dwarf\")"
   ]
  },
  {
   "cell_type": "code",
   "execution_count": 139,
   "id": "2a91b76a-25ec-443f-be46-2e2dbf21a1c8",
   "metadata": {},
   "outputs": [
    {
     "data": {
      "text/plain": [
       "['foo', 'peekaboo', 'baz', 'dwarf']"
      ]
     },
     "execution_count": 139,
     "metadata": {},
     "output_type": "execute_result"
    }
   ],
   "source": [
    "b_list"
   ]
  },
  {
   "cell_type": "markdown",
   "id": "ec273691-88dd-42ac-8ad0-f24f70a47783",
   "metadata": {},
   "source": [
    "Using insert you can insert an element at a specific location in the list:\n",
    "\n"
   ]
  },
  {
   "cell_type": "code",
   "execution_count": 142,
   "id": "6945215b-ee33-4b9d-88d2-5f33c9bdb60d",
   "metadata": {},
   "outputs": [],
   "source": [
    "b_list.insert(1, \"red\")"
   ]
  },
  {
   "cell_type": "code",
   "execution_count": 144,
   "id": "23900688-937b-4c7a-9ffb-05c9aa7087fa",
   "metadata": {},
   "outputs": [
    {
     "data": {
      "text/plain": [
       "['foo', 'red', 'peekaboo', 'baz', 'dwarf']"
      ]
     },
     "execution_count": 144,
     "metadata": {},
     "output_type": "execute_result"
    }
   ],
   "source": [
    "b_list"
   ]
  },
  {
   "cell_type": "markdown",
   "id": "6b827603-f027-435d-b231-bd8ae234295b",
   "metadata": {},
   "source": [
    "The insertion index must be between 0 and the length of the list, inclusive.\n",
    "\n"
   ]
  },
  {
   "cell_type": "markdown",
   "id": "b8f56ac8-af55-4e56-bbb9-f107f971a4eb",
   "metadata": {},
   "source": [
    "Warning\n",
    "insert is computationally expensive compared with append, because references to subsequent elements have to be shifted internally to make room for the new element. If you need to insert elements at both the beginning and end of a sequence, you may wish to explore collections.deque, a double-ended queue, which is optimized for this purpose and found in the Python Standard Library."
   ]
  },
  {
   "cell_type": "markdown",
   "id": "51d5b075-68a2-4b3e-bcac-a042d3100b01",
   "metadata": {},
   "source": [
    "Warning\n",
    "insert is computationally expensive compared with append, because references to subsequent elements have to be shifted internally to make room for the new element. If you need to insert elements at both the beginning and end of a sequence, you may wish to explore collections.deque, a double-ended queue, which is optimized for this purpose and found in the Python Standard Library."
   ]
  },
  {
   "cell_type": "code",
   "execution_count": 149,
   "id": "07ba205c-2750-485c-aadd-64b0be90df26",
   "metadata": {},
   "outputs": [
    {
     "data": {
      "text/plain": [
       "'peekaboo'"
      ]
     },
     "execution_count": 149,
     "metadata": {},
     "output_type": "execute_result"
    }
   ],
   "source": [
    "b_list.pop(2)"
   ]
  },
  {
   "cell_type": "code",
   "execution_count": 151,
   "id": "a17e301f-a570-4cbb-ae47-801fe3e7aff1",
   "metadata": {},
   "outputs": [
    {
     "data": {
      "text/plain": [
       "['foo', 'red', 'baz', 'dwarf']"
      ]
     },
     "execution_count": 151,
     "metadata": {},
     "output_type": "execute_result"
    }
   ],
   "source": [
    "b_list"
   ]
  },
  {
   "cell_type": "markdown",
   "id": "5bb1c5b4-650d-47af-9a5e-a358633e13e0",
   "metadata": {},
   "source": [
    "Elements can be removed by value with remove, which locates the first such value and removes it from the list:"
   ]
  },
  {
   "cell_type": "code",
   "execution_count": 154,
   "id": "140079c2-f46c-4f36-b972-5aabfb5f03a9",
   "metadata": {},
   "outputs": [],
   "source": [
    "b_list.append(\"foo\")\n"
   ]
  },
  {
   "cell_type": "code",
   "execution_count": 156,
   "id": "77b371cf-aa40-4579-a11f-6751d01d0c7e",
   "metadata": {},
   "outputs": [
    {
     "data": {
      "text/plain": [
       "['foo', 'red', 'baz', 'dwarf', 'foo']"
      ]
     },
     "execution_count": 156,
     "metadata": {},
     "output_type": "execute_result"
    }
   ],
   "source": [
    "b_list"
   ]
  },
  {
   "cell_type": "code",
   "execution_count": 158,
   "id": "f56a437c-1d09-4a8a-86c7-99ef85efb8f7",
   "metadata": {},
   "outputs": [],
   "source": [
    "b_list.remove(\"foo\")"
   ]
  },
  {
   "cell_type": "code",
   "execution_count": 160,
   "id": "1d160b4a-4f36-4d0e-8bac-d703117e4a36",
   "metadata": {},
   "outputs": [
    {
     "data": {
      "text/plain": [
       "['red', 'baz', 'dwarf', 'foo']"
      ]
     },
     "execution_count": 160,
     "metadata": {},
     "output_type": "execute_result"
    }
   ],
   "source": [
    "b_list"
   ]
  },
  {
   "cell_type": "markdown",
   "id": "0e80c74c-6cf3-4d31-9b3a-972b234fd3cd",
   "metadata": {},
   "source": [
    "If performance is not a concern, by using append and remove, you can use a Python list as a set-like data structure (although Python has actual set objects, discussed later)."
   ]
  },
  {
   "cell_type": "markdown",
   "id": "bf7a0e3d-eb5b-4c29-a69c-a55c17cdf26b",
   "metadata": {},
   "source": [
    "Check if a list contains a value using the in keyword:\n",
    "\n"
   ]
  },
  {
   "cell_type": "code",
   "execution_count": 164,
   "id": "488dbe26-7989-45a8-a4be-dd696a34b5c2",
   "metadata": {},
   "outputs": [],
   "source": [
    "In [61]: \"dwarf\" in b_list\n",
    "Out[61]: True"
   ]
  },
  {
   "cell_type": "markdown",
   "id": "5161cc2e-471f-410f-8f9f-29fd2e4c2928",
   "metadata": {},
   "source": [
    "The keyword not can be used to negate in:\n",
    "\n"
   ]
  },
  {
   "cell_type": "code",
   "execution_count": 167,
   "id": "f78f3747-4c8f-4de4-b7da-d21ccc4ff914",
   "metadata": {},
   "outputs": [
    {
     "data": {
      "text/plain": [
       "False"
      ]
     },
     "execution_count": 167,
     "metadata": {},
     "output_type": "execute_result"
    }
   ],
   "source": [
    "\"dwarf\" not in b_list"
   ]
  },
  {
   "cell_type": "markdown",
   "id": "ee140774-ec36-4874-98af-a3b879f4d02d",
   "metadata": {},
   "source": [
    "Checking whether a list contains a value is a lot slower than doing so with dictionaries and sets (to be introduced shortly), as Python makes a linear scan across the values of the list, whereas it can check the others (based on hash tables) in constant time."
   ]
  },
  {
   "cell_type": "markdown",
   "id": "3ea33410-d9a4-439b-bcb1-77ca13a3a6d1",
   "metadata": {},
   "source": [
    "## Concatenating and combining lists\n"
   ]
  },
  {
   "cell_type": "markdown",
   "id": "f9f892c9-cbac-419b-a14c-f7643c0b2a4b",
   "metadata": {},
   "source": [
    "Similar to tuples, adding two lists together with + concatenates them:\n",
    "\n"
   ]
  },
  {
   "cell_type": "code",
   "execution_count": 172,
   "id": "d57e451a-95b7-4831-811c-51d8b3a04bb0",
   "metadata": {},
   "outputs": [
    {
     "data": {
      "text/plain": [
       "[4, None, 'foo', 7, 8, (2, 3)]"
      ]
     },
     "execution_count": 172,
     "metadata": {},
     "output_type": "execute_result"
    }
   ],
   "source": [
    "[4, None, \"foo\"] + [7, 8, (2, 3)]"
   ]
  },
  {
   "cell_type": "markdown",
   "id": "3b2ce5e0-c80f-4930-872c-ba3b3e1217f1",
   "metadata": {},
   "source": [
    "If you have a list already defined, you can append multiple elements to it using the extend method:\n",
    "\n"
   ]
  },
  {
   "cell_type": "code",
   "execution_count": 175,
   "id": "3b9ec9f1-1422-437e-a1cd-edfbaa310308",
   "metadata": {},
   "outputs": [],
   "source": [
    "x = [4, None, \"foo\"]"
   ]
  },
  {
   "cell_type": "code",
   "execution_count": 177,
   "id": "03006bfb-45ab-4f6a-b404-4b5546838e65",
   "metadata": {},
   "outputs": [],
   "source": [
    "x.extend([7, 8, (2, 3)])"
   ]
  },
  {
   "cell_type": "code",
   "execution_count": 179,
   "id": "38764117-95a5-4b52-a7ff-2db158ffddf6",
   "metadata": {},
   "outputs": [
    {
     "data": {
      "text/plain": [
       "[4, None, 'foo', 7, 8, (2, 3)]"
      ]
     },
     "execution_count": 179,
     "metadata": {},
     "output_type": "execute_result"
    }
   ],
   "source": [
    "x"
   ]
  },
  {
   "cell_type": "markdown",
   "id": "1a4e94de-15b7-45df-a4c0-54f218e633dc",
   "metadata": {},
   "source": [
    "Note that list concatenation by addition is a comparatively expensive operation since a new list must be created and the objects copied over. Using extend to append elements to an existing list, especially if you are building up a large list, is usually preferable. Thus:"
   ]
  },
  {
   "cell_type": "code",
   "execution_count": 182,
   "id": "322df2f3-bb51-4a7b-b822-9de0ab5aca3b",
   "metadata": {},
   "outputs": [
    {
     "ename": "NameError",
     "evalue": "name 'list_of_lists' is not defined",
     "output_type": "error",
     "traceback": [
      "\u001b[0;31m---------------------------------------------------------------------------\u001b[0m",
      "\u001b[0;31mNameError\u001b[0m                                 Traceback (most recent call last)",
      "Cell \u001b[0;32mIn[182], line 2\u001b[0m\n\u001b[1;32m      1\u001b[0m everything \u001b[38;5;241m=\u001b[39m []\n\u001b[0;32m----> 2\u001b[0m \u001b[38;5;28;01mfor\u001b[39;00m chunk \u001b[38;5;129;01min\u001b[39;00m list_of_lists:\n\u001b[1;32m      3\u001b[0m     everything\u001b[38;5;241m.\u001b[39mextend(chunk)\n",
      "\u001b[0;31mNameError\u001b[0m: name 'list_of_lists' is not defined"
     ]
    }
   ],
   "source": [
    "everything = []\n",
    "for chunk in list_of_lists:\n",
    "    everything.extend(chunk)"
   ]
  },
  {
   "cell_type": "markdown",
   "id": "82d2fb99-f7f8-4f60-93a2-f3d0ae05e70d",
   "metadata": {},
   "source": [
    "is faster than the concatenative alternative:"
   ]
  },
  {
   "cell_type": "code",
   "execution_count": 185,
   "id": "abfae0d9-07a6-4db5-9e38-bb45ac4ca862",
   "metadata": {},
   "outputs": [
    {
     "ename": "NameError",
     "evalue": "name 'list_of_lists' is not defined",
     "output_type": "error",
     "traceback": [
      "\u001b[0;31m---------------------------------------------------------------------------\u001b[0m",
      "\u001b[0;31mNameError\u001b[0m                                 Traceback (most recent call last)",
      "Cell \u001b[0;32mIn[185], line 2\u001b[0m\n\u001b[1;32m      1\u001b[0m everything \u001b[38;5;241m=\u001b[39m []\n\u001b[0;32m----> 2\u001b[0m \u001b[38;5;28;01mfor\u001b[39;00m chunk \u001b[38;5;129;01min\u001b[39;00m list_of_lists:\n\u001b[1;32m      3\u001b[0m     everything \u001b[38;5;241m=\u001b[39m everything \u001b[38;5;241m+\u001b[39m chunk\n",
      "\u001b[0;31mNameError\u001b[0m: name 'list_of_lists' is not defined"
     ]
    }
   ],
   "source": [
    "everything = []\n",
    "for chunk in list_of_lists:\n",
    "    everything = everything + chunk"
   ]
  },
  {
   "cell_type": "markdown",
   "id": "6216f659-0580-46b4-88bd-a39dc8526ead",
   "metadata": {},
   "source": [
    "## Sorting\n"
   ]
  },
  {
   "cell_type": "markdown",
   "id": "d9cd24b2-1a43-464c-b598-bed2f036f40c",
   "metadata": {},
   "source": [
    "You can sort a list in place (without creating a new object) by calling its sort function:\n",
    "\n"
   ]
  },
  {
   "cell_type": "code",
   "execution_count": 189,
   "id": "31686976-b72d-4596-8c50-52eee386b7ef",
   "metadata": {},
   "outputs": [],
   "source": [
    "In [67]: a = [7, 2, 5, 1, 3]"
   ]
  },
  {
   "cell_type": "code",
   "execution_count": 191,
   "id": "c2e3db22-43fb-42ea-a2f4-9d8e65ed365b",
   "metadata": {},
   "outputs": [],
   "source": [
    "a.sort()"
   ]
  },
  {
   "cell_type": "code",
   "execution_count": 193,
   "id": "09711284-03f8-4c55-8530-e71b3f177d57",
   "metadata": {},
   "outputs": [
    {
     "data": {
      "text/plain": [
       "[1, 2, 3, 5, 7]"
      ]
     },
     "execution_count": 193,
     "metadata": {},
     "output_type": "execute_result"
    }
   ],
   "source": [
    "a"
   ]
  },
  {
   "cell_type": "markdown",
   "id": "f28876d3-fcfc-44da-ab49-2cf72d1c8277",
   "metadata": {},
   "source": [
    "sort has a few options that will occasionally come in handy. One is the ability to pass a secondary sort key—that is, a function that produces a value to use to sort the objects. For example, we could sort a collection of strings by their lengths:"
   ]
  },
  {
   "cell_type": "code",
   "execution_count": 196,
   "id": "5e96a6f1-6540-4e12-ab47-8b339aa7b82c",
   "metadata": {},
   "outputs": [],
   "source": [
    "b = [\"saw\", \"small\", \"He\", \"foxes\", \"six\"]"
   ]
  },
  {
   "cell_type": "code",
   "execution_count": 198,
   "id": "f6273177-bb25-40f3-89d2-fef4fba2e589",
   "metadata": {},
   "outputs": [],
   "source": [
    "b.sort(key=len)"
   ]
  },
  {
   "cell_type": "code",
   "execution_count": 200,
   "id": "005da2c5-4757-4b83-8af0-613e65613303",
   "metadata": {},
   "outputs": [
    {
     "data": {
      "text/plain": [
       "['He', 'saw', 'six', 'small', 'foxes']"
      ]
     },
     "execution_count": 200,
     "metadata": {},
     "output_type": "execute_result"
    }
   ],
   "source": [
    "b"
   ]
  },
  {
   "cell_type": "markdown",
   "id": "d3dbaecb-5cff-4017-b4ab-ff75212d4c1a",
   "metadata": {},
   "source": [
    "Soon, we’ll look at the sorted function, which can produce a sorted copy of a general sequence."
   ]
  },
  {
   "cell_type": "markdown",
   "id": "0b085438-0783-4b1b-8e75-ab8ca3935d26",
   "metadata": {},
   "source": [
    "## Slicing\n"
   ]
  },
  {
   "cell_type": "markdown",
   "id": "2a59d532-c628-4902-9708-cc5ad9e63d16",
   "metadata": {},
   "source": [
    "You can select sections of most sequence types by using slice notation, which in its basic form consists of start:stop passed to the indexing operator []:"
   ]
  },
  {
   "cell_type": "code",
   "execution_count": 205,
   "id": "5f93ca84-771f-4577-9d94-ed5940c5c8f7",
   "metadata": {},
   "outputs": [],
   "source": [
    "seq = [7, 2, 3, 7, 5, 6, 0, 1]"
   ]
  },
  {
   "cell_type": "code",
   "execution_count": 207,
   "id": "7d773b8a-06b0-4e8a-bd0d-37ce37cd3271",
   "metadata": {},
   "outputs": [
    {
     "data": {
      "text/plain": [
       "[2, 3, 7, 5]"
      ]
     },
     "execution_count": 207,
     "metadata": {},
     "output_type": "execute_result"
    }
   ],
   "source": [
    "seq[1:5]"
   ]
  },
  {
   "cell_type": "markdown",
   "id": "620ab944-e377-4f2c-8860-2b6cdcd12b11",
   "metadata": {},
   "source": [
    "Slices can also be assigned with a sequence:"
   ]
  },
  {
   "cell_type": "code",
   "execution_count": 210,
   "id": "04e176c3-e50d-4ed9-b24b-be67c091b800",
   "metadata": {},
   "outputs": [],
   "source": [
    "seq[3:5] = [6, 3]"
   ]
  },
  {
   "cell_type": "code",
   "execution_count": 212,
   "id": "111d189d-454c-418d-b0eb-65c2c052be02",
   "metadata": {},
   "outputs": [
    {
     "data": {
      "text/plain": [
       "[7, 2, 3, 6, 3, 6, 0, 1]"
      ]
     },
     "execution_count": 212,
     "metadata": {},
     "output_type": "execute_result"
    }
   ],
   "source": [
    "seq"
   ]
  },
  {
   "cell_type": "markdown",
   "id": "4ff45d42-7551-46f9-bb6e-9c353fb54a7a",
   "metadata": {},
   "source": [
    "While the element at the start index is included, the stop index is not included, so that the number of elements in the result is stop - start."
   ]
  },
  {
   "cell_type": "markdown",
   "id": "0813595d-bd64-4799-81d3-2732ff5d6275",
   "metadata": {},
   "source": [
    "Either the start or stop can be omitted, in which case they default to the start of the sequence and the end of the sequence, respectively:"
   ]
  },
  {
   "cell_type": "code",
   "execution_count": 216,
   "id": "ae7a4bdd-8ed0-4d63-a5fb-a37961d6e374",
   "metadata": {},
   "outputs": [
    {
     "data": {
      "text/plain": [
       "[7, 2, 3, 6, 3]"
      ]
     },
     "execution_count": 216,
     "metadata": {},
     "output_type": "execute_result"
    }
   ],
   "source": [
    "seq[:5]"
   ]
  },
  {
   "cell_type": "code",
   "execution_count": 218,
   "id": "3331f948-104a-4043-9c1d-797b77668546",
   "metadata": {},
   "outputs": [
    {
     "data": {
      "text/plain": [
       "[6, 3, 6, 0, 1]"
      ]
     },
     "execution_count": 218,
     "metadata": {},
     "output_type": "execute_result"
    }
   ],
   "source": [
    "seq[3:]"
   ]
  },
  {
   "cell_type": "markdown",
   "id": "138f0591-8d8f-4f54-b8bb-352a1ec9d3ac",
   "metadata": {},
   "source": [
    "Negative indices slice the sequence relative to the end:"
   ]
  },
  {
   "cell_type": "code",
   "execution_count": 221,
   "id": "579d11aa-2d31-4d80-ae4f-59a927909069",
   "metadata": {},
   "outputs": [
    {
     "data": {
      "text/plain": [
       "[3, 6, 0, 1]"
      ]
     },
     "execution_count": 221,
     "metadata": {},
     "output_type": "execute_result"
    }
   ],
   "source": [
    "seq[-4:]"
   ]
  },
  {
   "cell_type": "code",
   "execution_count": 223,
   "id": "de27ae00-3e22-4396-b550-46c6487149dc",
   "metadata": {},
   "outputs": [
    {
     "data": {
      "text/plain": [
       "[3, 6, 3, 6]"
      ]
     },
     "execution_count": 223,
     "metadata": {},
     "output_type": "execute_result"
    }
   ],
   "source": [
    "seq[-6:-2]"
   ]
  },
  {
   "cell_type": "markdown",
   "id": "c76fd3b3-d529-45ca-af33-9633702a3847",
   "metadata": {},
   "source": [
    "Slicing semantics takes a bit of getting used to, especially if you’re coming from R or MATLAB. See Figure 3-1 for a helpful illustration of slicing with positive and negative integers. In the figure, the indices are shown at the “bin edges” to help show where the slice selections start and stop using positive or negative indices."
   ]
  },
  {
   "cell_type": "markdown",
   "id": "fd4aac94-bf5d-49af-a6ac-65443531af1e",
   "metadata": {},
   "source": [
    "![](pda3_0301.png)"
   ]
  },
  {
   "cell_type": "markdown",
   "id": "3399c167-858e-473e-8a20-2100326be216",
   "metadata": {},
   "source": [
    "A step can also be used after a second colon to, say, take every other element:"
   ]
  },
  {
   "cell_type": "code",
   "execution_count": 228,
   "id": "48d5b597-1757-459a-a138-86c35181c9d6",
   "metadata": {},
   "outputs": [
    {
     "data": {
      "text/plain": [
       "[7, 3, 3, 0]"
      ]
     },
     "execution_count": 228,
     "metadata": {},
     "output_type": "execute_result"
    }
   ],
   "source": [
    "seq[::2]"
   ]
  },
  {
   "cell_type": "markdown",
   "id": "6b95646e-7c33-4285-b95d-ab046159d524",
   "metadata": {},
   "source": [
    "A clever use of this is to pass -1, which has the useful effect of reversing a list or tuple:\n",
    "\n"
   ]
  },
  {
   "cell_type": "code",
   "execution_count": 231,
   "id": "6bc7aaec-4aee-4a4c-b46f-a9a541dbc810",
   "metadata": {},
   "outputs": [
    {
     "data": {
      "text/plain": [
       "[1, 0, 6, 3, 6, 3, 2, 7]"
      ]
     },
     "execution_count": 231,
     "metadata": {},
     "output_type": "execute_result"
    }
   ],
   "source": [
    "seq[::-1]"
   ]
  },
  {
   "cell_type": "markdown",
   "id": "e1e54ad6-677b-4986-97a3-354e783b746e",
   "metadata": {},
   "source": [
    "## Dictionary"
   ]
  },
  {
   "cell_type": "markdown",
   "id": "228f5470-daba-48a8-8b9b-2c42b2bf2d51",
   "metadata": {},
   "source": [
    "The dictionary or dict may be the most important built-in Python data structure. In other programming languages, dictionaries are sometimes called hash maps or associative arrays. A dictionary stores a collection of key-value pairs, where key and value are Python objects. Each key is associated with a value so that a value can be conveniently retrieved, inserted, modified, or deleted given a particular key. One approach for creating a dictionary is to use curly braces {} and colons to separate keys and values:"
   ]
  },
  {
   "cell_type": "code",
   "execution_count": 235,
   "id": "c103ca90-1e82-4273-ad83-2a6c4099bc49",
   "metadata": {},
   "outputs": [],
   "source": [
    "empty_dict = {}"
   ]
  },
  {
   "cell_type": "code",
   "execution_count": 237,
   "id": "b7adff6f-db53-4f1e-928b-9ec429c6dc06",
   "metadata": {},
   "outputs": [],
   "source": [
    "d1 = {\"a\": \"some value\", \"b\": [1, 2, 3, 4]}"
   ]
  },
  {
   "cell_type": "code",
   "execution_count": 239,
   "id": "ef0bb816-fc5e-4ebd-ac52-fe9268be80d0",
   "metadata": {},
   "outputs": [
    {
     "data": {
      "text/plain": [
       "{'a': 'some value', 'b': [1, 2, 3, 4]}"
      ]
     },
     "execution_count": 239,
     "metadata": {},
     "output_type": "execute_result"
    }
   ],
   "source": [
    "d1"
   ]
  },
  {
   "cell_type": "markdown",
   "id": "8e0faca9-661b-4708-bed1-34ed1367605f",
   "metadata": {},
   "source": [
    "You can access, insert, or set elements using the same syntax as for accessing elements of a list or tuple:"
   ]
  },
  {
   "cell_type": "code",
   "execution_count": 242,
   "id": "1da2ab48-0f28-48b3-ad7e-f0e988b027f5",
   "metadata": {},
   "outputs": [],
   "source": [
    "d1[7] = \"an integer\""
   ]
  },
  {
   "cell_type": "code",
   "execution_count": 244,
   "id": "59f02957-534a-4cf0-9591-8e64199424b7",
   "metadata": {},
   "outputs": [
    {
     "data": {
      "text/plain": [
       "{'a': 'some value', 'b': [1, 2, 3, 4], 7: 'an integer'}"
      ]
     },
     "execution_count": 244,
     "metadata": {},
     "output_type": "execute_result"
    }
   ],
   "source": [
    "d1"
   ]
  },
  {
   "cell_type": "code",
   "execution_count": 246,
   "id": "d363f66a-a67c-44c7-9028-dc1ad505be2d",
   "metadata": {},
   "outputs": [
    {
     "data": {
      "text/plain": [
       "[1, 2, 3, 4]"
      ]
     },
     "execution_count": 246,
     "metadata": {},
     "output_type": "execute_result"
    }
   ],
   "source": [
    "d1[\"b\"]"
   ]
  },
  {
   "cell_type": "markdown",
   "id": "5f84ce16-5b13-49b8-b553-34b5b3f6f759",
   "metadata": {},
   "source": [
    "You can check if a dictionary contains a key using the same syntax used for checking whether a list or tuple contains a value:"
   ]
  },
  {
   "cell_type": "code",
   "execution_count": 249,
   "id": "52351d45-ef01-430b-90c1-965eef952c2e",
   "metadata": {},
   "outputs": [
    {
     "data": {
      "text/plain": [
       "True"
      ]
     },
     "execution_count": 249,
     "metadata": {},
     "output_type": "execute_result"
    }
   ],
   "source": [
    "\"b\" in d1"
   ]
  },
  {
   "cell_type": "markdown",
   "id": "bc12152a-035b-45df-badb-7e893fe233fb",
   "metadata": {},
   "source": [
    "You can delete values using either the del keyword or the pop method (which simultaneously returns the value and deletes the key):"
   ]
  },
  {
   "cell_type": "code",
   "execution_count": 252,
   "id": "2203fb2b-74a9-4a22-b230-d40a8c4520f4",
   "metadata": {},
   "outputs": [],
   "source": [
    "d1[5] = \"some value\""
   ]
  },
  {
   "cell_type": "code",
   "execution_count": 254,
   "id": "f949b056-e477-4eed-98a8-479c074c83d4",
   "metadata": {},
   "outputs": [
    {
     "data": {
      "text/plain": [
       "{'a': 'some value', 'b': [1, 2, 3, 4], 7: 'an integer', 5: 'some value'}"
      ]
     },
     "execution_count": 254,
     "metadata": {},
     "output_type": "execute_result"
    }
   ],
   "source": [
    "d1"
   ]
  },
  {
   "cell_type": "code",
   "execution_count": 256,
   "id": "adcd15b2-5b9c-4c57-97ef-e254e50add15",
   "metadata": {},
   "outputs": [],
   "source": [
    "d1[\"dummy\"] = \"another value\""
   ]
  },
  {
   "cell_type": "code",
   "execution_count": 258,
   "id": "19b077d4-cfb4-4544-8653-0ffc5131509d",
   "metadata": {},
   "outputs": [
    {
     "data": {
      "text/plain": [
       "{'a': 'some value',\n",
       " 'b': [1, 2, 3, 4],\n",
       " 7: 'an integer',\n",
       " 5: 'some value',\n",
       " 'dummy': 'another value'}"
      ]
     },
     "execution_count": 258,
     "metadata": {},
     "output_type": "execute_result"
    }
   ],
   "source": [
    "d1"
   ]
  },
  {
   "cell_type": "code",
   "execution_count": 260,
   "id": "49b4054d-d86f-401d-a922-d34f29ca16d4",
   "metadata": {},
   "outputs": [],
   "source": [
    "del d1[5]"
   ]
  },
  {
   "cell_type": "code",
   "execution_count": 262,
   "id": "69a3b2dd-1a7b-432e-bf80-6209d7166d15",
   "metadata": {},
   "outputs": [
    {
     "data": {
      "text/plain": [
       "{'a': 'some value',\n",
       " 'b': [1, 2, 3, 4],\n",
       " 7: 'an integer',\n",
       " 'dummy': 'another value'}"
      ]
     },
     "execution_count": 262,
     "metadata": {},
     "output_type": "execute_result"
    }
   ],
   "source": [
    "d1"
   ]
  },
  {
   "cell_type": "code",
   "execution_count": 264,
   "id": "8d71a8d9-a2f6-45f8-9fca-6696832c52a4",
   "metadata": {},
   "outputs": [],
   "source": [
    "ret = d1.pop(\"dummy\")"
   ]
  },
  {
   "cell_type": "code",
   "execution_count": 266,
   "id": "408ec918-ea55-4036-891d-66dbccbb6981",
   "metadata": {},
   "outputs": [
    {
     "data": {
      "text/plain": [
       "'another value'"
      ]
     },
     "execution_count": 266,
     "metadata": {},
     "output_type": "execute_result"
    }
   ],
   "source": [
    "ret"
   ]
  },
  {
   "cell_type": "code",
   "execution_count": 268,
   "id": "75196305-e439-4501-b565-bea7ae550f82",
   "metadata": {},
   "outputs": [
    {
     "data": {
      "text/plain": [
       "{'a': 'some value', 'b': [1, 2, 3, 4], 7: 'an integer'}"
      ]
     },
     "execution_count": 268,
     "metadata": {},
     "output_type": "execute_result"
    }
   ],
   "source": [
    "d1"
   ]
  },
  {
   "cell_type": "markdown",
   "id": "a076a997-c49a-4d3f-a412-ab66d3a29061",
   "metadata": {},
   "source": [
    "The keys and values method gives you iterators of the dictionary’s keys and values, respectively. The order of the keys depends on the order of their insertion, and these functions output the keys and values in the same respective order:"
   ]
  },
  {
   "cell_type": "code",
   "execution_count": 271,
   "id": "94de2b41-07d8-4362-ba28-fd92d0fcd2de",
   "metadata": {},
   "outputs": [
    {
     "data": {
      "text/plain": [
       "['a', 'b', 7]"
      ]
     },
     "execution_count": 271,
     "metadata": {},
     "output_type": "execute_result"
    }
   ],
   "source": [
    "list(d1.keys())"
   ]
  },
  {
   "cell_type": "code",
   "execution_count": 273,
   "id": "0d9d345a-4b35-45ae-a307-f512700fe513",
   "metadata": {},
   "outputs": [
    {
     "data": {
      "text/plain": [
       "['some value', [1, 2, 3, 4], 'an integer']"
      ]
     },
     "execution_count": 273,
     "metadata": {},
     "output_type": "execute_result"
    }
   ],
   "source": [
    "list(d1.values())"
   ]
  },
  {
   "cell_type": "markdown",
   "id": "d3bf9751-9301-4325-adc1-1b0e35b3c385",
   "metadata": {},
   "source": [
    "If you need to iterate over both the keys and values, you can use the items method to iterate over the keys and values as 2-tuples:"
   ]
  },
  {
   "cell_type": "code",
   "execution_count": 276,
   "id": "7e88f7b9-b0ad-4a00-85ec-b2437124a470",
   "metadata": {},
   "outputs": [
    {
     "data": {
      "text/plain": [
       "[('a', 'some value'), ('b', [1, 2, 3, 4]), (7, 'an integer')]"
      ]
     },
     "execution_count": 276,
     "metadata": {},
     "output_type": "execute_result"
    }
   ],
   "source": [
    "list(d1.items())"
   ]
  },
  {
   "cell_type": "markdown",
   "id": "1416b612-69ca-44d3-929f-89c7655e80dd",
   "metadata": {},
   "source": [
    "You can merge one dictionary into another using the update method:"
   ]
  },
  {
   "cell_type": "code",
   "execution_count": 279,
   "id": "a1763391-4616-4ba3-8f21-9d1984befa11",
   "metadata": {},
   "outputs": [],
   "source": [
    "d1.update({\"b\": \"foo\", \"c\": 12})"
   ]
  },
  {
   "cell_type": "code",
   "execution_count": 281,
   "id": "22e06745-0a4d-4017-b036-c2c56861dd51",
   "metadata": {},
   "outputs": [
    {
     "data": {
      "text/plain": [
       "{'a': 'some value', 'b': 'foo', 7: 'an integer', 'c': 12}"
      ]
     },
     "execution_count": 281,
     "metadata": {},
     "output_type": "execute_result"
    }
   ],
   "source": [
    "d1"
   ]
  },
  {
   "cell_type": "markdown",
   "id": "53d8a9d3-43a9-4089-881a-8b299feaccc2",
   "metadata": {},
   "source": [
    "The update method changes dictionaries in place, so any existing keys in the data passed to update will have their old values discarded."
   ]
  },
  {
   "cell_type": "markdown",
   "id": "e0d25f2a-788e-41af-b218-cec0ac0b30db",
   "metadata": {},
   "source": [
    "## Creating dictionaries from sequences"
   ]
  },
  {
   "cell_type": "markdown",
   "id": "eee66709-e8ef-4412-8364-ea9d99c36f3f",
   "metadata": {},
   "source": [
    "It’s common to occasionally end up with two sequences that you want to pair up element-wise in a dictionary. As a first cut, you might write code like this:"
   ]
  },
  {
   "cell_type": "code",
   "execution_count": 286,
   "id": "f560e2f5-64e4-4855-a63b-11040ed11ed0",
   "metadata": {},
   "outputs": [
    {
     "ename": "NameError",
     "evalue": "name 'key_list' is not defined",
     "output_type": "error",
     "traceback": [
      "\u001b[0;31m---------------------------------------------------------------------------\u001b[0m",
      "\u001b[0;31mNameError\u001b[0m                                 Traceback (most recent call last)",
      "Cell \u001b[0;32mIn[286], line 2\u001b[0m\n\u001b[1;32m      1\u001b[0m mapping \u001b[38;5;241m=\u001b[39m {}\n\u001b[0;32m----> 2\u001b[0m \u001b[38;5;28;01mfor\u001b[39;00m key, value \u001b[38;5;129;01min\u001b[39;00m \u001b[38;5;28mzip\u001b[39m(key_list, value_list):\n\u001b[1;32m      3\u001b[0m     mapping[key] \u001b[38;5;241m=\u001b[39m value\n",
      "\u001b[0;31mNameError\u001b[0m: name 'key_list' is not defined"
     ]
    }
   ],
   "source": [
    "mapping = {}\n",
    "for key, value in zip(key_list, value_list):\n",
    "    mapping[key] = value"
   ]
  },
  {
   "cell_type": "markdown",
   "id": "f9aa9c07-6062-4e86-9b23-db5d30f8748d",
   "metadata": {},
   "source": [
    "Since a dictionary is essentially a collection of 2-tuples, the dict function accepts a list of 2-tuples:"
   ]
  },
  {
   "cell_type": "code",
   "execution_count": 289,
   "id": "d3da27fe-818c-4e25-bfd1-33432b3d346d",
   "metadata": {},
   "outputs": [],
   "source": [
    "tuples = zip(range(5), reversed(range(5)))"
   ]
  },
  {
   "cell_type": "code",
   "execution_count": 291,
   "id": "5ac3db1d-fbaa-4123-86f6-74b354764120",
   "metadata": {},
   "outputs": [
    {
     "data": {
      "text/plain": [
       "<zip at 0x14744f140>"
      ]
     },
     "execution_count": 291,
     "metadata": {},
     "output_type": "execute_result"
    }
   ],
   "source": [
    "tuples"
   ]
  },
  {
   "cell_type": "code",
   "execution_count": 293,
   "id": "e553ac14-2e7d-41cb-95ac-b71a48cf4ebe",
   "metadata": {},
   "outputs": [],
   "source": [
    "mapping = dict(tuples)"
   ]
  },
  {
   "cell_type": "code",
   "execution_count": 295,
   "id": "d4d3829d-108a-443c-9202-bae31359d5e1",
   "metadata": {},
   "outputs": [
    {
     "data": {
      "text/plain": [
       "{0: 4, 1: 3, 2: 2, 3: 1, 4: 0}"
      ]
     },
     "execution_count": 295,
     "metadata": {},
     "output_type": "execute_result"
    }
   ],
   "source": [
    "mapping"
   ]
  },
  {
   "cell_type": "markdown",
   "id": "d38590b3-b05d-4bca-8708-38ef5401658f",
   "metadata": {},
   "source": [
    "Later we’ll talk about dictionary comprehensions, which are another way to construct dictionaries."
   ]
  },
  {
   "cell_type": "markdown",
   "id": "de1a053b-11fa-44eb-afc0-80e8886a6cca",
   "metadata": {},
   "source": [
    "## Default values"
   ]
  },
  {
   "cell_type": "markdown",
   "id": "6e8fa442-58f4-4530-b13f-3359ba58e6ca",
   "metadata": {},
   "source": [
    "It’s common to have logic like:\n",
    "\n"
   ]
  },
  {
   "cell_type": "code",
   "execution_count": 300,
   "id": "9bd26ce0-a9df-419e-be3e-abb87ab642f6",
   "metadata": {},
   "outputs": [
    {
     "ename": "NameError",
     "evalue": "name 'key' is not defined",
     "output_type": "error",
     "traceback": [
      "\u001b[0;31m---------------------------------------------------------------------------\u001b[0m",
      "\u001b[0;31mNameError\u001b[0m                                 Traceback (most recent call last)",
      "Cell \u001b[0;32mIn[300], line 1\u001b[0m\n\u001b[0;32m----> 1\u001b[0m \u001b[38;5;28;01mif\u001b[39;00m key \u001b[38;5;129;01min\u001b[39;00m some_dict:\n\u001b[1;32m      2\u001b[0m     value \u001b[38;5;241m=\u001b[39m some_dict[key]\n\u001b[1;32m      3\u001b[0m \u001b[38;5;28;01melse\u001b[39;00m:\n",
      "\u001b[0;31mNameError\u001b[0m: name 'key' is not defined"
     ]
    }
   ],
   "source": [
    "if key in some_dict:\n",
    "    value = some_dict[key]\n",
    "else:\n",
    "    value = default_value"
   ]
  },
  {
   "cell_type": "markdown",
   "id": "979de096-1600-4eb7-8a04-be9ad45fbb27",
   "metadata": {},
   "source": [
    "Thus, the dictionary methods get and pop can take a default value to be returned, so that the above if-else block can be written simply as:"
   ]
  },
  {
   "cell_type": "code",
   "execution_count": 303,
   "id": "8c71ad26-1cf0-4381-97d3-935f4f4ff263",
   "metadata": {},
   "outputs": [
    {
     "ename": "NameError",
     "evalue": "name 'some_dict' is not defined",
     "output_type": "error",
     "traceback": [
      "\u001b[0;31m---------------------------------------------------------------------------\u001b[0m",
      "\u001b[0;31mNameError\u001b[0m                                 Traceback (most recent call last)",
      "Cell \u001b[0;32mIn[303], line 1\u001b[0m\n\u001b[0;32m----> 1\u001b[0m value \u001b[38;5;241m=\u001b[39m some_dict\u001b[38;5;241m.\u001b[39mget(key, default_value)\n",
      "\u001b[0;31mNameError\u001b[0m: name 'some_dict' is not defined"
     ]
    }
   ],
   "source": [
    "value = some_dict.get(key, default_value)"
   ]
  },
  {
   "cell_type": "markdown",
   "id": "4ed3f8fc-cc6c-4b2c-a136-eec87db9d391",
   "metadata": {},
   "source": [
    "get by default will return None if the key is not present, while pop will raise an exception. With setting values, it may be that the values in a dictionary are another kind of collection, like a list. For example, you could imagine categorizing a list of words by their first letters as a dictionary of lists:"
   ]
  },
  {
   "cell_type": "code",
   "execution_count": 306,
   "id": "f2e85e77-7051-4346-81da-fa0a18a04a57",
   "metadata": {},
   "outputs": [],
   "source": [
    "words = [\"apple\", \"bat\", \"bar\", \"atom\", \"book\"]"
   ]
  },
  {
   "cell_type": "code",
   "execution_count": 308,
   "id": "f7422298-12a0-411c-a0cd-e2f2752f54cd",
   "metadata": {},
   "outputs": [],
   "source": [
    "by_letter = {}"
   ]
  },
  {
   "cell_type": "code",
   "execution_count": 310,
   "id": "061243bb-55f7-4e24-9521-450d82c6b738",
   "metadata": {},
   "outputs": [],
   "source": [
    "for word in words:\n",
    "    letter = word[0]\n",
    "    if letter not in by_letter:\n",
    "        by_letter[letter] = [word]\n",
    "    else:\n",
    "        by_letter[letter].append(word)"
   ]
  },
  {
   "cell_type": "code",
   "execution_count": 312,
   "id": "836083bb-e0a8-464f-aaa5-519e121b2e81",
   "metadata": {},
   "outputs": [
    {
     "data": {
      "text/plain": [
       "{'a': ['apple', 'atom'], 'b': ['bat', 'bar', 'book']}"
      ]
     },
     "execution_count": 312,
     "metadata": {},
     "output_type": "execute_result"
    }
   ],
   "source": [
    "by_letter"
   ]
  },
  {
   "cell_type": "markdown",
   "id": "790e2bfe-18ae-4535-a01a-9a8e8c565754",
   "metadata": {},
   "source": [
    "The setdefault dictionary method can be used to simplify this workflow. The preceding for loop can be rewritten as:"
   ]
  },
  {
   "cell_type": "code",
   "execution_count": 315,
   "id": "44344486-2348-4295-bff0-f1af3ccd511c",
   "metadata": {},
   "outputs": [],
   "source": [
    "by_letter = {}"
   ]
  },
  {
   "cell_type": "code",
   "execution_count": 317,
   "id": "f8b2b08a-0a15-40fc-9f6b-d23e9ff102f2",
   "metadata": {},
   "outputs": [],
   "source": [
    "for word in words:\n",
    "    letter = word[0]\n",
    "    by_letter.setdefault(letter, []).append(word)"
   ]
  },
  {
   "cell_type": "code",
   "execution_count": 319,
   "id": "7b886417-23af-4964-8689-32527749d50b",
   "metadata": {},
   "outputs": [
    {
     "data": {
      "text/plain": [
       "{'a': ['apple', 'atom'], 'b': ['bat', 'bar', 'book']}"
      ]
     },
     "execution_count": 319,
     "metadata": {},
     "output_type": "execute_result"
    }
   ],
   "source": [
    "by_letter"
   ]
  },
  {
   "cell_type": "markdown",
   "id": "f33f544c-5efa-4335-a97e-d1017bed2d8e",
   "metadata": {},
   "source": [
    "The built-in collections module has a useful class, defaultdict, which makes this even easier. To create one, you pass a type or function for generating the default value for each slot in the dictionary:"
   ]
  },
  {
   "cell_type": "code",
   "execution_count": 322,
   "id": "7eb7aff0-3d61-4776-8c86-146755754f9c",
   "metadata": {},
   "outputs": [],
   "source": [
    "from collections import defaultdict"
   ]
  },
  {
   "cell_type": "code",
   "execution_count": 324,
   "id": "5d6fac39-a205-4264-9eb4-1f5ed1081810",
   "metadata": {},
   "outputs": [],
   "source": [
    "by_letter = defaultdict(list)"
   ]
  },
  {
   "cell_type": "code",
   "execution_count": 326,
   "id": "a0319c58-e01d-452c-b4d0-eca59da934df",
   "metadata": {},
   "outputs": [],
   "source": [
    "for word in words:\n",
    "    by_letter[word[0]].append(word)"
   ]
  },
  {
   "cell_type": "markdown",
   "id": "e1196297-ed8c-4c6d-af6a-ea4234970aa5",
   "metadata": {},
   "source": [
    "## Valid dictionary key types"
   ]
  },
  {
   "cell_type": "markdown",
   "id": "28c97b52-ed14-4255-a31f-3d07c99d72ac",
   "metadata": {},
   "source": [
    "While the values of a dictionary can be any Python object, the keys generally have to be immutable objects like scalar types (int, float, string) or tuples (all the objects in the tuple need to be immutable, too). The technical term here is hashability. You can check whether an object is hashable (can be used as a key in a dictionary) with the hash function:"
   ]
  },
  {
   "cell_type": "code",
   "execution_count": 330,
   "id": "37e3a236-f7e9-4aa7-956e-4c95048e0abc",
   "metadata": {},
   "outputs": [
    {
     "data": {
      "text/plain": [
       "-7569306249035731662"
      ]
     },
     "execution_count": 330,
     "metadata": {},
     "output_type": "execute_result"
    }
   ],
   "source": [
    "hash(\"string\")"
   ]
  },
  {
   "cell_type": "code",
   "execution_count": 332,
   "id": "c34d1866-3e9f-4e3d-bee4-09811ab87c47",
   "metadata": {},
   "outputs": [
    {
     "data": {
      "text/plain": [
       "-9209053662355515447"
      ]
     },
     "execution_count": 332,
     "metadata": {},
     "output_type": "execute_result"
    }
   ],
   "source": [
    "hash((1, 2, (2, 3)))"
   ]
  },
  {
   "cell_type": "code",
   "execution_count": 334,
   "id": "84501e1f-ca48-4161-b963-424c3302354b",
   "metadata": {},
   "outputs": [
    {
     "ename": "TypeError",
     "evalue": "unhashable type: 'list'",
     "output_type": "error",
     "traceback": [
      "\u001b[0;31m---------------------------------------------------------------------------\u001b[0m",
      "\u001b[0;31mTypeError\u001b[0m                                 Traceback (most recent call last)",
      "Cell \u001b[0;32mIn[334], line 1\u001b[0m\n\u001b[0;32m----> 1\u001b[0m \u001b[38;5;28mhash\u001b[39m((\u001b[38;5;241m1\u001b[39m, \u001b[38;5;241m2\u001b[39m, [\u001b[38;5;241m2\u001b[39m, \u001b[38;5;241m3\u001b[39m]))\n",
      "\u001b[0;31mTypeError\u001b[0m: unhashable type: 'list'"
     ]
    }
   ],
   "source": [
    "hash((1, 2, [2, 3])) # fails because lists are mutable"
   ]
  },
  {
   "cell_type": "markdown",
   "id": "37eea654-eef1-4256-9985-bae46ff64a8f",
   "metadata": {},
   "source": [
    "The hash values you see when using the hash function in general will depend on the Python version you are using."
   ]
  },
  {
   "cell_type": "markdown",
   "id": "5c4f6bef-f2f0-49b3-a9da-9282421c1852",
   "metadata": {},
   "source": [
    "To use a list as a key, one option is to convert it to a tuple, which can be hashed as long as its elements also can be:"
   ]
  },
  {
   "cell_type": "code",
   "execution_count": 338,
   "id": "9fa84dd4-2c3c-4ebd-bc2f-08f749d9aac4",
   "metadata": {},
   "outputs": [],
   "source": [
    "d = {}"
   ]
  },
  {
   "cell_type": "code",
   "execution_count": 340,
   "id": "c919e5c9-5cfe-4c8b-b708-9b9698c887d1",
   "metadata": {},
   "outputs": [],
   "source": [
    "d[tuple([1, 2, 3])] = 5"
   ]
  },
  {
   "cell_type": "code",
   "execution_count": 342,
   "id": "a9409c3a-3e26-48f1-b7ec-3f14045557b3",
   "metadata": {},
   "outputs": [
    {
     "data": {
      "text/plain": [
       "{(1, 2, 3): 5}"
      ]
     },
     "execution_count": 342,
     "metadata": {},
     "output_type": "execute_result"
    }
   ],
   "source": [
    "d"
   ]
  },
  {
   "cell_type": "markdown",
   "id": "92d5c223-2e85-4353-8435-192e031a8fbb",
   "metadata": {},
   "source": [
    "## Set"
   ]
  },
  {
   "cell_type": "markdown",
   "id": "6c4c8a40-f4e8-4922-b64e-7c5156581352",
   "metadata": {},
   "source": [
    "A set is an unordered collection of unique elements. A set can be created in two ways: via the set function or via a set literal with curly braces:"
   ]
  },
  {
   "cell_type": "code",
   "execution_count": 346,
   "id": "a7b7012b-811e-4896-b873-0b0ce049cd1a",
   "metadata": {},
   "outputs": [
    {
     "data": {
      "text/plain": [
       "{1, 2, 3}"
      ]
     },
     "execution_count": 346,
     "metadata": {},
     "output_type": "execute_result"
    }
   ],
   "source": [
    "set([2, 2, 2, 1, 3, 3])"
   ]
  },
  {
   "cell_type": "code",
   "execution_count": 348,
   "id": "992bb123-738a-484a-a950-abda0d552be0",
   "metadata": {},
   "outputs": [
    {
     "data": {
      "text/plain": [
       "{1, 2, 3}"
      ]
     },
     "execution_count": 348,
     "metadata": {},
     "output_type": "execute_result"
    }
   ],
   "source": [
    "{2, 2, 2, 1, 3, 3}"
   ]
  },
  {
   "cell_type": "markdown",
   "id": "88100561-e157-46d4-b6b1-ef3ba5793727",
   "metadata": {},
   "source": [
    "Sets support mathematical set operations like union, intersection, difference, and symmetric difference. Consider these two example sets:"
   ]
  },
  {
   "cell_type": "code",
   "execution_count": 351,
   "id": "aa7066a7-d54d-44ee-8bea-24f2be7206ad",
   "metadata": {},
   "outputs": [],
   "source": [
    "a = {1, 2, 3, 4, 5}"
   ]
  },
  {
   "cell_type": "code",
   "execution_count": 353,
   "id": "6074a38c-61c0-47ac-b178-d057217464c7",
   "metadata": {},
   "outputs": [],
   "source": [
    "b = {3, 4, 5, 6, 7, 8}"
   ]
  },
  {
   "cell_type": "markdown",
   "id": "ab44972e-4115-44f1-9228-fbfbf50bfd17",
   "metadata": {},
   "source": [
    "The union of these two sets is the set of distinct elements occurring in either set. This can be computed with either the union method or the | binary operator:"
   ]
  },
  {
   "cell_type": "code",
   "execution_count": 356,
   "id": "660c5048-2ce6-4fe5-a56b-78646077c379",
   "metadata": {},
   "outputs": [
    {
     "data": {
      "text/plain": [
       "{1, 2, 3, 4, 5, 6, 7, 8}"
      ]
     },
     "execution_count": 356,
     "metadata": {},
     "output_type": "execute_result"
    }
   ],
   "source": [
    "a.union(b)"
   ]
  },
  {
   "cell_type": "code",
   "execution_count": 358,
   "id": "d1daf3ed-ef81-496d-9f02-a72d6fc570af",
   "metadata": {},
   "outputs": [
    {
     "data": {
      "text/plain": [
       "{1, 2, 3, 4, 5, 6, 7, 8}"
      ]
     },
     "execution_count": 358,
     "metadata": {},
     "output_type": "execute_result"
    }
   ],
   "source": [
    "a | b"
   ]
  },
  {
   "cell_type": "markdown",
   "id": "ed775ee6-ee60-42dd-b81d-5f54190ee3f2",
   "metadata": {},
   "source": [
    "The intersection contains the elements occurring in both sets. The & operator or the intersection method can be used:"
   ]
  },
  {
   "cell_type": "code",
   "execution_count": 361,
   "id": "c97671ee-315c-4f6e-9ee4-4da2feb5253a",
   "metadata": {},
   "outputs": [
    {
     "data": {
      "text/plain": [
       "{3, 4, 5}"
      ]
     },
     "execution_count": 361,
     "metadata": {},
     "output_type": "execute_result"
    }
   ],
   "source": [
    "a.intersection(b)"
   ]
  },
  {
   "cell_type": "code",
   "execution_count": 363,
   "id": "9a1c00b7-8e43-4375-a6cf-87e9476dc274",
   "metadata": {},
   "outputs": [
    {
     "data": {
      "text/plain": [
       "{3, 4, 5}"
      ]
     },
     "execution_count": 363,
     "metadata": {},
     "output_type": "execute_result"
    }
   ],
   "source": [
    "a & b"
   ]
  },
  {
   "cell_type": "markdown",
   "id": "39951f29-f914-49cb-8948-bfe383ec45d2",
   "metadata": {},
   "source": [
    "See Table 3-1 for a list of commonly used set methods."
   ]
  },
  {
   "cell_type": "markdown",
   "id": "44500707-b4ca-446f-93f9-f741aae2d8fe",
   "metadata": {},
   "source": [
    "## Table 3-1. Python set operations\n",
    "\n",
    "|Function|Alternative syntax|Description|\n",
    "|---|---|---|\n",
    "|a.add(x)|N/A|Add element x to set a|\n",
    "|a.clear()|N/A|Reset set a to an empty state, discarding all of its elements|\n",
    "|a.remove(x)|N/A|\tRemove element x from set a|\n",
    "|a.pop()|N/A|\tRemove an arbitrary element from set a, raising KeyError if the set is empty|\n",
    "|a.union(b)|a \\| b|\tAll of the unique elements in a and b|\n",
    "|a.update(b)|a \\|= b|\tSet the contents of a to be the union of the elements in a and b|\n",
    "|a.intersection(b)|a & b|\tAll of the elements in both a and b|\n",
    "|a.intersection_update(b)|\ta &= b|\tSet the contents of a to be the intersection of the elements in a and b|\n",
    "|a.difference(b)|a - b|\tThe elements in a that are not in b|\n",
    "|a.difference_update(b)|a -= b|\tSet a to the elements in a that are not in b|\n",
    "|a.symmetric_difference(b)|\ta ^ b|\tAll of the elements in either a or b but not both|\n",
    "|a.symmetric_difference_update(b)|\ta ^= b|\tSet a to contain the elements in either a or b but not both|\n",
    "|a.issubset(b)|<=|True if the elements of a are all contained in b|\n",
    "|a.issuperset(b)|>=|True if the elements of b are all contained in a|\n",
    "|a.isdisjoint(b)|N/A|True if a and b have no elements in common|"
   ]
  },
  {
   "cell_type": "markdown",
   "id": "04d7a7c9-2851-41e7-9519-21ac479ac578",
   "metadata": {},
   "source": [
    "### Note\n",
    "If you pass an input that is not a set to methods like union and intersection, Python will convert the input to a set before executing the operation. When using the binary operators, both objects must already be sets."
   ]
  },
  {
   "cell_type": "markdown",
   "id": "fa1b2d68-45c1-4a1b-bef1-d9e56d548be4",
   "metadata": {},
   "source": [
    "All of the logical set operations have in-place counterparts, which enable you to replace the contents of the set on the left side of the operation with the result. For very large sets, this may be more efficient:"
   ]
  },
  {
   "cell_type": "code",
   "execution_count": 369,
   "id": "08bc2628-957b-45e8-9ed0-1c46fcfe2d65",
   "metadata": {},
   "outputs": [],
   "source": [
    "c = a.copy()"
   ]
  },
  {
   "cell_type": "code",
   "execution_count": 371,
   "id": "633c81a1-4e8b-4b00-bbae-d1d5ad6debfb",
   "metadata": {},
   "outputs": [],
   "source": [
    "c |= b"
   ]
  },
  {
   "cell_type": "code",
   "execution_count": 373,
   "id": "7cb8ae47-4bec-4767-bffb-368dfb62cb7f",
   "metadata": {},
   "outputs": [
    {
     "data": {
      "text/plain": [
       "{1, 2, 3, 4, 5, 6, 7, 8}"
      ]
     },
     "execution_count": 373,
     "metadata": {},
     "output_type": "execute_result"
    }
   ],
   "source": [
    "c"
   ]
  },
  {
   "cell_type": "code",
   "execution_count": 375,
   "id": "d9420f82-f927-401c-8dac-8774ee9737a0",
   "metadata": {},
   "outputs": [],
   "source": [
    "d = a.copy()"
   ]
  },
  {
   "cell_type": "code",
   "execution_count": 377,
   "id": "8cf298ba-6043-4cc0-a5c4-947a238aa2b8",
   "metadata": {},
   "outputs": [],
   "source": [
    "d &= b"
   ]
  },
  {
   "cell_type": "code",
   "execution_count": 379,
   "id": "bb722d5f-0541-43f1-acf7-bf295eb5b901",
   "metadata": {},
   "outputs": [
    {
     "data": {
      "text/plain": [
       "{3, 4, 5}"
      ]
     },
     "execution_count": 379,
     "metadata": {},
     "output_type": "execute_result"
    }
   ],
   "source": [
    "d"
   ]
  },
  {
   "cell_type": "markdown",
   "id": "e69ba455-6121-486e-b15e-72d555d4331d",
   "metadata": {},
   "source": [
    "Like dictionary keys, set elements generally must be immutable, and they must be hashable (which means that calling hash on a value does not raise an exception). In order to store list-like elements (or other mutable sequences) in a set, you can convert them to tuples:"
   ]
  },
  {
   "cell_type": "code",
   "execution_count": 382,
   "id": "0ac554e8-88a1-4236-a71d-1f7da401618a",
   "metadata": {},
   "outputs": [],
   "source": [
    "my_data = [1, 2, 3, 4]"
   ]
  },
  {
   "cell_type": "code",
   "execution_count": 384,
   "id": "21fc65ca-1383-4377-b646-6146ab25c212",
   "metadata": {},
   "outputs": [],
   "source": [
    "my_set = {tuple(my_data)}"
   ]
  },
  {
   "cell_type": "code",
   "execution_count": 386,
   "id": "07abfd55-df57-4819-ba3d-3b44eb389472",
   "metadata": {},
   "outputs": [
    {
     "data": {
      "text/plain": [
       "{(1, 2, 3, 4)}"
      ]
     },
     "execution_count": 386,
     "metadata": {},
     "output_type": "execute_result"
    }
   ],
   "source": [
    "my_set"
   ]
  },
  {
   "cell_type": "markdown",
   "id": "cb07246b-d39e-469a-b89b-7d288b636646",
   "metadata": {},
   "source": [
    "You can also check if a set is a subset of (is contained in) or a superset of (contains all elements of) another set:"
   ]
  },
  {
   "cell_type": "code",
   "execution_count": 389,
   "id": "89acbfa8-9625-4e8a-a43e-cfb0c0ab62aa",
   "metadata": {},
   "outputs": [],
   "source": [
    "a_set = {1, 2, 3, 4, 5}"
   ]
  },
  {
   "cell_type": "code",
   "execution_count": 391,
   "id": "e8c5090b-b3d7-411d-bbe7-aea96e0bd6c8",
   "metadata": {},
   "outputs": [
    {
     "data": {
      "text/plain": [
       "True"
      ]
     },
     "execution_count": 391,
     "metadata": {},
     "output_type": "execute_result"
    }
   ],
   "source": [
    "{1, 2, 3}.issubset(a_set)"
   ]
  },
  {
   "cell_type": "code",
   "execution_count": 393,
   "id": "2b7e3e06-3a03-43af-8f3a-7d7871b095b8",
   "metadata": {},
   "outputs": [
    {
     "data": {
      "text/plain": [
       "True"
      ]
     },
     "execution_count": 393,
     "metadata": {},
     "output_type": "execute_result"
    }
   ],
   "source": [
    "a_set.issuperset({1, 2, 3})"
   ]
  },
  {
   "cell_type": "markdown",
   "id": "56d30a8a-dff2-47d7-bb66-5240d5991b52",
   "metadata": {},
   "source": [
    "Sets are equal if and only if their contents are equal:"
   ]
  },
  {
   "cell_type": "code",
   "execution_count": 396,
   "id": "bbdde219-f1c0-450e-9e8e-721bec595acb",
   "metadata": {},
   "outputs": [
    {
     "data": {
      "text/plain": [
       "True"
      ]
     },
     "execution_count": 396,
     "metadata": {},
     "output_type": "execute_result"
    }
   ],
   "source": [
    "{1, 2, 3} == {3, 2, 1}"
   ]
  },
  {
   "cell_type": "markdown",
   "id": "1a6df011-f1c5-42a1-8695-8ab29242a6c0",
   "metadata": {},
   "source": [
    "## Built-In Sequence Functions\n"
   ]
  },
  {
   "cell_type": "markdown",
   "id": "ab5000ad-b73f-425c-ac92-05d0bd5eb3e8",
   "metadata": {},
   "source": [
    "Python has a handful of useful sequence functions that you should familiarize yourself with and use at any opportunity."
   ]
  },
  {
   "cell_type": "code",
   "execution_count": 400,
   "id": "ad3f122b-1b08-4569-8142-8af37ba1f605",
   "metadata": {},
   "outputs": [
    {
     "ename": "NameError",
     "evalue": "name 'collection' is not defined",
     "output_type": "error",
     "traceback": [
      "\u001b[0;31m---------------------------------------------------------------------------\u001b[0m",
      "\u001b[0;31mNameError\u001b[0m                                 Traceback (most recent call last)",
      "Cell \u001b[0;32mIn[400], line 2\u001b[0m\n\u001b[1;32m      1\u001b[0m index \u001b[38;5;241m=\u001b[39m \u001b[38;5;241m0\u001b[39m\n\u001b[0;32m----> 2\u001b[0m \u001b[38;5;28;01mfor\u001b[39;00m value \u001b[38;5;129;01min\u001b[39;00m collection:\n\u001b[1;32m      3\u001b[0m    \u001b[38;5;66;03m# do something with value\u001b[39;00m\n\u001b[1;32m      4\u001b[0m    index \u001b[38;5;241m+\u001b[39m\u001b[38;5;241m=\u001b[39m \u001b[38;5;241m1\u001b[39m\n",
      "\u001b[0;31mNameError\u001b[0m: name 'collection' is not defined"
     ]
    }
   ],
   "source": [
    "index = 0\n",
    "for value in collection:\n",
    "   # do something with value\n",
    "   index += 1"
   ]
  },
  {
   "cell_type": "markdown",
   "id": "094ffdfe-811b-468e-b5f4-37435f706061",
   "metadata": {},
   "source": [
    "Since this is so common, Python has a built-in function, enumerate, which returns a sequence of (i, value) tuples:"
   ]
  },
  {
   "cell_type": "code",
   "execution_count": 403,
   "id": "72422af7-b2d3-4c43-9f78-02446995daff",
   "metadata": {},
   "outputs": [
    {
     "ename": "SyntaxError",
     "evalue": "incomplete input (2181866544.py, line 2)",
     "output_type": "error",
     "traceback": [
      "\u001b[0;36m  Cell \u001b[0;32mIn[403], line 2\u001b[0;36m\u001b[0m\n\u001b[0;31m    # do something with value\u001b[0m\n\u001b[0m                             ^\u001b[0m\n\u001b[0;31mSyntaxError\u001b[0m\u001b[0;31m:\u001b[0m incomplete input\n"
     ]
    }
   ],
   "source": [
    "for index, value in enumerate(collection):\n",
    "   # do something with value"
   ]
  },
  {
   "cell_type": "markdown",
   "id": "7f09be7c-13af-4d12-beb0-8b196d5b3eed",
   "metadata": {},
   "source": [
    "## sorted\n"
   ]
  },
  {
   "cell_type": "markdown",
   "id": "02574b10-c593-4fe1-b175-4c7237feaebc",
   "metadata": {},
   "source": [
    "The sorted function returns a new sorted list from the elements of any sequence:"
   ]
  },
  {
   "cell_type": "code",
   "execution_count": 407,
   "id": "3100786a-2639-4000-957b-c94e3c965291",
   "metadata": {},
   "outputs": [
    {
     "data": {
      "text/plain": [
       "[0, 1, 2, 2, 3, 6, 7]"
      ]
     },
     "execution_count": 407,
     "metadata": {},
     "output_type": "execute_result"
    }
   ],
   "source": [
    "sorted([7, 1, 2, 6, 0, 3, 2])"
   ]
  },
  {
   "cell_type": "code",
   "execution_count": 409,
   "id": "8529dee4-7f24-4177-804b-93cfec1b1317",
   "metadata": {},
   "outputs": [
    {
     "data": {
      "text/plain": [
       "[' ', 'a', 'c', 'e', 'e', 'h', 'o', 'r', 'r', 's']"
      ]
     },
     "execution_count": 409,
     "metadata": {},
     "output_type": "execute_result"
    }
   ],
   "source": [
    "sorted(\"horse race\")"
   ]
  },
  {
   "cell_type": "markdown",
   "id": "caba1ba8-a65a-466d-9d5f-b19ccd631a50",
   "metadata": {},
   "source": [
    "The sorted function accepts the same arguments as the sort method on lists."
   ]
  },
  {
   "cell_type": "markdown",
   "id": "4daea743-3a92-4dec-a9b7-32a17c8d8bf8",
   "metadata": {},
   "source": [
    "## zip"
   ]
  },
  {
   "cell_type": "markdown",
   "id": "111cc817-2c12-48d7-89f2-0ef77d598909",
   "metadata": {},
   "source": [
    "zip “pairs” up the elements of a number of lists, tuples, or other sequences to create a list of tuples:"
   ]
  },
  {
   "cell_type": "code",
   "execution_count": 414,
   "id": "4dd1f771-f382-43a7-a662-e7f29e1e9d59",
   "metadata": {},
   "outputs": [],
   "source": [
    "seq1 = [\"foo\", \"bar\", \"baz\"]"
   ]
  },
  {
   "cell_type": "code",
   "execution_count": 416,
   "id": "932ba908-7516-4118-927d-8118f85616e3",
   "metadata": {},
   "outputs": [],
   "source": [
    "seq2 = [\"one\", \"two\", \"three\"]"
   ]
  },
  {
   "cell_type": "code",
   "execution_count": 418,
   "id": "c12a576e-1d86-4ac8-9fc9-0ac499b4ccd2",
   "metadata": {},
   "outputs": [],
   "source": [
    "zipped = zip(seq1, seq2)"
   ]
  },
  {
   "cell_type": "code",
   "execution_count": 420,
   "id": "70436f1c-3d94-46a5-835e-05f517260cc1",
   "metadata": {},
   "outputs": [
    {
     "data": {
      "text/plain": [
       "[('foo', 'one'), ('bar', 'two'), ('baz', 'three')]"
      ]
     },
     "execution_count": 420,
     "metadata": {},
     "output_type": "execute_result"
    }
   ],
   "source": [
    "list(zipped)"
   ]
  },
  {
   "cell_type": "markdown",
   "id": "418bb8d9-71b6-47e5-8c66-c1156cc335dd",
   "metadata": {},
   "source": [
    "zip can take an arbitrary number of sequences, and the number of elements it produces is determined by the shortest sequence:"
   ]
  },
  {
   "cell_type": "code",
   "execution_count": 423,
   "id": "25952bfe-e51a-4fc9-a196-524544758bfb",
   "metadata": {},
   "outputs": [],
   "source": [
    "seq3 = [False, True]"
   ]
  },
  {
   "cell_type": "code",
   "execution_count": 425,
   "id": "243e7d92-d14d-4daf-ab32-6646369c7e7c",
   "metadata": {},
   "outputs": [
    {
     "data": {
      "text/plain": [
       "[('foo', 'one', False), ('bar', 'two', True)]"
      ]
     },
     "execution_count": 425,
     "metadata": {},
     "output_type": "execute_result"
    }
   ],
   "source": [
    "list(zip(seq1, seq2, seq3))"
   ]
  },
  {
   "cell_type": "markdown",
   "id": "6a4e9c87-c16c-4dbc-9f15-b650ebf28109",
   "metadata": {},
   "source": [
    "A common use of zip is simultaneously iterating over multiple sequences, possibly also combined with enumerate:"
   ]
  },
  {
   "cell_type": "code",
   "execution_count": 428,
   "id": "2853927c-dbc0-4cf6-baea-c8ddbf43baeb",
   "metadata": {},
   "outputs": [
    {
     "name": "stdout",
     "output_type": "stream",
     "text": [
      "0: foo, one\n",
      "1: bar, two\n",
      "2: baz, three\n"
     ]
    }
   ],
   "source": [
    "for index, (a, b) in enumerate(zip(seq1, seq2)):\n",
    "    print(f\"{index}: {a}, {b}\")"
   ]
  },
  {
   "cell_type": "markdown",
   "id": "bdf7d336-05fe-4dfe-aa40-449f754b059c",
   "metadata": {},
   "source": [
    "## reversed\n"
   ]
  },
  {
   "cell_type": "markdown",
   "id": "98583883-98e9-463f-b2c7-75fd9e18be79",
   "metadata": {},
   "source": [
    "reversed iterates over the elements of a sequence in reverse order:"
   ]
  },
  {
   "cell_type": "code",
   "execution_count": 432,
   "id": "a3b408a2-206a-4086-aba7-3637d2e8b7e9",
   "metadata": {},
   "outputs": [
    {
     "data": {
      "text/plain": [
       "[9, 8, 7, 6, 5, 4, 3, 2, 1, 0]"
      ]
     },
     "execution_count": 432,
     "metadata": {},
     "output_type": "execute_result"
    }
   ],
   "source": [
    "list(reversed(range(10)))"
   ]
  },
  {
   "cell_type": "markdown",
   "id": "a4687335-ca5a-4104-9d9f-7e0e76b24240",
   "metadata": {},
   "source": [
    "Keep in mind that reversed is a generator (to be discussed in some more detail later), so it does not create the reversed sequence until materialized (e.g., with list or a for loop)."
   ]
  },
  {
   "cell_type": "markdown",
   "id": "044a5e3a-d049-4003-9c90-aea931955ae6",
   "metadata": {},
   "source": [
    "## List, Set, and Dictionary Comprehensions"
   ]
  },
  {
   "cell_type": "markdown",
   "id": "46b8f794-b58d-4378-b8f4-7225f8cfe207",
   "metadata": {},
   "source": [
    "List comprehensions are a convenient and widely used Python language feature. They allow you to concisely form a new list by filtering the elements of a collection, transforming the elements passing the filter into one concise expression. They take the basic form:"
   ]
  },
  {
   "cell_type": "code",
   "execution_count": 437,
   "id": "50540e38-caa3-4a2f-929f-3dd90923c024",
   "metadata": {},
   "outputs": [
    {
     "ename": "NameError",
     "evalue": "name 'collection' is not defined",
     "output_type": "error",
     "traceback": [
      "\u001b[0;31m---------------------------------------------------------------------------\u001b[0m",
      "\u001b[0;31mNameError\u001b[0m                                 Traceback (most recent call last)",
      "Cell \u001b[0;32mIn[437], line 1\u001b[0m\n\u001b[0;32m----> 1\u001b[0m [expr \u001b[38;5;28;01mfor\u001b[39;00m value \u001b[38;5;129;01min\u001b[39;00m collection \u001b[38;5;28;01mif\u001b[39;00m condition]\n",
      "\u001b[0;31mNameError\u001b[0m: name 'collection' is not defined"
     ]
    }
   ],
   "source": [
    "[expr for value in collection if condition]"
   ]
  },
  {
   "cell_type": "markdown",
   "id": "a2730598-786e-4deb-b740-7522e7d121de",
   "metadata": {},
   "source": [
    "This is equivalent to the following for loop:"
   ]
  },
  {
   "cell_type": "code",
   "execution_count": 440,
   "id": "dd64797e-f285-4327-8009-358fe5488ac2",
   "metadata": {},
   "outputs": [
    {
     "ename": "NameError",
     "evalue": "name 'collection' is not defined",
     "output_type": "error",
     "traceback": [
      "\u001b[0;31m---------------------------------------------------------------------------\u001b[0m",
      "\u001b[0;31mNameError\u001b[0m                                 Traceback (most recent call last)",
      "Cell \u001b[0;32mIn[440], line 2\u001b[0m\n\u001b[1;32m      1\u001b[0m result \u001b[38;5;241m=\u001b[39m []\n\u001b[0;32m----> 2\u001b[0m \u001b[38;5;28;01mfor\u001b[39;00m value \u001b[38;5;129;01min\u001b[39;00m collection:\n\u001b[1;32m      3\u001b[0m     \u001b[38;5;28;01mif\u001b[39;00m condition:\n\u001b[1;32m      4\u001b[0m         result\u001b[38;5;241m.\u001b[39mappend(expr)\n",
      "\u001b[0;31mNameError\u001b[0m: name 'collection' is not defined"
     ]
    }
   ],
   "source": [
    "result = []\n",
    "for value in collection:\n",
    "    if condition:\n",
    "        result.append(expr)"
   ]
  },
  {
   "cell_type": "markdown",
   "id": "4a5b98d3-a128-4fe7-b7aa-f0148274611f",
   "metadata": {},
   "source": [
    "The filter condition can be omitted, leaving only the expression. For example, given a list of strings, we could filter out strings with length 2 or less and convert them to uppercase like this:"
   ]
  },
  {
   "cell_type": "code",
   "execution_count": 443,
   "id": "f202885d-adcb-4be7-8340-6266b8d25e71",
   "metadata": {},
   "outputs": [],
   "source": [
    "strings = [\"a\", \"as\", \"bat\", \"car\", \"dove\", \"python\"]"
   ]
  },
  {
   "cell_type": "code",
   "execution_count": 445,
   "id": "70a89b58-3fee-44f8-aa79-34083ab2b695",
   "metadata": {},
   "outputs": [
    {
     "data": {
      "text/plain": [
       "['BAT', 'CAR', 'DOVE', 'PYTHON']"
      ]
     },
     "execution_count": 445,
     "metadata": {},
     "output_type": "execute_result"
    }
   ],
   "source": [
    "[x.upper() for x in strings if len(x) > 2]"
   ]
  },
  {
   "cell_type": "markdown",
   "id": "3d5dc049-6f59-4754-b901-f5e3c914cd80",
   "metadata": {},
   "source": [
    "Set and dictionary comprehensions are a natural extension, producing sets and dictionaries in an idiomatically similar way instead of lists."
   ]
  },
  {
   "cell_type": "markdown",
   "id": "45d8af80-5dca-4ad0-98ba-2f9956952ed6",
   "metadata": {},
   "source": [
    "A dictionary comprehension looks like this:"
   ]
  },
  {
   "cell_type": "code",
   "execution_count": 449,
   "id": "e182195f-cdb7-44cf-90b8-0b49a3c09503",
   "metadata": {},
   "outputs": [
    {
     "ename": "NameError",
     "evalue": "name 'collection' is not defined",
     "output_type": "error",
     "traceback": [
      "\u001b[0;31m---------------------------------------------------------------------------\u001b[0m",
      "\u001b[0;31mNameError\u001b[0m                                 Traceback (most recent call last)",
      "Cell \u001b[0;32mIn[449], line 1\u001b[0m\n\u001b[0;32m----> 1\u001b[0m dict_comp \u001b[38;5;241m=\u001b[39m {key\u001b[38;5;241m-\u001b[39mexpr: value\u001b[38;5;241m-\u001b[39mexpr \u001b[38;5;28;01mfor\u001b[39;00m value \u001b[38;5;129;01min\u001b[39;00m collection\n\u001b[1;32m      2\u001b[0m              \u001b[38;5;28;01mif\u001b[39;00m condition}\n",
      "\u001b[0;31mNameError\u001b[0m: name 'collection' is not defined"
     ]
    }
   ],
   "source": [
    "dict_comp = {key-expr: value-expr for value in collection\n",
    "             if condition}"
   ]
  },
  {
   "cell_type": "markdown",
   "id": "71cc33c0-15e8-4c30-91a4-107719c8b60b",
   "metadata": {},
   "source": [
    "A set comprehension looks like the equivalent list comprehension except with curly braces instead of square brackets:"
   ]
  },
  {
   "cell_type": "code",
   "execution_count": 452,
   "id": "e4d2d9f4-a627-4ad3-81df-cc621d6de63e",
   "metadata": {},
   "outputs": [
    {
     "ename": "NameError",
     "evalue": "name 'collection' is not defined",
     "output_type": "error",
     "traceback": [
      "\u001b[0;31m---------------------------------------------------------------------------\u001b[0m",
      "\u001b[0;31mNameError\u001b[0m                                 Traceback (most recent call last)",
      "Cell \u001b[0;32mIn[452], line 1\u001b[0m\n\u001b[0;32m----> 1\u001b[0m set_comp \u001b[38;5;241m=\u001b[39m {expr \u001b[38;5;28;01mfor\u001b[39;00m value \u001b[38;5;129;01min\u001b[39;00m collection \u001b[38;5;28;01mif\u001b[39;00m condition}\n",
      "\u001b[0;31mNameError\u001b[0m: name 'collection' is not defined"
     ]
    }
   ],
   "source": [
    "set_comp = {expr for value in collection if condition}"
   ]
  },
  {
   "cell_type": "markdown",
   "id": "cfefd8fc-2ef7-4631-9f7d-daa2fc43fc3d",
   "metadata": {},
   "source": [
    "Like list comprehensions, set and dictionary comprehensions are mostly conveniences, but they similarly can make code both easier to write and read. Consider the list of strings from before. Suppose we wanted a set containing just the lengths of the strings contained in the collection; we could easily compute this using a set comprehension:"
   ]
  },
  {
   "cell_type": "code",
   "execution_count": 455,
   "id": "5b856cc6-39ca-4253-9f5c-7e9886a1b2a5",
   "metadata": {},
   "outputs": [],
   "source": [
    "unique_lengths = {len(x) for x in strings}"
   ]
  },
  {
   "cell_type": "code",
   "execution_count": 457,
   "id": "9713d38b-ae74-4387-ae54-b773c4ca9f23",
   "metadata": {},
   "outputs": [
    {
     "data": {
      "text/plain": [
       "{1, 2, 3, 4, 6}"
      ]
     },
     "execution_count": 457,
     "metadata": {},
     "output_type": "execute_result"
    }
   ],
   "source": [
    "unique_lengths"
   ]
  },
  {
   "cell_type": "markdown",
   "id": "48cb730e-1f68-494b-ad32-016872f96b1a",
   "metadata": {},
   "source": [
    "We could also express this more functionally using the map function, introduced shortly:"
   ]
  },
  {
   "cell_type": "code",
   "execution_count": 460,
   "id": "5368069b-7af4-416f-a7ab-44fcf8a1361b",
   "metadata": {},
   "outputs": [
    {
     "data": {
      "text/plain": [
       "{1, 2, 3, 4, 6}"
      ]
     },
     "execution_count": 460,
     "metadata": {},
     "output_type": "execute_result"
    }
   ],
   "source": [
    "set(map(len, strings))"
   ]
  },
  {
   "cell_type": "markdown",
   "id": "0713757b-7335-4a39-9994-d2ff52daf0b8",
   "metadata": {},
   "source": [
    "As a simple dictionary comprehension example, we could create a lookup map of these strings for their locations in the list:"
   ]
  },
  {
   "cell_type": "code",
   "execution_count": 463,
   "id": "e932b13b-e91b-4976-895f-8b8043e7efcd",
   "metadata": {},
   "outputs": [],
   "source": [
    "loc_mapping = {value: index for index, value in enumerate(strings)}"
   ]
  },
  {
   "cell_type": "code",
   "execution_count": 465,
   "id": "8cdc0f43-8eda-4987-8e65-d457f9f72add",
   "metadata": {},
   "outputs": [
    {
     "data": {
      "text/plain": [
       "{'a': 0, 'as': 1, 'bat': 2, 'car': 3, 'dove': 4, 'python': 5}"
      ]
     },
     "execution_count": 465,
     "metadata": {},
     "output_type": "execute_result"
    }
   ],
   "source": [
    "loc_mapping"
   ]
  },
  {
   "cell_type": "markdown",
   "id": "160b77e8-bf82-4c7d-a824-ea66251efca8",
   "metadata": {},
   "source": [
    "## Nested list comprehensions"
   ]
  },
  {
   "cell_type": "markdown",
   "id": "ca55a235-691e-44d0-8bd6-a4db37aefacd",
   "metadata": {},
   "source": [
    "Suppose we have a list of lists containing some English and Spanish names:"
   ]
  },
  {
   "cell_type": "code",
   "execution_count": 469,
   "id": "f95bf137-970d-4a8c-b7ad-6ad22a3e4c94",
   "metadata": {},
   "outputs": [],
   "source": [
    "all_data = [[\"John\", \"Emily\", \"Michael\", \"Mary\", \"Steven\"],\n",
    "    [\"Maria\", \"Juan\", \"Javier\", \"Natalia\", \"Pilar\"]]"
   ]
  },
  {
   "cell_type": "markdown",
   "id": "5bfe2072-e246-4ce2-ad03-d8b881c58d08",
   "metadata": {},
   "source": [
    "Suppose we wanted to get a single list containing all names with two or more a’s in them. We could certainly do this with a simple for loop:"
   ]
  },
  {
   "cell_type": "code",
   "execution_count": 472,
   "id": "7af1e019-1ef1-436b-8983-64161deba72c",
   "metadata": {},
   "outputs": [],
   "source": [
    "names_of_interest = []"
   ]
  },
  {
   "cell_type": "code",
   "execution_count": 474,
   "id": "e36f44c7-eec3-45d5-8734-738820095c70",
   "metadata": {},
   "outputs": [],
   "source": [
    "for names in all_data:\n",
    "    enough_as = [name for name in names if name.count(\"a\") >= 2]\n",
    "    names_of_interest.extend(enough_as)"
   ]
  },
  {
   "cell_type": "code",
   "execution_count": 476,
   "id": "d6069353-fb64-42c8-a985-c2491f885fcb",
   "metadata": {},
   "outputs": [
    {
     "data": {
      "text/plain": [
       "['Maria', 'Natalia']"
      ]
     },
     "execution_count": 476,
     "metadata": {},
     "output_type": "execute_result"
    }
   ],
   "source": [
    "names_of_interest"
   ]
  },
  {
   "cell_type": "markdown",
   "id": "29c373b7-7a8c-4f73-9ba6-b55a73c251f0",
   "metadata": {},
   "source": [
    "You can actually wrap this whole operation up in a single nested list comprehension, which will look like:"
   ]
  },
  {
   "cell_type": "code",
   "execution_count": 479,
   "id": "60c11c6a-3ffe-4ab6-bb39-17bb23127d3e",
   "metadata": {},
   "outputs": [],
   "source": [
    "result = [name for names in all_data for name in names\n",
    "    if name.count(\"a\") >= 2]"
   ]
  },
  {
   "cell_type": "code",
   "execution_count": 481,
   "id": "a04b5fb2-cd53-409c-b261-b107a64d305a",
   "metadata": {},
   "outputs": [
    {
     "data": {
      "text/plain": [
       "['Maria', 'Natalia']"
      ]
     },
     "execution_count": 481,
     "metadata": {},
     "output_type": "execute_result"
    }
   ],
   "source": [
    "result"
   ]
  },
  {
   "cell_type": "markdown",
   "id": "4f00fade-3a46-4a92-89ed-d81b31b82025",
   "metadata": {},
   "source": [
    "At first, nested list comprehensions are a bit hard to wrap your head around. The for parts of the list comprehension are arranged according to the order of nesting, and any filter condition is put at the end as before. Here is another example where we “flatten” a list of tuples of integers into a simple list of integers:"
   ]
  },
  {
   "cell_type": "code",
   "execution_count": 484,
   "id": "b90351e3-9995-4323-ac74-280432b71caf",
   "metadata": {},
   "outputs": [],
   "source": [
    "some_tuples = [(1, 2, 3), (4, 5, 6), (7, 8, 9)]"
   ]
  },
  {
   "cell_type": "code",
   "execution_count": 486,
   "id": "670182de-8175-4be0-a2e8-7fd0732a8c58",
   "metadata": {},
   "outputs": [],
   "source": [
    "flattened = [x for tup in some_tuples for x in tup]"
   ]
  },
  {
   "cell_type": "code",
   "execution_count": 488,
   "id": "d9eabf8f-9a8c-4947-82f0-62a4a8f6cd8e",
   "metadata": {},
   "outputs": [
    {
     "data": {
      "text/plain": [
       "[1, 2, 3, 4, 5, 6, 7, 8, 9]"
      ]
     },
     "execution_count": 488,
     "metadata": {},
     "output_type": "execute_result"
    }
   ],
   "source": [
    "flattened"
   ]
  },
  {
   "cell_type": "markdown",
   "id": "784f20b3-d0b0-444a-87a3-0ace264303e2",
   "metadata": {},
   "source": [
    "Keep in mind that the order of the for expressions would be the same if you wrote a nested for loop instead of a list comprehension:"
   ]
  },
  {
   "cell_type": "code",
   "execution_count": 491,
   "id": "0d066454-9eb5-4480-a553-be8181af6a6e",
   "metadata": {},
   "outputs": [],
   "source": [
    "flattened = []\n",
    "\n",
    "for tup in some_tuples:\n",
    "    for x in tup:\n",
    "        flattened.append(x)"
   ]
  },
  {
   "cell_type": "markdown",
   "id": "58aa7095-0245-4045-8b4a-ddd67e04c645",
   "metadata": {},
   "source": [
    "You can have arbitrarily many levels of nesting, though if you have more than two or three levels of nesting, you should probably start to question whether this makes sense from a code readability standpoint. It’s important to distinguish the syntax just shown from a list comprehension inside a list comprehension, which is also perfectly valid:"
   ]
  },
  {
   "cell_type": "code",
   "execution_count": 494,
   "id": "5ff47625-1688-4ea5-89cc-736c8246efe8",
   "metadata": {},
   "outputs": [
    {
     "data": {
      "text/plain": [
       "[[1, 2, 3], [4, 5, 6], [7, 8, 9]]"
      ]
     },
     "execution_count": 494,
     "metadata": {},
     "output_type": "execute_result"
    }
   ],
   "source": [
    "[[x for x in tup] for tup in some_tuples]"
   ]
  },
  {
   "cell_type": "markdown",
   "id": "0309efd0-9b17-4a05-879e-3f830c433e01",
   "metadata": {},
   "source": [
    "This produces a list of lists, rather than a flattened list of all of the inner elements."
   ]
  },
  {
   "cell_type": "markdown",
   "id": "ea35d0de-603b-4a52-a43a-5d8b3a53c4c5",
   "metadata": {},
   "source": [
    "# 3.2 Functions"
   ]
  },
  {
   "cell_type": "markdown",
   "id": "c33eb76f-fc32-461d-8b2c-312b4fc26347",
   "metadata": {},
   "source": [
    "Functions are the primary and most important method of code organization and reuse in Python. As a rule of thumb, if you anticipate needing to repeat the same or very similar code more than once, it may be worth writing a reusable function. Functions can also help make your code more readable by giving a name to a group of Python statements."
   ]
  },
  {
   "cell_type": "markdown",
   "id": "9db00a09-6e0e-4710-a655-64817f43d09e",
   "metadata": {},
   "source": [
    "Functions are declared with the def keyword. A function contains a block of code with an optional use of the return keyword:"
   ]
  },
  {
   "cell_type": "code",
   "execution_count": 493,
   "id": "44a8d732-0dc3-49b5-ace6-1a8f89a5ca79",
   "metadata": {},
   "outputs": [],
   "source": [
    "def my_function(x, y):\n",
    "    return x + y"
   ]
  },
  {
   "cell_type": "markdown",
   "id": "dadc6558-259b-4455-85a7-e52fd52c87be",
   "metadata": {},
   "source": [
    "When a line with return is reached, the value or expression after return is sent to the context where the function was called, for example:"
   ]
  },
  {
   "cell_type": "code",
   "execution_count": 496,
   "id": "1426846b-6eb8-4f26-a878-e912a2e4b6e3",
   "metadata": {},
   "outputs": [
    {
     "data": {
      "text/plain": [
       "3"
      ]
     },
     "execution_count": 496,
     "metadata": {},
     "output_type": "execute_result"
    }
   ],
   "source": [
    "my_function(1, 2)"
   ]
  },
  {
   "cell_type": "code",
   "execution_count": 498,
   "id": "7ae001bc-99d3-4caf-be92-9fc82dfa3c47",
   "metadata": {},
   "outputs": [],
   "source": [
    "result = my_function(1, 2)"
   ]
  },
  {
   "cell_type": "code",
   "execution_count": 500,
   "id": "f797def5-2f58-42b8-8827-8e533284c4ee",
   "metadata": {},
   "outputs": [
    {
     "data": {
      "text/plain": [
       "3"
      ]
     },
     "execution_count": 500,
     "metadata": {},
     "output_type": "execute_result"
    }
   ],
   "source": [
    "result"
   ]
  },
  {
   "cell_type": "markdown",
   "id": "d5b92f3b-440f-43b2-b857-903a816a6c38",
   "metadata": {},
   "source": [
    "There is no issue with having multiple return statements. If Python reaches the end of a function without encountering a return statement, None is returned automatically. For example:"
   ]
  },
  {
   "cell_type": "code",
   "execution_count": 503,
   "id": "8e1e6754-23c8-42aa-bc39-bb0ffe7f4708",
   "metadata": {},
   "outputs": [],
   "source": [
    "def function_without_return(x):\n",
    "    print(x)"
   ]
  },
  {
   "cell_type": "code",
   "execution_count": 505,
   "id": "aa422c4c-c0cc-486a-b440-d02ef0700d1b",
   "metadata": {},
   "outputs": [
    {
     "name": "stdout",
     "output_type": "stream",
     "text": [
      "hello!\n"
     ]
    }
   ],
   "source": [
    "result = function_without_return(\"hello!\")"
   ]
  },
  {
   "cell_type": "code",
   "execution_count": 507,
   "id": "2784aaee-7544-4647-a188-1c7e6af0c353",
   "metadata": {},
   "outputs": [
    {
     "name": "stdout",
     "output_type": "stream",
     "text": [
      "None\n"
     ]
    }
   ],
   "source": [
    "print(result)"
   ]
  },
  {
   "cell_type": "markdown",
   "id": "8dc45dec-559a-4e4d-acf9-0190d441e0a8",
   "metadata": {},
   "source": [
    "Each function can have positional arguments and keyword arguments. Keyword arguments are most commonly used to specify default values or optional arguments. Here we will define a function with an optional z argument with the default value 1.5:"
   ]
  },
  {
   "cell_type": "code",
   "execution_count": 510,
   "id": "a749aeb2-02a1-4233-a207-87cc3154c93e",
   "metadata": {},
   "outputs": [],
   "source": [
    "def my_function2(x, y, z=1.5):\n",
    "    if z > 1:\n",
    "        return z * (x + y)\n",
    "    else:\n",
    "        return z / (x + y)"
   ]
  },
  {
   "cell_type": "markdown",
   "id": "5fb61973-df2c-4df3-ae3a-11501007874f",
   "metadata": {},
   "source": [
    "While keyword arguments are optional, all positional arguments must be specified when calling a function."
   ]
  },
  {
   "cell_type": "markdown",
   "id": "2f1bb4c8-fbaa-4892-a5ff-2c0529b1347c",
   "metadata": {},
   "source": [
    "You can pass values to the z argument with or without the keyword provided, though using the keyword is encouraged:"
   ]
  },
  {
   "cell_type": "code",
   "execution_count": 514,
   "id": "0f4c1b96-eb6c-4e93-a380-fee48baf0567",
   "metadata": {},
   "outputs": [
    {
     "data": {
      "text/plain": [
       "0.06363636363636363"
      ]
     },
     "execution_count": 514,
     "metadata": {},
     "output_type": "execute_result"
    }
   ],
   "source": [
    "my_function2(5, 6, z=0.7)"
   ]
  },
  {
   "cell_type": "code",
   "execution_count": 516,
   "id": "64e0adda-bb9f-4bf2-b5c5-2b2068ddbd97",
   "metadata": {},
   "outputs": [
    {
     "data": {
      "text/plain": [
       "35.49"
      ]
     },
     "execution_count": 516,
     "metadata": {},
     "output_type": "execute_result"
    }
   ],
   "source": [
    "my_function2(3.14, 7, 3.5)"
   ]
  },
  {
   "cell_type": "code",
   "execution_count": 518,
   "id": "3dac6304-c77f-46c0-991b-9241402bf667",
   "metadata": {},
   "outputs": [
    {
     "data": {
      "text/plain": [
       "45.0"
      ]
     },
     "execution_count": 518,
     "metadata": {},
     "output_type": "execute_result"
    }
   ],
   "source": [
    "my_function2(10, 20)"
   ]
  },
  {
   "cell_type": "markdown",
   "id": "9c0c71d3-1a7e-4e0e-9af6-a2bfb1f902f0",
   "metadata": {},
   "source": [
    "The main restriction on function arguments is that the keyword arguments must follow the positional arguments (if any). You can specify keyword arguments in any order. This frees you from having to remember the order in which the function arguments were specified. You need to remember only what their names are."
   ]
  },
  {
   "cell_type": "markdown",
   "id": "e1e2b787-0906-4272-9da0-e162aabb7c6f",
   "metadata": {},
   "source": [
    "## Namespaces, Scope, and Local Functions"
   ]
  },
  {
   "cell_type": "markdown",
   "id": "7b7bc98a-b34a-41cf-91df-5d1f08b3bbc4",
   "metadata": {},
   "source": [
    "Functions can access variables created inside the function as well as those outside the function in higher (or even global) scopes. An alternative and more descriptive name describing a variable scope in Python is a namespace. Any variables that are assigned within a function by default are assigned to the local namespace. The local namespace is created when the function is called and is immediately populated by the function’s arguments. After the function is finished, the local namespace is destroyed (with some exceptions that are outside the purview of this chapter). Consider the following function:"
   ]
  },
  {
   "cell_type": "code",
   "execution_count": 523,
   "id": "72cab5e2-aa00-44bb-80f2-f642a626d589",
   "metadata": {},
   "outputs": [],
   "source": [
    "def func():\n",
    "    a = []\n",
    "    for i in range(5):\n",
    "        a.append(i)"
   ]
  },
  {
   "cell_type": "markdown",
   "id": "e9739085-f19e-4838-b882-1c1a25ee5d90",
   "metadata": {},
   "source": [
    "When func() is called, the empty list a is created, five elements are appended, and then a is destroyed when the function exits. Suppose instead we had declared a as follows:"
   ]
  },
  {
   "cell_type": "code",
   "execution_count": 536,
   "id": "d0ffafdc-3970-45ad-924d-e6879ffc3e08",
   "metadata": {},
   "outputs": [],
   "source": [
    "a = []"
   ]
  },
  {
   "cell_type": "code",
   "execution_count": 538,
   "id": "09ba7367-84c3-47f8-968c-52669a81aff2",
   "metadata": {},
   "outputs": [],
   "source": [
    "def func():\n",
    "    for i in range(5):\n",
    "        a.append(i)"
   ]
  },
  {
   "cell_type": "markdown",
   "id": "4b03b7c7-e8d6-44f5-bf1a-4b1d26c4fe60",
   "metadata": {},
   "source": [
    "Each call to func will modify list a:"
   ]
  },
  {
   "cell_type": "code",
   "execution_count": 541,
   "id": "05e5074e-f6a4-4400-b737-c400644fa9b8",
   "metadata": {},
   "outputs": [],
   "source": [
    "func()"
   ]
  },
  {
   "cell_type": "code",
   "execution_count": 543,
   "id": "396eff9b-5c93-4d67-986d-5ca1b30f0e5b",
   "metadata": {},
   "outputs": [
    {
     "data": {
      "text/plain": [
       "[0, 1, 2, 3, 4]"
      ]
     },
     "execution_count": 543,
     "metadata": {},
     "output_type": "execute_result"
    }
   ],
   "source": [
    "a"
   ]
  },
  {
   "cell_type": "code",
   "execution_count": 545,
   "id": "01e7c41f-4f38-4bb1-8ddd-6449a4e19965",
   "metadata": {},
   "outputs": [],
   "source": [
    "func()"
   ]
  },
  {
   "cell_type": "code",
   "execution_count": 547,
   "id": "2c33b843-33fd-4546-be2f-2b5fbb68d4df",
   "metadata": {},
   "outputs": [
    {
     "data": {
      "text/plain": [
       "[0, 1, 2, 3, 4, 0, 1, 2, 3, 4]"
      ]
     },
     "execution_count": 547,
     "metadata": {},
     "output_type": "execute_result"
    }
   ],
   "source": [
    "a"
   ]
  },
  {
   "cell_type": "markdown",
   "id": "47ac56c5-3a50-45d4-b89a-a97027b11a51",
   "metadata": {},
   "source": [
    "Assigning variables outside of the function’s scope is possible, but those variables must be declared explicitly using either the global or nonlocal keywords:"
   ]
  },
  {
   "cell_type": "code",
   "execution_count": 556,
   "id": "4d380d84-b169-42c3-8c14-37314f7ea6b7",
   "metadata": {},
   "outputs": [],
   "source": [
    "a = None"
   ]
  },
  {
   "cell_type": "code",
   "execution_count": 558,
   "id": "1957911b-06b0-4e16-a44c-6cb010dbe1a4",
   "metadata": {},
   "outputs": [],
   "source": [
    "def bind_a_variable():\n",
    "    global a\n",
    "    a = []"
   ]
  },
  {
   "cell_type": "code",
   "execution_count": 560,
   "id": "36633630-2e01-4bfd-aa29-e6189da0dedb",
   "metadata": {},
   "outputs": [],
   "source": [
    "bind_a_variable()"
   ]
  },
  {
   "cell_type": "code",
   "execution_count": 562,
   "id": "4f3fb710-cbd2-403a-a835-07d69932438b",
   "metadata": {},
   "outputs": [
    {
     "name": "stdout",
     "output_type": "stream",
     "text": [
      "[]\n"
     ]
    }
   ],
   "source": [
    "print(a)"
   ]
  },
  {
   "cell_type": "markdown",
   "id": "fdc05a32-d196-4f43-9680-d7cb6c98edab",
   "metadata": {},
   "source": [
    "nonlocal allows a function to modify variables defined in a higher-level scope that is not global. Since its use is somewhat esoteric (I never use it in this book), I refer you to the Python documentation to learn more about it."
   ]
  },
  {
   "cell_type": "markdown",
   "id": "3cdbfda8-64b0-44a2-b577-b2eecd15174d",
   "metadata": {},
   "source": [
    "Caution\n",
    "I generally discourage use of the global keyword. Typically, global variables are used to store some kind of state in a system. If you find yourself using a lot of them, it may indicate a need for object-oriented programming (using classes)."
   ]
  },
  {
   "cell_type": "markdown",
   "id": "add56454-aa55-41a6-8cd9-890a81b248b7",
   "metadata": {},
   "source": [
    "## Returning Multiple Values"
   ]
  },
  {
   "cell_type": "markdown",
   "id": "4d99fe21-c663-4f18-97a1-1f88de266c40",
   "metadata": {},
   "source": [
    "When I first programmed in Python after having programmed in Java and C++, one of my favorite features was the ability to return multiple values from a function with simple syntax. Here’s an example:"
   ]
  },
  {
   "cell_type": "code",
   "execution_count": 568,
   "id": "08cd91f4-9689-4215-9209-bcd98145fefc",
   "metadata": {},
   "outputs": [],
   "source": [
    "def f():\n",
    "    a = 5\n",
    "    b = 6\n",
    "    c = 7\n",
    "    return a, b, c"
   ]
  },
  {
   "cell_type": "code",
   "execution_count": 570,
   "id": "b50ef53f-8282-4fe1-b820-0e93763e2ce8",
   "metadata": {},
   "outputs": [],
   "source": [
    "a, b, c = f()"
   ]
  },
  {
   "cell_type": "markdown",
   "id": "92b8d16b-04e6-4526-a6bc-8e17d4ff8fd4",
   "metadata": {},
   "source": [
    "In data analysis and other scientific applications, you may find yourself doing this often. What’s happening here is that the function is actually just returning one object, a tuple, which is then being unpacked into the result variables. In the preceding example, we could have done this instead:"
   ]
  },
  {
   "cell_type": "code",
   "execution_count": 573,
   "id": "cd68f35f-2dc2-4512-9ca1-7d828df83dc9",
   "metadata": {},
   "outputs": [],
   "source": [
    "return_value = f()"
   ]
  },
  {
   "cell_type": "markdown",
   "id": "a5546f41-4690-4aea-82c1-db25c8a2e0dc",
   "metadata": {},
   "source": [
    "In this case, return_value would be a 3-tuple with the three returned variables. A potentially attractive alternative to returning multiple values like before might be to return a dictionary instead:"
   ]
  },
  {
   "cell_type": "code",
   "execution_count": 576,
   "id": "d075f338-1d2d-4310-8bfd-468c60aac5aa",
   "metadata": {},
   "outputs": [],
   "source": [
    "def f():\n",
    "    a = 5\n",
    "    b = 6\n",
    "    c = 7\n",
    "    return {\"a\" : a, \"b\" : b, \"c\" : c}"
   ]
  },
  {
   "cell_type": "markdown",
   "id": "3fbcc1b9-33cc-4556-a2b3-e2764f67f2b1",
   "metadata": {},
   "source": [
    "This alternative technique can be useful depending on what you are trying to do."
   ]
  },
  {
   "cell_type": "markdown",
   "id": "6148feb0-ef48-48a2-906a-2f13b5834a49",
   "metadata": {},
   "source": [
    "## Functions Are Objects"
   ]
  },
  {
   "cell_type": "markdown",
   "id": "df97fba8-3513-4e1f-b466-5d317156bb2a",
   "metadata": {},
   "source": [
    "Since Python functions are objects, many constructs can be easily expressed that are difficult to do in other languages. Suppose we were doing some data cleaning and needed to apply a bunch of transformations to the following list of strings:"
   ]
  },
  {
   "cell_type": "code",
   "execution_count": 581,
   "id": "47582076-2ca1-4340-abb8-03091b24d2ff",
   "metadata": {},
   "outputs": [],
   "source": [
    "states = [\"   Alabama \", \"Georgia!\", \"Georgia\", \"georgia\", \"FlOrIda\",\n",
    "    \"south   carolina##\", \"West virginia?\"]"
   ]
  },
  {
   "cell_type": "markdown",
   "id": "a74f3d82-6a69-414d-9333-5c9e33437fd8",
   "metadata": {},
   "source": [
    "Anyone who has ever worked with user-submitted survey data has seen messy results like these. Lots of things need to happen to make this list of strings uniform and ready for analysis: stripping whitespace, removing punctuation symbols, and standardizing proper capitalization. One way to do this is to use built-in string methods along with the re standard library module for regular expressions:"
   ]
  },
  {
   "cell_type": "code",
   "execution_count": 584,
   "id": "06034fe7-dcdc-4749-98a3-52c9ac62ad01",
   "metadata": {},
   "outputs": [],
   "source": [
    "import re\n",
    "\n",
    "def clean_strings(strings):\n",
    "    result = []\n",
    "    for value in strings:\n",
    "        value = value.strip()\n",
    "        value = re.sub(\"[!#?]\", \"\", value)\n",
    "        value = value.title()\n",
    "        result.append(value)\n",
    "    return result"
   ]
  },
  {
   "cell_type": "markdown",
   "id": "81f74cc3-408a-4d78-927a-438c52bc383b",
   "metadata": {},
   "source": [
    "The result looks like this:"
   ]
  },
  {
   "cell_type": "code",
   "execution_count": 587,
   "id": "b19ec91d-9a6d-4c54-9f1b-200f3a342c00",
   "metadata": {},
   "outputs": [
    {
     "data": {
      "text/plain": [
       "['Alabama',\n",
       " 'Georgia',\n",
       " 'Georgia',\n",
       " 'Georgia',\n",
       " 'Florida',\n",
       " 'South   Carolina',\n",
       " 'West Virginia']"
      ]
     },
     "execution_count": 587,
     "metadata": {},
     "output_type": "execute_result"
    }
   ],
   "source": [
    "clean_strings(states)"
   ]
  },
  {
   "cell_type": "markdown",
   "id": "71304fcd-ee54-45c2-9722-f2456dfce784",
   "metadata": {},
   "source": [
    "An alternative approach that you may find useful is to make a list of the operations you want to apply to a particular set of strings:"
   ]
  },
  {
   "cell_type": "code",
   "execution_count": 590,
   "id": "d667e898-b975-44cd-896e-b61ca97b93e4",
   "metadata": {},
   "outputs": [],
   "source": [
    "def remove_punctuation(value):\n",
    "    return re.sub(\"[!#?]\", \"\", value)\n",
    "\n",
    "clean_ops = [str.strip, remove_punctuation, str.title]\n",
    "\n",
    "def clean_strings(strings, ops):\n",
    "    result = []\n",
    "    for value in strings:\n",
    "        for func in ops:\n",
    "            value = func(value)\n",
    "        result.append(value)\n",
    "    return result"
   ]
  },
  {
   "cell_type": "markdown",
   "id": "b078f0a1-77f5-48ca-9b26-7d65d46bb7d8",
   "metadata": {},
   "source": [
    "Then we have the following:"
   ]
  },
  {
   "cell_type": "code",
   "execution_count": 593,
   "id": "a31deeca-4189-4feb-9769-7b1ef055ebfd",
   "metadata": {},
   "outputs": [
    {
     "data": {
      "text/plain": [
       "['Alabama',\n",
       " 'Georgia',\n",
       " 'Georgia',\n",
       " 'Georgia',\n",
       " 'Florida',\n",
       " 'South   Carolina',\n",
       " 'West Virginia']"
      ]
     },
     "execution_count": 593,
     "metadata": {},
     "output_type": "execute_result"
    }
   ],
   "source": [
    "clean_strings(states, clean_ops)"
   ]
  },
  {
   "cell_type": "markdown",
   "id": "e4e08011-73b5-4965-aba5-e1b49cb82d4a",
   "metadata": {},
   "source": [
    "A more functional pattern like this enables you to easily modify how the strings are transformed at a very high level. The clean_strings function is also now more reusable and generic."
   ]
  },
  {
   "cell_type": "markdown",
   "id": "0b5c3b8f-eb8c-4a13-a6c6-eea1936534b8",
   "metadata": {},
   "source": [
    "You can use functions as arguments to other functions like the built-in map function, which applies a function to a sequence of some kind:"
   ]
  },
  {
   "cell_type": "code",
   "execution_count": 597,
   "id": "b504c369-c6b5-4200-b7b5-694712cacd00",
   "metadata": {},
   "outputs": [
    {
     "name": "stdout",
     "output_type": "stream",
     "text": [
      "   Alabama \n",
      "Georgia\n",
      "Georgia\n",
      "georgia\n",
      "FlOrIda\n",
      "south   carolina\n",
      "West virginia\n"
     ]
    }
   ],
   "source": [
    "for x in map(remove_punctuation, states):\n",
    "    print(x)"
   ]
  },
  {
   "cell_type": "markdown",
   "id": "e844620f-79c9-4c48-92c9-1b05371715e7",
   "metadata": {},
   "source": [
    "map can be used as an alternative to list comprehensions without any filter."
   ]
  },
  {
   "cell_type": "markdown",
   "id": "e2cb1245-e1d5-4069-aabf-3fbb5511efa2",
   "metadata": {},
   "source": [
    "## Anonymous (Lambda) Functions"
   ]
  },
  {
   "cell_type": "markdown",
   "id": "1f92d7e2-cdb9-4999-92ee-2bcd40b61891",
   "metadata": {},
   "source": [
    "Python has support for so-called anonymous or lambda functions, which are a way of writing functions consisting of a single statement, the result of which is the return value. They are defined with the lambda keyword, which has no meaning other than “we are declaring an anonymous function”:"
   ]
  },
  {
   "cell_type": "code",
   "execution_count": 602,
   "id": "4e32abe1-8555-4bd5-b05f-08c9c295713c",
   "metadata": {},
   "outputs": [],
   "source": [
    "def short_function(x):\n",
    "    return x * 2"
   ]
  },
  {
   "cell_type": "code",
   "execution_count": 604,
   "id": "a62a5d8b-5ad6-43a2-aa14-73479c0033eb",
   "metadata": {},
   "outputs": [],
   "source": [
    "equiv_anon = lambda x: x * 2"
   ]
  },
  {
   "cell_type": "markdown",
   "id": "8c16e4d6-563f-479e-aa4b-56b367f4c117",
   "metadata": {},
   "source": [
    "I usually refer to these as lambda functions in the rest of the book. They are especially convenient in data analysis because, as you’ll see, there are many cases where data transformation functions will take functions as arguments. It’s often less typing (and clearer) to pass a lambda function as opposed to writing a full-out function declaration or even assigning the lambda function to a local variable. Consider this example:"
   ]
  },
  {
   "cell_type": "code",
   "execution_count": 607,
   "id": "375d0c8f-8c81-41bd-88d7-14912915e192",
   "metadata": {},
   "outputs": [],
   "source": [
    "def apply_to_list(some_list, f):\n",
    "    return [f(x) for x in some_list]"
   ]
  },
  {
   "cell_type": "code",
   "execution_count": 609,
   "id": "46a8b8d6-56c5-4c46-bdc3-a27d3a3c3fc9",
   "metadata": {},
   "outputs": [],
   "source": [
    "ints = [4, 0, 1, 5, 6]"
   ]
  },
  {
   "cell_type": "code",
   "execution_count": 611,
   "id": "3dfbbe31-3978-4916-818c-13b17de85438",
   "metadata": {},
   "outputs": [
    {
     "data": {
      "text/plain": [
       "[8, 0, 2, 10, 12]"
      ]
     },
     "execution_count": 611,
     "metadata": {},
     "output_type": "execute_result"
    }
   ],
   "source": [
    "apply_to_list(ints, lambda x: x * 2)"
   ]
  },
  {
   "cell_type": "markdown",
   "id": "932d746b-1a85-4d9b-85d2-c325489d6fdb",
   "metadata": {},
   "source": [
    "You could also have written [x * 2 for x in ints], but here we were able to succinctly pass a custom operator to the apply_to_list function."
   ]
  },
  {
   "cell_type": "markdown",
   "id": "ce9ed23a-5de3-474d-a7af-fcf0aa78fee9",
   "metadata": {},
   "source": [
    "As another example, suppose you wanted to sort a collection of strings by the number of distinct letters in each string:"
   ]
  },
  {
   "cell_type": "code",
   "execution_count": 615,
   "id": "819ad35b-3738-4db2-b15d-804aeb47e76d",
   "metadata": {},
   "outputs": [],
   "source": [
    "strings = [\"foo\", \"card\", \"bar\", \"aaaa\", \"abab\"]"
   ]
  },
  {
   "cell_type": "markdown",
   "id": "a6cb86dc-4a7b-46f7-bde4-cff2f43c8ddb",
   "metadata": {},
   "source": [
    "Here we could pass a lambda function to the list’s sort method:"
   ]
  },
  {
   "cell_type": "code",
   "execution_count": 618,
   "id": "630ecb35-8481-44fc-8a1b-df94739bb5ef",
   "metadata": {},
   "outputs": [],
   "source": [
    "strings.sort(key=lambda x: len(set(x)))"
   ]
  },
  {
   "cell_type": "code",
   "execution_count": 620,
   "id": "9fe27e19-ef22-42a4-8355-86c81c1c8100",
   "metadata": {},
   "outputs": [
    {
     "data": {
      "text/plain": [
       "['aaaa', 'foo', 'abab', 'bar', 'card']"
      ]
     },
     "execution_count": 620,
     "metadata": {},
     "output_type": "execute_result"
    }
   ],
   "source": [
    "strings"
   ]
  },
  {
   "cell_type": "markdown",
   "id": "a96ba8f3-c82a-459b-9a51-3eb882e29bcb",
   "metadata": {},
   "source": [
    "## Generators"
   ]
  },
  {
   "cell_type": "markdown",
   "id": "dc158618-787d-4d23-bfcf-144c25ee0948",
   "metadata": {},
   "source": [
    "Many objects in Python support iteration, such as over objects in a list or lines in a file. This is accomplished by means of the iterator protocol, a generic way to make objects iterable. For example, iterating over a dictionary yields the dictionary keys:"
   ]
  },
  {
   "cell_type": "code",
   "execution_count": 624,
   "id": "31897c34-a0ca-4dd2-a5e2-f9c756bab407",
   "metadata": {},
   "outputs": [],
   "source": [
    "some_dict = {\"a\": 1, \"b\": 2, \"c\": 3}"
   ]
  },
  {
   "cell_type": "code",
   "execution_count": 626,
   "id": "552f6acc-5706-4f55-9888-b32c2c1d0c77",
   "metadata": {},
   "outputs": [
    {
     "name": "stdout",
     "output_type": "stream",
     "text": [
      "a\n",
      "b\n",
      "c\n"
     ]
    }
   ],
   "source": [
    "for key in some_dict:\n",
    "    print(key)"
   ]
  },
  {
   "cell_type": "markdown",
   "id": "9d35d28d-cd73-45b6-83c9-c3ec201eb32c",
   "metadata": {},
   "source": [
    "When you write for key in some_dict, the Python interpreter first attempts to create an iterator out of some_dict:"
   ]
  },
  {
   "cell_type": "code",
   "execution_count": 629,
   "id": "1e22ac64-ce5c-42c8-9bd7-b6a7e9007cd3",
   "metadata": {},
   "outputs": [],
   "source": [
    "dict_iterator = iter(some_dict)"
   ]
  },
  {
   "cell_type": "code",
   "execution_count": 631,
   "id": "3e498eb9-eac8-499d-b643-ced7559ee622",
   "metadata": {},
   "outputs": [
    {
     "data": {
      "text/plain": [
       "<dict_keyiterator at 0x12a132c50>"
      ]
     },
     "execution_count": 631,
     "metadata": {},
     "output_type": "execute_result"
    }
   ],
   "source": [
    "dict_iterator"
   ]
  },
  {
   "cell_type": "markdown",
   "id": "7d18efd9-6f0a-4897-b854-c9be597f1141",
   "metadata": {},
   "source": [
    "An iterator is any object that will yield objects to the Python interpreter when used in a context like a for loop. Most methods expecting a list or list-like object will also accept any iterable object. This includes built-in methods such as min, max, and sum, and type constructors like list and tuple:"
   ]
  },
  {
   "cell_type": "code",
   "execution_count": 634,
   "id": "dca3cf37-a6bd-4de6-a4cc-8722a38677db",
   "metadata": {},
   "outputs": [
    {
     "data": {
      "text/plain": [
       "['a', 'b', 'c']"
      ]
     },
     "execution_count": 634,
     "metadata": {},
     "output_type": "execute_result"
    }
   ],
   "source": [
    "list(dict_iterator)"
   ]
  },
  {
   "cell_type": "markdown",
   "id": "8e464ebb-f841-44ac-ac44-c08566eec593",
   "metadata": {},
   "source": [
    "A generator is a convenient way, similar to writing a normal function, to construct a new iterable object. Whereas normal functions execute and return a single result at a time, generators can return a sequence of multiple values by pausing and resuming execution each time the generator is used. To create a generator, use the yield keyword instead of return in a function:"
   ]
  },
  {
   "cell_type": "code",
   "execution_count": 637,
   "id": "d310aa14-d1df-4667-a172-4053630ac4a8",
   "metadata": {},
   "outputs": [],
   "source": [
    "def squares(n=10):\n",
    "    print(f\"Generating squares from 1 to {n ** 2}\")\n",
    "    for i in range(1, n + 1):\n",
    "        yield i ** 2"
   ]
  },
  {
   "cell_type": "markdown",
   "id": "062784f6-2c0e-404d-bdb8-13c5b3384c31",
   "metadata": {},
   "source": [
    "When you actually call the generator, no code is immediately executed:"
   ]
  },
  {
   "cell_type": "code",
   "execution_count": 640,
   "id": "709860ef-6eec-4d6b-92dc-7622e9304d93",
   "metadata": {},
   "outputs": [],
   "source": [
    "gen = squares()"
   ]
  },
  {
   "cell_type": "code",
   "execution_count": 642,
   "id": "8e8b009d-c70e-4b6d-961c-919521ccce25",
   "metadata": {},
   "outputs": [
    {
     "data": {
      "text/plain": [
       "<generator object squares at 0x11ff47d80>"
      ]
     },
     "execution_count": 642,
     "metadata": {},
     "output_type": "execute_result"
    }
   ],
   "source": [
    "gen"
   ]
  },
  {
   "cell_type": "markdown",
   "id": "3603ff95-896b-433c-8172-1dadc45ab117",
   "metadata": {},
   "source": [
    "It is not until you request elements from the generator that it begins executing its code:"
   ]
  },
  {
   "cell_type": "code",
   "execution_count": 645,
   "id": "4f448401-6e76-4311-b6b6-38046c5b3954",
   "metadata": {},
   "outputs": [
    {
     "name": "stdout",
     "output_type": "stream",
     "text": [
      "Generating squares from 1 to 100\n",
      "1 4 9 16 25 36 49 64 81 100 "
     ]
    }
   ],
   "source": [
    "for x in gen:\n",
    "    print(x, end=\" \")"
   ]
  },
  {
   "cell_type": "markdown",
   "id": "4deca9f9-269b-4d1e-87d1-ead380ff70b2",
   "metadata": {},
   "source": [
    "### Note\n",
    "Since generators produce output one element at a time versus an entire list all at once, it can help your program use less memory."
   ]
  },
  {
   "cell_type": "markdown",
   "id": "d9873e05-72aa-4712-b7cf-e76eb2b602f7",
   "metadata": {},
   "source": [
    "## Generator expressions\n"
   ]
  },
  {
   "cell_type": "markdown",
   "id": "2f543d36-382b-4822-9b94-a5d2660263f0",
   "metadata": {},
   "source": [
    "Another way to make a generator is by using a generator expression. This is a generator analogue to list, dictionary, and set comprehensions. To create one, enclose what would otherwise be a list comprehension within parentheses instead of brackets:"
   ]
  },
  {
   "cell_type": "code",
   "execution_count": 650,
   "id": "8bfbdf23-fc03-4151-9fbc-6cadf9c1cd10",
   "metadata": {},
   "outputs": [],
   "source": [
    "gen = (x ** 2 for x in range(100))"
   ]
  },
  {
   "cell_type": "code",
   "execution_count": 652,
   "id": "f6b92f40-f13b-4f51-b986-f583d6dd9517",
   "metadata": {},
   "outputs": [
    {
     "data": {
      "text/plain": [
       "<generator object <genexpr> at 0x11f7268e0>"
      ]
     },
     "execution_count": 652,
     "metadata": {},
     "output_type": "execute_result"
    }
   ],
   "source": [
    "gen"
   ]
  },
  {
   "cell_type": "markdown",
   "id": "11ec3a6f-94b1-4f6a-aae7-d1874bbefd0a",
   "metadata": {},
   "source": [
    "This is equivalent to the following more verbose generator:"
   ]
  },
  {
   "cell_type": "code",
   "execution_count": 655,
   "id": "8551e7c1-a7ee-43c6-a561-088c30480071",
   "metadata": {},
   "outputs": [],
   "source": [
    "def _make_gen():\n",
    "    for x in range(100):\n",
    "        yield x ** 2"
   ]
  },
  {
   "cell_type": "code",
   "execution_count": 657,
   "id": "21358181-2137-4931-81c0-91b2ca0714fc",
   "metadata": {},
   "outputs": [],
   "source": [
    "gen = _make_gen()"
   ]
  },
  {
   "cell_type": "markdown",
   "id": "08edc5b9-1e53-47f3-80d4-717496efe415",
   "metadata": {},
   "source": [
    "Generator expressions can be used instead of list comprehensions as function arguments in some cases:"
   ]
  },
  {
   "cell_type": "code",
   "execution_count": 660,
   "id": "f34c0709-45c7-44f9-a8f5-5448b9daa17b",
   "metadata": {},
   "outputs": [
    {
     "data": {
      "text/plain": [
       "328350"
      ]
     },
     "execution_count": 660,
     "metadata": {},
     "output_type": "execute_result"
    }
   ],
   "source": [
    "sum(x ** 2 for x in range(100))"
   ]
  },
  {
   "cell_type": "code",
   "execution_count": 662,
   "id": "135f6e13-dc7b-4eed-96d0-897b445eaa07",
   "metadata": {},
   "outputs": [
    {
     "data": {
      "text/plain": [
       "{0: 0, 1: 1, 2: 4, 3: 9, 4: 16}"
      ]
     },
     "execution_count": 662,
     "metadata": {},
     "output_type": "execute_result"
    }
   ],
   "source": [
    "dict((i, i ** 2) for i in range(5))"
   ]
  },
  {
   "cell_type": "markdown",
   "id": "f2a9d12c-bf4a-42cd-bf57-1959af04eeea",
   "metadata": {},
   "source": [
    "Depending on the number of elements produced by the comprehension expression, the generator version can sometimes be meaningfully faster."
   ]
  },
  {
   "cell_type": "markdown",
   "id": "1d698493-1649-4133-ab8a-126de5200423",
   "metadata": {},
   "source": [
    "## itertools module"
   ]
  },
  {
   "cell_type": "markdown",
   "id": "d9bccfbc-4102-4c9b-a826-f2d8d39a7c02",
   "metadata": {},
   "source": [
    "The standard library itertools module has a collection of generators for many common data algorithms. For example, groupby takes any sequence and a function, grouping consecutive elements in the sequence by return value of the function. Here’s an example:"
   ]
  },
  {
   "cell_type": "code",
   "execution_count": 667,
   "id": "ad5b31c4-b081-4475-b8fe-821969d4febe",
   "metadata": {},
   "outputs": [],
   "source": [
    "import itertools"
   ]
  },
  {
   "cell_type": "code",
   "execution_count": 669,
   "id": "4ba51ae3-8b08-43bf-8eda-889a52ebb93c",
   "metadata": {},
   "outputs": [],
   "source": [
    "def first_letter(x):\n",
    "    return x[0]"
   ]
  },
  {
   "cell_type": "code",
   "execution_count": 671,
   "id": "855f37c0-93c4-45a0-a8f1-59e641b9b38f",
   "metadata": {},
   "outputs": [],
   "source": [
    "names = [\"Alan\", \"Adam\", \"Wes\", \"Will\", \"Albert\", \"Steven\"]"
   ]
  },
  {
   "cell_type": "code",
   "execution_count": 673,
   "id": "48588568-84c0-413d-8b30-a392598845fa",
   "metadata": {},
   "outputs": [
    {
     "name": "stdout",
     "output_type": "stream",
     "text": [
      "A ['Alan', 'Adam']\n",
      "W ['Wes', 'Will']\n",
      "A ['Albert']\n",
      "S ['Steven']\n"
     ]
    }
   ],
   "source": [
    "for letter, names in itertools.groupby(names, first_letter):\n",
    "    print(letter, list(names)) # names is a generator"
   ]
  },
  {
   "cell_type": "markdown",
   "id": "06e40475-7b0b-494a-863d-a9943ed3c3ac",
   "metadata": {},
   "source": [
    "See Table 3-2 for a list of a few other itertools functions I’ve frequently found helpful. You may like to check out the official Python documentation for more on this useful built-in utility module."
   ]
  },
  {
   "cell_type": "markdown",
   "id": "0e382c6e-fb75-4f3f-9c20-b79007079dcb",
   "metadata": {},
   "source": [
    "### Table 3-2. Some useful itertools functions\n",
    "\n",
    "|Function|Description|\n",
    "|---|---|\n",
    "|chain(*iterables)|Generates a sequence by chaining iterators together. Once elements from the first iterator are exhausted, elements from the next iterator are returned, and so on.|\n",
    "|combinations(iterable, k)|Generates a sequence of all possible k-tuples of elements in the iterable, ignoring order and without replacement (see also the companion function combinations_with_replacement).|\n",
    "|permutations(iterable, k)|Generates a sequence of all possible k-tuples of elements in the iterable, respecting order.|\n",
    "|groupby(iterable[, keyfunc])|Generates (key, sub-iterator) for each unique key.|\n",
    "|product(*iterables, repeat=1)|Generates the Cartesian product of the input iterables as tuples, similar to a nested for loop.|"
   ]
  },
  {
   "cell_type": "markdown",
   "id": "736c69c2-f3f9-4dc2-a450-68f91d324cbe",
   "metadata": {},
   "source": [
    "## Errors and Exception Handling"
   ]
  },
  {
   "cell_type": "markdown",
   "id": "aacfdeb8-8542-4425-b987-6081358b1e34",
   "metadata": {},
   "source": [
    "Handling Python errors or exceptions gracefully is an important part of building robust programs. In data analysis applications, many functions work only on certain kinds of input. As an example, Python’s float function is capable of casting a string to a floating-point number, but it fails with ValueError on improper inputs:"
   ]
  },
  {
   "cell_type": "code",
   "execution_count": 681,
   "id": "2b9d57d7-9fc3-423b-aa07-2b88da376cae",
   "metadata": {},
   "outputs": [
    {
     "data": {
      "text/plain": [
       "1.2345"
      ]
     },
     "execution_count": 681,
     "metadata": {},
     "output_type": "execute_result"
    }
   ],
   "source": [
    "float(\"1.2345\")"
   ]
  },
  {
   "cell_type": "code",
   "execution_count": 683,
   "id": "af1d4878-7f02-4760-ad59-f1d3715fe3dd",
   "metadata": {},
   "outputs": [
    {
     "ename": "ValueError",
     "evalue": "could not convert string to float: 'something'",
     "output_type": "error",
     "traceback": [
      "\u001b[0;31m---------------------------------------------------------------------------\u001b[0m",
      "\u001b[0;31mValueError\u001b[0m                                Traceback (most recent call last)",
      "Cell \u001b[0;32mIn[683], line 1\u001b[0m\n\u001b[0;32m----> 1\u001b[0m \u001b[38;5;28mfloat\u001b[39m(\u001b[38;5;124m\"\u001b[39m\u001b[38;5;124msomething\u001b[39m\u001b[38;5;124m\"\u001b[39m)\n",
      "\u001b[0;31mValueError\u001b[0m: could not convert string to float: 'something'"
     ]
    }
   ],
   "source": [
    "float(\"something\")"
   ]
  },
  {
   "cell_type": "markdown",
   "id": "96050c6f-9ed6-4798-8f04-8bd483dd821b",
   "metadata": {},
   "source": [
    "Suppose we wanted a version of float that fails gracefully, returning the input argument. We can do this by writing a function that encloses the call to float in a try/except block (execute this code in IPython):"
   ]
  },
  {
   "cell_type": "code",
   "execution_count": 686,
   "id": "17a11b25-05de-4f4e-8d9d-fee969fb2e93",
   "metadata": {},
   "outputs": [],
   "source": [
    "def attempt_float(x):\n",
    "    try:\n",
    "        return float(x)\n",
    "    except:\n",
    "        return x"
   ]
  },
  {
   "cell_type": "markdown",
   "id": "cc0de962-bd61-45b3-9d6b-6221652e6b2d",
   "metadata": {},
   "source": [
    "The code in the except part of the block will only be executed if float(x) raises an exception:"
   ]
  },
  {
   "cell_type": "code",
   "execution_count": 689,
   "id": "7fff6043-444f-4cb1-b016-9e0085b4e9da",
   "metadata": {},
   "outputs": [
    {
     "data": {
      "text/plain": [
       "1.2345"
      ]
     },
     "execution_count": 689,
     "metadata": {},
     "output_type": "execute_result"
    }
   ],
   "source": [
    "attempt_float(\"1.2345\")"
   ]
  },
  {
   "cell_type": "code",
   "execution_count": 691,
   "id": "78296c25-b57d-42cf-9b7e-7ffb9df6eeee",
   "metadata": {},
   "outputs": [
    {
     "data": {
      "text/plain": [
       "'something'"
      ]
     },
     "execution_count": 691,
     "metadata": {},
     "output_type": "execute_result"
    }
   ],
   "source": [
    "attempt_float(\"something\")"
   ]
  },
  {
   "cell_type": "markdown",
   "id": "6642c66d-902e-489c-ad67-58a3e2509090",
   "metadata": {},
   "source": [
    "You might notice that float can raise exceptions other than ValueError:"
   ]
  },
  {
   "cell_type": "code",
   "execution_count": 694,
   "id": "40622626-2f3b-4fb0-aadd-d123dddd9e07",
   "metadata": {},
   "outputs": [
    {
     "ename": "TypeError",
     "evalue": "float() argument must be a string or a real number, not 'tuple'",
     "output_type": "error",
     "traceback": [
      "\u001b[0;31m---------------------------------------------------------------------------\u001b[0m",
      "\u001b[0;31mTypeError\u001b[0m                                 Traceback (most recent call last)",
      "Cell \u001b[0;32mIn[694], line 1\u001b[0m\n\u001b[0;32m----> 1\u001b[0m \u001b[38;5;28mfloat\u001b[39m((\u001b[38;5;241m1\u001b[39m, \u001b[38;5;241m2\u001b[39m))\n",
      "\u001b[0;31mTypeError\u001b[0m: float() argument must be a string or a real number, not 'tuple'"
     ]
    }
   ],
   "source": [
    "float((1, 2))"
   ]
  },
  {
   "cell_type": "markdown",
   "id": "fd71e5ad-0099-4cc9-a6b8-74c36a75218a",
   "metadata": {},
   "source": [
    "You might want to suppress only ValueError, since a TypeError (the input was not a string or numeric value) might indicate a legitimate bug in your program. To do that, write the exception type after except:"
   ]
  },
  {
   "cell_type": "code",
   "execution_count": 697,
   "id": "9a08adf7-2c59-4356-ac0c-b6a76b1aa442",
   "metadata": {},
   "outputs": [],
   "source": [
    "def attempt_float(x):\n",
    "    try:\n",
    "        return float(x)\n",
    "    except ValueError:\n",
    "        return x"
   ]
  },
  {
   "cell_type": "markdown",
   "id": "198f3d77-f30c-467d-9c7d-4d3e88df4dff",
   "metadata": {},
   "source": [
    "We have then:"
   ]
  },
  {
   "cell_type": "code",
   "execution_count": 700,
   "id": "430fae93-dd67-4208-8a44-ea622e0cc8fa",
   "metadata": {},
   "outputs": [
    {
     "ename": "TypeError",
     "evalue": "float() argument must be a string or a real number, not 'tuple'",
     "output_type": "error",
     "traceback": [
      "\u001b[0;31m---------------------------------------------------------------------------\u001b[0m",
      "\u001b[0;31mTypeError\u001b[0m                                 Traceback (most recent call last)",
      "Cell \u001b[0;32mIn[700], line 1\u001b[0m\n\u001b[0;32m----> 1\u001b[0m attempt_float((\u001b[38;5;241m1\u001b[39m, \u001b[38;5;241m2\u001b[39m))\n",
      "Cell \u001b[0;32mIn[697], line 3\u001b[0m, in \u001b[0;36mattempt_float\u001b[0;34m(x)\u001b[0m\n\u001b[1;32m      1\u001b[0m \u001b[38;5;28;01mdef\u001b[39;00m \u001b[38;5;21mattempt_float\u001b[39m(x):\n\u001b[1;32m      2\u001b[0m     \u001b[38;5;28;01mtry\u001b[39;00m:\n\u001b[0;32m----> 3\u001b[0m         \u001b[38;5;28;01mreturn\u001b[39;00m \u001b[38;5;28mfloat\u001b[39m(x)\n\u001b[1;32m      4\u001b[0m     \u001b[38;5;28;01mexcept\u001b[39;00m \u001b[38;5;167;01mValueError\u001b[39;00m:\n\u001b[1;32m      5\u001b[0m         \u001b[38;5;28;01mreturn\u001b[39;00m x\n",
      "\u001b[0;31mTypeError\u001b[0m: float() argument must be a string or a real number, not 'tuple'"
     ]
    }
   ],
   "source": [
    "attempt_float((1, 2))"
   ]
  },
  {
   "cell_type": "markdown",
   "id": "18ca06e1-f08d-4457-a5f6-6e10bf5c0bac",
   "metadata": {},
   "source": [
    "You can catch multiple exception types by writing a tuple of exception types instead (the parentheses are required):"
   ]
  },
  {
   "cell_type": "code",
   "execution_count": 703,
   "id": "18edf764-296f-4c6f-a02f-122afb4a134f",
   "metadata": {},
   "outputs": [],
   "source": [
    "def attempt_float(x):\n",
    "    try:\n",
    "        return float(x)\n",
    "    except (TypeError, ValueError):\n",
    "        return x"
   ]
  },
  {
   "cell_type": "markdown",
   "id": "49025234-4f2a-4813-ab68-0e2148dd95c8",
   "metadata": {},
   "source": [
    "In some cases, you may not want to suppress an exception, but you want some code to be executed regardless of whether or not the code in the try block succeeds. To do this, use finally:"
   ]
  },
  {
   "cell_type": "code",
   "execution_count": 706,
   "id": "be75e300-4016-4760-a027-7794ebc489a9",
   "metadata": {},
   "outputs": [
    {
     "ename": "NameError",
     "evalue": "name 'path' is not defined",
     "output_type": "error",
     "traceback": [
      "\u001b[0;31m---------------------------------------------------------------------------\u001b[0m",
      "\u001b[0;31mNameError\u001b[0m                                 Traceback (most recent call last)",
      "Cell \u001b[0;32mIn[706], line 1\u001b[0m\n\u001b[0;32m----> 1\u001b[0m f \u001b[38;5;241m=\u001b[39m \u001b[38;5;28mopen\u001b[39m(path, mode\u001b[38;5;241m=\u001b[39m\u001b[38;5;124m\"\u001b[39m\u001b[38;5;124mw\u001b[39m\u001b[38;5;124m\"\u001b[39m)\n\u001b[1;32m      3\u001b[0m \u001b[38;5;28;01mtry\u001b[39;00m:\n\u001b[1;32m      4\u001b[0m     write_to_file(f)\n",
      "\u001b[0;31mNameError\u001b[0m: name 'path' is not defined"
     ]
    }
   ],
   "source": [
    "f = open(path, mode=\"w\")\n",
    "\n",
    "try:\n",
    "    write_to_file(f)\n",
    "finally:\n",
    "    f.close()"
   ]
  },
  {
   "cell_type": "markdown",
   "id": "504563e6-8e6a-484f-9f65-78c801f4f65d",
   "metadata": {},
   "source": [
    "Here, the file object f will always get closed. Similarly, you can have code that executes only if the try: block succeeds using else:"
   ]
  },
  {
   "cell_type": "code",
   "execution_count": 709,
   "id": "0e8166a6-c039-4a61-8a54-a78dc6b530a1",
   "metadata": {},
   "outputs": [
    {
     "ename": "NameError",
     "evalue": "name 'path' is not defined",
     "output_type": "error",
     "traceback": [
      "\u001b[0;31m---------------------------------------------------------------------------\u001b[0m",
      "\u001b[0;31mNameError\u001b[0m                                 Traceback (most recent call last)",
      "Cell \u001b[0;32mIn[709], line 1\u001b[0m\n\u001b[0;32m----> 1\u001b[0m f \u001b[38;5;241m=\u001b[39m \u001b[38;5;28mopen\u001b[39m(path, mode\u001b[38;5;241m=\u001b[39m\u001b[38;5;124m\"\u001b[39m\u001b[38;5;124mw\u001b[39m\u001b[38;5;124m\"\u001b[39m)\n\u001b[1;32m      3\u001b[0m \u001b[38;5;28;01mtry\u001b[39;00m:\n\u001b[1;32m      4\u001b[0m     write_to_file(f)\n",
      "\u001b[0;31mNameError\u001b[0m: name 'path' is not defined"
     ]
    }
   ],
   "source": [
    "f = open(path, mode=\"w\")\n",
    "\n",
    "try:\n",
    "    write_to_file(f)\n",
    "except:\n",
    "    print(\"Failed\")\n",
    "else:\n",
    "    print(\"Succeeded\")\n",
    "finally:\n",
    "    f.close()"
   ]
  },
  {
   "cell_type": "markdown",
   "id": "a44df6ff-a988-4bd4-8c7b-e216f7fe73f1",
   "metadata": {},
   "source": [
    "## Exceptions in IPython"
   ]
  },
  {
   "cell_type": "markdown",
   "id": "b198e6cb-6723-455f-a88e-2b1405ae0338",
   "metadata": {},
   "source": [
    "If an exception is raised while you are %run-ing a script or executing any statement, IPython will by default print a full call stack trace (traceback) with a few lines of context around the position at each point in the stack:If an exception is raised while you are %run-ing a script or executing any statement, IPython will by default print a full call stack trace (traceback) with a few lines of context around the position at each point in the stack:"
   ]
  },
  {
   "cell_type": "code",
   "execution_count": 3,
   "id": "c2e496d5-648e-4a27-94e8-03f198ac9fc8",
   "metadata": {},
   "outputs": [
    {
     "ename": "AssertionError",
     "evalue": "",
     "output_type": "error",
     "traceback": [
      "\u001b[0;31m---------------------------------------------------------------------------\u001b[0m",
      "\u001b[0;31mAssertionError\u001b[0m                            Traceback (most recent call last)",
      "File \u001b[0;32m~/Essential Computing/EssentialComputing/Python_Coding/examples/ipython_bug.py:15\u001b[0m\n\u001b[1;32m     12\u001b[0m     works_fine()\n\u001b[1;32m     13\u001b[0m     throws_an_exception()\n\u001b[0;32m---> 15\u001b[0m calling_things()\n",
      "File \u001b[0;32m~/Essential Computing/EssentialComputing/Python_Coding/examples/ipython_bug.py:13\u001b[0m, in \u001b[0;36mcalling_things\u001b[0;34m()\u001b[0m\n\u001b[1;32m     11\u001b[0m \u001b[38;5;28;01mdef\u001b[39;00m \u001b[38;5;21mcalling_things\u001b[39m():\n\u001b[1;32m     12\u001b[0m     works_fine()\n\u001b[0;32m---> 13\u001b[0m     throws_an_exception()\n",
      "File \u001b[0;32m~/Essential Computing/EssentialComputing/Python_Coding/examples/ipython_bug.py:9\u001b[0m, in \u001b[0;36mthrows_an_exception\u001b[0;34m()\u001b[0m\n\u001b[1;32m      7\u001b[0m a \u001b[38;5;241m=\u001b[39m \u001b[38;5;241m5\u001b[39m\n\u001b[1;32m      8\u001b[0m b \u001b[38;5;241m=\u001b[39m \u001b[38;5;241m6\u001b[39m\n\u001b[0;32m----> 9\u001b[0m \u001b[38;5;28;01massert\u001b[39;00m(a \u001b[38;5;241m+\u001b[39m b \u001b[38;5;241m==\u001b[39m \u001b[38;5;241m10\u001b[39m)\n",
      "\u001b[0;31mAssertionError\u001b[0m: "
     ]
    }
   ],
   "source": [
    "%run ../examples/ipython_bug.py"
   ]
  },
  {
   "cell_type": "markdown",
   "id": "2ea5a64c-a26a-4199-92b4-3fcdc17a19c8",
   "metadata": {},
   "source": [
    "Having additional context by itself is a big advantage over the standard Python interpreter (which does not provide any additional context). You can control the amount of context shown using the %xmode magic command, from Plain (same as the standard Python interpreter) to Verbose (which inlines function argument values and more). As you will see later in Appendix B, you can step into the stack (using the %debug or %pdb magics) after an error has occurred for interactive postmortem debugging."
   ]
  },
  {
   "cell_type": "markdown",
   "id": "ab096e45-42e8-444e-a7df-d05578955ef5",
   "metadata": {},
   "source": [
    "# 3.3 Files and the Operating System"
   ]
  },
  {
   "cell_type": "markdown",
   "id": "e9dd49f5-aa36-4400-8d0d-4692e4500d72",
   "metadata": {},
   "source": [
    "Most of this book uses high-level tools like pandas.read_csv to read data files from disk into Python data structures. However, it’s important to understand the basics of how to work with files in Python. Fortunately, it’s relatively straightforward, which is one reason Python is so popular for text and file munging.\n",
    "\n",
    "To open a file for reading or writing, use the built-in open function with either a relative or absolute file path and an optional file encoding:"
   ]
  },
  {
   "cell_type": "code",
   "execution_count": 5,
   "id": "d2be9e41-8444-45ea-ae20-9a9dbfc1c932",
   "metadata": {},
   "outputs": [],
   "source": [
    "path = \"../examples/segismundo.txt\""
   ]
  },
  {
   "cell_type": "code",
   "execution_count": 7,
   "id": "33717fec-7c09-40a0-9ad8-5a31c81a71bf",
   "metadata": {},
   "outputs": [],
   "source": [
    "f = open(path, encoding=\"utf-8\")"
   ]
  },
  {
   "cell_type": "markdown",
   "id": "12dc69e3-b2ed-4244-bfa8-4c4f80b9464c",
   "metadata": {},
   "source": [
    "Here, I pass encoding=\"utf-8\" as a best practice because the default Unicode encoding for reading files varies from platform to platform."
   ]
  },
  {
   "cell_type": "markdown",
   "id": "27c521fb-210e-4761-88ea-1c406db1a344",
   "metadata": {},
   "source": [
    "By default, the file is opened in read-only mode \"r\". We can then treat the file object f like a list and iterate over the lines like so:"
   ]
  },
  {
   "cell_type": "code",
   "execution_count": 11,
   "id": "073a06fd-49b7-4704-bcc9-d009853550c4",
   "metadata": {},
   "outputs": [
    {
     "name": "stdout",
     "output_type": "stream",
     "text": [
      "Sueña el rico en su riqueza,\n",
      "\n",
      "que más cuidados le ofrece;\n",
      "\n",
      "\n",
      "\n",
      "sueña el pobre que padece\n",
      "\n",
      "su miseria y su pobreza;\n",
      "\n",
      "\n",
      "\n",
      "sueña el que a medrar empieza,\n",
      "\n",
      "sueña el que afana y pretende,\n",
      "\n",
      "sueña el que agravia y ofende,\n",
      "\n",
      "\n",
      "\n",
      "y en el mundo, en conclusión,\n",
      "\n",
      "todos sueñan lo que son,\n",
      "\n",
      "aunque ninguno lo entiende.\n",
      "\n",
      "\n",
      "\n"
     ]
    }
   ],
   "source": [
    "for line in f:\n",
    "    print(line)"
   ]
  },
  {
   "cell_type": "markdown",
   "id": "9fb484ed-23f5-46f1-9e5e-7e81a054aebd",
   "metadata": {},
   "source": [
    "The lines come out of the file with the end-of-line (EOL) markers intact, so you’ll often see code to get an EOL-free list of lines in a file like:"
   ]
  },
  {
   "cell_type": "code",
   "execution_count": 19,
   "id": "a62efd90-2443-48c3-967a-2813732dff84",
   "metadata": {},
   "outputs": [
    {
     "data": {
      "text/plain": [
       "['Sueña el rico en su riqueza,',\n",
       " 'que más cuidados le ofrece;',\n",
       " '',\n",
       " 'sueña el pobre que padece',\n",
       " 'su miseria y su pobreza;',\n",
       " '',\n",
       " 'sueña el que a medrar empieza,',\n",
       " 'sueña el que afana y pretende,',\n",
       " 'sueña el que agravia y ofende,',\n",
       " '',\n",
       " 'y en el mundo, en conclusión,',\n",
       " 'todos sueñan lo que son,',\n",
       " 'aunque ninguno lo entiende.',\n",
       " '']"
      ]
     },
     "execution_count": 19,
     "metadata": {},
     "output_type": "execute_result"
    }
   ],
   "source": [
    "lines = [x.rstrip() for x in open(path, encoding=\"utf-8\")]\n",
    "\n",
    "lines\n"
   ]
  },
  {
   "cell_type": "markdown",
   "id": "efc95751-b4e6-44c2-8dfb-14920bb36d13",
   "metadata": {},
   "source": [
    "When you use open to create file objects, it is recommended to close the file when you are finished with it. Closing the file releases its resources back to the operating system:"
   ]
  },
  {
   "cell_type": "code",
   "execution_count": 17,
   "id": "b4c7d10c-f811-461a-9dd5-db4d66ef5c76",
   "metadata": {},
   "outputs": [],
   "source": [
    "f.close()"
   ]
  },
  {
   "cell_type": "markdown",
   "id": "f2868f40-05be-40d9-8fbe-d769e1adb8a1",
   "metadata": {},
   "source": [
    "One of the ways to make it easier to clean up open files is to use the with statement:"
   ]
  },
  {
   "cell_type": "code",
   "execution_count": 21,
   "id": "62f90c09-b554-4b18-968a-b2294d392983",
   "metadata": {},
   "outputs": [],
   "source": [
    "with open(path, encoding=\"utf-8\") as f:\n",
    "    lines = [x.rstrip() for x in f]"
   ]
  },
  {
   "cell_type": "markdown",
   "id": "307aca8e-a50f-4051-a88e-eeab931d2456",
   "metadata": {},
   "source": [
    "This will automatically close the file f when exiting the with block. Failing to ensure that files are closed will not cause problems in many small programs or scripts, but it can be an issue in programs that need to interact with a large number of files."
   ]
  },
  {
   "cell_type": "markdown",
   "id": "599b2064-7b59-45e0-ae45-b641bdde00b3",
   "metadata": {},
   "source": [
    "If we had typed f = open(path, \"w\"), a new file at examples/segismundo.txt would have been created (be careful!), overwriting any file in its place. There is also the \"x\" file mode, which creates a writable file but fails if the file path already exists. See Table 3-3 for a list of all valid file read/write modes."
   ]
  },
  {
   "cell_type": "markdown",
   "id": "dd567e4b-0e69-4a2a-97c0-be3d4d273ffd",
   "metadata": {},
   "source": [
    "### Table 3-3. Python file modes\n",
    "\n",
    "|Mode|\tDescription|\n",
    "|---|---|\n",
    "|r|Read-only mode|\n",
    "|w|Write-only mode; creates a new file (erasing the data for any file with the same name)|\n",
    "|x|Write-only mode; creates a new file but fails if the file path already exists|\n",
    "|a|Append to existing file (creates the file if it does not already exist)|\n",
    "|r+|Read and write|\n",
    "|b|Add to mode for binary files (i.e., \"rb\" or \"wb\")|\n",
    "|t|Text mode for files (automatically decoding bytes to Unicode); this is the default if not specified|"
   ]
  },
  {
   "cell_type": "markdown",
   "id": "6d68497f-33f4-4be2-b3a9-c579239b2c6b",
   "metadata": {},
   "source": [
    "For readable files, some of the most commonly used methods are read, seek, and tell. read returns a certain number of characters from the file. What constitutes a “character” is determined by the file encoding or simply raw bytes if the file is opened in binary mode:"
   ]
  },
  {
   "cell_type": "code",
   "execution_count": 23,
   "id": "12431cfd-322b-427c-bf1d-44f78ab776ac",
   "metadata": {},
   "outputs": [],
   "source": [
    "f1 = open(path)"
   ]
  },
  {
   "cell_type": "code",
   "execution_count": 25,
   "id": "2b6b1268-2cd8-4907-a675-8bac20701ecc",
   "metadata": {},
   "outputs": [
    {
     "data": {
      "text/plain": [
       "'Sueña el r'"
      ]
     },
     "execution_count": 25,
     "metadata": {},
     "output_type": "execute_result"
    }
   ],
   "source": [
    "f1.read(10)"
   ]
  },
  {
   "cell_type": "code",
   "execution_count": 27,
   "id": "3d32b24d-fab6-4a0f-b3d9-3113f2a780ce",
   "metadata": {},
   "outputs": [],
   "source": [
    "f2 = open(path, mode=\"rb\")  # Binary mode"
   ]
  },
  {
   "cell_type": "code",
   "execution_count": 29,
   "id": "9a252d17-0263-44d0-8587-477876555ca5",
   "metadata": {},
   "outputs": [
    {
     "data": {
      "text/plain": [
       "b'Sue\\xc3\\xb1a el '"
      ]
     },
     "execution_count": 29,
     "metadata": {},
     "output_type": "execute_result"
    }
   ],
   "source": [
    "f2.read(10)"
   ]
  },
  {
   "cell_type": "markdown",
   "id": "1ae10e49-c247-4ff6-8876-971b346fb986",
   "metadata": {},
   "source": [
    "The read method advances the file object position by the number of bytes read. tell gives you the current position:"
   ]
  },
  {
   "cell_type": "code",
   "execution_count": 32,
   "id": "c67e7c58-d4eb-4542-b24a-5e0751d50fb9",
   "metadata": {},
   "outputs": [
    {
     "data": {
      "text/plain": [
       "11"
      ]
     },
     "execution_count": 32,
     "metadata": {},
     "output_type": "execute_result"
    }
   ],
   "source": [
    "f1.tell()"
   ]
  },
  {
   "cell_type": "code",
   "execution_count": 34,
   "id": "2d494fa1-4d49-412e-8a4c-2f9020edb164",
   "metadata": {},
   "outputs": [
    {
     "data": {
      "text/plain": [
       "10"
      ]
     },
     "execution_count": 34,
     "metadata": {},
     "output_type": "execute_result"
    }
   ],
   "source": [
    "f2.tell()"
   ]
  },
  {
   "cell_type": "markdown",
   "id": "80d86a13-f7a9-41e3-b39c-b6e494cf519a",
   "metadata": {},
   "source": [
    "Even though we read 10 characters from the file f1 opened in text mode, the position is 11 because it took that many bytes to decode 10 characters using the default encoding. You can check the default encoding in the sys module:"
   ]
  },
  {
   "cell_type": "code",
   "execution_count": 37,
   "id": "acf2c77c-39a7-4bea-96d0-fef2152a80e7",
   "metadata": {},
   "outputs": [
    {
     "data": {
      "text/plain": [
       "'utf-8'"
      ]
     },
     "execution_count": 37,
     "metadata": {},
     "output_type": "execute_result"
    }
   ],
   "source": [
    "import sys\n",
    "sys.getdefaultencoding()"
   ]
  },
  {
   "cell_type": "markdown",
   "id": "3e093a0d-5f97-43c1-b409-12bc96bd986e",
   "metadata": {},
   "source": [
    "To get consistent behavior across platforms, it is best to pass an encoding (such as encoding=\"utf-8\", which is widely used) when opening files."
   ]
  },
  {
   "cell_type": "markdown",
   "id": "f3b5013f-a607-4bff-914f-be36ce547a23",
   "metadata": {},
   "source": [
    "seek changes the file position to the indicated byte in the file:"
   ]
  },
  {
   "cell_type": "code",
   "execution_count": 43,
   "id": "42ff68f1-81c0-4406-93fb-669cf44c6733",
   "metadata": {},
   "outputs": [
    {
     "data": {
      "text/plain": [
       "5"
      ]
     },
     "execution_count": 43,
     "metadata": {},
     "output_type": "execute_result"
    }
   ],
   "source": [
    "f1.seek(3)\n",
    "\n",
    "f1.read(1)\n",
    "\n",
    "f1.tell()"
   ]
  },
  {
   "cell_type": "markdown",
   "id": "766cb99e-2b07-493f-94ff-0c11f415b1e4",
   "metadata": {},
   "source": [
    "Lastly, we remember to close the files:"
   ]
  },
  {
   "cell_type": "code",
   "execution_count": 46,
   "id": "d56a345c-cab0-46dc-9e15-470c93d88745",
   "metadata": {},
   "outputs": [],
   "source": [
    "f1.close()\n",
    "f2.close()"
   ]
  },
  {
   "cell_type": "markdown",
   "id": "f7b2fa6b-133b-463c-b339-77bf7d1c9111",
   "metadata": {},
   "source": [
    "To write text to a file, you can use the file’s write or writelines methods. For example, we could create a version of examples/segismundo.txt with no blank lines like so:"
   ]
  },
  {
   "cell_type": "code",
   "execution_count": 49,
   "id": "d20c97d1-9ea5-4af2-ac58-c7274ec32953",
   "metadata": {},
   "outputs": [
    {
     "data": {
      "text/plain": [
       "['Sueña el rico en su riqueza,\\n',\n",
       " 'que más cuidados le ofrece;\\n',\n",
       " 'sueña el pobre que padece\\n',\n",
       " 'su miseria y su pobreza;\\n',\n",
       " 'sueña el que a medrar empieza,\\n',\n",
       " 'sueña el que afana y pretende,\\n',\n",
       " 'sueña el que agravia y ofende,\\n',\n",
       " 'y en el mundo, en conclusión,\\n',\n",
       " 'todos sueñan lo que son,\\n',\n",
       " 'aunque ninguno lo entiende.\\n']"
      ]
     },
     "execution_count": 49,
     "metadata": {},
     "output_type": "execute_result"
    }
   ],
   "source": [
    "path\n",
    "\n",
    "with open(\"tmp.txt\", mode=\"w\") as handle:\n",
    "    handle.writelines(x for x in open(path) if len(x) > 1)\n",
    "\n",
    "with open(\"tmp.txt\") as f:\n",
    "    lines = f.readlines()\n",
    "\n",
    "lines"
   ]
  },
  {
   "cell_type": "markdown",
   "id": "ebe29c5d-6d29-483b-bb96-d437434fc5b9",
   "metadata": {},
   "source": [
    "See Table 3-4 for many of the most commonly used file methods."
   ]
  },
  {
   "cell_type": "markdown",
   "id": "6c3f151f-71dc-488e-b352-93c7dbc33e91",
   "metadata": {},
   "source": [
    "### Table 3-4. Important Python file methods or attributes\n",
    "\n",
    "|Method/attribute|Description|\n",
    "|---|---|\n",
    "|read([size])|Return data from file as bytes or string depending on the file mode, with optional size argument indicating the number of bytes or string characters to read|\n",
    "|readable()|Return True if the file supports read operations|\n",
    "|readlines([size])|Return list of lines in the file, with optional size argument|\n",
    "|write(string)|Write passed string to file|\n",
    "|writable()|Return True if the file supports write operations|\n",
    "|writelines(strings)|Write passed sequence of strings to the file|\n",
    "|close()|Close the file object|\n",
    "|flush()|Flush the internal I/O buffer to disk|\n",
    "|seek(pos)|Move to indicated file position (integer)|\n",
    "|seekable()|Return True if the file object supports seeking and thus random access (some file-like objects do not)|\n",
    "|tell()|Return current file position as integer|\n",
    "|closed|True if the file is closed|\n",
    "|encoding|The encoding used to interpret bytes in the file as Unicode (typically UTF-8)|"
   ]
  },
  {
   "cell_type": "markdown",
   "id": "dcb9c676-54c9-4a58-8838-525ca604d0e0",
   "metadata": {},
   "source": [
    "## Bytes and Unicode with Files"
   ]
  },
  {
   "cell_type": "markdown",
   "id": "b0bf3800-ea3f-4749-ad2d-c9df40010392",
   "metadata": {},
   "source": [
    "The default behavior for Python files (whether readable or writable) is text mode, which means that you intend to work with Python strings (i.e., Unicode). This contrasts with binary mode, which you can obtain by appending b to the file mode. Revisiting the file (which contains non-ASCII characters with UTF-8 encoding) from the previous section, we have:"
   ]
  },
  {
   "cell_type": "code",
   "execution_count": 55,
   "id": "98064b40-433f-4501-aee7-31505a84e095",
   "metadata": {},
   "outputs": [],
   "source": [
    "with open(path) as f:\n",
    "    chars = f.read(10)"
   ]
  },
  {
   "cell_type": "code",
   "execution_count": 57,
   "id": "eba5f9e0-9f47-4118-ac8f-da8ed102b974",
   "metadata": {},
   "outputs": [
    {
     "data": {
      "text/plain": [
       "'Sueña el r'"
      ]
     },
     "execution_count": 57,
     "metadata": {},
     "output_type": "execute_result"
    }
   ],
   "source": [
    "chars"
   ]
  },
  {
   "cell_type": "code",
   "execution_count": 59,
   "id": "94f72eee-6356-4007-8bcf-826be120011f",
   "metadata": {},
   "outputs": [
    {
     "data": {
      "text/plain": [
       "10"
      ]
     },
     "execution_count": 59,
     "metadata": {},
     "output_type": "execute_result"
    }
   ],
   "source": [
    "len(chars)"
   ]
  },
  {
   "cell_type": "markdown",
   "id": "28802a54-ffd1-41f4-b25e-b2a6836388fa",
   "metadata": {},
   "source": [
    "UTF-8 is a variable-length Unicode encoding, so when I request some number of characters from the file, Python reads enough bytes (which could be as few as 10 or as many as 40 bytes) from the file to decode that many characters. If I open the file in \"rb\" mode instead, read requests that exact number of bytes:"
   ]
  },
  {
   "cell_type": "code",
   "execution_count": 61,
   "id": "c01c0f99-0fa2-4fed-9c60-7aa37400cb0d",
   "metadata": {},
   "outputs": [],
   "source": [
    "with open(path, mode=\"rb\") as f:\n",
    "    data = f.read(10)"
   ]
  },
  {
   "cell_type": "code",
   "execution_count": 63,
   "id": "89b44351-4a77-4fda-8699-48394d01659b",
   "metadata": {},
   "outputs": [
    {
     "data": {
      "text/plain": [
       "b'Sue\\xc3\\xb1a el '"
      ]
     },
     "execution_count": 63,
     "metadata": {},
     "output_type": "execute_result"
    }
   ],
   "source": [
    "data"
   ]
  },
  {
   "cell_type": "markdown",
   "id": "0c504c09-458c-455d-9f55-65333b879569",
   "metadata": {},
   "source": [
    "Depending on the text encoding, you may be able to decode the bytes to a str object yourself, but only if each of the encoded Unicode characters is fully formed:"
   ]
  },
  {
   "cell_type": "code",
   "execution_count": 66,
   "id": "c21c5574-d041-4c4a-9bd1-409ce860ced0",
   "metadata": {},
   "outputs": [
    {
     "data": {
      "text/plain": [
       "'Sueña el '"
      ]
     },
     "execution_count": 66,
     "metadata": {},
     "output_type": "execute_result"
    }
   ],
   "source": [
    "data.decode(\"utf-8\")"
   ]
  },
  {
   "cell_type": "code",
   "execution_count": 68,
   "id": "2ed0a122-c9df-4969-b047-5242c1e53e47",
   "metadata": {},
   "outputs": [
    {
     "ename": "UnicodeDecodeError",
     "evalue": "'utf-8' codec can't decode byte 0xc3 in position 3: unexpected end of data",
     "output_type": "error",
     "traceback": [
      "\u001b[0;31m---------------------------------------------------------------------------\u001b[0m",
      "\u001b[0;31mUnicodeDecodeError\u001b[0m                        Traceback (most recent call last)",
      "Cell \u001b[0;32mIn[68], line 1\u001b[0m\n\u001b[0;32m----> 1\u001b[0m data[:\u001b[38;5;241m4\u001b[39m]\u001b[38;5;241m.\u001b[39mdecode(\u001b[38;5;124m\"\u001b[39m\u001b[38;5;124mutf-8\u001b[39m\u001b[38;5;124m\"\u001b[39m)\n",
      "\u001b[0;31mUnicodeDecodeError\u001b[0m: 'utf-8' codec can't decode byte 0xc3 in position 3: unexpected end of data"
     ]
    }
   ],
   "source": [
    "data[:4].decode(\"utf-8\")"
   ]
  },
  {
   "cell_type": "markdown",
   "id": "8005665c-94ad-4a0d-a743-03820a10e747",
   "metadata": {},
   "source": [
    "Text mode, combined with the encoding option of open, provides a convenient way to convert from one Unicode encoding to another:"
   ]
  },
  {
   "cell_type": "code",
   "execution_count": 71,
   "id": "2ce36142-5a04-4fe8-90e8-dd973985187a",
   "metadata": {},
   "outputs": [
    {
     "name": "stdout",
     "output_type": "stream",
     "text": [
      "Sueña el r\n"
     ]
    }
   ],
   "source": [
    "sink_path = \"sink.txt\"\n",
    "\n",
    "with open(path) as source:\n",
    "    with open(sink_path, \"x\", encoding=\"iso-8859-1\") as sink:\n",
    "        sink.write(source.read())\n",
    "\n",
    "with open(sink_path, encoding=\"iso-8859-1\") as f:\n",
    "    print(f.read(10))"
   ]
  },
  {
   "cell_type": "markdown",
   "id": "87a7aa1c-d246-4b6f-bec5-995dfbda35e5",
   "metadata": {},
   "source": [
    "Beware using seek when opening files in any mode other than binary. If the file position falls in the middle of the bytes defining a Unicode character, then subsequent reads will result in an error:"
   ]
  },
  {
   "cell_type": "code",
   "execution_count": 74,
   "id": "99f5b19f-95c5-4639-9011-8846a40c30b1",
   "metadata": {},
   "outputs": [],
   "source": [
    "f = open(path, encoding='utf-8')"
   ]
  },
  {
   "cell_type": "code",
   "execution_count": 76,
   "id": "5052426b-b838-469b-bc65-437cfbf372a7",
   "metadata": {},
   "outputs": [
    {
     "data": {
      "text/plain": [
       "'Sueña'"
      ]
     },
     "execution_count": 76,
     "metadata": {},
     "output_type": "execute_result"
    }
   ],
   "source": [
    "f.read(5)"
   ]
  },
  {
   "cell_type": "code",
   "execution_count": 78,
   "id": "ed02e696-1745-426b-9e7f-9b3aec5ea720",
   "metadata": {},
   "outputs": [
    {
     "data": {
      "text/plain": [
       "4"
      ]
     },
     "execution_count": 78,
     "metadata": {},
     "output_type": "execute_result"
    }
   ],
   "source": [
    "f.seek(4)"
   ]
  },
  {
   "cell_type": "code",
   "execution_count": 80,
   "id": "470aa460-6a8e-41d4-a933-cfd1c7d9cdb9",
   "metadata": {},
   "outputs": [
    {
     "ename": "UnicodeDecodeError",
     "evalue": "'utf-8' codec can't decode byte 0xb1 in position 0: invalid start byte",
     "output_type": "error",
     "traceback": [
      "\u001b[0;31m---------------------------------------------------------------------------\u001b[0m",
      "\u001b[0;31mUnicodeDecodeError\u001b[0m                        Traceback (most recent call last)",
      "Cell \u001b[0;32mIn[80], line 1\u001b[0m\n\u001b[0;32m----> 1\u001b[0m f\u001b[38;5;241m.\u001b[39mread(\u001b[38;5;241m1\u001b[39m)\n",
      "File \u001b[0;32m<frozen codecs>:322\u001b[0m, in \u001b[0;36mdecode\u001b[0;34m(self, input, final)\u001b[0m\n",
      "\u001b[0;31mUnicodeDecodeError\u001b[0m: 'utf-8' codec can't decode byte 0xb1 in position 0: invalid start byte"
     ]
    }
   ],
   "source": [
    "f.read(1)"
   ]
  },
  {
   "cell_type": "markdown",
   "id": "ca67b6c6-036c-4864-944e-86dbd562a50b",
   "metadata": {},
   "source": [
    "If you find yourself regularly doing data analysis on non-ASCII text data, mastering Python’s Unicode functionality will prove valuable. See Python’s online documentation for much more."
   ]
  },
  {
   "cell_type": "markdown",
   "id": "941a050d-07e1-4750-a2be-41bb9d06d418",
   "metadata": {},
   "source": [
    "# 3.4 Conclusion"
   ]
  },
  {
   "cell_type": "markdown",
   "id": "6deab3cf-760b-493a-a55e-40a225265f24",
   "metadata": {},
   "source": [
    "With some of the basics of the Python environment and language now under your belt, it is time to move on and learn about NumPy and array-oriented computing in Python."
   ]
  }
 ],
 "metadata": {
  "kernelspec": {
   "display_name": "Python [conda env:base] *",
   "language": "python",
   "name": "conda-base-py"
  },
  "language_info": {
   "codemirror_mode": {
    "name": "ipython",
    "version": 3
   },
   "file_extension": ".py",
   "mimetype": "text/x-python",
   "name": "python",
   "nbconvert_exporter": "python",
   "pygments_lexer": "ipython3",
   "version": "3.12.7"
  }
 },
 "nbformat": 4,
 "nbformat_minor": 5
}
