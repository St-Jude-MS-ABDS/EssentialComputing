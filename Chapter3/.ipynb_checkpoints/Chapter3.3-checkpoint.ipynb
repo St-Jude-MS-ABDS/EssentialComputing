{
 "cells": [
  {
   "cell_type": "markdown",
   "id": "ab096e45-42e8-444e-a7df-d05578955ef5",
   "metadata": {},
   "source": [
    "# 3.3 Files and the Operating System"
   ]
  },
  {
   "cell_type": "markdown",
   "id": "e9dd49f5-aa36-4400-8d0d-4692e4500d72",
   "metadata": {},
   "source": [
    "Most of this book uses high-level tools like pandas.read_csv to read data files from disk into Python data structures. However, it’s important to understand the basics of how to work with files in Python. Fortunately, it’s relatively straightforward, which is one reason Python is so popular for text and file munging.\n",
    "\n",
    "To open a file for reading or writing, use the built-in open function with either a relative or absolute file path and an optional file encoding:"
   ]
  },
  {
   "cell_type": "code",
   "execution_count": 76,
   "id": "d2be9e41-8444-45ea-ae20-9a9dbfc1c932",
   "metadata": {},
   "outputs": [],
   "source": [
    "path = \"../examples/segismundo.txt\""
   ]
  },
  {
   "cell_type": "code",
   "execution_count": 78,
   "id": "33717fec-7c09-40a0-9ad8-5a31c81a71bf",
   "metadata": {},
   "outputs": [],
   "source": [
    "f = open(path, encoding=\"utf-8\")"
   ]
  },
  {
   "cell_type": "markdown",
   "id": "12dc69e3-b2ed-4244-bfa8-4c4f80b9464c",
   "metadata": {},
   "source": [
    "Here, I pass encoding=\"utf-8\" as a best practice because the default Unicode encoding for reading files varies from platform to platform."
   ]
  },
  {
   "cell_type": "markdown",
   "id": "27c521fb-210e-4761-88ea-1c406db1a344",
   "metadata": {},
   "source": [
    "By default, the file is opened in read-only mode \"r\". We can then treat the file object f like a list and iterate over the lines like so:"
   ]
  },
  {
   "cell_type": "code",
   "execution_count": 82,
   "id": "073a06fd-49b7-4704-bcc9-d009853550c4",
   "metadata": {},
   "outputs": [
    {
     "name": "stdout",
     "output_type": "stream",
     "text": [
      "Sueña el rico en su riqueza,\n",
      "\n",
      "que más cuidados le ofrece;\n",
      "\n",
      "\n",
      "\n",
      "sueña el pobre que padece\n",
      "\n",
      "su miseria y su pobreza;\n",
      "\n",
      "\n",
      "\n",
      "sueña el que a medrar empieza,\n",
      "\n",
      "sueña el que afana y pretende,\n",
      "\n",
      "sueña el que agravia y ofende,\n",
      "\n",
      "\n",
      "\n",
      "y en el mundo, en conclusión,\n",
      "\n",
      "todos sueñan lo que son,\n",
      "\n",
      "aunque ninguno lo entiende.\n",
      "\n",
      "\n",
      "\n"
     ]
    }
   ],
   "source": [
    "for line in f:\n",
    "    print(line)"
   ]
  },
  {
   "cell_type": "markdown",
   "id": "9fb484ed-23f5-46f1-9e5e-7e81a054aebd",
   "metadata": {},
   "source": [
    "The lines come out of the file with the end-of-line (EOL) markers intact, so you’ll often see code to get an EOL-free list of lines in a file like:"
   ]
  },
  {
   "cell_type": "code",
   "execution_count": 85,
   "id": "a62efd90-2443-48c3-967a-2813732dff84",
   "metadata": {},
   "outputs": [
    {
     "data": {
      "text/plain": [
       "['Sueña el rico en su riqueza,',\n",
       " 'que más cuidados le ofrece;',\n",
       " '',\n",
       " 'sueña el pobre que padece',\n",
       " 'su miseria y su pobreza;',\n",
       " '',\n",
       " 'sueña el que a medrar empieza,',\n",
       " 'sueña el que afana y pretende,',\n",
       " 'sueña el que agravia y ofende,',\n",
       " '',\n",
       " 'y en el mundo, en conclusión,',\n",
       " 'todos sueñan lo que son,',\n",
       " 'aunque ninguno lo entiende.',\n",
       " '']"
      ]
     },
     "execution_count": 85,
     "metadata": {},
     "output_type": "execute_result"
    }
   ],
   "source": [
    "lines = [x.rstrip() for x in open(path, encoding=\"utf-8\")]\n",
    "\n",
    "lines\n"
   ]
  },
  {
   "cell_type": "markdown",
   "id": "efc95751-b4e6-44c2-8dfb-14920bb36d13",
   "metadata": {},
   "source": [
    "When you use open to create file objects, it is recommended to close the file when you are finished with it. Closing the file releases its resources back to the operating system:"
   ]
  },
  {
   "cell_type": "code",
   "execution_count": 88,
   "id": "b4c7d10c-f811-461a-9dd5-db4d66ef5c76",
   "metadata": {},
   "outputs": [],
   "source": [
    "f.close()"
   ]
  },
  {
   "cell_type": "markdown",
   "id": "f2868f40-05be-40d9-8fbe-d769e1adb8a1",
   "metadata": {},
   "source": [
    "One of the ways to make it easier to clean up open files is to use the with statement:"
   ]
  },
  {
   "cell_type": "code",
   "execution_count": 91,
   "id": "62f90c09-b554-4b18-968a-b2294d392983",
   "metadata": {},
   "outputs": [],
   "source": [
    "with open(path, encoding=\"utf-8\") as f:\n",
    "    lines = [x.rstrip() for x in f]"
   ]
  },
  {
   "cell_type": "markdown",
   "id": "307aca8e-a50f-4051-a88e-eeab931d2456",
   "metadata": {},
   "source": [
    "This will automatically close the file f when exiting the with block. Failing to ensure that files are closed will not cause problems in many small programs or scripts, but it can be an issue in programs that need to interact with a large number of files."
   ]
  },
  {
   "cell_type": "markdown",
   "id": "599b2064-7b59-45e0-ae45-b641bdde00b3",
   "metadata": {},
   "source": [
    "If we had typed f = open(path, \"w\"), a new file at examples/segismundo.txt would have been created (be careful!), overwriting any file in its place. There is also the \"x\" file mode, which creates a writable file but fails if the file path already exists. See Table 3-3 for a list of all valid file read/write modes."
   ]
  },
  {
   "cell_type": "markdown",
   "id": "dd567e4b-0e69-4a2a-97c0-be3d4d273ffd",
   "metadata": {},
   "source": [
    "### Table 3-3. Python file modes\n",
    "\n",
    "|Mode|\tDescription|\n",
    "|---|---|\n",
    "|r|Read-only mode|\n",
    "|w|Write-only mode; creates a new file (erasing the data for any file with the same name)|\n",
    "|x|Write-only mode; creates a new file but fails if the file path already exists|\n",
    "|a|Append to existing file (creates the file if it does not already exist)|\n",
    "|r+|Read and write|\n",
    "|b|Add to mode for binary files (i.e., \"rb\" or \"wb\")|\n",
    "|t|Text mode for files (automatically decoding bytes to Unicode); this is the default if not specified|"
   ]
  },
  {
   "cell_type": "markdown",
   "id": "6d68497f-33f4-4be2-b3a9-c579239b2c6b",
   "metadata": {},
   "source": [
    "For readable files, some of the most commonly used methods are read, seek, and tell. read returns a certain number of characters from the file. What constitutes a “character” is determined by the file encoding or simply raw bytes if the file is opened in binary mode:"
   ]
  },
  {
   "cell_type": "code",
   "execution_count": 97,
   "id": "12431cfd-322b-427c-bf1d-44f78ab776ac",
   "metadata": {},
   "outputs": [],
   "source": [
    "f1 = open(path)"
   ]
  },
  {
   "cell_type": "code",
   "execution_count": 99,
   "id": "2b6b1268-2cd8-4907-a675-8bac20701ecc",
   "metadata": {},
   "outputs": [
    {
     "data": {
      "text/plain": [
       "'Sueña el r'"
      ]
     },
     "execution_count": 99,
     "metadata": {},
     "output_type": "execute_result"
    }
   ],
   "source": [
    "f1.read(10)"
   ]
  },
  {
   "cell_type": "code",
   "execution_count": 101,
   "id": "3d32b24d-fab6-4a0f-b3d9-3113f2a780ce",
   "metadata": {},
   "outputs": [],
   "source": [
    "f2 = open(path, mode=\"rb\")  # Binary mode"
   ]
  },
  {
   "cell_type": "code",
   "execution_count": 103,
   "id": "9a252d17-0263-44d0-8587-477876555ca5",
   "metadata": {},
   "outputs": [
    {
     "data": {
      "text/plain": [
       "b'Sue\\xc3\\xb1a el '"
      ]
     },
     "execution_count": 103,
     "metadata": {},
     "output_type": "execute_result"
    }
   ],
   "source": [
    "f2.read(10)"
   ]
  },
  {
   "cell_type": "markdown",
   "id": "1ae10e49-c247-4ff6-8876-971b346fb986",
   "metadata": {},
   "source": [
    "The read method advances the file object position by the number of bytes read. tell gives you the current position:"
   ]
  },
  {
   "cell_type": "code",
   "execution_count": 106,
   "id": "c67e7c58-d4eb-4542-b24a-5e0751d50fb9",
   "metadata": {},
   "outputs": [
    {
     "data": {
      "text/plain": [
       "11"
      ]
     },
     "execution_count": 106,
     "metadata": {},
     "output_type": "execute_result"
    }
   ],
   "source": [
    "f1.tell()"
   ]
  },
  {
   "cell_type": "code",
   "execution_count": 108,
   "id": "2d494fa1-4d49-412e-8a4c-2f9020edb164",
   "metadata": {},
   "outputs": [
    {
     "data": {
      "text/plain": [
       "10"
      ]
     },
     "execution_count": 108,
     "metadata": {},
     "output_type": "execute_result"
    }
   ],
   "source": [
    "f2.tell()"
   ]
  },
  {
   "cell_type": "markdown",
   "id": "80d86a13-f7a9-41e3-b39c-b6e494cf519a",
   "metadata": {},
   "source": [
    "Even though we read 10 characters from the file f1 opened in text mode, the position is 11 because it took that many bytes to decode 10 characters using the default encoding. You can check the default encoding in the sys module:"
   ]
  },
  {
   "cell_type": "code",
   "execution_count": 111,
   "id": "acf2c77c-39a7-4bea-96d0-fef2152a80e7",
   "metadata": {},
   "outputs": [
    {
     "data": {
      "text/plain": [
       "'utf-8'"
      ]
     },
     "execution_count": 111,
     "metadata": {},
     "output_type": "execute_result"
    }
   ],
   "source": [
    "import sys\n",
    "sys.getdefaultencoding()"
   ]
  },
  {
   "cell_type": "markdown",
   "id": "3e093a0d-5f97-43c1-b409-12bc96bd986e",
   "metadata": {},
   "source": [
    "To get consistent behavior across platforms, it is best to pass an encoding (such as encoding=\"utf-8\", which is widely used) when opening files."
   ]
  },
  {
   "cell_type": "markdown",
   "id": "f3b5013f-a607-4bff-914f-be36ce547a23",
   "metadata": {},
   "source": [
    "seek changes the file position to the indicated byte in the file:"
   ]
  },
  {
   "cell_type": "code",
   "execution_count": 115,
   "id": "42ff68f1-81c0-4406-93fb-669cf44c6733",
   "metadata": {},
   "outputs": [
    {
     "data": {
      "text/plain": [
       "5"
      ]
     },
     "execution_count": 115,
     "metadata": {},
     "output_type": "execute_result"
    }
   ],
   "source": [
    "f1.seek(3)\n",
    "\n",
    "f1.read(1)\n",
    "\n",
    "f1.tell()"
   ]
  },
  {
   "cell_type": "markdown",
   "id": "766cb99e-2b07-493f-94ff-0c11f415b1e4",
   "metadata": {},
   "source": [
    "Lastly, we remember to close the files:"
   ]
  },
  {
   "cell_type": "code",
   "execution_count": 118,
   "id": "d56a345c-cab0-46dc-9e15-470c93d88745",
   "metadata": {},
   "outputs": [],
   "source": [
    "f1.close()\n",
    "f2.close()"
   ]
  },
  {
   "cell_type": "markdown",
   "id": "f7b2fa6b-133b-463c-b339-77bf7d1c9111",
   "metadata": {},
   "source": [
    "To write text to a file, you can use the file’s write or writelines methods. For example, we could create a version of examples/segismundo.txt with no blank lines like so:"
   ]
  },
  {
   "cell_type": "code",
   "execution_count": 121,
   "id": "d20c97d1-9ea5-4af2-ac58-c7274ec32953",
   "metadata": {},
   "outputs": [
    {
     "data": {
      "text/plain": [
       "['Sueña el rico en su riqueza,\\n',\n",
       " 'que más cuidados le ofrece;\\n',\n",
       " 'sueña el pobre que padece\\n',\n",
       " 'su miseria y su pobreza;\\n',\n",
       " 'sueña el que a medrar empieza,\\n',\n",
       " 'sueña el que afana y pretende,\\n',\n",
       " 'sueña el que agravia y ofende,\\n',\n",
       " 'y en el mundo, en conclusión,\\n',\n",
       " 'todos sueñan lo que son,\\n',\n",
       " 'aunque ninguno lo entiende.\\n']"
      ]
     },
     "execution_count": 121,
     "metadata": {},
     "output_type": "execute_result"
    }
   ],
   "source": [
    "path\n",
    "\n",
    "with open(\"tmp.txt\", mode=\"w\") as handle:\n",
    "    handle.writelines(x for x in open(path) if len(x) > 1)\n",
    "\n",
    "with open(\"tmp.txt\") as f:\n",
    "    lines = f.readlines()\n",
    "\n",
    "lines"
   ]
  },
  {
   "cell_type": "markdown",
   "id": "ebe29c5d-6d29-483b-bb96-d437434fc5b9",
   "metadata": {},
   "source": [
    "See Table 3-4 for many of the most commonly used file methods."
   ]
  },
  {
   "cell_type": "markdown",
   "id": "6c3f151f-71dc-488e-b352-93c7dbc33e91",
   "metadata": {},
   "source": [
    "### Table 3-4. Important Python file methods or attributes\n",
    "\n",
    "|Method/attribute|Description|\n",
    "|---|---|\n",
    "|read([size])|Return data from file as bytes or string depending on the file mode, with optional size argument indicating the number of bytes or string characters to read|\n",
    "|readable()|Return True if the file supports read operations|\n",
    "|readlines([size])|Return list of lines in the file, with optional size argument|\n",
    "|write(string)|Write passed string to file|\n",
    "|writable()|Return True if the file supports write operations|\n",
    "|writelines(strings)|Write passed sequence of strings to the file|\n",
    "|close()|Close the file object|\n",
    "|flush()|Flush the internal I/O buffer to disk|\n",
    "|seek(pos)|Move to indicated file position (integer)|\n",
    "|seekable()|Return True if the file object supports seeking and thus random access (some file-like objects do not)|\n",
    "|tell()|Return current file position as integer|\n",
    "|closed|True if the file is closed|\n",
    "|encoding|The encoding used to interpret bytes in the file as Unicode (typically UTF-8)|"
   ]
  },
  {
   "cell_type": "markdown",
   "id": "dcb9c676-54c9-4a58-8838-525ca604d0e0",
   "metadata": {},
   "source": [
    "## Bytes and Unicode with Files"
   ]
  },
  {
   "cell_type": "markdown",
   "id": "b0bf3800-ea3f-4749-ad2d-c9df40010392",
   "metadata": {},
   "source": [
    "The default behavior for Python files (whether readable or writable) is text mode, which means that you intend to work with Python strings (i.e., Unicode). This contrasts with binary mode, which you can obtain by appending b to the file mode. Revisiting the file (which contains non-ASCII characters with UTF-8 encoding) from the previous section, we have:"
   ]
  },
  {
   "cell_type": "code",
   "execution_count": 127,
   "id": "98064b40-433f-4501-aee7-31505a84e095",
   "metadata": {},
   "outputs": [],
   "source": [
    "with open(path) as f:\n",
    "    chars = f.read(10)"
   ]
  },
  {
   "cell_type": "code",
   "execution_count": 129,
   "id": "eba5f9e0-9f47-4118-ac8f-da8ed102b974",
   "metadata": {},
   "outputs": [
    {
     "data": {
      "text/plain": [
       "'Sueña el r'"
      ]
     },
     "execution_count": 129,
     "metadata": {},
     "output_type": "execute_result"
    }
   ],
   "source": [
    "chars"
   ]
  },
  {
   "cell_type": "code",
   "execution_count": 131,
   "id": "94f72eee-6356-4007-8bcf-826be120011f",
   "metadata": {},
   "outputs": [
    {
     "data": {
      "text/plain": [
       "10"
      ]
     },
     "execution_count": 131,
     "metadata": {},
     "output_type": "execute_result"
    }
   ],
   "source": [
    "len(chars)"
   ]
  },
  {
   "cell_type": "markdown",
   "id": "28802a54-ffd1-41f4-b25e-b2a6836388fa",
   "metadata": {},
   "source": [
    "UTF-8 is a variable-length Unicode encoding, so when I request some number of characters from the file, Python reads enough bytes (which could be as few as 10 or as many as 40 bytes) from the file to decode that many characters. If I open the file in \"rb\" mode instead, read requests that exact number of bytes:"
   ]
  },
  {
   "cell_type": "code",
   "execution_count": 134,
   "id": "c01c0f99-0fa2-4fed-9c60-7aa37400cb0d",
   "metadata": {},
   "outputs": [],
   "source": [
    "with open(path, mode=\"rb\") as f:\n",
    "    data = f.read(10)"
   ]
  },
  {
   "cell_type": "code",
   "execution_count": 136,
   "id": "89b44351-4a77-4fda-8699-48394d01659b",
   "metadata": {},
   "outputs": [
    {
     "data": {
      "text/plain": [
       "b'Sue\\xc3\\xb1a el '"
      ]
     },
     "execution_count": 136,
     "metadata": {},
     "output_type": "execute_result"
    }
   ],
   "source": [
    "data"
   ]
  },
  {
   "cell_type": "markdown",
   "id": "0c504c09-458c-455d-9f55-65333b879569",
   "metadata": {},
   "source": [
    "Depending on the text encoding, you may be able to decode the bytes to a str object yourself, but only if each of the encoded Unicode characters is fully formed:"
   ]
  },
  {
   "cell_type": "code",
   "execution_count": 139,
   "id": "c21c5574-d041-4c4a-9bd1-409ce860ced0",
   "metadata": {},
   "outputs": [
    {
     "data": {
      "text/plain": [
       "'Sueña el '"
      ]
     },
     "execution_count": 139,
     "metadata": {},
     "output_type": "execute_result"
    }
   ],
   "source": [
    "data.decode(\"utf-8\")"
   ]
  },
  {
   "cell_type": "code",
   "execution_count": 141,
   "id": "2ed0a122-c9df-4969-b047-5242c1e53e47",
   "metadata": {},
   "outputs": [
    {
     "ename": "UnicodeDecodeError",
     "evalue": "'utf-8' codec can't decode byte 0xc3 in position 3: unexpected end of data",
     "output_type": "error",
     "traceback": [
      "\u001b[0;31m---------------------------------------------------------------------------\u001b[0m",
      "\u001b[0;31mUnicodeDecodeError\u001b[0m                        Traceback (most recent call last)",
      "Cell \u001b[0;32mIn[141], line 1\u001b[0m\n\u001b[0;32m----> 1\u001b[0m data[:\u001b[38;5;241m4\u001b[39m]\u001b[38;5;241m.\u001b[39mdecode(\u001b[38;5;124m\"\u001b[39m\u001b[38;5;124mutf-8\u001b[39m\u001b[38;5;124m\"\u001b[39m)\n",
      "\u001b[0;31mUnicodeDecodeError\u001b[0m: 'utf-8' codec can't decode byte 0xc3 in position 3: unexpected end of data"
     ]
    }
   ],
   "source": [
    "data[:4].decode(\"utf-8\")"
   ]
  },
  {
   "cell_type": "markdown",
   "id": "8005665c-94ad-4a0d-a743-03820a10e747",
   "metadata": {},
   "source": [
    "Text mode, combined with the encoding option of open, provides a convenient way to convert from one Unicode encoding to another:"
   ]
  },
  {
   "cell_type": "code",
   "execution_count": 156,
   "id": "2ce36142-5a04-4fe8-90e8-dd973985187a",
   "metadata": {},
   "outputs": [],
   "source": [
    "sink_path = \"sink.txt\"\n",
    "!rm sink.txt\n",
    "\n",
    "with open(path) as source:\n",
    "    with open(sink_path, \"x\", encoding=\"iso-8859-1\") as sink:\n",
    "        sink.write(source.read())"
   ]
  },
  {
   "cell_type": "code",
   "execution_count": 158,
   "id": "0af2d29e-6aab-4dd1-8dad-f7894b5775c7",
   "metadata": {},
   "outputs": [
    {
     "name": "stdout",
     "output_type": "stream",
     "text": [
      "Sueña el r\n"
     ]
    }
   ],
   "source": [
    "with open(sink_path, encoding=\"iso-8859-1\") as f:\n",
    "    print(f.read(10))"
   ]
  },
  {
   "cell_type": "markdown",
   "id": "87a7aa1c-d246-4b6f-bec5-995dfbda35e5",
   "metadata": {},
   "source": [
    "Beware using seek when opening files in any mode other than binary. If the file position falls in the middle of the bytes defining a Unicode character, then subsequent reads will result in an error:"
   ]
  },
  {
   "cell_type": "code",
   "execution_count": 161,
   "id": "99f5b19f-95c5-4639-9011-8846a40c30b1",
   "metadata": {},
   "outputs": [],
   "source": [
    "f = open(path, encoding='utf-8')"
   ]
  },
  {
   "cell_type": "code",
   "execution_count": 163,
   "id": "5052426b-b838-469b-bc65-437cfbf372a7",
   "metadata": {},
   "outputs": [
    {
     "data": {
      "text/plain": [
       "'Sueña'"
      ]
     },
     "execution_count": 163,
     "metadata": {},
     "output_type": "execute_result"
    }
   ],
   "source": [
    "f.read(5)"
   ]
  },
  {
   "cell_type": "code",
   "execution_count": 165,
   "id": "ed02e696-1745-426b-9e7f-9b3aec5ea720",
   "metadata": {},
   "outputs": [
    {
     "data": {
      "text/plain": [
       "4"
      ]
     },
     "execution_count": 165,
     "metadata": {},
     "output_type": "execute_result"
    }
   ],
   "source": [
    "f.seek(4)"
   ]
  },
  {
   "cell_type": "code",
   "execution_count": 167,
   "id": "470aa460-6a8e-41d4-a933-cfd1c7d9cdb9",
   "metadata": {},
   "outputs": [
    {
     "ename": "UnicodeDecodeError",
     "evalue": "'utf-8' codec can't decode byte 0xb1 in position 0: invalid start byte",
     "output_type": "error",
     "traceback": [
      "\u001b[0;31m---------------------------------------------------------------------------\u001b[0m",
      "\u001b[0;31mUnicodeDecodeError\u001b[0m                        Traceback (most recent call last)",
      "Cell \u001b[0;32mIn[167], line 1\u001b[0m\n\u001b[0;32m----> 1\u001b[0m f\u001b[38;5;241m.\u001b[39mread(\u001b[38;5;241m1\u001b[39m)\n",
      "File \u001b[0;32m<frozen codecs>:322\u001b[0m, in \u001b[0;36mdecode\u001b[0;34m(self, input, final)\u001b[0m\n",
      "\u001b[0;31mUnicodeDecodeError\u001b[0m: 'utf-8' codec can't decode byte 0xb1 in position 0: invalid start byte"
     ]
    }
   ],
   "source": [
    "f.read(1)"
   ]
  },
  {
   "cell_type": "markdown",
   "id": "ca67b6c6-036c-4864-944e-86dbd562a50b",
   "metadata": {},
   "source": [
    "If you find yourself regularly doing data analysis on non-ASCII text data, mastering Python’s Unicode functionality will prove valuable. See Python’s online documentation for much more."
   ]
  },
  {
   "cell_type": "markdown",
   "id": "941a050d-07e1-4750-a2be-41bb9d06d418",
   "metadata": {},
   "source": [
    "# 3.4 Conclusion"
   ]
  },
  {
   "cell_type": "markdown",
   "id": "6deab3cf-760b-493a-a55e-40a225265f24",
   "metadata": {},
   "source": [
    "With some of the basics of the Python environment and language now under your belt, it is time to move on and learn about NumPy and array-oriented computing in Python."
   ]
  }
 ],
 "metadata": {
  "kernelspec": {
   "display_name": "Python [conda env:base] *",
   "language": "python",
   "name": "conda-base-py"
  },
  "language_info": {
   "codemirror_mode": {
    "name": "ipython",
    "version": 3
   },
   "file_extension": ".py",
   "mimetype": "text/x-python",
   "name": "python",
   "nbconvert_exporter": "python",
   "pygments_lexer": "ipython3",
   "version": "3.12.7"
  }
 },
 "nbformat": 4,
 "nbformat_minor": 5
}
