{
 "cells": [
  {
   "cell_type": "markdown",
   "id": "1eecf9e8-9af2-4638-8751-c0a0ae8398eb",
   "metadata": {},
   "source": [
    "# Markdown"
   ]
  },
  {
   "cell_type": "markdown",
   "id": "83c78f5a-805d-49e3-87d6-1907936f7977",
   "metadata": {},
   "source": [
    "Markdown is a lightweight markup language that you can use to add formatting elements to plaintext text documents. Created by John Gruber in 2004, Markdown is now one of the world’s most popular markup languages."
   ]
  },
  {
   "cell_type": "markdown",
   "id": "474bc6a4-96a8-4cb2-9719-761ababa81b5",
   "metadata": {},
   "source": [
    "# Headings"
   ]
  },
  {
   "cell_type": "markdown",
   "id": "7553d13e-4dca-421b-b215-c0c42189c4c9",
   "metadata": {},
   "source": [
    "The Headings starts with '#,' i.e., hash symbol followed by the space, and there are six Headings with the largest heading only using one hash symbol and the smallest titles using six hash symbols."
   ]
  },
  {
   "cell_type": "raw",
   "id": "ff64c34e-27a2-4bc3-9f90-8695adf172f0",
   "metadata": {},
   "source": [
    "# (Header 1, title)\n",
    "## (Header 2, major headings)\n",
    "### (Header 3, subheadings)\n",
    "#### (Header 4)\n",
    "##### (Header 5)\n",
    "###### (Header 6)"
   ]
  },
  {
   "cell_type": "markdown",
   "id": "8349c72b-0866-4fb1-8234-87dc0332ec25",
   "metadata": {},
   "source": [
    "# (Header 1, title)\n",
    "## (Header 2, major headings)\n",
    "### (Header 3, subheadings)\n",
    "#### (Header 4)\n",
    "##### (Header 5)\n",
    "###### (Header 6)"
   ]
  },
  {
   "cell_type": "markdown",
   "id": "db0ec5dc-6814-4926-a4ca-add964e3b8ef",
   "metadata": {},
   "source": [
    "Alternatively, the headings can start with Markup Tags, i.e., from h1 to h6 with the following syntaxes."
   ]
  },
  {
   "cell_type": "raw",
   "id": "fb0288cf-7ca9-4e60-8b5e-9957ec85dd81",
   "metadata": {},
   "source": [
    "<h1>Header 1,title</h1>\n",
    "<h2>Header 2,major headings</h2>\n",
    "<h3>Header 3,subheadings</h3>\n",
    "<h4>Header 4</h4>\n",
    "<h5>Header 5</h5>\n",
    "<h6>Header 6</h6>"
   ]
  },
  {
   "cell_type": "markdown",
   "id": "e9ec7f61-61bb-4628-bf92-d329980c0438",
   "metadata": {},
   "source": [
    "Both of the syntaxes above can render the headings from h1 to h6 after clicking the 'Run' in the toolbar."
   ]
  },
  {
   "cell_type": "markdown",
   "id": "4971a231-3684-410f-a99e-9e84e688db94",
   "metadata": {},
   "source": [
    "<h1> Header 1,title </h1>\n",
    "<h2>Header 2,major headings</h2>\n",
    "<h3>Header 3,subheadings</h3>\n",
    "<h4>Header 4</h4>\n",
    "<h5>Header 5</h5>\n",
    "<h6>Header 6</h6>"
   ]
  },
  {
   "cell_type": "markdown",
   "id": "ee2f57d1-966a-447d-803f-81f5c3295971",
   "metadata": {},
   "source": [
    "# Blockquotes"
   ]
  },
  {
   "cell_type": "raw",
   "id": "c637feb1-5d48-4230-b251-9b7c82ad0c8a",
   "metadata": {},
   "source": [
    "Blockquotes can hold the large chunk of text and are generally indented. They can be obtained by using Markdown symbol '>' or with <blockquote>text for blockquote</blockquote>"
   ]
  },
  {
   "cell_type": "raw",
   "id": "aca5b104-c0c2-405c-83b9-57883ebda7aa",
   "metadata": {},
   "source": [
    ">This is good\n",
    "\n",
    "<blockquote>This is good</blockquote>"
   ]
  },
  {
   "cell_type": "markdown",
   "id": "75c854b4-f4e5-44c9-bc82-1bf129671742",
   "metadata": {},
   "source": [
    "Both of the syntaxes above can render the text in indented form after clicking 'Run' in the toolbar."
   ]
  },
  {
   "cell_type": "markdown",
   "id": "cc781073-2a3b-4595-93f4-95adf88f8c3f",
   "metadata": {},
   "source": [
    ">This is good\n",
    "\n",
    "<blockquote>This is good</blockquote>"
   ]
  },
  {
   "cell_type": "markdown",
   "id": "cf3372e7-3431-4453-834a-1057c8792e51",
   "metadata": {},
   "source": [
    "# Indentation"
   ]
  },
  {
   "cell_type": "markdown",
   "id": "866efff2-425c-4e20-a0c0-98310ae9e131",
   "metadata": {},
   "source": [
    "> level 1 indent\n",
    "> > level 2 indent\n",
    "> > > level 3 indent"
   ]
  },
  {
   "cell_type": "markdown",
   "id": "ede892aa-6347-49ff-9f4e-eac0abe81ba5",
   "metadata": {},
   "source": [
    "# Code Section\n"
   ]
  },
  {
   "cell_type": "markdown",
   "id": "85df21f1-9cfc-4aa2-8c95-6a9c0746006d",
   "metadata": {},
   "source": [
    "The Code section is the part that specifies the code of different programming languages and can be rendered where inline code starts with ' `inline code goes here` ' back-ticks around it, but the block of code starts with three back-ticks ' ``` block line code goes here ``` '. Also,the Markup tag for a Code section is ' <code>code goes here<code> '.\n",
    "\n",
    "The inline code example is given below:\n",
    "`x =5`\n",
    "\n",
    "You can see after clicking \"Run\" the inline code renders with highlighting the code."
   ]
  },
  {
   "cell_type": "raw",
   "id": "139478a3-8613-4d54-b257-44ae93721d7e",
   "metadata": {},
   "source": [
    "Code section examples are given below:\n",
    "\n",
    "Using Markdown\n",
    "```Python\n",
    "str = \"This is block level code\"\n",
    "print(str)\n",
    "```\n",
    "Using Markup Tags\n",
    "<code>Python\n",
    "str = \"This is a block level code\"\n",
    "print(str)\n",
    "</code>\n"
   ]
  },
  {
   "cell_type": "markdown",
   "id": "b0d30b9b-89bf-498c-b113-415171864b0b",
   "metadata": {},
   "source": [
    "Code section examples are given below:\n",
    "\n",
    "Using Markdown\n",
    "```Python\n",
    "str = \"This is block level code\"\n",
    "print(str)\n",
    "```\n",
    "Using Markup Tags\n",
    "\n",
    "<code>Python\n",
    "str = \"This is a block level code\"\n",
    "print(str)\n",
    "</code>"
   ]
  },
  {
   "cell_type": "markdown",
   "id": "def03664-ea18-4da3-b24c-e72170723ea6",
   "metadata": {},
   "source": [
    "# Colored Note Boxes"
   ]
  },
  {
   "cell_type": "markdown",
   "id": "440bc3a2-5391-429b-b557-95cecccdbf7f",
   "metadata": {},
   "source": [
    "<div class=\"alert alert-block alert-info\">\n",
    "   <b> This is a blue info box </b>\n",
    "</div>"
   ]
  },
  {
   "cell_type": "markdown",
   "id": "2e314c40-9b91-4aa2-ae16-6805d0c6f301",
   "metadata": {},
   "source": [
    "<div class=\"alert alert-block alert-warning\">\n",
    "   <b> This is a yellow warning box </b>\n",
    "</div>"
   ]
  },
  {
   "cell_type": "markdown",
   "id": "e4b54398-e638-4203-9697-1d7d2d327750",
   "metadata": {},
   "source": [
    "<div class=\"alert alert-block alert-danger\">\n",
    "   <b> This is a red danger box </b>\n",
    "</div>"
   ]
  },
  {
   "cell_type": "markdown",
   "id": "318e08e9-5684-41e4-995c-8e3f82bcf139",
   "metadata": {},
   "source": [
    "<div class=\"alert alert-block alert-success\">\n",
    "   <b> This is a green success box </b>\n",
    "</div>"
   ]
  },
  {
   "cell_type": "markdown",
   "id": "e427fa60-a5a7-43f0-91ec-bc00f4019ddc",
   "metadata": {},
   "source": [
    "# Mathematical Symbols"
   ]
  },
  {
   "cell_type": "markdown",
   "id": "7f203b22-3e20-408e-a1e3-5636813ed236",
   "metadata": {},
   "source": [
    "The mathematical symbol in Markdown is included in '\\$ mathematical expression goes here \\$' enclosed in a dollar symbol and in Markup you can follow this link for more detail: Mathematical Operators. You can see the example of using the mathematical symbols below."
   ]
  },
  {
   "cell_type": "raw",
   "id": "c9b169f1-4501-49e5-9cc9-e8cdb6e1eb5e",
   "metadata": {},
   "source": [
    "\\$ \\sqrt{k} $"
   ]
  },
  {
   "cell_type": "markdown",
   "id": "bf6d7b7c-4580-4b85-8c82-087eff3ec7d9",
   "metadata": {},
   "source": [
    "The above example will render the mathematical expression in a bold format."
   ]
  },
  {
   "cell_type": "markdown",
   "id": "00d91206-57da-4309-b03f-2a0fc6394d93",
   "metadata": {},
   "source": [
    "\\$ \\sqrt{k} $"
   ]
  },
  {
   "cell_type": "markdown",
   "id": "a6d0af45-008c-4f9d-8563-e50d2f52669a",
   "metadata": {},
   "source": [
    "# LaTeX equations"
   ]
  },
  {
   "cell_type": "markdown",
   "id": "3cb59fcc-7ca4-4873-b71e-323cf17f20ff",
   "metadata": {},
   "source": [
    "LateX style symbols and equations can be displayed both inline: $e^{i\\pi} + 1 = 0$"
   ]
  },
  {
   "cell_type": "markdown",
   "id": "db8d56aa-0395-403c-acde-5d54da3dc12d",
   "metadata": {},
   "source": [
    "And in their own cell:"
   ]
  },
  {
   "cell_type": "raw",
   "id": "d19f9f4a-139d-4604-a926-1afd76ed7d51",
   "metadata": {},
   "source": [
    "\\begin{equation}\n",
    "e^x=\\sum_{i=0}^\\infty \\frac{1}{i!}x^i\n",
    "\\end{equation}"
   ]
  },
  {
   "cell_type": "markdown",
   "id": "2d536c5e-38ad-4a20-8fac-4c9721cd5457",
   "metadata": {},
   "source": [
    "\\begin{equation}\n",
    "e^x=\\sum_{i=0}^\\infty \\frac{1}{i!}x^i\n",
    "\\end{equation}"
   ]
  },
  {
   "cell_type": "markdown",
   "id": "a45bc1e1-3238-47dc-815b-b8d938822403",
   "metadata": {},
   "source": [
    "# Line Break"
   ]
  },
  {
   "cell_type": "markdown",
   "id": "84f3373e-1531-47c1-8b8d-0915e499c34c",
   "metadata": {},
   "source": [
    "The line break tag starts with <br> tag with no closing tag which breaks the line, and the remaining contents begin with a new line with the example shown below."
   ]
  },
  {
   "cell_type": "markdown",
   "id": "3faab2e9-cdda-4661-b313-c115fcbad1fb",
   "metadata": {},
   "source": [
    "# Bold and Italic Text"
   ]
  },
  {
   "cell_type": "markdown",
   "id": "83252118-e107-42f5-bed5-219981466677",
   "metadata": {},
   "source": [
    "You can use <b> tags, '**' i.e. 'double asterisk' or '__' i.e. 'double underscore' to get bold text with the following syntax.\n",
    "\n",
    "<b>This is bold text</b>\n",
    "\n",
    "** This is bold text\n",
    "\n",
    "__ This is bold text\n"
   ]
  },
  {
   "cell_type": "markdown",
   "id": "ead85998-9c22-41c5-8e45-a3ed00d36f7d",
   "metadata": {},
   "source": [
    "You can use <i> tags, '*' i.e., single asterisk or '_' i.e., single underscore to get the italic text for the following syntax.\n",
    "\n",
    "<i>This is italic text </i>\n",
    "\n",
    "** This is italic text\n",
    "\n",
    "_ This is italic text"
   ]
  },
  {
   "cell_type": "markdown",
   "id": "e1248bf8-1a43-4c82-aca7-c4d9d7b2f73d",
   "metadata": {},
   "source": [
    "# Horizontal Line"
   ]
  },
  {
   "cell_type": "markdown",
   "id": "2b3fe2c5-f58e-4978-a248-af01b9f6c5f1",
   "metadata": {},
   "source": [
    "You can obtain a horizontal line by using Markdown '---' three hyphens or Markup tags <hr>"
   ]
  },
  {
   "cell_type": "markdown",
   "id": "9715a80f-8637-43f9-ac69-456af9a8e640",
   "metadata": {},
   "source": [
    "# Ordered List"
   ]
  },
  {
   "cell_type": "markdown",
   "id": "cb2ce019-4932-45a2-ae8e-8634283d9018",
   "metadata": {},
   "source": [
    "The Ordered List is the numbered list which is obtained by starting <ol> tag and ending with </ol> tag with the required item in between <li> and </li> tags. The tag, i.e., 'ol,' is the short form for an ordered list and 'li' is the short form for the list item. For example, you can see the Ordered List below containing the item for the grocery list.\n",
    "\n",
    "<ol>\n",
    "<li>Fish</li>\n",
    "<li>Eggs</li>\n",
    "<li>Cheese</li>\n",
    "</ol>\n",
    "\n",
    "Alternatively, you can list by '1. ' i.e., the required number followed by space with the example given below.\n",
    "\n",
    "1. Fish\n",
    "2. Eggs\n",
    "3. Cheese"
   ]
  },
  {
   "cell_type": "markdown",
   "id": "09e6c5ac-6e52-41a1-9b27-8de118aafd36",
   "metadata": {},
   "source": [
    "# Unordered List"
   ]
  },
  {
   "cell_type": "raw",
   "id": "dab011c5-c70e-4c5a-882e-f2bb48abeb43",
   "metadata": {},
   "source": [
    "The Unordered list is a bullet list which is obtained by using the <ul> tag and ending with the </ul> tag, see the example below:"
   ]
  },
  {
   "cell_type": "markdown",
   "id": "5cd39289-1869-4f2f-870e-ccff4ae06027",
   "metadata": {},
   "source": [
    "<ul>\n",
    "<li>Fish</li>\n",
    "<li>Eggs</li>\n",
    "<li>Cheese</li>\n",
    "</ul>"
   ]
  },
  {
   "cell_type": "markdown",
   "id": "bcb05444-bacf-42e5-a03e-0e5cfbd611aa",
   "metadata": {},
   "source": [
    "Alternatively, the Unordered list can start with the '-' symbol with space, which gives the black circle symbol and can also start with the '*' symbol with space, which gives the black square symbol."
   ]
  },
  {
   "cell_type": "markdown",
   "id": "c772076e-93b8-43df-b8a7-207578a3cc15",
   "metadata": {},
   "source": [
    "-   Fish\n",
    "-   Eggs\n",
    "-   Cheese"
   ]
  },
  {
   "cell_type": "markdown",
   "id": "2ad3a500-fe10-48cc-ad85-33436a753d57",
   "metadata": {},
   "source": [
    "The above example shows the bullet list contains the '-' symbol followed by space with the items which gives the black circle symbol."
   ]
  },
  {
   "cell_type": "markdown",
   "id": "fd84537a-dd84-487e-bee9-b703726479af",
   "metadata": {},
   "source": [
    "# Internal and External Link"
   ]
  },
  {
   "cell_type": "raw",
   "id": "abd29d9c-7e50-4928-99e8-f2717bebdea6",
   "metadata": {},
   "source": [
    "Internal Link in Markdown starts with <a> tag with unique id defined by the attribute 'id' which can be linked in the notebook with the example below:"
   ]
  },
  {
   "cell_type": "markdown",
   "id": "3174bbd6-543c-403d-a325-3fb0deac1aa9",
   "metadata": {},
   "source": [
    "<a id = \"division_ID\" linked section></a>"
   ]
  },
  {
   "cell_type": "markdown",
   "id": "fe8a76c5-c171-4564-b7fc-67b19d54bc46",
   "metadata": {},
   "source": [
    "Also, the id defined above can be linked to the section of the notebook by following the code which makes the link clickable."
   ]
  },
  {
   "cell_type": "markdown",
   "id": "81a4ac67-e386-48e5-9a05-852bda65656f",
   "metadata": {},
   "source": [
    "[Section title](#division_ID)"
   ]
  },
  {
   "cell_type": "markdown",
   "id": "2e3d850c-9237-4f82-8682-92849c807c08",
   "metadata": {},
   "source": [
    "External Link in Markdown starts with <a> and ends with <a> tag, i.e., <a> stands for anchor which defines the link, and it has attribute 'href' also called as hyper reference which contains the destination address of the link or URL and texts between tags is visible and is clickable to open the destination address as shown below."
   ]
  },
  {
   "cell_type": "markdown",
   "id": "32f031b0-7263-405f-ab78-c7144a642220",
   "metadata": {},
   "source": [
    "<a> href=\"https://www.google.com\" >Link to Google</a>"
   ]
  },
  {
   "cell_type": "raw",
   "id": "12ce234f-c875-4a30-87d0-0c868b486130",
   "metadata": {},
   "source": [
    "Alternatively, it could also start with the __[text link](URL for the site)__ where the double underscore is on both sides with the text link enclosed in a square bracket and the URL for the site is enclosed in a parenthesis followed by the URL."
   ]
  },
  {
   "cell_type": "markdown",
   "id": "43ec00e8-3503-4b89-b467-0d32b04fe175",
   "metadata": {},
   "source": [
    "__[Link to Google](https://www.google.com)__"
   ]
  },
  {
   "cell_type": "markdown",
   "id": "999090e3-ef34-46d6-a2f6-e7a08436a048",
   "metadata": {},
   "source": [
    "# Table"
   ]
  },
  {
   "cell_type": "markdown",
   "id": "aa96d74f-a5e6-4545-b5d7-339755caf95d",
   "metadata": {},
   "source": [
    "The Table contains the information in rows and columns and is built by the combination of '|' i.e. 'vertical pipe' to separate each column and '-' i.e., hyphen symbol to create the header where the blank line, i.e., a combination of vertical pipe and dashes to render the table format.\n",
    "\n",
    "Also, you can vary the cells by roughly aligning with the columns, and the notebook will automatically resize the content in the given cell.\n",
    "\n",
    "|Name|Address|Salary| \n",
    "|-----|-------|------| \n",
    "|Hanna|Brisbane|4000| \n",
    "|Adam|Sydney|5000|\n",
    "\n",
    "Alternatively, the Markdown can be used to build tables where < table > is used to define a table with its width in percentages.<tr> sets table row which gives the bold with centered text along with table heading is described by <th> is at the top of the table with the other entries in the table are set by the <td> i.e., table data tag.\n",
    "\n"
   ]
  },
  {
   "cell_type": "markdown",
   "id": "11a81f7e-e615-426b-ba1d-fa56b52aeea9",
   "metadata": {},
   "source": [
    "|Name|Address|Salary| \n",
    "|-----|-------|------| \n",
    "|Hanna|Brisbane|4000| \n",
    "|Adam|Sydney|5000|"
   ]
  },
  {
   "cell_type": "markdown",
   "id": "8574bb00-557a-4869-b63c-d228ac8d45a7",
   "metadata": {},
   "source": [
    "<table style=\"width:20%\">\n",
    "<tr>\n",
    "<th>Name</th>\n",
    "<th>Address</th>\n",
    "<th>Salary</th>\n",
    "</tr>\n",
    "<tr>\n",
    "<td>Hanna</td>\n",
    "<td>Brisbane</td>\n",
    "<td>4000</td>\n",
    "</tr>\n",
    "<tr>\n",
    "<td>Adam</td>\n",
    "<td>Sydney</td>\n",
    "<td>5000</td>\n",
    "</tr>\n",
    "</table>"
   ]
  },
  {
   "cell_type": "markdown",
   "id": "1495f422-d7c2-4724-aea9-bfec5d45bf77",
   "metadata": {},
   "source": [
    "# Images"
   ]
  },
  {
   "cell_type": "raw",
   "id": "b61fab48-a188-4808-8858-3c363c69b187",
   "metadata": {},
   "source": [
    "The image can contain Markdown tag <img> with source, i.e.src as an attribute which consists the link to image with optional properties like width and height, and the example of it is below."
   ]
  },
  {
   "cell_type": "markdown",
   "id": "bf20980d-4ab3-4198-b86c-48d460af2bee",
   "metadata": {},
   "source": [
    "<img src=\"https://i.imgur.com/WWrydEh.png\" height=\"500\" width=\"500\">"
   ]
  },
  {
   "cell_type": "markdown",
   "id": "60545f52-0051-46a8-ae3e-6acecd48019a",
   "metadata": {},
   "source": [
    "![sample image](https://i.imgur.com/WWrydEh.png \"image from URL\")"
   ]
  },
  {
   "cell_type": "code",
   "execution_count": null,
   "id": "7a15363b-b0d8-4e48-9285-0b80fc79ba12",
   "metadata": {},
   "outputs": [],
   "source": []
  }
 ],
 "metadata": {
  "kernelspec": {
   "display_name": "Python [conda env:base] *",
   "language": "python",
   "name": "conda-base-py"
  },
  "language_info": {
   "codemirror_mode": {
    "name": "ipython",
    "version": 3
   },
   "file_extension": ".py",
   "mimetype": "text/x-python",
   "name": "python",
   "nbconvert_exporter": "python",
   "pygments_lexer": "ipython3",
   "version": "3.12.7"
  }
 },
 "nbformat": 4,
 "nbformat_minor": 5
}
