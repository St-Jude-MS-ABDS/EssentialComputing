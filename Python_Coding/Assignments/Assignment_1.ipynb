{
 "cells": [
  {
   "cell_type": "markdown",
   "id": "f406c06e-5eca-49b5-af31-f9b8d22c2097",
   "metadata": {},
   "source": [
    "# Assignment 1: Chapters 1.1-1.3, 2.1-2.3 Python Basics and Markdown"
   ]
  },
  {
   "cell_type": "markdown",
   "id": "b9c9d533-fa60-4ab8-9906-3d75ac22e959",
   "metadata": {},
   "source": [
    "For this assignment, we will be covering topics from lectures 1 and 2: Python fundamentals and Markdown.\n",
    "\n",
    "Complete the code segments according to instructions and comment or answer questions using Markdown"
   ]
  },
  {
   "cell_type": "markdown",
   "id": "668dbd61-54a4-4bea-a4fd-8cc48e1f7bf2",
   "metadata": {},
   "source": [
    "## Topics Covered\n",
    "\n",
    "-  Why python?\n",
    "-  Markdown\n",
    "-  Language semantics\n",
    "-  functions\n",
    "-  Indentation\n",
    "-  Objects\n",
    "   -  Mutable and immutable\n",
    "-  Comments\n",
    "-  Variables\n",
    "   -  binding\n",
    "   -  type and casting\n",
    "   -  operations\n",
    "-  Scalar types\n",
    "-  Numeric types\n",
    "-  Strings\n",
    "   -  String ops\n",
    "-  print\n",
    "-  control flow\n",
    "   - if, elif, else\n",
    "   -  loops \n",
    "     -  for\n",
    "        -  range\n",
    "     -  while\n",
    "       \n"
   ]
  },
  {
   "cell_type": "markdown",
   "id": "0a788a42-b223-4d3a-b081-2d107459f3a7",
   "metadata": {},
   "source": [
    "## Question 1"
   ]
  },
  {
   "cell_type": "markdown",
   "id": "7575d45a-7eb0-4b9a-99d6-081a3c83f1d1",
   "metadata": {},
   "source": [
    "(Demonstrate understanding of the motivation for using Python)\n",
    "\n",
    "#### Using Markdown, answer the following questions\n",
    "\n",
    "What are the advantages of using Python for Data Science?\n",
    "\n",
    "In what scenarios would Python be less well suited?\n"
   ]
  },
  {
   "cell_type": "markdown",
   "id": "e09bdee3-9cf5-40f2-a5bc-cfa8eb71aec5",
   "metadata": {},
   "source": [
    "#### Solution"
   ]
  },
  {
   "cell_type": "code",
   "execution_count": null,
   "id": "b3dc534f-fcbd-4670-9861-a82eb5c02f1c",
   "metadata": {},
   "outputs": [],
   "source": []
  },
  {
   "cell_type": "markdown",
   "id": "2b917a78-75a1-4830-9bf3-36570b986a5c",
   "metadata": {},
   "source": [
    "## Question 2"
   ]
  },
  {
   "cell_type": "markdown",
   "id": "8655d956-5e71-4f6c-871f-d7c070bd0d00",
   "metadata": {},
   "source": [
    "(Understand variables as reference, and copy and comparison operators)\n",
    "\n",
    "What is the difference between <b>is</b> and <b>==</b> in Python?\n",
    "\n",
    "Give an example using Python code"
   ]
  },
  {
   "cell_type": "code",
   "execution_count": 70,
   "id": "2573c22a-cecf-4642-a10f-139200043b40",
   "metadata": {},
   "outputs": [
    {
     "name": "stdout",
     "output_type": "stream",
     "text": [
      "True\n",
      "False\n",
      "True\n"
     ]
    }
   ],
   "source": [
    "#Solution\n",
    "list1=[1,2,3,4]\n",
    "list2=list1\n",
    "list3=list1.copy()\n",
    "\n",
    "print(list1 is list2)\n",
    "print(list1 is list3)\n",
    "print(list1==list3)"
   ]
  },
  {
   "cell_type": "markdown",
   "id": "5906ca78-99b8-4528-97f3-a18c062dd466",
   "metadata": {},
   "source": [
    "## Question 3"
   ]
  },
  {
   "cell_type": "markdown",
   "id": "15ebee56-8321-48b8-899a-88f546884419",
   "metadata": {},
   "source": [
    "(Demonstrate understanding of Strings and string operations)\n",
    "\n",
    "What happens if you try to directly modify a character in a string? Why?\n",
    "\n",
    "Demonstrate with code example."
   ]
  },
  {
   "cell_type": "markdown",
   "id": "ac435394-3d7d-4dd5-ad72-f34ea5be5481",
   "metadata": {},
   "source": [
    "#### Solution\n",
    "A string is an immutable scalar object. The variable value can be replaced with a completely new string but the contents of the string cannot be modified.\n",
    "\n",
    "For example:"
   ]
  },
  {
   "cell_type": "code",
   "execution_count": 75,
   "id": "d2f4b4d6-a604-4372-b81a-04cb4edabda5",
   "metadata": {},
   "outputs": [],
   "source": [
    "mystring = \"this is an immutable object\""
   ]
  },
  {
   "cell_type": "code",
   "execution_count": 77,
   "id": "94c01a38-f487-4b1c-985a-0d12f88affb0",
   "metadata": {},
   "outputs": [
    {
     "ename": "TypeError",
     "evalue": "'str' object does not support item assignment",
     "output_type": "error",
     "traceback": [
      "\u001b[0;31m---------------------------------------------------------------------------\u001b[0m",
      "\u001b[0;31mTypeError\u001b[0m                                 Traceback (most recent call last)",
      "Cell \u001b[0;32mIn[77], line 1\u001b[0m\n\u001b[0;32m----> 1\u001b[0m mystring[\u001b[38;5;241m11\u001b[39m]\u001b[38;5;241m=\u001b[39m\u001b[38;5;124m\"\u001b[39m\u001b[38;5;124m \u001b[39m\u001b[38;5;124m\"\u001b[39m\n",
      "\u001b[0;31mTypeError\u001b[0m: 'str' object does not support item assignment"
     ]
    }
   ],
   "source": [
    "mystring[11]=\" \""
   ]
  },
  {
   "cell_type": "code",
   "execution_count": 79,
   "id": "93dd2b65-1410-4395-9489-aaee456c8536",
   "metadata": {},
   "outputs": [
    {
     "data": {
      "text/plain": [
       "'this is another immutable object'"
      ]
     },
     "execution_count": 79,
     "metadata": {},
     "output_type": "execute_result"
    }
   ],
   "source": [
    "newstring=mystring[:10]+\"other\"+mystring[10:]\n",
    "newstring"
   ]
  },
  {
   "cell_type": "markdown",
   "id": "a3c50c39-f4fd-475b-8ca8-62bc1092db3b",
   "metadata": {},
   "source": [
    "## Question 4"
   ]
  },
  {
   "cell_type": "markdown",
   "id": "59557fba-e550-446e-b503-d8a9a4d30e85",
   "metadata": {},
   "source": [
    "(Demonstrate understanding of loops, conditionals, datatypes, and scalar operations)\n",
    "\n",
    "Given a list of mixed element types, write code that uses control statements to sum the numeric values of the given list.\n",
    "\n",
    "Using Markdown, explain what you did and why your answer is correct."
   ]
  },
  {
   "cell_type": "code",
   "execution_count": 83,
   "id": "0b80e5b5-a033-485c-a7f6-ed9de944f7f6",
   "metadata": {},
   "outputs": [],
   "source": [
    "mixed_list=[1, \"2\", 3.5, True, 5, 6, [None, 4, \"foo\"], 7, 8//2, 9, 10]"
   ]
  },
  {
   "cell_type": "code",
   "execution_count": 85,
   "id": "2dcf9d25-471f-4158-9b1b-e1ef082a61b5",
   "metadata": {},
   "outputs": [
    {
     "name": "stdout",
     "output_type": "stream",
     "text": [
      "46.5\n"
     ]
    }
   ],
   "source": [
    "#Solution\n",
    "sum=0\n",
    "for element in mixed_list:\n",
    "    if isinstance(element, (int, float)):\n",
    "        #print(element)\n",
    "        sum += element\n",
    "\n",
    "print(sum)"
   ]
  },
  {
   "cell_type": "markdown",
   "id": "c1ca7b16-ef42-4c47-805f-57ef77def34a",
   "metadata": {},
   "source": [
    "## Question 5"
   ]
  },
  {
   "cell_type": "markdown",
   "id": "3ff304cf-4d90-4db1-9a05-ae253db22c59",
   "metadata": {},
   "source": [
    "(Understand string indexing, conditionals, loops, scalar operators)\n",
    "\n",
    "In bioinformatics, a k-mer is a substring of length k within a biological sequence, such as DNA or protein.\n",
    "\n",
    "For the given sequence, write code that prints all kmers of length 4 \n"
   ]
  },
  {
   "cell_type": "markdown",
   "id": "8ca0d8d1-3ff0-40e2-bc75-52f4e3679748",
   "metadata": {},
   "source": [
    "### For example:\n",
    "![](kmer_example.png)"
   ]
  },
  {
   "cell_type": "code",
   "execution_count": 90,
   "id": "dc3bbda7-4d40-4f94-99ec-75ce768b79de",
   "metadata": {},
   "outputs": [],
   "source": [
    "sequence=\"AGAACTTGAGGA\""
   ]
  },
  {
   "cell_type": "code",
   "execution_count": 92,
   "id": "a1a44bc6-63f5-4712-b92c-10796e0b317f",
   "metadata": {},
   "outputs": [
    {
     "name": "stdout",
     "output_type": "stream",
     "text": [
      "AGAA\n",
      "GAAC\n",
      "AACT\n",
      "ACTT\n",
      "CTTG\n",
      "TTGA\n",
      "TGAG\n",
      "GAGG\n",
      "AGGA\n"
     ]
    }
   ],
   "source": [
    "#Solution\n",
    "#find kmers of length 4\n",
    "k=4\n",
    "i=0\n",
    "while i <= len(sequence)-k :\n",
    "    print(sequence[i:i+k])\n",
    "    i+=1"
   ]
  }
 ],
 "metadata": {
  "kernelspec": {
   "display_name": "Python [conda env:base] *",
   "language": "python",
   "name": "conda-base-py"
  },
  "language_info": {
   "codemirror_mode": {
    "name": "ipython",
    "version": 3
   },
   "file_extension": ".py",
   "mimetype": "text/x-python",
   "name": "python",
   "nbconvert_exporter": "python",
   "pygments_lexer": "ipython3",
   "version": "3.12.7"
  }
 },
 "nbformat": 4,
 "nbformat_minor": 5
}
