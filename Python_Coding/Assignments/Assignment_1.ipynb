{
 "cells": [
  {
   "cell_type": "markdown",
   "id": "f406c06e-5eca-49b5-af31-f9b8d22c2097",
   "metadata": {},
   "source": [
    "# Assignment 1: Chapters 1.1-1.3, 2.1-2.3 Python Basics and Markdown"
   ]
  },
  {
   "cell_type": "markdown",
   "id": "b9c9d533-fa60-4ab8-9906-3d75ac22e959",
   "metadata": {},
   "source": [
    "For this assignment, we will be covering topics from lectures 1 and 2: Python fundamentals and Markdown.\n",
    "\n",
    "Complete the code segments according to instructions and comment or answer questions using Markdown"
   ]
  },
  {
   "cell_type": "markdown",
   "id": "668dbd61-54a4-4bea-a4fd-8cc48e1f7bf2",
   "metadata": {},
   "source": [
    "## Topics Covered\n",
    "\n",
    "-  Why python?\n",
    "-  Markdown\n",
    "-  Language semantics\n",
    "-  Functions\n",
    "-  Indentation\n",
    "-  Objects\n",
    "   -  Mutable and immutable\n",
    "-  Comments\n",
    "-  Variables\n",
    "   -  binding\n",
    "   -  type and casting\n",
    "   -  operations\n",
    "-  Scalar types\n",
    "-  Numeric types\n",
    "-  Strings\n",
    "   -  String ops\n",
    "-  print\n",
    "-  Control flow\n",
    "   - if, elif, else\n",
    "   -  loops \n",
    "     -  for\n",
    "        -  range\n",
    "     -  while\n",
    "       \n"
   ]
  },
  {
   "cell_type": "markdown",
   "id": "0a788a42-b223-4d3a-b081-2d107459f3a7",
   "metadata": {},
   "source": [
    "## Question 1"
   ]
  },
  {
   "cell_type": "markdown",
   "id": "7575d45a-7eb0-4b9a-99d6-081a3c83f1d1",
   "metadata": {},
   "source": [
    "(Understand motivation for using Python)\n",
    "#### Using Markdown, answer the following questions\n",
    "\n",
    "What are the advantages of using Python for Data Science?\n",
    "\n",
    "What are some aspects of Python that make it less suitable for some types of application?"
   ]
  },
  {
   "cell_type": "markdown",
   "id": "2b917a78-75a1-4830-9bf3-36570b986a5c",
   "metadata": {},
   "source": [
    "## Question 2"
   ]
  },
  {
   "cell_type": "markdown",
   "id": "8655d956-5e71-4f6c-871f-d7c070bd0d00",
   "metadata": {},
   "source": [
    "(Understand variables as reference, and copy and comparison operators)\n",
    "\n",
    "What is the difference between <b>is</b> and <b>==</b> in Python?\n",
    "\n",
    "Give an example using Python code"
   ]
  },
  {
   "cell_type": "markdown",
   "id": "22f9e79b-dea3-41b3-8684-ce9aa8291389",
   "metadata": {},
   "source": [
    "#Solution\n",
    "```Python\n",
    "list1=[1,2,3,4]\n",
    "list2=list1\n",
    "list3=list1.copy()\n",
    "\n",
    "print(list1 is list2)\n",
    "print(list1 is list3)\n",
    "print(list1==list3)\n",
    "```"
   ]
  },
  {
   "cell_type": "markdown",
   "id": "5906ca78-99b8-4528-97f3-a18c062dd466",
   "metadata": {},
   "source": [
    "## Question 3"
   ]
  },
  {
   "cell_type": "markdown",
   "id": "0b4c0222-984f-4b23-b8ce-d296395b73a1",
   "metadata": {},
   "source": [
    "(Understand comprehensions, base Python arithmetic, conditionals, None keyword)\n",
    "\n",
    "What is the basic form of a <b>comprehension</b> statement?\n",
    "\n",
    "Write a list comprehension that returns the square of every element not equal to <b>None</b>."
   ]
  },
  {
   "cell_type": "code",
   "execution_count": 144,
   "id": "034d6996-b03a-45f2-ba7f-6a0fd4b9646c",
   "metadata": {},
   "outputs": [],
   "source": [
    "mylist=[1,-2,3,4,None,5]"
   ]
  },
  {
   "cell_type": "markdown",
   "id": "a3c50c39-f4fd-475b-8ca8-62bc1092db3b",
   "metadata": {},
   "source": [
    "## Question 4"
   ]
  },
  {
   "cell_type": "markdown",
   "id": "59557fba-e550-446e-b503-d8a9a4d30e85",
   "metadata": {},
   "source": [
    "(Demonstrate understanding of loops, conditionals, datatypes, and scalar operations)\n",
    "\n",
    "Given a list of mixed element types, write code that uses control statements to sum the numeric values of the given list.\n",
    "\n",
    "Using Markdown, explain what you did and why your answer is correct."
   ]
  },
  {
   "cell_type": "code",
   "execution_count": 83,
   "id": "0b80e5b5-a033-485c-a7f6-ed9de944f7f6",
   "metadata": {},
   "outputs": [],
   "source": [
    "mixed_list=[1, \"2\", 3.5, True, 5, 6, [None, 4, \"foo\"], 7, 8//2, 9, 10]"
   ]
  },
  {
   "cell_type": "markdown",
   "id": "c1ca7b16-ef42-4c47-805f-57ef77def34a",
   "metadata": {},
   "source": [
    "## Question 5"
   ]
  },
  {
   "cell_type": "markdown",
   "id": "3ff304cf-4d90-4db1-9a05-ae253db22c59",
   "metadata": {},
   "source": [
    "(Understand string indexing, conditionals, loops, scalar operators)\n",
    "\n",
    "In bioinformatics, a k-mer is a substring of length k within a biological sequence, such as DNA or protein.\n",
    "\n",
    "For the given sequence, write code that prints all kmers of length 4 \n"
   ]
  },
  {
   "cell_type": "markdown",
   "id": "8ca0d8d1-3ff0-40e2-bc75-52f4e3679748",
   "metadata": {},
   "source": [
    "### For example:\n",
    "![](kmer_example.png)"
   ]
  },
  {
   "cell_type": "code",
   "execution_count": 90,
   "id": "dc3bbda7-4d40-4f94-99ec-75ce768b79de",
   "metadata": {},
   "outputs": [],
   "source": [
    "sequence=\"AGAACTTGAGGA\""
   ]
  }
 ],
 "metadata": {
  "kernelspec": {
   "display_name": "Python [conda env:base] *",
   "language": "python",
   "name": "conda-base-py"
  },
  "language_info": {
   "codemirror_mode": {
    "name": "ipython",
    "version": 3
   },
   "file_extension": ".py",
   "mimetype": "text/x-python",
   "name": "python",
   "nbconvert_exporter": "python",
   "pygments_lexer": "ipython3",
   "version": "3.12.7"
  }
 },
 "nbformat": 4,
 "nbformat_minor": 5
}
