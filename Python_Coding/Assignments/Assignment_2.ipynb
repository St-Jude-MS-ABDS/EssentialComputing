{
 "cells": [
  {
   "cell_type": "markdown",
   "id": "233c0dcc-12c3-469e-abeb-a73a9423b226",
   "metadata": {},
   "source": [
    "# Assignment 2: Chapters 3.1-3.2 Data Structures and Functions"
   ]
  },
  {
   "cell_type": "markdown",
   "id": "6233f9cb-1a47-4c5f-a422-1b5cbb2640c0",
   "metadata": {},
   "source": [
    "For this assignment, we will be covering topics from lectures 3 and 4: Python Data Structures and Functions.\n",
    "\n",
    "Complete the code segments according to instructions and comment or answer questions using Markdown"
   ]
  },
  {
   "cell_type": "markdown",
   "id": "1bcc6dea-79f6-490a-808e-b20de4cf8254",
   "metadata": {},
   "source": [
    "## Topics Covered\n",
    "\n",
    "- Data Structures and Sequences\n",
    "  - tuple\n",
    "  - list\n",
    "     - sorting\n",
    "     - slicing\n",
    "  - dict\n",
    "  - set\n",
    "  - sequence functions\n",
    "     - sorted\n",
    "     - zip\n",
    "  - comprehensions\n",
    "- Functions\n",
    "  - namespace\n",
    "  - return val\n",
    "  - lambda functions"
   ]
  },
  {
   "cell_type": "markdown",
   "id": "dd72f30b-495f-4e3e-b91b-8f7e1ef43a61",
   "metadata": {},
   "source": [
    "## Question 1"
   ]
  },
  {
   "cell_type": "markdown",
   "id": "a8452aee-6e19-4b58-aaa1-3fa59fe0b2ee",
   "metadata": {},
   "source": [
    "Compare and contrast <b>lists</b> and <b>tuples</b> in Python. \n",
    "\n",
    "How do you define a <b>list</b> or a <b>tuple</b> using Python syntax?\n",
    "\n",
    "When would you use a <b>tuple</b> instead of a <b>list</b>?"
   ]
  },
  {
   "cell_type": "markdown",
   "id": "21c7ed2d-c8a6-449f-a7e7-f1fac685c954",
   "metadata": {},
   "source": [
    "## Question 2"
   ]
  },
  {
   "cell_type": "markdown",
   "id": "36915c85-194c-4a52-9325-37b9e8bcc2c2",
   "metadata": {},
   "source": [
    "When would you use a <b>dictionary (dict)</b> in Python? "
   ]
  },
  {
   "cell_type": "markdown",
   "id": "3b4b9e7e-40dc-48bc-ace6-eadcf936a969",
   "metadata": {},
   "source": [
    "## Question 3"
   ]
  },
  {
   "cell_type": "markdown",
   "id": "2df20753-5221-499f-a21b-d4935494d4ae",
   "metadata": {},
   "source": [
    "Write a Python program to flatten a nested list.\n",
    "\n",
    "Example: [[1, 2], [3, 4], [5]] → [1, 2, 3, 4, 5]"
   ]
  },
  {
   "cell_type": "code",
   "execution_count": 236,
   "id": "c7aec51f-c22a-4472-9ffb-285b98c2f378",
   "metadata": {},
   "outputs": [],
   "source": [
    "nested_list = [[1,2],[3,4],[5],[6,7,8]]"
   ]
  },
  {
   "cell_type": "markdown",
   "id": "6da5a503-70dc-4735-aa54-76e0157abee5",
   "metadata": {},
   "source": [
    "## Question 4"
   ]
  },
  {
   "cell_type": "markdown",
   "id": "1c09cee8-db49-406e-856b-edfcd5a1a2ed",
   "metadata": {},
   "source": [
    "#### GC Content Calculation\n",
    "The GC content of a DNA sequence is the percentage of nucleotides that are either Guanine (G) or Cytosine (C).\n",
    "\n",
    "From the given sequence, use a lambda function to calculate this value efficiently.\n",
    "\n",
    "Make sure to format the output to show percentage"
   ]
  },
  {
   "cell_type": "code",
   "execution_count": 282,
   "id": "3881b777-8546-4d95-95e4-c77fc0957513",
   "metadata": {},
   "outputs": [],
   "source": [
    "Sequence = \"ATGCGCGACTGTACAGTTAG\""
   ]
  },
  {
   "cell_type": "markdown",
   "id": "02e56fdc-9a87-4976-b584-60de581ba0df",
   "metadata": {},
   "source": [
    "## Question 5"
   ]
  },
  {
   "cell_type": "markdown",
   "id": "4062574d-c4a6-4dc3-acab-6f1100c51ba3",
   "metadata": {},
   "source": [
    "### Codon Mapping\n",
    "\n",
    "A codon is a sequence of three nucleotides that codes for an amino acid. Codons do not overlap. Given a DNA sequence, write a <b>dictionary comprehension</b> to map each codon (substring of length 3) to its frequency in the sequence.\n",
    "\n",
    "<blockquote>\n",
    "Example:\n",
    "    \n",
    "Sequence=\"ATGCGATGCTAG\"\n",
    "\n",
    "Output: {\"ATG\": 2, \"CGA\": 1, \"TGC\": 1, \"TAG\": 1}\n",
    "\n",
    "</blockquote>"
   ]
  },
  {
   "cell_type": "code",
   "execution_count": 248,
   "id": "2af280dd-8f80-48da-b168-5eeee05db32d",
   "metadata": {},
   "outputs": [],
   "source": [
    "sequence=\"ATGATCCGACATATCGAGCGATAG\""
   ]
  }
 ],
 "metadata": {
  "kernelspec": {
   "display_name": "Python [conda env:base] *",
   "language": "python",
   "name": "conda-base-py"
  },
  "language_info": {
   "codemirror_mode": {
    "name": "ipython",
    "version": 3
   },
   "file_extension": ".py",
   "mimetype": "text/x-python",
   "name": "python",
   "nbconvert_exporter": "python",
   "pygments_lexer": "ipython3",
   "version": "3.12.7"
  }
 },
 "nbformat": 4,
 "nbformat_minor": 5
}
