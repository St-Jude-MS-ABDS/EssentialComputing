{
 "cells": [
  {
   "cell_type": "markdown",
   "id": "d119f04d-b859-4208-9daf-c5b34e7b412a",
   "metadata": {},
   "source": [
    "# Assignment 4: Chapters 4.1-4.6 Numpy Basics, Arrays, Vectorization "
   ]
  },
  {
   "cell_type": "markdown",
   "id": "62f57f3d-a660-42ea-a596-6289c3a86c81",
   "metadata": {},
   "source": [
    "For this assignment, we will be covering topics from lectures 7 and 8: Numpy Basics, Array and Vectorization.\n",
    "\n",
    "Complete the code segments according to instructions and comment or answer questions using Markdown"
   ]
  },
  {
   "cell_type": "markdown",
   "id": "619ec0ca-c161-4581-b4b7-a0716a9a1b75",
   "metadata": {},
   "source": [
    "## Topics Covered\n",
    "\n",
    "-  Numpy ndarrays\n",
    "-  Performance optimizations\n",
    "-  Vectorization and broadcasting\n",
    "-  Array slicing and indexing\n",
    "-  Conditional logic as array operations"
   ]
  },
  {
   "cell_type": "code",
   "execution_count": 1021,
   "id": "dbadbd03-639c-4d71-b61e-980bc89057ae",
   "metadata": {},
   "outputs": [],
   "source": [
    "#import these libraries to support questions 2-5\n",
    "import numpy as np\n",
    "import matplotlib.pyplot as plt"
   ]
  },
  {
   "cell_type": "markdown",
   "id": "dd9dc069-3b8f-4eb7-901c-8e62b8b03f06",
   "metadata": {},
   "source": [
    "## Question 1"
   ]
  },
  {
   "cell_type": "markdown",
   "id": "410e574c-56d9-4df8-a1e3-7220a98c0c19",
   "metadata": {},
   "source": [
    "What are the advantages of using numpy arrays over builtin python lists?"
   ]
  },
  {
   "cell_type": "code",
   "execution_count": null,
   "id": "2306ffb6-bc7f-46bf-9a02-dd16287d08a7",
   "metadata": {},
   "outputs": [],
   "source": []
  },
  {
   "cell_type": "markdown",
   "id": "c3403409-a931-42da-aab6-319d77344793",
   "metadata": {
    "jp-MarkdownHeadingCollapsed": true
   },
   "source": [
    "For questions 2-5 you will be applying functions to an MRI image that you will read in to a numpy ndarray.\n",
    "\n",
    "### MRI imaging \n",
    "\n",
    "In an MRI image, a voxel is a three-dimensional element, analogous to a pixel in a 2D image, that represents a specific volume of tissue. Each voxel contains a single value that represents the average intensity of the tissue within that volume, providing information about the tissue's properties like density or magnetic resonance. \n",
    "\n",
    "An MRI image file is organized spatially with the format [depth x width x height].\n",
    "\n",
    "For the following tasks, you will load a MRI voxel image of a brain, and perform operations on the image.   "
   ]
  },
  {
   "cell_type": "markdown",
   "id": "82cffd1e-e773-4c1c-953f-059dd2e37f05",
   "metadata": {},
   "source": [
    "## Question 2"
   ]
  },
  {
   "cell_type": "markdown",
   "id": "28804735-c323-4633-ba61-01e28af59ba7",
   "metadata": {},
   "source": [
    "### Import and analyze data\n",
    "\n",
    "Read the file <b>assignment_files/MRI_small.npy</b> using the <b>MRI=np.load()</b> function."
   ]
  },
  {
   "cell_type": "code",
   "execution_count": null,
   "id": "6d9285f3-4492-45b7-a6dc-87062dbb647a",
   "metadata": {},
   "outputs": [],
   "source": []
  },
  {
   "cell_type": "markdown",
   "id": "e72d269b-a3bd-4982-81d5-6c43925fb70f",
   "metadata": {},
   "source": [
    "Print the dimensions of the ndarray object. You should see (65,65,55)"
   ]
  },
  {
   "cell_type": "code",
   "execution_count": null,
   "id": "99afe0ab-a45e-4576-b4e6-37a86e78420a",
   "metadata": {},
   "outputs": [],
   "source": []
  },
  {
   "cell_type": "markdown",
   "id": "59444bb0-0400-4854-a568-12cfa9fdaaa0",
   "metadata": {},
   "source": [
    "Print the min, max, mean, standard deviation of the image."
   ]
  },
  {
   "cell_type": "code",
   "execution_count": null,
   "id": "b312d681-a2a8-4f4a-901b-cc9506dc6eef",
   "metadata": {},
   "outputs": [],
   "source": []
  },
  {
   "cell_type": "markdown",
   "id": "17186c75-4ede-45c1-9b2e-2b90f9c58157",
   "metadata": {},
   "source": [
    "Run the provided <b>show_mri_slices()</b> function on the ndarray object you loaded to confirm correctness. \n",
    "\n",
    "You should see three orthogonal 2D slices from the center of the example brain."
   ]
  },
  {
   "cell_type": "code",
   "execution_count": 782,
   "id": "f7548378-7933-48a7-987d-5798315217f2",
   "metadata": {},
   "outputs": [],
   "source": [
    "def show_mri_slices(img):\n",
    "        #Function to display the MRI image  \n",
    "        #Select 2D orthogonal slices from center of 3D image\n",
    "        slices = [ img[img.shape[0]//2, :, :],\n",
    "                   img[:, img.shape[1]//2, :],\n",
    "                   img[:, :, img.shape[2]//2] ] \n",
    "        fig, axes = plt.subplots(1, len(slices))\n",
    "        for i, slice in enumerate(slices):\n",
    "            axes[i].imshow(slice.T, cmap=\"gray\", origin=\"lower\")\n",
    "        plt.show()"
   ]
  },
  {
   "cell_type": "code",
   "execution_count": null,
   "id": "4ed4a140-f313-4f67-afb3-a67996bc8ee6",
   "metadata": {},
   "outputs": [],
   "source": []
  },
  {
   "cell_type": "markdown",
   "id": "1078c8e6-3ab2-4d9b-b08d-638677459351",
   "metadata": {},
   "source": [
    "## Question 3"
   ]
  },
  {
   "cell_type": "markdown",
   "id": "18f092c8-7689-4ba2-96ae-971fe22170a2",
   "metadata": {},
   "source": [
    "### Normalize Pixel Intensities\n",
    "\n",
    "Image intensity values can vary widely from image to image. In order to standardize operations on MRI images, it is necessary to normalize the values.\n",
    "\n",
    "Write a function to normalize the voxel intensities of the image to a range of 0 to 1 using the formula:\n",
    "\n",
    "\\begin{equation}\n",
    " \\text{Normalized Voxel Value} = \\frac{\\text{Voxel Value} - \\text{Min}}{\\text{Max} - \\text{Min}} \n",
    "\\end{equation}"
   ]
  },
  {
   "cell_type": "code",
   "execution_count": null,
   "id": "47a110e8-d4cc-4b26-981f-e2768f4fffd3",
   "metadata": {},
   "outputs": [],
   "source": []
  },
  {
   "cell_type": "markdown",
   "id": "3d0428cf-61ba-427f-aa8f-4fb907aec325",
   "metadata": {},
   "source": [
    "Apply your function to the original image to produce a new <b>MRI_norm</b> object"
   ]
  },
  {
   "cell_type": "code",
   "execution_count": null,
   "id": "512a5203-0a0f-4636-b2b4-4bc8b458543b",
   "metadata": {},
   "outputs": [],
   "source": []
  },
  {
   "cell_type": "markdown",
   "id": "b5c4c896-eaf5-4087-b9fe-78118aa52a5d",
   "metadata": {},
   "source": [
    "Run <b>show_mri_slices()</b> and print the new min, max, mean, and standard deviation"
   ]
  },
  {
   "cell_type": "code",
   "execution_count": null,
   "id": "af2ef734-bdf5-445f-a515-dc1eb9275cc2",
   "metadata": {},
   "outputs": [],
   "source": []
  },
  {
   "cell_type": "markdown",
   "id": "b9bb9b03-9364-495c-9f44-5c556b9fb8cc",
   "metadata": {},
   "source": [
    "## Question 4\n",
    "(ndarray modification, vectorization, boolean evaluation, namespaces)"
   ]
  },
  {
   "cell_type": "markdown",
   "id": "d837f96f-1e9d-41ef-9f4a-bbffd0a3d7cf",
   "metadata": {},
   "source": [
    "### Skull stripping\n",
    "\n",
    "In order to focus on soft tissue structures in the brain, images are routinely stripped of non-brain material. Bone marrow contains high water content and shows up with high signal intensity in the scan. This is illustrated by the bright band that surrounds the brain in MRI images.\n",
    "\n",
    "\n",
    "Write a function to strip the bright white skull/marrow artifacts from the image.\n",
    "\n",
    "Skull voxels denoted (in this case) by intensity values > 0.25\n",
    "\n"
   ]
  },
  {
   "cell_type": "code",
   "execution_count": null,
   "id": "c35742df-efde-4b3b-aae0-de6b7d2f572b",
   "metadata": {},
   "outputs": [],
   "source": []
  },
  {
   "cell_type": "markdown",
   "id": "cf86139d-0d0d-4f21-ac7a-429362106b85",
   "metadata": {},
   "source": [
    "Apply your function to your <b>normalized</b> image to produce a new <b>MRI_stripped</b> image"
   ]
  },
  {
   "cell_type": "code",
   "execution_count": null,
   "id": "759ad167-6a2d-411d-848e-f27a56ce5165",
   "metadata": {},
   "outputs": [],
   "source": []
  },
  {
   "cell_type": "markdown",
   "id": "eb3407d2-52ef-46a6-bea3-102c134362b9",
   "metadata": {},
   "source": [
    "Display your results"
   ]
  },
  {
   "cell_type": "code",
   "execution_count": null,
   "id": "4ca77bac-10fe-4237-b872-ca720eaedb8b",
   "metadata": {},
   "outputs": [],
   "source": []
  },
  {
   "cell_type": "markdown",
   "id": "93e40abd-74c0-434f-9cc6-f8b562bab973",
   "metadata": {},
   "source": [
    "Print the min, max, mean, standard deviation of the image."
   ]
  },
  {
   "cell_type": "code",
   "execution_count": null,
   "id": "b9bea906-cf4c-49e4-8845-70b87228ca1a",
   "metadata": {},
   "outputs": [],
   "source": []
  },
  {
   "cell_type": "markdown",
   "id": "b0fb2566-b020-4844-8f3a-9211d60cf791",
   "metadata": {},
   "source": [
    "## Question 5"
   ]
  },
  {
   "cell_type": "markdown",
   "id": "f3257544-5f35-4363-ba4d-0fc1f1ac9384",
   "metadata": {},
   "source": [
    "Suppose we want to locate the slice in the image that contains the most material, i.e. where the sum of the voxel intensities is greatest.\n",
    "\n",
    "Write a function that locates the slice index along the first dimension, with the greatest volume of material."
   ]
  },
  {
   "cell_type": "code",
   "execution_count": null,
   "id": "0f417bc9-27a1-48de-8f26-9b9d1e253f17",
   "metadata": {},
   "outputs": [],
   "source": []
  },
  {
   "cell_type": "markdown",
   "id": "22b852e5-4044-4c0c-ba3f-dcc2aee24157",
   "metadata": {},
   "source": [
    "Apply your function to the <b>MRI_stripped</b> object and report the index value."
   ]
  },
  {
   "cell_type": "code",
   "execution_count": null,
   "id": "1366b541-ef85-4ac8-a4f5-a02b66183637",
   "metadata": {},
   "outputs": [],
   "source": []
  },
  {
   "cell_type": "markdown",
   "id": "84b27d6b-ee90-4ae6-89fa-730b1fe9f3be",
   "metadata": {},
   "source": [
    "Now, write a function to plot the single image with the computed index. "
   ]
  },
  {
   "cell_type": "code",
   "execution_count": null,
   "id": "fbcf862e-41f6-466e-a82c-480677d5c926",
   "metadata": {},
   "outputs": [],
   "source": []
  },
  {
   "cell_type": "markdown",
   "id": "2b5f0ed4-a09b-4ed5-baa4-af1140e4ffa1",
   "metadata": {},
   "source": [
    "Apply your function to display the slice with greatest volume of material. "
   ]
  },
  {
   "cell_type": "code",
   "execution_count": null,
   "id": "d1489e9e-99d3-4f4b-afeb-782cb6a2f1cf",
   "metadata": {},
   "outputs": [],
   "source": []
  }
 ],
 "metadata": {
  "kernelspec": {
   "display_name": "Python [conda env:base] *",
   "language": "python",
   "name": "conda-base-py"
  },
  "language_info": {
   "codemirror_mode": {
    "name": "ipython",
    "version": 3
   },
   "file_extension": ".py",
   "mimetype": "text/x-python",
   "name": "python",
   "nbconvert_exporter": "python",
   "pygments_lexer": "ipython3",
   "version": "3.12.7"
  }
 },
 "nbformat": 4,
 "nbformat_minor": 5
}
