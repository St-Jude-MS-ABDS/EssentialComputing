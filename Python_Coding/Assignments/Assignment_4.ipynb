{
 "cells": [
  {
   "cell_type": "markdown",
   "id": "d119f04d-b859-4208-9daf-c5b34e7b412a",
   "metadata": {},
   "source": [
    "# Assignment 4: Chapters 4.1-4.6 Numpy Basics, Arrays, Vectorization "
   ]
  },
  {
   "cell_type": "markdown",
   "id": "62f57f3d-a660-42ea-a596-6289c3a86c81",
   "metadata": {},
   "source": [
    "For this assignment, we will be covering topics from lectures 7 and 8: Numpy Basics, Array and Vectorization.\n",
    "\n",
    "Complete the code segments according to instructions and comment or answer questions using Markdown"
   ]
  },
  {
   "cell_type": "markdown",
   "id": "619ec0ca-c161-4581-b4b7-a0716a9a1b75",
   "metadata": {},
   "source": [
    "## Topics Covered\n",
    "\n",
    "-  "
   ]
  },
  {
   "cell_type": "markdown",
   "id": "dd9dc069-3b8f-4eb7-901c-8e62b8b03f06",
   "metadata": {},
   "source": [
    "## Question 1"
   ]
  },
  {
   "cell_type": "code",
   "execution_count": null,
   "id": "16aeca67-37a9-4a2a-9485-03847da23ad6",
   "metadata": {},
   "outputs": [],
   "source": []
  },
  {
   "cell_type": "markdown",
   "id": "c33c2391-a3c5-4178-b905-f28221fbef87",
   "metadata": {},
   "source": [
    "## Question 2"
   ]
  },
  {
   "cell_type": "code",
   "execution_count": null,
   "id": "72973439-7ada-4104-8fce-b3b9afbdac66",
   "metadata": {},
   "outputs": [],
   "source": []
  },
  {
   "cell_type": "markdown",
   "id": "ad64fde6-bf64-4c1b-a0ea-b4e4e7dee181",
   "metadata": {},
   "source": [
    "## Question 3"
   ]
  },
  {
   "cell_type": "code",
   "execution_count": null,
   "id": "8971016b-4d25-4775-9d69-8c39cc2d3a8c",
   "metadata": {},
   "outputs": [],
   "source": []
  },
  {
   "cell_type": "markdown",
   "id": "b9bb9b03-9364-495c-9f44-5c556b9fb8cc",
   "metadata": {},
   "source": [
    "## Question 4"
   ]
  },
  {
   "cell_type": "code",
   "execution_count": null,
   "id": "900323a4-e1e6-413e-9cee-73f2f00e72de",
   "metadata": {},
   "outputs": [],
   "source": []
  },
  {
   "cell_type": "markdown",
   "id": "b0fb2566-b020-4844-8f3a-9211d60cf791",
   "metadata": {},
   "source": [
    "## Question 5"
   ]
  },
  {
   "cell_type": "code",
   "execution_count": null,
   "id": "44a4489b-3c3e-4479-a9c4-1df9441d5809",
   "metadata": {},
   "outputs": [],
   "source": []
  }
 ],
 "metadata": {
  "kernelspec": {
   "display_name": "Python [conda env:base] *",
   "language": "python",
   "name": "conda-base-py"
  },
  "language_info": {
   "codemirror_mode": {
    "name": "ipython",
    "version": 3
   },
   "file_extension": ".py",
   "mimetype": "text/x-python",
   "name": "python",
   "nbconvert_exporter": "python",
   "pygments_lexer": "ipython3",
   "version": "3.12.7"
  }
 },
 "nbformat": 4,
 "nbformat_minor": 5
}
