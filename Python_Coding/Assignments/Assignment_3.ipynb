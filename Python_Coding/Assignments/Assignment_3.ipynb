{
 "cells": [
  {
   "cell_type": "markdown",
   "id": "1879ca33-f5d9-49c0-8f08-1ad43f2e9667",
   "metadata": {},
   "source": [
    "# Assignment 3: Chapters 3.3, 6.1-6.2 File formats and I/O "
   ]
  },
  {
   "cell_type": "markdown",
   "id": "dcc30797-60a7-4e9c-a0e6-6ad17a47ccb9",
   "metadata": {},
   "source": [
    "For this assignment, we will be covering topics from lectures 5 and 6: File formats and I/O.\n",
    "\n",
    "Complete the code segments according to instructions and comment or answer questions using Markdown"
   ]
  },
  {
   "cell_type": "markdown",
   "id": "f0b1452c-e32f-4cb0-b3bc-8ccd432111b0",
   "metadata": {},
   "source": [
    "## Topics Covered\n",
    "\n",
    "-  Built in File I/O\n",
    "-  Open, close, flush operations\n",
    "-  Read, write, append\n",
    "-  Text and binary formats\n",
    "-  Encoding format\n",
    "-  Pickle files\n",
    "-  Pandas I/O\n",
    "-  Dataframes\n",
    "-  Missing Values\n",
    "-  Common file formats\n",
    "   - csv\n",
    "   - json\n",
    "   - hdf\n",
    "   - xml"
   ]
  },
  {
   "cell_type": "markdown",
   "id": "7d722ca0-9ef4-44de-91eb-5c1e47658549",
   "metadata": {},
   "source": [
    "## Question 1"
   ]
  },
  {
   "cell_type": "markdown",
   "id": "d532911e-05ee-45b4-9b12-3ff1ad3cfe52",
   "metadata": {},
   "source": [
    "Write a Python program to create a text file named <b>info.txt</b> and write the following lines into it:\n",
    "\n",
    "```Python\n",
    "Name: Alice\n",
    "Age: 25\n",
    "City: New York\n",
    "```\n",
    "\n",
    "Make sure your file is properly closed after writing."
   ]
  },
  {
   "cell_type": "markdown",
   "id": "9c31ffdd-bedc-4570-8d19-76494d5568f5",
   "metadata": {},
   "source": [
    "## Question 2"
   ]
  },
  {
   "cell_type": "markdown",
   "id": "040c48f2-027c-493d-8eb9-9372cc0e069c",
   "metadata": {},
   "source": [
    "What are the advantages of using Pandas for IO operations compared to Python’s built-in file handling methods?\n",
    "\n",
    "Are there any limitations to using pandas over the basic I/O functions?"
   ]
  },
  {
   "cell_type": "markdown",
   "id": "32081e41-35f2-43b5-bf9f-52d8caf6bbe6",
   "metadata": {},
   "source": [
    "## Question 3"
   ]
  },
  {
   "cell_type": "markdown",
   "id": "9b69cc87-629a-4026-bfbe-b0db58873f05",
   "metadata": {},
   "source": [
    "Give an example of a use case for <b>pickle</b> files.\n",
    "\n",
    "What are some disadvantages to using <b>pickle</b> files.\n"
   ]
  },
  {
   "cell_type": "markdown",
   "id": "38050570-f3bb-4165-9b02-355d8fa87fe8",
   "metadata": {},
   "source": [
    "## Question 4"
   ]
  },
  {
   "cell_type": "markdown",
   "id": "bd8cb8df-a00d-4aea-b95d-58c151c73a2d",
   "metadata": {},
   "source": [
    "#### Select Specific Columns While Reading\n",
    "\n",
    "Write a Python program to read a CSV file named <b>data.csv</b> into a Pandas DataFrame. \n",
    "\n",
    "Select only the columns <b>Name</b> and <b>Age</b> while reading the file.\n",
    "\n",
    "Hint: Use the usecols parameter in read_csv()."
   ]
  },
  {
   "cell_type": "markdown",
   "id": "d1538b1e-4f63-47c7-b3af-725c0f79298a",
   "metadata": {},
   "source": [
    "## Question 5"
   ]
  },
  {
   "cell_type": "markdown",
   "id": "5dc2e0c5-6312-466a-8bef-1d348d3202c0",
   "metadata": {},
   "source": [
    "#### Handle Missing Values While Reading\n",
    "\n",
    "Write a Python program to read a CSV file named <b>data_with_missing.csv</b> into a Pandas <b>DataFrame</b>. \n",
    "\n",
    "Replace all missing values (denoted by empty string) with the default <b>NaN</b> and display the updated DataFrame.\n",
    "\n",
    "Try to do this within the <b>read_csv()</b> function."
   ]
  }
 ],
 "metadata": {
  "kernelspec": {
   "display_name": "Python [conda env:base] *",
   "language": "python",
   "name": "conda-base-py"
  },
  "language_info": {
   "codemirror_mode": {
    "name": "ipython",
    "version": 3
   },
   "file_extension": ".py",
   "mimetype": "text/x-python",
   "name": "python",
   "nbconvert_exporter": "python",
   "pygments_lexer": "ipython3",
   "version": "3.12.7"
  }
 },
 "nbformat": 4,
 "nbformat_minor": 5
}
