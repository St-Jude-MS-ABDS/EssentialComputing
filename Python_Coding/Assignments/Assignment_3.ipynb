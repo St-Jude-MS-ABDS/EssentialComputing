{
 "cells": [
  {
   "cell_type": "markdown",
   "id": "1879ca33-f5d9-49c0-8f08-1ad43f2e9667",
   "metadata": {},
   "source": [
    "# Assignment 3: Chapters 3.3, 6.1-6.2 File formats and I/O "
   ]
  },
  {
   "cell_type": "markdown",
   "id": "dcc30797-60a7-4e9c-a0e6-6ad17a47ccb9",
   "metadata": {},
   "source": [
    "For this assignment, we will be covering topics from lectures 5 and 6: File formats and I/O.\n",
    "\n",
    "Complete the code segments according to instructions and comment or answer questions using Markdown"
   ]
  },
  {
   "cell_type": "markdown",
   "id": "f0b1452c-e32f-4cb0-b3bc-8ccd432111b0",
   "metadata": {},
   "source": [
    "## Topics Covered\n",
    "\n",
    "-  Built in File I/O\n",
    "-  open, close, flush operations\n",
    "-  read, write, append\n",
    "-  text and binary formats\n",
    "-  encoding format\n",
    "-  pickle files\n",
    "-  pandas I/O\n",
    "-  common file formats\n",
    "   - csv\n",
    "   - json\n",
    "   - hdf\n",
    "   - xml\n",
    "- web scraping\n",
    "   - html\n",
    "   - xml\n",
    "- API interaction\n",
    "- Database interaction"
   ]
  },
  {
   "cell_type": "markdown",
   "id": "7d722ca0-9ef4-44de-91eb-5c1e47658549",
   "metadata": {},
   "source": [
    "## Question 1"
   ]
  },
  {
   "cell_type": "code",
   "execution_count": null,
   "id": "2823a264-23bc-43ff-a00e-d4d66ea70588",
   "metadata": {},
   "outputs": [],
   "source": []
  },
  {
   "cell_type": "code",
   "execution_count": null,
   "id": "af4d85f8-5b31-40a0-857e-dcf635950bce",
   "metadata": {},
   "outputs": [],
   "source": []
  },
  {
   "cell_type": "markdown",
   "id": "9c31ffdd-bedc-4570-8d19-76494d5568f5",
   "metadata": {},
   "source": [
    "## Question 2"
   ]
  },
  {
   "cell_type": "markdown",
   "id": "040c48f2-027c-493d-8eb9-9372cc0e069c",
   "metadata": {},
   "source": [
    "What are the advantages of using Pandas for IO operations compared to Python’s built-in file handling methods?\n",
    "\n",
    "Are there any limitations to using pandas over the basic I/O functions?"
   ]
  },
  {
   "cell_type": "code",
   "execution_count": null,
   "id": "9961d102-52e4-406a-88b9-50353dcc5d35",
   "metadata": {},
   "outputs": [],
   "source": []
  },
  {
   "cell_type": "markdown",
   "id": "32081e41-35f2-43b5-bf9f-52d8caf6bbe6",
   "metadata": {},
   "source": [
    "## Question 3"
   ]
  },
  {
   "cell_type": "markdown",
   "id": "9b69cc87-629a-4026-bfbe-b0db58873f05",
   "metadata": {},
   "source": [
    "Give an example of a use case for <b>pickle</b> files.\n",
    "\n",
    "What are some disadvantages to using <b>pickle</b> files.\n"
   ]
  },
  {
   "cell_type": "code",
   "execution_count": null,
   "id": "99d4fdc5-1cbc-4733-a0ad-f5f140ee0d3a",
   "metadata": {},
   "outputs": [],
   "source": []
  },
  {
   "cell_type": "markdown",
   "id": "38050570-f3bb-4165-9b02-355d8fa87fe8",
   "metadata": {},
   "source": [
    "## Question 4"
   ]
  },
  {
   "cell_type": "markdown",
   "id": "a35226e7-708a-4b2d-a31a-144e0f3fd8e4",
   "metadata": {},
   "source": [
    "#### Handle Missing Values While Reading\n",
    "\n",
    "Write a Python program to read a CSV file named <b>data_with_missing.csv</b> into a Pandas DataFrame. \n",
    "\n",
    "Replace all missing values with the string <b>\"Unknown\"</b> and display the updated DataFrame.\n",
    "\n",
    "Hint: Use the fillna() method."
   ]
  },
  {
   "cell_type": "code",
   "execution_count": null,
   "id": "9cf5a3ba-fd72-46ac-b734-274a235cc2db",
   "metadata": {},
   "outputs": [],
   "source": []
  },
  {
   "cell_type": "markdown",
   "id": "3fd87382-ebd8-406c-aa3e-c1006c348644",
   "metadata": {},
   "source": [
    "## Question 5"
   ]
  },
  {
   "cell_type": "markdown",
   "id": "7dcf8244-0199-488a-b40f-94f3c795e42d",
   "metadata": {},
   "source": [
    "#### Select Specific Columns While Reading\n",
    "\n",
    "Write a Python program to read a CSV file named <b>data.csv</b> into a Pandas DataFrame. \n",
    "\n",
    "Select only the columns <b>Name</b> and <b>Age</b> while reading the file.\n",
    "\n",
    "Hint: Use the usecols parameter in read_csv()."
   ]
  },
  {
   "cell_type": "code",
   "execution_count": null,
   "id": "9fe26cac-9671-42c7-b615-3709833988ea",
   "metadata": {},
   "outputs": [],
   "source": []
  }
 ],
 "metadata": {
  "kernelspec": {
   "display_name": "Python [conda env:base] *",
   "language": "python",
   "name": "conda-base-py"
  },
  "language_info": {
   "codemirror_mode": {
    "name": "ipython",
    "version": 3
   },
   "file_extension": ".py",
   "mimetype": "text/x-python",
   "name": "python",
   "nbconvert_exporter": "python",
   "pygments_lexer": "ipython3",
   "version": "3.12.7"
  }
 },
 "nbformat": 4,
 "nbformat_minor": 5
}
