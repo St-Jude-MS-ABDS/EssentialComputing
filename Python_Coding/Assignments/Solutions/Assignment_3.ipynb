{
 "cells": [
  {
   "cell_type": "markdown",
   "id": "1879ca33-f5d9-49c0-8f08-1ad43f2e9667",
   "metadata": {},
   "source": [
    "# Assignment 3: Chapters 3.3, 6.1-6.2 File formats and I/O "
   ]
  },
  {
   "cell_type": "markdown",
   "id": "dcc30797-60a7-4e9c-a0e6-6ad17a47ccb9",
   "metadata": {},
   "source": [
    "For this assignment, we will be covering topics from lectures 5 and 6: File formats and I/O.\n",
    "\n",
    "Complete the code segments according to instructions and comment or answer questions using Markdown"
   ]
  },
  {
   "cell_type": "markdown",
   "id": "f0b1452c-e32f-4cb0-b3bc-8ccd432111b0",
   "metadata": {},
   "source": [
    "## Topics Covered\n",
    "\n",
    "-  Built in File I/O\n",
    "-  Open, close, flush operations\n",
    "-  Read, write, append\n",
    "-  Text and binary formats\n",
    "-  Encoding format\n",
    "-  Pickle files\n",
    "-  Pandas I/O\n",
    "-  Dataframes\n",
    "-  Missing Values\n",
    "-  Common file formats\n",
    "   - csv\n",
    "   - json\n",
    "   - hdf\n",
    "   - xml\n",
    "- Web scraping\n",
    "   - html\n",
    "   - xml\n",
    "- API interaction\n",
    "- Database interaction"
   ]
  },
  {
   "cell_type": "markdown",
   "id": "7d722ca0-9ef4-44de-91eb-5c1e47658549",
   "metadata": {},
   "source": [
    "## Question 1"
   ]
  },
  {
   "cell_type": "markdown",
   "id": "d532911e-05ee-45b4-9b12-3ff1ad3cfe52",
   "metadata": {},
   "source": [
    "Write a Python program to create a text file named <b>info.txt</b> and write the following lines into it:\n",
    "\n",
    "```Python\n",
    "Name: Alice\n",
    "Age: 25\n",
    "City: New York\n",
    "```\n",
    "\n",
    "Make sure your file is properly closed after writing"
   ]
  },
  {
   "cell_type": "code",
   "execution_count": 149,
   "id": "af4d85f8-5b31-40a0-857e-dcf635950bce",
   "metadata": {},
   "outputs": [],
   "source": [
    "## Solution\n",
    "```Python\n",
    "data = {\"Name\": \"Alice\", \"Age\": 25, \"City\": \"New York\"}\n",
    "with open(\"info.txt\", encoding=\"utf-8\", mode=\"w\") as file:\n",
    "    for key, value in data.items():\n",
    "        file.write(f\"{key}: {value}\\n\")\n",
    "```"
   ]
  },
  {
   "cell_type": "markdown",
   "id": "9c31ffdd-bedc-4570-8d19-76494d5568f5",
   "metadata": {},
   "source": [
    "## Question 2"
   ]
  },
  {
   "cell_type": "markdown",
   "id": "040c48f2-027c-493d-8eb9-9372cc0e069c",
   "metadata": {},
   "source": [
    "What are the advantages of using Pandas for IO operations compared to Python’s built-in file handling methods?\n",
    "\n",
    "Are there any limitations to using pandas over the basic I/O functions?"
   ]
  },
  {
   "cell_type": "markdown",
   "id": "8aac6a80-409f-42e3-a6d2-44ebc1f4b1e4",
   "metadata": {},
   "source": [
    "## solution\n",
    "\n",
    "|Feature|\tPandas IO|\tPython Built-in IO|\n",
    "|---|---|---|\n",
    "|Ease of Use|\tHigh-level, intuitive methods|\tRequires manual parsing and handling|\n",
    "|Structured Data|\tAutomatically organized into DataFrame|\tRaw strings/lists|\n",
    "|Missing Data Handling|\tBuilt-in tools like fillna()|\tRequires manual handling|\n",
    "|File Format Support|\tWide range (CSV, Excel, JSON, SQL, etc.)|\tLimited to text and binary files|\n",
    "|Performance for Small Tasks|\tSlightly slower for small files|\tFaster for simple tasks|\n",
    "|Custom Formats|\tLimited support\t|Full control over parsing|\n",
    "|Real-Time Processing|\tNot ideal|\tSuitable for real-time operations|\n",
    "|Dependency|\tRequires installation of Pandas|\tBuilt into Python|\n",
    "\n"
   ]
  },
  {
   "cell_type": "markdown",
   "id": "32081e41-35f2-43b5-bf9f-52d8caf6bbe6",
   "metadata": {},
   "source": [
    "## Question 3"
   ]
  },
  {
   "cell_type": "markdown",
   "id": "9b69cc87-629a-4026-bfbe-b0db58873f05",
   "metadata": {},
   "source": [
    "Give an example of a use case for <b>pickle</b> files.\n",
    "\n",
    "What are some disadvantages to using <b>pickle</b> files.\n"
   ]
  },
  {
   "cell_type": "markdown",
   "id": "a1ee9de4-8253-4278-a144-3b3f032079e9",
   "metadata": {},
   "source": [
    "## solution\n",
    "\n",
    "When to Use Pickle Files\n",
    "- You need to save and load Python-specific objects (e.g., machine learning models, dictionaries, custom classes).\n",
    "- You work in a Python-only environment.\n",
    "- You trust the source of the pickle file.\n",
    "  \n",
    "When to Avoid Pickle Files\n",
    "- Security is a concern (use safer formats like JSON or CSV).\n",
    "- You need cross-language compatibility.\n",
    "- You’re working with large datasets (use formats like HDF5 or Parquet)."
   ]
  },
  {
   "cell_type": "markdown",
   "id": "38050570-f3bb-4165-9b02-355d8fa87fe8",
   "metadata": {},
   "source": [
    "## Question 4"
   ]
  },
  {
   "cell_type": "markdown",
   "id": "bd8cb8df-a00d-4aea-b95d-58c151c73a2d",
   "metadata": {},
   "source": [
    "#### Select Specific Columns While Reading\n",
    "\n",
    "Write a Python program to read a CSV file named <b>data.csv</b> into a Pandas DataFrame. \n",
    "\n",
    "Select only the columns <b>Name</b> and <b>Age</b> while reading the file.\n",
    "\n",
    "Hint: Use the usecols parameter in read_csv()."
   ]
  },
  {
   "cell_type": "markdown",
   "id": "a6f85128-34be-4d6f-8b68-70082b5c755b",
   "metadata": {},
   "source": [
    "## solution\n",
    "```Python\n",
    "import pandas as pd\n",
    "# Read the CSV file and select only the columns 'Name' and 'Age'\n",
    "df = pd.read_csv(\"assignment_files/data.csv\", usecols=[\"Name\", \"Age\"])\n",
    "print(df)\n",
    "```"
   ]
  },
  {
   "cell_type": "markdown",
   "id": "d1538b1e-4f63-47c7-b3af-725c0f79298a",
   "metadata": {},
   "source": [
    "## Question 5"
   ]
  },
  {
   "cell_type": "markdown",
   "id": "5dc2e0c5-6312-466a-8bef-1d348d3202c0",
   "metadata": {},
   "source": [
    "#### Handle Missing Values While Reading\n",
    "\n",
    "Write a Python program to read a CSV file named <b>data_with_missing.csv</b> into a Pandas <b>DataFrame</b>. \n",
    "\n",
    "Replace all missing values (denoted by empty string) with the default <b>NaN</b> and display the updated DataFrame.\n",
    "\n",
    "Try to do this within the <b>read_csv()</b> function."
   ]
  },
  {
   "cell_type": "markdown",
   "id": "92c998bc-bd03-4980-b35a-c35969fe7d38",
   "metadata": {},
   "source": [
    "## solution\n",
    "```Python\n",
    "import pandas as pd\n",
    "# Read the CSV file into a Pandas DataFrame\n",
    "df = pd.read_csv(\"assignment_files/data_with_missing.csv\",na_values=[\"\"])\n",
    "print(df)\n",
    "```"
   ]
  }
 ],
 "metadata": {
  "kernelspec": {
   "display_name": "Python [conda env:base] *",
   "language": "python",
   "name": "conda-base-py"
  },
  "language_info": {
   "codemirror_mode": {
    "name": "ipython",
    "version": 3
   },
   "file_extension": ".py",
   "mimetype": "text/x-python",
   "name": "python",
   "nbconvert_exporter": "python",
   "pygments_lexer": "ipython3",
   "version": "3.12.7"
  }
 },
 "nbformat": 4,
 "nbformat_minor": 5
}
