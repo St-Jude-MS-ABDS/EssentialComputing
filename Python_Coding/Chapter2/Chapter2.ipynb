{
 "cells": [
  {
   "cell_type": "code",
   "execution_count": 1,
   "id": "6f7ead70-33eb-47f2-b74d-77640777ba13",
   "metadata": {},
   "outputs": [
    {
     "ename": "SyntaxError",
     "evalue": "invalid syntax (245517638.py, line 1)",
     "output_type": "error",
     "traceback": [
      "\u001b[0;36m  Cell \u001b[0;32mIn[1], line 1\u001b[0;36m\u001b[0m\n\u001b[0;31m    Running the Jupyter Notebook\u001b[0m\n\u001b[0m            ^\u001b[0m\n\u001b[0;31mSyntaxError\u001b[0m\u001b[0;31m:\u001b[0m invalid syntax\n"
     ]
    }
   ],
   "source": [
    "Running the Jupyter Notebook\n"
   ]
  },
  {
   "cell_type": "code",
   "execution_count": 3,
   "id": "d7584dc4-2865-46d5-b36e-c3cc49d78117",
   "metadata": {},
   "outputs": [
    {
     "ename": "SyntaxError",
     "evalue": "invalid syntax (3634657840.py, line 1)",
     "output_type": "error",
     "traceback": [
      "\u001b[0;36m  Cell \u001b[0;32mIn[3], line 1\u001b[0;36m\u001b[0m\n\u001b[0;31m    One of the major components of the Jupyter project is the notebook, a type of interactive document for code, text (including Markdown), data visualizations, and other output. The Jupyter notebook interacts with kernels, which are implementations of the Jupyter interactive computing protocol specific to different programming languages. The Python Jupyter kernel uses the IPython system for its underlying behavior.\u001b[0m\n\u001b[0m        ^\u001b[0m\n\u001b[0;31mSyntaxError\u001b[0m\u001b[0;31m:\u001b[0m invalid syntax\n"
     ]
    }
   ],
   "source": [
    "One of the major components of the Jupyter project is the notebook, a type of interactive document for code, text (including Markdown), data visualizations, and other output. The Jupyter notebook interacts with kernels, which are implementations of the Jupyter interactive computing protocol specific to different programming languages. The Python Jupyter kernel uses the IPython system for its underlying behavior."
   ]
  },
  {
   "cell_type": "code",
   "execution_count": 5,
   "id": "7a201eac-3caf-4aca-8995-d255a48be399",
   "metadata": {},
   "outputs": [
    {
     "ename": "SyntaxError",
     "evalue": "invalid syntax (3708379357.py, line 1)",
     "output_type": "error",
     "traceback": [
      "\u001b[0;36m  Cell \u001b[0;32mIn[5], line 1\u001b[0;36m\u001b[0m\n\u001b[0;31m    Tab Completion\u001b[0m\n\u001b[0m        ^\u001b[0m\n\u001b[0;31mSyntaxError\u001b[0m\u001b[0;31m:\u001b[0m invalid syntax\n"
     ]
    }
   ],
   "source": [
    "Tab Completion\n"
   ]
  },
  {
   "cell_type": "code",
   "execution_count": 7,
   "id": "3a21ec2b-2d90-43f2-83f4-498feae2a23c",
   "metadata": {},
   "outputs": [
    {
     "ename": "SyntaxError",
     "evalue": "invalid syntax (1038234942.py, line 1)",
     "output_type": "error",
     "traceback": [
      "\u001b[0;36m  Cell \u001b[0;32mIn[7], line 1\u001b[0;36m\u001b[0m\n\u001b[0;31m    On the surface, the IPython shell looks like a cosmetically different version of the standard terminal Python interpreter (invoked with python). One of the major improvements over the standard Python shell is tab completion, found in many IDEs or other interactive computing analysis environments. While entering expressions in the shell, pressing the Tab key will search the namespace for any variables (objects, functions, etc.) matching the characters you have typed so far and show the results in a convenient drop-down menu:\u001b[0m\n\u001b[0m       ^\u001b[0m\n\u001b[0;31mSyntaxError\u001b[0m\u001b[0;31m:\u001b[0m invalid syntax\n"
     ]
    }
   ],
   "source": [
    "On the surface, the IPython shell looks like a cosmetically different version of the standard terminal Python interpreter (invoked with python). One of the major improvements over the standard Python shell is tab completion, found in many IDEs or other interactive computing analysis environments. While entering expressions in the shell, pressing the Tab key will search the namespace for any variables (objects, functions, etc.) matching the characters you have typed so far and show the results in a convenient drop-down menu:"
   ]
  },
  {
   "cell_type": "code",
   "execution_count": null,
   "id": "d0489553-3cf8-4a44-b068-834b9b14a5f8",
   "metadata": {},
   "outputs": [],
   "source": [
    "In [1]: an_apple = 27\n",
    "\n",
    "In [2]: an_example = 42\n",
    "\n",
    "In [3]: an<Tab>\n",
    "an_apple   an_example  any"
   ]
  },
  {
   "cell_type": "code",
   "execution_count": null,
   "id": "b52a9439-1632-4604-84d9-50c818ecd658",
   "metadata": {},
   "outputs": [],
   "source": [
    "In this example, note that IPython displayed both of the two variables I defined, as well as the built-in function any. Also, you can also complete methods and attributes on any object after typing a period:"
   ]
  },
  {
   "cell_type": "code",
   "execution_count": null,
   "id": "6f76eb2f-65be-4ce0-a238-b0a4c0d162da",
   "metadata": {},
   "outputs": [],
   "source": [
    "b = [1, 2, 3]\n",
    "b.<tab>"
   ]
  },
  {
   "cell_type": "code",
   "execution_count": null,
   "id": "88f37411-b1f2-48ad-a12b-6d05fdb6598c",
   "metadata": {},
   "outputs": [],
   "source": [
    "The same is true for modules:\n",
    "\n"
   ]
  },
  {
   "cell_type": "code",
   "execution_count": null,
   "id": "778474f8-23c7-4ab4-9460-61c087f0d72d",
   "metadata": {},
   "outputs": [],
   "source": [
    "import datetime\n",
    " datetime.<Tab>"
   ]
  },
  {
   "cell_type": "code",
   "execution_count": null,
   "id": "ed77d5d8-327b-4d17-b4a0-073b9c93b592",
   "metadata": {},
   "outputs": [],
   "source": [
    "Note that IPython by default hides methods and attributes starting with underscores, such as magic methods and internal “private” methods and attributes, in order to avoid cluttering the display (and confusing novice users!). These, too, can be tab-completed, but you must first type an underscore to see them. If you prefer to always see such methods in tab completion, you can change this setting in the IPython configuration. See the IPython documentation to find out how to do this."
   ]
  },
  {
   "cell_type": "code",
   "execution_count": null,
   "id": "94afce1e-c87f-4a24-8462-d69e6bdd988c",
   "metadata": {},
   "outputs": [],
   "source": [
    "Tab completion works in many contexts outside of searching the interactive namespace and completing object or module attributes. When typing anything that looks like a file path (even in a Python string), pressing the Tab key will complete anything on your computer’s filesystem matching what you’ve typed.\n",
    "\n",
    "Combined with the %run command (see “The %run Command”), this functionality can save you many keystrokes.\n",
    "\n",
    "Another area where tab completion saves time is in the completion of function keyword arguments (including the = sign!). See Figure 2-4."
   ]
  },
  {
   "cell_type": "code",
   "execution_count": 9,
   "id": "9b2a74d0-4f2f-4a1f-ba3a-aa7906ee9115",
   "metadata": {},
   "outputs": [
    {
     "name": "stdout",
     "output_type": "stream",
     "text": [
      "zsh:1: number expected\n"
     ]
    }
   ],
   "source": [
    "![](pda3_0204.png)"
   ]
  },
  {
   "cell_type": "code",
   "execution_count": null,
   "id": "89c3ede7-e26a-483d-87ff-b6f7cff1fb00",
   "metadata": {},
   "outputs": [],
   "source": [
    "We’ll have a closer look at functions in a little bit."
   ]
  },
  {
   "cell_type": "code",
   "execution_count": null,
   "id": "32de98f5-a926-4993-b091-a44bdea20d91",
   "metadata": {},
   "outputs": [],
   "source": [
    "Introspection"
   ]
  },
  {
   "cell_type": "code",
   "execution_count": null,
   "id": "82cad866-282d-481b-86da-c18db0df15f0",
   "metadata": {},
   "outputs": [],
   "source": [
    "Using a question mark (?) before or after a variable will display some general information about the object:"
   ]
  },
  {
   "cell_type": "code",
   "execution_count": 11,
   "id": "3dd2e285-0876-43a3-992d-5c0ec9b838b3",
   "metadata": {},
   "outputs": [],
   "source": [
    "b = [1, 2, 3]"
   ]
  },
  {
   "cell_type": "code",
   "execution_count": null,
   "id": "3abcd5cf-cc00-43a0-9675-a3c0fc093ac0",
   "metadata": {},
   "outputs": [],
   "source": [
    "b?"
   ]
  },
  {
   "cell_type": "code",
   "execution_count": null,
   "id": "b3b31135-7272-4c1b-bbeb-8346e096c061",
   "metadata": {},
   "outputs": [],
   "source": [
    "print?"
   ]
  },
  {
   "cell_type": "code",
   "execution_count": null,
   "id": "659805d2-6876-478d-83d3-7aa9dfffe69e",
   "metadata": {},
   "outputs": [],
   "source": [
    "This is referred to as object introspection. If the object is a function or instance method, the docstring, if defined, will also be shown. Suppose we’d written the following function (which you can reproduce in IPython or Jupyter):"
   ]
  },
  {
   "cell_type": "code",
   "execution_count": null,
   "id": "c8702270-8d63-4b9b-8c54-46a9ec58a3c4",
   "metadata": {},
   "outputs": [],
   "source": [
    "def add_numbers(a, b):\n",
    "    \"\"\"\n",
    "    Add two numbers together\n",
    "\n",
    "    Returns\n",
    "    -------\n",
    "    the_sum : type of arguments\n",
    "    \"\"\"\n",
    "    return a + b"
   ]
  },
  {
   "cell_type": "code",
   "execution_count": null,
   "id": "f1de3e5a-3852-45a5-9721-7ce420bc2e14",
   "metadata": {},
   "outputs": [],
   "source": [
    "Then using ? shows us the docstring:"
   ]
  },
  {
   "cell_type": "code",
   "execution_count": null,
   "id": "bc89464e-b2b5-4d33-9a84-0eba3649550f",
   "metadata": {},
   "outputs": [],
   "source": [
    "add_numbers?"
   ]
  },
  {
   "cell_type": "code",
   "execution_count": null,
   "id": "4f42cc87-beb6-4f54-9644-be731af6559a",
   "metadata": {},
   "outputs": [],
   "source": [
    "? has a final usage, which is for searching the IPython namespace in a manner similar to the standard Unix or Windows command line. A number of characters combined with the wildcard (*) will show all names matching the wildcard expression. For example, we could get a list of all functions in the top-level NumPy namespace containing load:"
   ]
  },
  {
   "cell_type": "code",
   "execution_count": 13,
   "id": "06235880-b1a4-4725-80eb-9b987bbf1cf0",
   "metadata": {},
   "outputs": [],
   "source": [
    "import numpy as np"
   ]
  },
  {
   "cell_type": "code",
   "execution_count": null,
   "id": "3218bb56-6c66-4819-89a6-969c278e3ead",
   "metadata": {},
   "outputs": [],
   "source": [
    "np.*load*?"
   ]
  },
  {
   "cell_type": "code",
   "execution_count": null,
   "id": "c2dd3b54-c12a-4853-b222-7ba7cd71173c",
   "metadata": {},
   "outputs": [],
   "source": [
    "2.3 Python Language Basics"
   ]
  },
  {
   "cell_type": "code",
   "execution_count": null,
   "id": "04f05b78-d65b-42ed-a559-307564912a7e",
   "metadata": {},
   "outputs": [],
   "source": [
    "In this section, I will give you an overview of essential Python programming concepts and language mechanics. In the next chapter, I will go into more detail about Python data structures, functions, and other built-in tools."
   ]
  },
  {
   "cell_type": "code",
   "execution_count": null,
   "id": "b654c4c3-3dfc-4e7d-8a4c-2bee26e19a95",
   "metadata": {},
   "outputs": [],
   "source": [
    "Language Semantics"
   ]
  },
  {
   "cell_type": "code",
   "execution_count": null,
   "id": "be6cdae3-4940-457e-9482-77daa53c8b9c",
   "metadata": {},
   "outputs": [],
   "source": [
    "The Python language design is distinguished by its emphasis on readability, simplicity, and explicitness. Some people go so far as to liken it to “executable pseudocode.”"
   ]
  },
  {
   "cell_type": "code",
   "execution_count": null,
   "id": "65e0aa3d-a170-4a54-8a55-cc00ca87c51c",
   "metadata": {},
   "outputs": [],
   "source": [
    "Indentation, not braces"
   ]
  },
  {
   "cell_type": "code",
   "execution_count": null,
   "id": "eea90d32-75b0-4a75-9d7a-6478f0907ab9",
   "metadata": {},
   "outputs": [],
   "source": [
    "Python uses whitespace (tabs or spaces) to structure code instead of using braces as in many other languages like R, C++, Java, and Perl. Consider a for loop from a sorting algorithm:"
   ]
  },
  {
   "cell_type": "code",
   "execution_count": null,
   "id": "e8f69c14-5148-4214-885b-2219818ec6ca",
   "metadata": {},
   "outputs": [],
   "source": [
    "for x in array:\n",
    "    if x < pivot:\n",
    "        less.append(x)\n",
    "    else:\n",
    "        greater.append(x)"
   ]
  },
  {
   "cell_type": "code",
   "execution_count": null,
   "id": "7c128a33-be7f-4e71-a672-a03d0d82073a",
   "metadata": {},
   "outputs": [],
   "source": [
    "A colon denotes the start of an indented code block after which all of the code must be indented by the same amount until the end of the block.\n",
    "\n",
    "Love it or hate it, significant whitespace is a fact of life for Python programmers. While it may seem foreign at first, you will hopefully grow accustomed to it in time."
   ]
  },
  {
   "cell_type": "code",
   "execution_count": null,
   "id": "e5403404-5852-4598-bc10-eb2a1fa6c3d0",
   "metadata": {},
   "outputs": [],
   "source": [
    "As you can see by now, Python statements also do not need to be terminated by semicolons. Semicolons can be used, however, to separate multiple statements on a single line:"
   ]
  },
  {
   "cell_type": "code",
   "execution_count": null,
   "id": "e1a88b53-3b23-48c5-b07d-6ff651e9e59c",
   "metadata": {},
   "outputs": [],
   "source": [
    "a = 5; b = 6; c = 7"
   ]
  },
  {
   "cell_type": "code",
   "execution_count": null,
   "id": "371093c0-2de8-4519-b2b6-65490ae4481f",
   "metadata": {},
   "outputs": [],
   "source": [
    "Putting multiple statements on one line is generally discouraged in Python as it can make code less readable."
   ]
  },
  {
   "cell_type": "code",
   "execution_count": null,
   "id": "0c82f1fd-f166-4476-9388-9ef829818c8e",
   "metadata": {},
   "outputs": [],
   "source": [
    "Everything is an object\n"
   ]
  },
  {
   "cell_type": "code",
   "execution_count": null,
   "id": "204a96b7-4725-4a04-80be-09ea7cc61620",
   "metadata": {},
   "outputs": [],
   "source": [
    "An important characteristic of the Python language is the consistency of its object model. Every number, string, data structure, function, class, module, and so on exists in the Python interpreter in its own “box,” which is referred to as a Python object. Each object has an associated type (e.g., integer, string, or function) and internal data. In practice this makes the language very flexible, as even functions can be treated like any other object."
   ]
  },
  {
   "cell_type": "code",
   "execution_count": null,
   "id": "0c4478b4-1bec-4fc8-b70a-cd415537fa00",
   "metadata": {},
   "outputs": [],
   "source": [
    "Comments"
   ]
  },
  {
   "cell_type": "code",
   "execution_count": null,
   "id": "6cdc272d-b8b4-4780-bc2f-1aaaf6eb3428",
   "metadata": {},
   "outputs": [],
   "source": [
    "Any text preceded by the hash mark (pound sign) # is ignored by the Python interpreter. This is often used to add comments to code. At times you may also want to exclude certain blocks of code without deleting them. One solution is to comment out the code:"
   ]
  },
  {
   "cell_type": "code",
   "execution_count": null,
   "id": "c57c44e0-e751-464d-b28e-17a3badaca6d",
   "metadata": {},
   "outputs": [],
   "source": [
    "results = []\n",
    "for line in file_handle:\n",
    "    # keep the empty lines for now\n",
    "    # if len(line) == 0:\n",
    "    #   continue\n",
    "    results.append(line.replace(\"foo\", \"bar\"))"
   ]
  },
  {
   "cell_type": "code",
   "execution_count": null,
   "id": "393fe663-cd6a-48ba-a017-b1944178ac89",
   "metadata": {},
   "outputs": [],
   "source": [
    "Comments can also occur after a line of executed code. While some programmers prefer comments to be placed in the line preceding a particular line of code, this can be useful at times:"
   ]
  },
  {
   "cell_type": "code",
   "execution_count": null,
   "id": "b1c84935-7294-4aee-8da4-7914edf9ae1f",
   "metadata": {},
   "outputs": [],
   "source": [
    "print(\"Reached this line\")  # Simple status report"
   ]
  },
  {
   "cell_type": "code",
   "execution_count": null,
   "id": "1c2dbb43-8da3-46fb-8a19-ae5f58640618",
   "metadata": {},
   "outputs": [],
   "source": [
    "Function and object method calls"
   ]
  },
  {
   "cell_type": "code",
   "execution_count": null,
   "id": "5ea811b9-7a23-48cf-84d0-034d56b67d43",
   "metadata": {},
   "outputs": [],
   "source": [
    "You call functions using parentheses and passing zero or more arguments, optionally assigning the returned value to a variable:"
   ]
  },
  {
   "cell_type": "code",
   "execution_count": null,
   "id": "df838ac2-4ed8-4704-a251-29b63de4b86d",
   "metadata": {},
   "outputs": [],
   "source": [
    "result = f(x, y, z)\n",
    "g()"
   ]
  },
  {
   "cell_type": "code",
   "execution_count": null,
   "id": "a3f32374-262e-4d01-ba73-b0df0abee3e7",
   "metadata": {},
   "outputs": [],
   "source": [
    "Almost every object in Python has attached functions, known as methods, that have access to the object’s internal contents. You can call them using the following syntax:"
   ]
  },
  {
   "cell_type": "code",
   "execution_count": null,
   "id": "3af08aba-049d-428a-ac30-9c67899db3ba",
   "metadata": {},
   "outputs": [],
   "source": [
    "obj.some_method(x, y, z)"
   ]
  },
  {
   "cell_type": "code",
   "execution_count": null,
   "id": "aca6418e-2b0c-4d68-86b0-b50762b252f4",
   "metadata": {},
   "outputs": [],
   "source": [
    "Functions can take both positional and keyword arguments:"
   ]
  },
  {
   "cell_type": "code",
   "execution_count": null,
   "id": "7963e5f8-3066-405d-9bc6-9e4fcc78f040",
   "metadata": {},
   "outputs": [],
   "source": [
    "result = f(a, b, c, d=5, e=\"foo\")"
   ]
  },
  {
   "cell_type": "code",
   "execution_count": null,
   "id": "ed735f42-dd78-44e6-80e9-0f6a07c77265",
   "metadata": {},
   "outputs": [],
   "source": [
    "We will look at this in more detail later."
   ]
  },
  {
   "cell_type": "code",
   "execution_count": null,
   "id": "b1206cc7-09cc-4103-868d-c8e7f8abfdcf",
   "metadata": {},
   "outputs": [],
   "source": [
    "Variables and argument passing\n"
   ]
  },
  {
   "cell_type": "code",
   "execution_count": null,
   "id": "f52c8736-4425-402c-96b9-a07562610d79",
   "metadata": {},
   "outputs": [],
   "source": [
    "When assigning a variable (or name) in Python, you are creating a reference to the object shown on the righthand side of the equals sign. In practical terms, consider a list of integers:"
   ]
  },
  {
   "cell_type": "code",
   "execution_count": null,
   "id": "ae23e6e9-fa3c-4060-9d29-c8cacb43257e",
   "metadata": {},
   "outputs": [],
   "source": [
    "a = [1, 2, 3]"
   ]
  },
  {
   "cell_type": "code",
   "execution_count": null,
   "id": "a3961677-b14d-4d0f-a08a-6a1e5fd98325",
   "metadata": {},
   "outputs": [],
   "source": [
    "Suppose we assign a to a new variable b:"
   ]
  },
  {
   "cell_type": "code",
   "execution_count": 15,
   "id": "8c3dc9e7-3e4e-4020-9669-cf0b4e6d86dc",
   "metadata": {},
   "outputs": [
    {
     "ename": "NameError",
     "evalue": "name 'a' is not defined",
     "output_type": "error",
     "traceback": [
      "\u001b[0;31m---------------------------------------------------------------------------\u001b[0m",
      "\u001b[0;31mNameError\u001b[0m                                 Traceback (most recent call last)",
      "Cell \u001b[0;32mIn[15], line 1\u001b[0m\n\u001b[0;32m----> 1\u001b[0m b \u001b[38;5;241m=\u001b[39m a\n",
      "\u001b[0;31mNameError\u001b[0m: name 'a' is not defined"
     ]
    }
   ],
   "source": [
    "b = a\n",
    "b"
   ]
  },
  {
   "cell_type": "code",
   "execution_count": null,
   "id": "1f3d56f4-4f96-4c06-97d4-5a473971d905",
   "metadata": {},
   "outputs": [],
   "source": [
    "In some languages, the assignment if b will cause the data [1, 2, 3] to be copied. In Python, a and b actually now refer to the same object, the original list [1, 2, 3] (see Figure 2-5 for a mock-up). You can prove this to yourself by appending an element to a and then examining b:"
   ]
  },
  {
   "cell_type": "code",
   "execution_count": 17,
   "id": "24f8c20b-faaf-4b6c-a7df-70e1b6d6ce15",
   "metadata": {},
   "outputs": [
    {
     "name": "stdout",
     "output_type": "stream",
     "text": [
      "zsh:1: number expected\n"
     ]
    }
   ],
   "source": [
    "![](pda3_0205.png)"
   ]
  },
  {
   "cell_type": "code",
   "execution_count": null,
   "id": "c3bd4ee9-71a4-415e-82fa-f813e77fdf93",
   "metadata": {},
   "outputs": [],
   "source": [
    "Understanding the semantics of references in Python, and when, how, and why data is copied, is especially critical when you are working with larger datasets in Python."
   ]
  },
  {
   "cell_type": "code",
   "execution_count": null,
   "id": "79e0fe93-68f1-4f24-bffc-09d1f1c059e2",
   "metadata": {},
   "outputs": [],
   "source": [
    "Assignment is also referred to as binding, as we are binding a name to an object. Variable names that have been assigned may occasionally be referred to as bound variables."
   ]
  },
  {
   "cell_type": "code",
   "execution_count": null,
   "id": "3835b5ed-d485-49e4-b399-ea70222871f2",
   "metadata": {},
   "outputs": [],
   "source": [
    "When you pass objects as arguments to a function, new local variables are created referencing the original objects without any copying. If you bind a new object to a variable inside a function, that will not overwrite a variable of the same name in the “scope” outside of the function (the “parent scope”). It is therefore possible to alter the internals of a mutable argument. Suppose we had the following function:"
   ]
  },
  {
   "cell_type": "code",
   "execution_count": null,
   "id": "7e1b110b-36dc-4590-8c98-05b6143e76cf",
   "metadata": {},
   "outputs": [],
   "source": [
    "def append_element(some_list, element):\n",
    "    some_list.append(element)"
   ]
  },
  {
   "cell_type": "code",
   "execution_count": null,
   "id": "d683560c-ba1f-4573-a865-d0f502536657",
   "metadata": {},
   "outputs": [],
   "source": [
    "Then we have:"
   ]
  },
  {
   "cell_type": "code",
   "execution_count": null,
   "id": "cb9b80fc-cd37-4fb7-b738-44bd844c14d1",
   "metadata": {},
   "outputs": [],
   "source": [
    "data = [1, 2, 3]\n",
    "\n",
    "append_element(data, 4)\n",
    "\n",
    "data\n"
   ]
  },
  {
   "cell_type": "code",
   "execution_count": null,
   "id": "39f4ef3f-f52a-4df7-a82d-312bd700d412",
   "metadata": {},
   "outputs": [],
   "source": [
    "Dynamic references, strong types\n"
   ]
  },
  {
   "cell_type": "code",
   "execution_count": null,
   "id": "c500a18a-3306-4519-ab34-38867065a9ea",
   "metadata": {},
   "outputs": [],
   "source": [
    "Variables in Python have no inherent type associated with them; a variable can refer to a different type of object simply by doing an assignment. There is no problem with the following:"
   ]
  },
  {
   "cell_type": "code",
   "execution_count": null,
   "id": "a26256c1-2193-4a8b-9967-2b2bc2440dac",
   "metadata": {},
   "outputs": [],
   "source": [
    "a = 5\n",
    "type(a)"
   ]
  },
  {
   "cell_type": "code",
   "execution_count": null,
   "id": "70f06e45-42c2-4b62-aa2b-d1e1c331a3e5",
   "metadata": {},
   "outputs": [],
   "source": [
    "a = \"foo\"\n",
    "type(a)"
   ]
  },
  {
   "cell_type": "code",
   "execution_count": null,
   "id": "fbc7a36f-6307-4a5f-8345-7c499fdc6b6d",
   "metadata": {},
   "outputs": [],
   "source": [
    "Variables are names for objects within a particular namespace; the type information is stored in the object itself. Some observers might hastily conclude that Python is not a “typed language.” This is not true; consider this example:"
   ]
  },
  {
   "cell_type": "code",
   "execution_count": null,
   "id": "06165eee-1534-4b2c-8516-206420aa86eb",
   "metadata": {},
   "outputs": [],
   "source": [
    "\"5\" + 5"
   ]
  },
  {
   "cell_type": "code",
   "execution_count": null,
   "id": "6ee2100a-cbc4-4f31-baf8-7c4c98596ce0",
   "metadata": {},
   "outputs": [],
   "source": [
    "In some languages, the string '5' might get implicitly converted (or cast) to an integer, thus yielding 10. In other languages the integer 5 might be cast to a string, yielding the concatenated string '55'. In Python, such implicit casts are not allowed. In this regard we say that Python is a strongly typed language, which means that every object has a specific type (or class), and implicit conversions will occur only in certain permitted circumstances, such as:"
   ]
  },
  {
   "cell_type": "code",
   "execution_count": null,
   "id": "35730df4-3b05-4964-ba24-bbf0697ba50c",
   "metadata": {},
   "outputs": [],
   "source": [
    "a = 4.5\n",
    "\n",
    "b = 2\n",
    "\n",
    "# String formatting, to be visited later\n",
    "print(f\"a is {type(a)}, b is {type(b)}\")"
   ]
  },
  {
   "cell_type": "code",
   "execution_count": null,
   "id": "7a1e20c4-6054-404a-976e-6f7bb4b4e872",
   "metadata": {},
   "outputs": [],
   "source": [
    "a / b"
   ]
  },
  {
   "cell_type": "code",
   "execution_count": null,
   "id": "11121375-a0a4-4747-90a6-1bd70f45d4cc",
   "metadata": {},
   "outputs": [],
   "source": [
    "Here, even though b is an integer, it is implicitly converted to a float for the division operation.\n",
    "\n",
    "Knowing the type of an object is important, and it’s useful to be able to write functions that can handle many different kinds of input. You can check that an object is an instance of a particular type using the isinstance function:"
   ]
  },
  {
   "cell_type": "code",
   "execution_count": null,
   "id": "4b4d222d-6e23-45a3-9be4-eb1c26622be3",
   "metadata": {},
   "outputs": [],
   "source": [
    "a = 5\n",
    "isinstance(a, int)"
   ]
  },
  {
   "cell_type": "code",
   "execution_count": null,
   "id": "019bc40f-e429-4d1c-8760-d37773462104",
   "metadata": {},
   "outputs": [],
   "source": [
    "isinstance can accept a tuple of types if you want to check that an object’s type is among those present in the tuple:"
   ]
  },
  {
   "cell_type": "code",
   "execution_count": null,
   "id": "1d3ffb65-efa1-4b90-a26f-c09f96c57ac9",
   "metadata": {},
   "outputs": [],
   "source": [
    "In [28]: a = 5; b = 4.5\n",
    "\n",
    "In [29]: isinstance(a, (int, float))\n",
    "Out[29]: True\n",
    "\n",
    "In [30]: isinstance(b, (int, float))\n",
    "Out[30]: True"
   ]
  },
  {
   "cell_type": "code",
   "execution_count": null,
   "id": "623250a6-2047-4fa5-91fa-2310682fbf88",
   "metadata": {},
   "outputs": [],
   "source": [
    "Attributes and methods"
   ]
  },
  {
   "cell_type": "code",
   "execution_count": null,
   "id": "657363dd-5e6f-41b3-840d-631d6f71bea3",
   "metadata": {},
   "outputs": [],
   "source": [
    "Objects in Python typically have both attributes (other Python objects stored “inside” the object) and methods (functions associated with an object that can have access to the object’s internal data). Both of them are accessed via the syntax obj.attribute_name:"
   ]
  },
  {
   "cell_type": "code",
   "execution_count": null,
   "id": "de21a731-1b39-416f-aabf-6d6ac469155c",
   "metadata": {},
   "outputs": [],
   "source": [
    "a = \"foo\"\n",
    "a.<Press Tab>"
   ]
  },
  {
   "cell_type": "code",
   "execution_count": null,
   "id": "3f70974f-f9e6-4343-8c60-c068d20b0a27",
   "metadata": {},
   "outputs": [],
   "source": [
    "Attributes and methods can also be accessed by name via the getattr function:\n",
    "\n"
   ]
  },
  {
   "cell_type": "code",
   "execution_count": null,
   "id": "c860490a-5d3f-4598-a990-70ff1aef59f4",
   "metadata": {},
   "outputs": [],
   "source": [
    "getattr(a, \"split\")"
   ]
  },
  {
   "cell_type": "code",
   "execution_count": null,
   "id": "f5e4598a-339b-4107-b4a5-a7668c3e2792",
   "metadata": {},
   "outputs": [],
   "source": [
    "While we will not extensively use the functions getattr and related functions hasattr and setattr in this book, they can be used very effectively to write generic, reusable code."
   ]
  },
  {
   "cell_type": "code",
   "execution_count": null,
   "id": "fac8f056-94b2-44e6-be73-366fbb3e69c4",
   "metadata": {},
   "outputs": [],
   "source": [
    "Duck typing"
   ]
  },
  {
   "cell_type": "code",
   "execution_count": null,
   "id": "61246552-3b5d-4f5b-b13e-87be8e605863",
   "metadata": {},
   "outputs": [],
   "source": [
    "Often you may not care about the type of an object but rather only whether it has certain methods or behavior. This is sometimes called duck typing, after the saying “If it walks like a duck and quacks like a duck, then it’s a duck.” For example, you can verify that an object is iterable if it implements the iterator protocol. For many objects, this means it has an __iter__ “magic method,” though an alternative and better way to check is to try using the iter function:"
   ]
  },
  {
   "cell_type": "code",
   "execution_count": null,
   "id": "b902660e-d2fd-4906-b981-fd619855500d",
   "metadata": {},
   "outputs": [],
   "source": [
    "def isiterable(obj):\n",
    "     try:\n",
    "         iter(obj)\n",
    "         return True\n",
    "     except TypeError: # not iterable\n",
    "         return False"
   ]
  },
  {
   "cell_type": "code",
   "execution_count": null,
   "id": "454bda81-0fc1-4da8-b7b2-bc4859779c70",
   "metadata": {},
   "outputs": [],
   "source": [
    "This function would return True for strings as well as most Python collection types:"
   ]
  },
  {
   "cell_type": "code",
   "execution_count": null,
   "id": "76254524-fadb-4248-aafe-d8f35fee5403",
   "metadata": {},
   "outputs": [],
   "source": [
    "isiterable(\"a string\")"
   ]
  },
  {
   "cell_type": "code",
   "execution_count": null,
   "id": "ab94a42a-befd-4aa3-a05d-8d2834d278c5",
   "metadata": {},
   "outputs": [],
   "source": [
    "isiterable([1, 2, 3])"
   ]
  },
  {
   "cell_type": "code",
   "execution_count": null,
   "id": "a5496ff0-2a34-4213-9878-892bb5ace89c",
   "metadata": {},
   "outputs": [],
   "source": [
    "isiterable(5)"
   ]
  },
  {
   "cell_type": "code",
   "execution_count": null,
   "id": "5a4b4122-2cb9-4b60-a18b-53fab501b143",
   "metadata": {},
   "outputs": [],
   "source": [
    "In Python, a module is simply a file with the .py extension containing Python code. Suppose we had the following module:"
   ]
  },
  {
   "cell_type": "code",
   "execution_count": null,
   "id": "af120490-0234-49b6-950e-aab40b1eb316",
   "metadata": {},
   "outputs": [],
   "source": [
    "# some_module.py\n",
    "PI = 3.14159\n",
    "\n",
    "def f(x):\n",
    "    return x + 2\n",
    "\n",
    "def g(a, b):\n",
    "    return a + b"
   ]
  },
  {
   "cell_type": "code",
   "execution_count": null,
   "id": "cd4dc071-e8eb-4621-a400-289f0492b95d",
   "metadata": {},
   "outputs": [],
   "source": [
    "If we wanted to access the variables and functions defined in some_module.py, from another file in the same directory we could do:"
   ]
  },
  {
   "cell_type": "code",
   "execution_count": null,
   "id": "a59e973c-bf1b-4041-97a4-742878ce008d",
   "metadata": {},
   "outputs": [],
   "source": [
    "import some_module\n",
    "result = some_module.f(5)\n",
    "pi = some_module.PI"
   ]
  },
  {
   "cell_type": "code",
   "execution_count": null,
   "id": "c6ff2c80-2c7d-4ebe-a117-048e9e3ea4ae",
   "metadata": {},
   "outputs": [],
   "source": [
    "Or alternately:"
   ]
  },
  {
   "cell_type": "code",
   "execution_count": null,
   "id": "c8cdadfc-269e-4c1e-b551-9e4f0a8b892d",
   "metadata": {},
   "outputs": [],
   "source": [
    "from some_module import g, PI\n",
    "result = g(5, PI)"
   ]
  },
  {
   "cell_type": "code",
   "execution_count": null,
   "id": "0ea2c532-eeae-4677-a4f8-c1dca9652d68",
   "metadata": {},
   "outputs": [],
   "source": [
    "By using the as keyword, you can give imports different variable names:"
   ]
  },
  {
   "cell_type": "code",
   "execution_count": null,
   "id": "e52ea023-f7d1-4ffd-8131-851d9cc4f17f",
   "metadata": {},
   "outputs": [],
   "source": [
    "import some_module as sm\n",
    "from some_module import PI as pi, g as gf\n",
    "\n",
    "r1 = sm.f(pi)\n",
    "r2 = gf(6, pi)"
   ]
  },
  {
   "cell_type": "code",
   "execution_count": null,
   "id": "1c0ed86a-38e0-447b-bbb4-947a9400b97a",
   "metadata": {},
   "outputs": [],
   "source": [
    "Binary operators and comparisons"
   ]
  },
  {
   "cell_type": "code",
   "execution_count": null,
   "id": "5cb76a97-b0b6-4bb4-a137-5ce797f6e9d5",
   "metadata": {},
   "outputs": [],
   "source": [
    "Most of the binary math operations and comparisons use familiar mathematical syntax used in other programming languages:"
   ]
  },
  {
   "cell_type": "code",
   "execution_count": null,
   "id": "ce28cd7d-8989-475b-b21d-2ce28735f066",
   "metadata": {},
   "outputs": [],
   "source": [
    "5 - 7"
   ]
  },
  {
   "cell_type": "code",
   "execution_count": null,
   "id": "ff6d0d7c-723a-46d1-910c-0352a57209d5",
   "metadata": {},
   "outputs": [],
   "source": [
    "12 + 21.5"
   ]
  },
  {
   "cell_type": "code",
   "execution_count": null,
   "id": "1c84169c-29c8-440e-bb1f-3559112fc318",
   "metadata": {},
   "outputs": [],
   "source": [
    "5 <= 2"
   ]
  },
  {
   "cell_type": "code",
   "execution_count": null,
   "id": "5d94b268-227f-41a2-9f39-09df2c92555f",
   "metadata": {},
   "outputs": [],
   "source": [
    "See Table 2-1 for all of the available binary operators."
   ]
  },
  {
   "cell_type": "code",
   "execution_count": null,
   "id": "25d909b5-72d9-470c-a3e4-b1c7aa188bd4",
   "metadata": {},
   "outputs": [],
   "source": [
    "Operation\tDescription\n",
    "a + b\tAdd a and b\n",
    "a - b\tSubtract b from a\n",
    "a * b\tMultiply a by b\n",
    "a / b\tDivide a by b\n",
    "a // b\tFloor-divide a by b, dropping any fractional remainder\n",
    "a ** b\tRaise a to the b power\n",
    "a & b\tTrue if both a and b are True; for integers, take the bitwise AND\n",
    "a | b\tTrue if either a or b is True; for integers, take the bitwise OR\n",
    "a ^ b\tFor Booleans, True if a or b is True, but not both; for integers, take the bitwise EXCLUSIVE-OR\n",
    "a == b\tTrue if a equals b\n",
    "a != b\tTrue if a is not equal to b\n",
    "a < b, a <= b\tTrue if a is less than (less than or equal to) b\n",
    "a > b, a >= b\tTrue if a is greater than (greater than or equal to) b\n",
    "a is b\tTrue if a and b reference the same Python object\n",
    "a is not b\tTrue if a and b reference different Python objects"
   ]
  },
  {
   "cell_type": "code",
   "execution_count": null,
   "id": "d6f4ba47-fb86-4b24-af11-f1db6db6c07b",
   "metadata": {},
   "outputs": [],
   "source": [
    "To check if two variables refer to the same object, use the is keyword. Use is not to check that two objects are not the same:"
   ]
  },
  {
   "cell_type": "code",
   "execution_count": null,
   "id": "5b02996a-4c17-47ee-a60e-8fb690d2867d",
   "metadata": {},
   "outputs": [],
   "source": [
    "a = [1, 2, 3]\n",
    "\n",
    "b = a\n",
    "\n",
    "c = list(a)"
   ]
  },
  {
   "cell_type": "code",
   "execution_count": null,
   "id": "2afa6374-6677-4bde-87b8-b7b5c1f0cf8b",
   "metadata": {},
   "outputs": [],
   "source": [
    "a is b"
   ]
  },
  {
   "cell_type": "code",
   "execution_count": null,
   "id": "fe247d57-0095-48c4-8603-0e6aa08bf27c",
   "metadata": {},
   "outputs": [],
   "source": [
    "a is not c"
   ]
  },
  {
   "cell_type": "code",
   "execution_count": null,
   "id": "1e8b6480-c33e-438e-81cc-105a1d8a62e5",
   "metadata": {},
   "outputs": [],
   "source": [
    "Since the list function always creates a new Python list (i.e., a copy), we can be sure that c is distinct from a. Comparing with is is not the same as the == operator, because in this case we have:"
   ]
  },
  {
   "cell_type": "code",
   "execution_count": null,
   "id": "0282727e-3137-4a03-9b44-f100a166fc3f",
   "metadata": {},
   "outputs": [],
   "source": [
    "a == c"
   ]
  },
  {
   "cell_type": "code",
   "execution_count": null,
   "id": "a2ebd151-718f-48cb-8a1c-2071c0658f6d",
   "metadata": {},
   "outputs": [],
   "source": [
    "A common use of is and is not is to check if a variable is None, since there is only one instance of None:"
   ]
  },
  {
   "cell_type": "code",
   "execution_count": null,
   "id": "72bdabce-8535-438b-80c1-7407d96892ed",
   "metadata": {},
   "outputs": [],
   "source": [
    "a = None\n",
    "a is None"
   ]
  },
  {
   "cell_type": "code",
   "execution_count": null,
   "id": "b8c0585b-5f47-4e4a-97a3-2ce387fc2f3c",
   "metadata": {},
   "outputs": [],
   "source": [
    "Mutable and immutable objects"
   ]
  },
  {
   "cell_type": "code",
   "execution_count": null,
   "id": "33e4b983-a386-419c-bee4-c62d9eb47053",
   "metadata": {},
   "outputs": [],
   "source": [
    "Many objects in Python, such as lists, dictionaries, NumPy arrays, and most user-defined types (classes), are mutable. This means that the object or values that they contain can be modified:"
   ]
  },
  {
   "cell_type": "code",
   "execution_count": null,
   "id": "d2707d12-9f9a-4ace-b865-9e33a99467df",
   "metadata": {},
   "outputs": [],
   "source": [
    "a_list = [\"foo\", 2, [4, 5]]\n",
    "a_list[2] = (3, 4)\n",
    "a_list"
   ]
  },
  {
   "cell_type": "code",
   "execution_count": null,
   "id": "5ac0340b-f953-4f38-b45b-347ef9560f22",
   "metadata": {},
   "outputs": [],
   "source": [
    "Others, like strings and tuples, are immutable, which means their internal data cannot be changed:"
   ]
  },
  {
   "cell_type": "code",
   "execution_count": null,
   "id": "bbc2ddbf-075a-409a-ad66-bfa7e4efc583",
   "metadata": {},
   "outputs": [],
   "source": [
    "a_tuple = (3, 5, (4, 5))\n",
    "\n",
    "a_tuple[1] = \"four\""
   ]
  },
  {
   "cell_type": "code",
   "execution_count": null,
   "id": "46429d8e-d432-478a-af5b-f6cca8ed0196",
   "metadata": {},
   "outputs": [],
   "source": [
    "Remember that just because you can mutate an object does not mean that you always should. Such actions are known as side effects. For example, when writing a function, any side effects should be explicitly communicated to the user in the function’s documentation or comments. If possible, I recommend trying to avoid side effects and favor immutability, even though there may be mutable objects involved."
   ]
  },
  {
   "cell_type": "code",
   "execution_count": null,
   "id": "edee5687-a714-4022-a5e2-3753ca38ec23",
   "metadata": {},
   "outputs": [],
   "source": [
    "Scalar Types"
   ]
  },
  {
   "cell_type": "code",
   "execution_count": null,
   "id": "aa2e36d3-c881-463b-a8dc-a01a4d6c397f",
   "metadata": {},
   "outputs": [],
   "source": [
    "Python has a small set of built-in types for handling numerical data, strings, Boolean (True or False) values, and dates and time. These “single value” types are sometimes called scalar types, and we refer to them in this book as scalars . See Table 2-2 for a list of the main scalar types. Date and time handling will be discussed separately, as these are provided by the datetime module in the standard library."
   ]
  },
  {
   "cell_type": "code",
   "execution_count": null,
   "id": "1753b415-068c-43f5-af4e-c260a16f9af0",
   "metadata": {},
   "outputs": [],
   "source": [
    "Type\tDescription\n",
    "None\tThe Python “null” value (only one instance of the None object exists)\n",
    "str\tString type; holds Unicode strings\n",
    "bytes\tRaw binary data\n",
    "float\tDouble-precision floating-point number (note there is no separate double type)\n",
    "bool\tA Boolean True or False value\n",
    "int\tArbitrary precision integer"
   ]
  },
  {
   "cell_type": "code",
   "execution_count": null,
   "id": "2a4016d7-723f-4eac-9e4f-ed32ff87b1ea",
   "metadata": {},
   "outputs": [],
   "source": [
    "Numeric types"
   ]
  },
  {
   "cell_type": "code",
   "execution_count": null,
   "id": "2aeddbbf-2061-440b-b34b-7afe9a07040a",
   "metadata": {},
   "outputs": [],
   "source": [
    "The primary Python types for numbers are int and float. An int can store arbitrarily large numbers:"
   ]
  },
  {
   "cell_type": "code",
   "execution_count": null,
   "id": "3af8690d-982c-4f13-ba0b-0176fc699bb9",
   "metadata": {},
   "outputs": [],
   "source": [
    "ival = 17239871\n",
    "\n",
    "ival ** 6"
   ]
  },
  {
   "cell_type": "code",
   "execution_count": null,
   "id": "aec098b9-3b47-42d4-9c37-88c8923e04c1",
   "metadata": {},
   "outputs": [],
   "source": [
    "Floating-point numbers are represented with the Python float type. Under the hood, each one is a double-precision value. They can also be expressed with scientific notation:"
   ]
  },
  {
   "cell_type": "code",
   "execution_count": null,
   "id": "3f476176-f7c8-464a-8f9e-db1733dc0e1c",
   "metadata": {},
   "outputs": [],
   "source": [
    "fval = 7.243\n",
    "\n",
    "fval2 = 6.78e-5"
   ]
  },
  {
   "cell_type": "code",
   "execution_count": null,
   "id": "0c1f64fd-83d3-4f6d-b215-bae8cddc3ba9",
   "metadata": {},
   "outputs": [],
   "source": [
    "Integer division not resulting in a whole number will always yield a floating-point number:"
   ]
  },
  {
   "cell_type": "code",
   "execution_count": null,
   "id": "c540df36-2986-48bb-ba3d-f550744d2aaa",
   "metadata": {},
   "outputs": [],
   "source": [
    "3 / 2"
   ]
  },
  {
   "cell_type": "code",
   "execution_count": null,
   "id": "656338e4-a571-4ecb-9acb-a0bad5f45b79",
   "metadata": {},
   "outputs": [],
   "source": [
    "To get C-style integer division (which drops the fractional part if the result is not a whole number), use the floor division operator //:"
   ]
  },
  {
   "cell_type": "code",
   "execution_count": null,
   "id": "84de06cb-a237-4bfb-9dc8-75fd2fc05cad",
   "metadata": {},
   "outputs": [],
   "source": [
    "3 // 2"
   ]
  },
  {
   "cell_type": "code",
   "execution_count": null,
   "id": "94faedc7-bd72-447b-89d3-d4786f366fa6",
   "metadata": {},
   "outputs": [],
   "source": [
    "Strings"
   ]
  },
  {
   "cell_type": "code",
   "execution_count": null,
   "id": "23f003c0-2cb5-4cc7-bea8-32c4f28573b1",
   "metadata": {},
   "outputs": [],
   "source": [
    "Many people use Python for its built-in string handling capabilities. You can write string literals using either single quotes ' or double quotes \" (double quotes are generally favored):"
   ]
  },
  {
   "cell_type": "code",
   "execution_count": null,
   "id": "580f8fd1-efab-4211-b031-a141e245d043",
   "metadata": {},
   "outputs": [],
   "source": [
    "a = 'one way of writing a string'\n",
    "b = \"another way\""
   ]
  },
  {
   "cell_type": "code",
   "execution_count": null,
   "id": "7ac5b4cd-bb08-435b-9590-8e35a62cca9e",
   "metadata": {},
   "outputs": [],
   "source": [
    "The Python string type is str.\n",
    "\n",
    "For multiline strings with line breaks, you can use triple quotes, either ''' or \"\"\":"
   ]
  },
  {
   "cell_type": "code",
   "execution_count": null,
   "id": "313b364d-67be-44a9-94b8-5ce0ecda19ad",
   "metadata": {},
   "outputs": [],
   "source": [
    "c = \"\"\"\n",
    "This is a longer string that\n",
    "spans multiple lines\n",
    "\"\"\""
   ]
  },
  {
   "cell_type": "code",
   "execution_count": null,
   "id": "c5a688b8-b5ff-4f6a-aca4-a00d3da84079",
   "metadata": {},
   "outputs": [],
   "source": [
    "It may surprise you that this string c actually contains four lines of text; the line breaks after \"\"\" and after lines are included in the string. We can count the new line characters with the count method on c:"
   ]
  },
  {
   "cell_type": "code",
   "execution_count": null,
   "id": "619c0b44-ae2c-4d87-943d-e6811447441d",
   "metadata": {},
   "outputs": [],
   "source": [
    "c.count(\"\\n\")"
   ]
  },
  {
   "cell_type": "code",
   "execution_count": null,
   "id": "9132ddbe-a449-4556-902d-dd6294eaca6f",
   "metadata": {},
   "outputs": [],
   "source": [
    "Python strings are immutable; you cannot modify a string:"
   ]
  },
  {
   "cell_type": "code",
   "execution_count": null,
   "id": "8e44e02e-1f67-47d5-a3d2-62a0c921c6a5",
   "metadata": {},
   "outputs": [],
   "source": [
    "a = \"this is a string\"\n",
    "\n",
    "a[10] = \"f\""
   ]
  },
  {
   "cell_type": "code",
   "execution_count": null,
   "id": "aeb39ccd-9fc4-4096-9ecf-651ea76ceeb1",
   "metadata": {},
   "outputs": [],
   "source": [
    "To interpret this error message, read from the bottom up. We tried to replace the character (the “item”) at position 10 with the letter \"f\", but this is not allowed for string objects. If we need to modify a string, we have to use a function or method that creates a new string, such as the string replace method:"
   ]
  },
  {
   "cell_type": "code",
   "execution_count": null,
   "id": "100822dc-ea0d-497b-906d-9fd5a7ac63c3",
   "metadata": {},
   "outputs": [],
   "source": [
    "b = a.replace(\"string\", \"longer string\")\n",
    "b"
   ]
  },
  {
   "cell_type": "code",
   "execution_count": null,
   "id": "0293a30c-2864-47ca-a7a3-049f11ad144d",
   "metadata": {},
   "outputs": [],
   "source": [
    "Afer this operation, the variable a is unmodified:"
   ]
  },
  {
   "cell_type": "code",
   "execution_count": null,
   "id": "b838f1c0-2123-4d99-92ae-fdcef6a4c00f",
   "metadata": {},
   "outputs": [],
   "source": [
    "a"
   ]
  },
  {
   "cell_type": "code",
   "execution_count": null,
   "id": "1d66b753-084b-404e-afff-53405f248987",
   "metadata": {},
   "outputs": [],
   "source": [
    "Many Python objects can be converted to a string using the str function:"
   ]
  },
  {
   "cell_type": "code",
   "execution_count": null,
   "id": "91f2c8df-c892-4fc7-a93b-8ad0f7e17dfa",
   "metadata": {},
   "outputs": [],
   "source": [
    "a = 5.6\n",
    "\n",
    "s = str(a)\n",
    "\n",
    "print(s)"
   ]
  },
  {
   "cell_type": "code",
   "execution_count": null,
   "id": "14d29797-7cbb-4ae2-bdbb-bb8c75fca40e",
   "metadata": {},
   "outputs": [],
   "source": [
    "Strings are a sequence of Unicode characters and therefore can be treated like other sequences, such as lists and tuples:"
   ]
  },
  {
   "cell_type": "code",
   "execution_count": null,
   "id": "aa4e4975-61cd-4323-aa84-5626d2e6cc21",
   "metadata": {},
   "outputs": [],
   "source": [
    "s = \"python\"\n",
    "\n",
    "list(s)\n"
   ]
  },
  {
   "cell_type": "code",
   "execution_count": null,
   "id": "34d1508b-f9bc-4c49-8760-d8edb96dafa8",
   "metadata": {},
   "outputs": [],
   "source": [
    "s[:3]"
   ]
  },
  {
   "cell_type": "code",
   "execution_count": null,
   "id": "cd21cb29-58d0-45ba-97b2-07b948e208c3",
   "metadata": {},
   "outputs": [],
   "source": [
    "The syntax s[:3] is called slicing and is implemented for many kinds of Python sequences. This will be explained in more detail later on, as it is used extensively in this book."
   ]
  },
  {
   "cell_type": "code",
   "execution_count": null,
   "id": "a6da28c2-9bcb-454b-b1d3-c615dee34178",
   "metadata": {},
   "outputs": [],
   "source": [
    "The backslash character \\ is an escape character, meaning that it is used to specify special characters like newline \\n or Unicode characters. To write a string literal with backslashes, you need to escape them:"
   ]
  },
  {
   "cell_type": "code",
   "execution_count": null,
   "id": "1403938f-4caa-439a-9461-e9aa5f5ddafc",
   "metadata": {},
   "outputs": [],
   "source": [
    "s = \"12\\\\34\"\n",
    "\n",
    "print(s)"
   ]
  },
  {
   "cell_type": "code",
   "execution_count": null,
   "id": "16f3e3d3-016c-4fcc-b131-50ec1ec0450f",
   "metadata": {},
   "outputs": [],
   "source": [
    "If you have a string with a lot of backslashes and no special characters, you might find this a bit annoying. Fortunately you can preface the leading quote of the string with r, which means that the characters should be interpreted as is:"
   ]
  },
  {
   "cell_type": "code",
   "execution_count": null,
   "id": "529896bc-12d3-4eba-8d15-37cc561d1a34",
   "metadata": {},
   "outputs": [],
   "source": [
    " s = r\"this\\has\\no\\special\\characters\"\n",
    "\n",
    "s"
   ]
  },
  {
   "cell_type": "code",
   "execution_count": null,
   "id": "6059c57f-bf14-4263-8607-452eaa00d0ab",
   "metadata": {},
   "outputs": [],
   "source": [
    "The r stands for raw.\n",
    "\n",
    "Adding two strings together concatenates them and produces a new string:"
   ]
  },
  {
   "cell_type": "code",
   "execution_count": null,
   "id": "fd08d166-66d1-4bee-8c5e-e270f129e460",
   "metadata": {},
   "outputs": [],
   "source": [
    "a = \"this is the first half \"\n",
    "\n",
    "b = \"and this is the second half\"\n",
    "\n",
    "a + b"
   ]
  },
  {
   "cell_type": "code",
   "execution_count": null,
   "id": "9cdd85a1-f8e7-40a0-9889-f766f14e015e",
   "metadata": {},
   "outputs": [],
   "source": [
    "String templating or formatting is another important topic. The number of ways to do so has expanded with the advent of Python 3, and here I will briefly describe the mechanics of one of the main interfaces. String objects have a format method that can be used to substitute formatted arguments into the string, producing a new string:"
   ]
  },
  {
   "cell_type": "code",
   "execution_count": null,
   "id": "712d45c6-6e16-4a70-a67d-cce79428c1d4",
   "metadata": {},
   "outputs": [],
   "source": [
    "template = \"{0:.2f} {1:s} are worth US${2:d}\""
   ]
  },
  {
   "cell_type": "code",
   "execution_count": null,
   "id": "0576dfe1-3c22-42a4-be3d-12da71f261e4",
   "metadata": {},
   "outputs": [],
   "source": [
    "In this string:\n",
    "\n",
    "{0:.2f} means to format the first argument as a floating-point number with two decimal places.\n",
    "\n",
    "{1:s} means to format the second argument as a string.\n",
    "\n",
    "{2:d} means to format the third argument as an exact integer.\n",
    "\n",
    "To substitute arguments for these format parameters, we pass a sequence of arguments to the format method:"
   ]
  },
  {
   "cell_type": "code",
   "execution_count": null,
   "id": "b9dd197b-2f50-47db-b640-2aae7d0640a7",
   "metadata": {},
   "outputs": [],
   "source": [
    " template.format(88.46, \"Argentine Pesos\", 1)"
   ]
  },
  {
   "cell_type": "code",
   "execution_count": null,
   "id": "bb73e2de-4df7-42c7-8fdc-afcd10e46d8b",
   "metadata": {},
   "outputs": [],
   "source": [
    "Python 3.6 introduced a new feature called f-strings (short for formatted string literals) which can make creating formatted strings even more convenient. To create an f-string, write the character f immediately preceding a string literal. Within the string, enclose Python expressions in curly braces to substitute the value of the expression into the formatted string:"
   ]
  },
  {
   "cell_type": "code",
   "execution_count": null,
   "id": "5d1d84c9-832e-4c22-ab10-357e7acd3162",
   "metadata": {},
   "outputs": [],
   "source": [
    "amount = 10\n",
    "\n",
    "rate = 88.46\n",
    "\n",
    "currency = \"Pesos\"\n",
    "\n",
    "result = f\"{amount} {currency} is worth US${amount / rate}\"\n",
    "\n"
   ]
  },
  {
   "cell_type": "code",
   "execution_count": null,
   "id": "e8f5a327-883b-427f-b671-320b24383c53",
   "metadata": {},
   "outputs": [],
   "source": [
    "Format specifiers can be added after each expression using the same syntax as with the string templates above:"
   ]
  },
  {
   "cell_type": "code",
   "execution_count": null,
   "id": "3c426648-605c-417e-b1d8-0c1f66d547ed",
   "metadata": {},
   "outputs": [],
   "source": [
    "f\"{amount} {currency} is worth US${amount / rate:.2f}\""
   ]
  },
  {
   "cell_type": "code",
   "execution_count": null,
   "id": "714b4568-b4d4-4e3d-bd51-70d88f599052",
   "metadata": {},
   "outputs": [],
   "source": [
    "String formatting is a deep topic; there are multiple methods and numerous options and tweaks available to control how values are formatted in the resulting string. To learn more, consult the official Python documentation."
   ]
  },
  {
   "cell_type": "code",
   "execution_count": null,
   "id": "0100a49f-f928-4417-a15b-ebe205c2ae06",
   "metadata": {},
   "outputs": [],
   "source": [
    "Bytes and Unicode\n"
   ]
  },
  {
   "cell_type": "code",
   "execution_count": null,
   "id": "2533e9d3-6626-4413-a271-43d71dfa7006",
   "metadata": {},
   "outputs": [],
   "source": [
    "In modern Python (i.e., Python 3.0 and up), Unicode has become the first-class string type to enable more consistent handling of ASCII and non-ASCII text. In older versions of Python, strings were all bytes without any explicit Unicode encoding. You could convert to Unicode assuming you knew the character encoding. Here is an example Unicode string with non-ASCII characters:"
   ]
  },
  {
   "cell_type": "code",
   "execution_count": null,
   "id": "7ce35e65-6800-4f20-96ee-f4629113483d",
   "metadata": {},
   "outputs": [],
   "source": [
    "val = \"español\"\n",
    "\n",
    "val"
   ]
  },
  {
   "cell_type": "code",
   "execution_count": 19,
   "id": "2d65f92b-5818-4f6d-8006-3a4d8afb74e2",
   "metadata": {},
   "outputs": [
    {
     "ename": "SyntaxError",
     "evalue": "invalid syntax (2105121600.py, line 1)",
     "output_type": "error",
     "traceback": [
      "\u001b[0;36m  Cell \u001b[0;32mIn[19], line 1\u001b[0;36m\u001b[0m\n\u001b[0;31m    We can convert this Unicode string to its UTF-8 bytes representation using the encode method:\u001b[0m\n\u001b[0m       ^\u001b[0m\n\u001b[0;31mSyntaxError\u001b[0m\u001b[0;31m:\u001b[0m invalid syntax\n"
     ]
    }
   ],
   "source": [
    "We can convert this Unicode string to its UTF-8 bytes representation using the encode method:"
   ]
  },
  {
   "cell_type": "code",
   "execution_count": null,
   "id": "c04e0ec1-21d6-4cb3-bdaa-07e2ce0675db",
   "metadata": {},
   "outputs": [],
   "source": [
    "In [88]: val_utf8 = val.encode(\"utf-8\")\n",
    "\n",
    "In [89]: val_utf8\n",
    "Out[89]: b'espa\\xc3\\xb1ol'\n",
    "\n",
    "In [90]: type(val_utf8)"
   ]
  },
  {
   "cell_type": "code",
   "execution_count": null,
   "id": "44a37c62-6f40-44db-919e-8205baf8d683",
   "metadata": {},
   "outputs": [],
   "source": [
    "Assuming you know the Unicode encoding of a bytes object, you can go back using the decode method:"
   ]
  },
  {
   "cell_type": "code",
   "execution_count": null,
   "id": "5c192f7a-d19f-4e13-8ffe-f89975efcd9a",
   "metadata": {},
   "outputs": [],
   "source": [
    "val_utf8.decode(\"utf-8\")"
   ]
  },
  {
   "cell_type": "code",
   "execution_count": null,
   "id": "61322788-48fe-48af-ac1e-cafd6cc901bb",
   "metadata": {},
   "outputs": [],
   "source": [
    "While it is now preferable to use UTF-8 for any encoding, for historical reasons you may encounter data in any number of different encodings:"
   ]
  },
  {
   "cell_type": "code",
   "execution_count": null,
   "id": "0ac8ceee-39e3-4d2b-ab1d-27ed05e95d94",
   "metadata": {},
   "outputs": [],
   "source": [
    "In [92]: val.encode(\"latin1\")\n",
    "Out[92]: b'espa\\xf1ol'\n",
    "\n",
    "In [93]: val.encode(\"utf-16\")\n",
    "Out[93]: b'\\xff\\xfee\\x00s\\x00p\\x00a\\x00\\xf1\\x00o\\x00l\\x00'\n",
    "\n",
    "In [94]: val.encode(\"utf-16le\")\n",
    "Out[94]: b'e\\x00s\\x00p\\x00a\\x00\\xf1\\x00o\\x00l\\x00'"
   ]
  },
  {
   "cell_type": "code",
   "execution_count": null,
   "id": "4bbe7ada-e926-4213-b47b-9d25332c90f6",
   "metadata": {},
   "outputs": [],
   "source": [
    "It is most common to encounter bytes objects in the context of working with files, where implicitly decoding all data to Unicode strings may not be desired."
   ]
  },
  {
   "cell_type": "code",
   "execution_count": null,
   "id": "aa836ce0-4939-41d9-b5e9-33946314be08",
   "metadata": {},
   "outputs": [],
   "source": [
    "In [95]: True and True\n",
    "Out[95]: True\n",
    "\n",
    "In [96]: False or True\n",
    "Out[96]: True"
   ]
  },
  {
   "cell_type": "code",
   "execution_count": null,
   "id": "9f1f9ebe-f085-415c-9a2e-f0d88c4700f3",
   "metadata": {},
   "outputs": [],
   "source": [
    "When converted to numbers, False becomes 0 and True becomes 1:"
   ]
  },
  {
   "cell_type": "code",
   "execution_count": null,
   "id": "70703732-9f11-45de-948a-39c775ca55a5",
   "metadata": {},
   "outputs": [],
   "source": [
    "In [97]: int(False)\n",
    "Out[97]: 0\n",
    "\n",
    "In [98]: int(True)"
   ]
  },
  {
   "cell_type": "code",
   "execution_count": null,
   "id": "2aa605ed-0a74-4dfa-8a2d-cc8d36cccd7e",
   "metadata": {},
   "outputs": [],
   "source": [
    "The keyword not flips a Boolean value from True to False or vice versa:\n",
    "\n"
   ]
  },
  {
   "cell_type": "code",
   "execution_count": null,
   "id": "99d658be-bbb9-4f00-8670-654c44e94d0d",
   "metadata": {},
   "outputs": [],
   "source": [
    "In [99]: a = True\n",
    "\n",
    "In [100]: b = False\n",
    "\n",
    "In [101]: not a\n",
    "Out[101]: False\n",
    "\n",
    "In [102]: not b\n",
    "Out[102]: True"
   ]
  },
  {
   "cell_type": "code",
   "execution_count": null,
   "id": "11a02f68-a14b-442b-85d5-47dc570fb9d9",
   "metadata": {},
   "outputs": [],
   "source": [
    "Type casting"
   ]
  },
  {
   "cell_type": "code",
   "execution_count": null,
   "id": "52c98662-cf35-45fa-9187-0598537dacfa",
   "metadata": {},
   "outputs": [],
   "source": [
    "The str, bool, int, and float types are also functions that can be used to cast values to those types:"
   ]
  },
  {
   "cell_type": "code",
   "execution_count": null,
   "id": "7a6f3c1d-5ca5-4102-a23b-07f7215fdb74",
   "metadata": {},
   "outputs": [],
   "source": [
    "In [103]: s = \"3.14159\"\n",
    "\n",
    "In [104]: fval = float(s)\n",
    "\n",
    "In [105]: type(fval)\n",
    "Out[105]: float\n",
    "\n",
    "In [106]: int(fval)\n",
    "Out[106]: 3\n",
    "\n",
    "In [107]: bool(fval)\n",
    "Out[107]: True\n",
    "\n",
    "In [108]: bool(0)\n",
    "Out[108]: False"
   ]
  },
  {
   "cell_type": "code",
   "execution_count": null,
   "id": "4f841412-4db7-4dc7-8cc8-0d9cd7ddb3a8",
   "metadata": {},
   "outputs": [],
   "source": [
    "Note that most nonzero values when cast to bool become True.\n",
    "\n"
   ]
  },
  {
   "cell_type": "code",
   "execution_count": null,
   "id": "8982dcea-6774-40ae-bbcb-dda6b173e4b2",
   "metadata": {},
   "outputs": [],
   "source": [
    "None"
   ]
  },
  {
   "cell_type": "code",
   "execution_count": null,
   "id": "8952f0c8-3be5-41d6-bea2-e5143574573a",
   "metadata": {},
   "outputs": [],
   "source": [
    "None is the Python null value type:"
   ]
  },
  {
   "cell_type": "code",
   "execution_count": null,
   "id": "7e174bcf-2977-46c6-9c1c-cefada4f182d",
   "metadata": {},
   "outputs": [],
   "source": [
    "In [109]: a = None\n",
    "\n",
    "In [110]: a is None\n",
    "Out[110]: True\n",
    "\n",
    "In [111]: b = 5\n",
    "\n",
    "In [112]: b is not None\n",
    "Out[112]: True"
   ]
  },
  {
   "cell_type": "code",
   "execution_count": null,
   "id": "799c280a-a43b-49a8-a061-e4f0bf044260",
   "metadata": {},
   "outputs": [],
   "source": [
    "None is also a common default value for function arguments:"
   ]
  },
  {
   "cell_type": "code",
   "execution_count": null,
   "id": "fc658bec-0644-4739-bcbb-6ee78df7559e",
   "metadata": {},
   "outputs": [],
   "source": [
    "def add_and_maybe_multiply(a, b, c=None):\n",
    "    result = a + b\n",
    "\n",
    "    if c is not None:\n",
    "        result = result * c\n",
    "\n",
    "    return result"
   ]
  },
  {
   "cell_type": "code",
   "execution_count": null,
   "id": "86aa13bf-369c-4a5e-98c2-6b57447b7bc3",
   "metadata": {},
   "outputs": [],
   "source": [
    "Dates and times\n"
   ]
  },
  {
   "cell_type": "code",
   "execution_count": null,
   "id": "c28de4d5-8e33-434e-96ff-3ba933ced95f",
   "metadata": {},
   "outputs": [],
   "source": [
    "The built-in Python datetime module provides datetime, date, and time types. The datetime type combines the information stored in date and time and is the most commonly used:"
   ]
  },
  {
   "cell_type": "code",
   "execution_count": null,
   "id": "701b1b58-5743-4e12-b289-6d72951cce4e",
   "metadata": {},
   "outputs": [],
   "source": [
    "In [113]: from datetime import datetime, date, time\n",
    "\n",
    "In [114]: dt = datetime(2011, 10, 29, 20, 30, 21)\n",
    "\n",
    "In [115]: dt.day\n",
    "Out[115]: 29\n",
    "\n",
    "In [116]: dt.minute\n",
    "Out[116]: 30"
   ]
  },
  {
   "cell_type": "code",
   "execution_count": null,
   "id": "6a53739a-4f8d-40c3-884c-e51aa510b22f",
   "metadata": {},
   "outputs": [],
   "source": [
    "Given a datetime instance, you can extract the equivalent date and time objects by calling methods on the datetime of the same name:"
   ]
  },
  {
   "cell_type": "code",
   "execution_count": null,
   "id": "712af519-9cb0-4af5-9835-1a6df33514b3",
   "metadata": {},
   "outputs": [],
   "source": [
    "In [117]: dt.date()\n",
    "Out[117]: datetime.date(2011, 10, 29)\n",
    "\n",
    "In [118]: dt.time()\n",
    "Out[118]: datetime.time(20, 30, 21)"
   ]
  },
  {
   "cell_type": "code",
   "execution_count": null,
   "id": "e97233c7-bbcb-4f3c-91aa-1c4249e57faa",
   "metadata": {},
   "outputs": [],
   "source": [
    "The strftime method formats a datetime as a string:"
   ]
  },
  {
   "cell_type": "code",
   "execution_count": null,
   "id": "7a38a5a1-a114-4b57-b336-2684c3fb7b51",
   "metadata": {},
   "outputs": [],
   "source": [
    "In [119]: dt.strftime(\"%Y-%m-%d %H:%M\")\n",
    "Out[119]: '2011-10-29 20:30'"
   ]
  },
  {
   "cell_type": "code",
   "execution_count": null,
   "id": "32d83dcf-0793-4562-b39d-6352995480a0",
   "metadata": {},
   "outputs": [],
   "source": [
    "Strings can be converted (parsed) into datetime objects with the strptime function:"
   ]
  },
  {
   "cell_type": "code",
   "execution_count": null,
   "id": "e7ab8183-32bb-49d9-9db7-30d77bb2148e",
   "metadata": {},
   "outputs": [],
   "source": [
    "datetime.strptime(\"20091031\", \"%Y%m%d\")"
   ]
  },
  {
   "cell_type": "code",
   "execution_count": null,
   "id": "2ed56adf-e260-491f-86b8-657f379bf412",
   "metadata": {},
   "outputs": [],
   "source": [
    "See Table 11-2 for a full list of format specifications.\n",
    "\n",
    "When you are aggregating or otherwise grouping time series data, it will occasionally be useful to replace time fields of a series of datetimes—for example, replacing the minute and second fields with zero:"
   ]
  },
  {
   "cell_type": "code",
   "execution_count": null,
   "id": "032a648a-ba62-49fb-8cc0-6c58e6c7a64d",
   "metadata": {},
   "outputs": [],
   "source": [
    "dt_hour = dt.replace(minute=0, second=0)\n",
    "\n",
    "dt_hour"
   ]
  },
  {
   "cell_type": "code",
   "execution_count": null,
   "id": "270beac7-55cb-4e7f-9002-280d3f0e2f55",
   "metadata": {},
   "outputs": [],
   "source": [
    "Since datetime.datetime is an immutable type, methods like these always produce new objects. So in the previous example, dt is not modified by replace:"
   ]
  },
  {
   "cell_type": "code",
   "execution_count": null,
   "id": "21e5c887-7ed6-40af-b861-663468fc5e9e",
   "metadata": {},
   "outputs": [],
   "source": [
    "dt"
   ]
  },
  {
   "cell_type": "code",
   "execution_count": null,
   "id": "4a25c18d-e90e-4c3e-b16f-68cb3d3786cb",
   "metadata": {},
   "outputs": [],
   "source": [
    "The difference of two datetime objects produces a datetime.timedelta type:"
   ]
  },
  {
   "cell_type": "code",
   "execution_count": null,
   "id": "4becf36b-b766-446b-ae9c-cfc5f084622b",
   "metadata": {},
   "outputs": [],
   "source": [
    "dt2 = datetime(2011, 11, 15, 22, 30)\n",
    "\n",
    "In [125]: delta = dt2 - dt\n",
    "\n",
    "In [126]: delta\n",
    "Out[126]: datetime.timedelta(days=17, seconds=7179)\n",
    "\n",
    "In [127]: type(delta)\n",
    "Out[127]: datetime.timedelta"
   ]
  },
  {
   "cell_type": "code",
   "execution_count": null,
   "id": "37e7051d-bfe2-4fde-a6b5-5d3ce20c3520",
   "metadata": {},
   "outputs": [],
   "source": [
    "The output timedelta(17, 7179) indicates that the timedelta encodes an offset of 17 days and 7,179 seconds.\n",
    "\n",
    "Adding a timedelta to a datetime produces a new shifted datetime:"
   ]
  },
  {
   "cell_type": "code",
   "execution_count": null,
   "id": "f7e7184c-a7a7-4b6f-b37f-893cc427b34b",
   "metadata": {},
   "outputs": [],
   "source": [
    "dt"
   ]
  },
  {
   "cell_type": "code",
   "execution_count": null,
   "id": "cc00b02a-9db3-4d53-8d0a-c23e7de6adab",
   "metadata": {},
   "outputs": [],
   "source": [
    "dt + delta"
   ]
  },
  {
   "cell_type": "code",
   "execution_count": null,
   "id": "487ceba2-2b31-4322-84d9-b94077e3f2da",
   "metadata": {},
   "outputs": [],
   "source": [
    "Control Flow"
   ]
  },
  {
   "cell_type": "code",
   "execution_count": null,
   "id": "783fff4c-ba9c-4552-a853-588db32c015f",
   "metadata": {},
   "outputs": [],
   "source": [
    "Python has several built-in keywords for conditional logic, loops, and other standard control flow concepts found in other programming languages."
   ]
  },
  {
   "cell_type": "code",
   "execution_count": null,
   "id": "f44c8300-e4fc-479f-8f4f-716e424f60bd",
   "metadata": {},
   "outputs": [],
   "source": [
    "if, elif, and else\n"
   ]
  },
  {
   "cell_type": "code",
   "execution_count": null,
   "id": "24f92b24-94ac-4441-9afd-dad726ed9e25",
   "metadata": {},
   "outputs": [],
   "source": [
    "The if statement is one of the most well-known control flow statement types. It checks a condition that, if True, evaluates the code in the block that follows:\n",
    "\n"
   ]
  },
  {
   "cell_type": "code",
   "execution_count": null,
   "id": "6dd576f4-733a-4774-b34c-3fde5a648be8",
   "metadata": {},
   "outputs": [],
   "source": [
    "x = -5\n",
    "if x < 0:\n",
    "    print(\"It's negative\")"
   ]
  },
  {
   "cell_type": "code",
   "execution_count": null,
   "id": "74c0283d-2ae2-4aad-a917-f672bdd8bf13",
   "metadata": {},
   "outputs": [],
   "source": [
    "An if statement can be optionally followed by one or more elif blocks and a catchall else block if all of the conditions are False:"
   ]
  },
  {
   "cell_type": "code",
   "execution_count": null,
   "id": "632a2971-db53-4ca1-90a6-71372c588d0d",
   "metadata": {},
   "outputs": [],
   "source": [
    "if x < 0:\n",
    "    print(\"It's negative\")\n",
    "elif x == 0:\n",
    "    print(\"Equal to zero\")\n",
    "elif 0 < x < 5:\n",
    "    print(\"Positive but smaller than 5\")\n",
    "else:\n",
    "    print(\"Positive and larger than or equal to 5\")"
   ]
  },
  {
   "cell_type": "code",
   "execution_count": null,
   "id": "7761b626-0e4c-4732-aa2b-9894edb185c6",
   "metadata": {},
   "outputs": [],
   "source": [
    "If any of the conditions are True, no further elif or else blocks will be reached. With a compound condition using and or or, conditions are evaluated left to right and will short-circuit:"
   ]
  },
  {
   "cell_type": "code",
   "execution_count": null,
   "id": "e49b2a50-030b-4aa4-9119-4b99f66c2a2c",
   "metadata": {},
   "outputs": [],
   "source": [
    "In [130]: a = 5; b = 7\n",
    "\n",
    "In [131]: c = 8; d = 4\n",
    "\n",
    "In [132]: if a < b or c > d:\n",
    "   .....:     print(\"Made it\")\n",
    "Made it"
   ]
  },
  {
   "cell_type": "code",
   "execution_count": null,
   "id": "5f6e63df-792c-4037-965e-c84e90e5d92d",
   "metadata": {},
   "outputs": [],
   "source": [
    "In this example, the comparison c > d never gets evaluated because the first comparison was True.\n",
    "\n",
    "It is also possible to chain comparisons:"
   ]
  },
  {
   "cell_type": "code",
   "execution_count": null,
   "id": "ae2128a9-bcb6-4f04-a7ca-82ab282a2497",
   "metadata": {},
   "outputs": [],
   "source": [
    "4 > 3 > 2 > 1"
   ]
  },
  {
   "cell_type": "code",
   "execution_count": null,
   "id": "0e8228ca-8559-4f8b-a3d5-b9f017af4d52",
   "metadata": {},
   "outputs": [],
   "source": [
    "for loops"
   ]
  },
  {
   "cell_type": "code",
   "execution_count": null,
   "id": "56789eeb-2021-46c1-a77c-849dd0b78a3d",
   "metadata": {},
   "outputs": [],
   "source": [
    "for loops are for iterating over a collection (like a list or tuple) or an iterater. The standard syntax for a for loop is:"
   ]
  },
  {
   "cell_type": "code",
   "execution_count": null,
   "id": "f711391a-f6dd-4bd7-b778-367e68af6183",
   "metadata": {},
   "outputs": [],
   "source": [
    "for value in collection:\n",
    "    # do something with value"
   ]
  },
  {
   "cell_type": "code",
   "execution_count": null,
   "id": "2f0132ba-3218-448a-b5c4-277a1e8b6d4d",
   "metadata": {},
   "outputs": [],
   "source": [
    "You can advance a for loop to the next iteration, skipping the remainder of the block, using the continue keyword. Consider this code, which sums up integers in a list and skips None values:"
   ]
  },
  {
   "cell_type": "code",
   "execution_count": null,
   "id": "d6c0f093-0363-4a18-80ad-67ff0991bf4a",
   "metadata": {},
   "outputs": [],
   "source": [
    "sequence = [1, 2, None, 4, None, 5]\n",
    "total = 0\n",
    "for value in sequence:\n",
    "    if value is None:\n",
    "        continue\n",
    "    total += value"
   ]
  },
  {
   "cell_type": "code",
   "execution_count": null,
   "id": "b3849a8b-9520-4f30-92f4-ccb5e1d45a9a",
   "metadata": {},
   "outputs": [],
   "source": [
    "A for loop can be exited altogether with the break keyword. This code sums elements of the list until a 5 is reached:\n",
    "\n"
   ]
  },
  {
   "cell_type": "code",
   "execution_count": null,
   "id": "fd38274c-c922-4212-b081-d40a03b968d8",
   "metadata": {},
   "outputs": [],
   "source": [
    "sequence = [1, 2, 0, 4, 6, 5, 2, 1]\n",
    "total_until_5 = 0\n",
    "for value in sequence:\n",
    "    if value == 5:\n",
    "        break\n",
    "    total_until_5 += value"
   ]
  },
  {
   "cell_type": "code",
   "execution_count": null,
   "id": "7eeea5b1-22f8-4ed5-bac5-cb7ba7aaa76f",
   "metadata": {},
   "outputs": [],
   "source": [
    "The break keyword only terminates the innermost for loop; any outer for loops will continue to run:"
   ]
  },
  {
   "cell_type": "code",
   "execution_count": null,
   "id": "c74a46d4-9d94-4a70-afad-477a7de962af",
   "metadata": {},
   "outputs": [],
   "source": [
    "for i in range(4):\n",
    "   .....:     for j in range(4):\n",
    "   .....:         if j > i:\n",
    "   .....:             break\n",
    "   .....:         print((i, j))"
   ]
  },
  {
   "cell_type": "code",
   "execution_count": null,
   "id": "f9686f4a-4d09-4196-b69a-9dfc79d67c2a",
   "metadata": {},
   "outputs": [],
   "source": [
    "As we will see in more detail, if the elements in the collection or iterator are sequences (tuples or lists, say), they can be conveniently unpacked into variables in the for loop statement:"
   ]
  },
  {
   "cell_type": "code",
   "execution_count": null,
   "id": "a1dfa0e5-3a28-4832-bc1d-431f47b797c4",
   "metadata": {},
   "outputs": [],
   "source": [
    "for a, b, c in iterator:\n",
    "    # do something"
   ]
  },
  {
   "cell_type": "code",
   "execution_count": null,
   "id": "69dd79c9-b886-444a-ac0e-d89ae06e7dd8",
   "metadata": {},
   "outputs": [],
   "source": [
    "while loops"
   ]
  },
  {
   "cell_type": "code",
   "execution_count": null,
   "id": "339a7f5e-9160-4e94-9fdc-41e01a9795b8",
   "metadata": {},
   "outputs": [],
   "source": [
    "A while loop specifies a condition and a block of code that is to be executed until the condition evaluates to False or the loop is explicitly ended with break:"
   ]
  },
  {
   "cell_type": "code",
   "execution_count": null,
   "id": "3e82c308-572f-4aab-bfcb-13f083c5cc2f",
   "metadata": {},
   "outputs": [],
   "source": [
    "x = 256\n",
    "total = 0\n",
    "while x > 0:\n",
    "    if total > 500:\n",
    "        break\n",
    "    total += x\n",
    "    x = x // 2"
   ]
  },
  {
   "cell_type": "code",
   "execution_count": null,
   "id": "54a4d0fb-0542-4742-8651-2c50cc3fb84c",
   "metadata": {},
   "outputs": [],
   "source": [
    "pass"
   ]
  },
  {
   "cell_type": "code",
   "execution_count": null,
   "id": "981c01b2-7386-4dbc-8cec-cc319677c5b2",
   "metadata": {},
   "outputs": [],
   "source": [
    "pass is the “no-op” (or “do nothing”) statement in Python. It can be used in blocks where no action is to be taken (or as a placeholder for code not yet implemented); it is required only because Python uses whitespace to delimit blocks:"
   ]
  },
  {
   "cell_type": "code",
   "execution_count": null,
   "id": "1cb7baa1-bf59-41da-ab9d-ba1956e1d21a",
   "metadata": {},
   "outputs": [],
   "source": [
    "if x < 0:\n",
    "    print(\"negative!\")\n",
    "elif x == 0:\n",
    "    # TODO: put something smart here\n",
    "    pass\n",
    "else:\n",
    "    print(\"positive!\")"
   ]
  },
  {
   "cell_type": "code",
   "execution_count": null,
   "id": "0b29b7be-75b7-4885-bd7b-1e7463477603",
   "metadata": {},
   "outputs": [],
   "source": [
    "range"
   ]
  },
  {
   "cell_type": "code",
   "execution_count": null,
   "id": "e00056a5-7d65-4ad8-bc01-203630b9ba20",
   "metadata": {},
   "outputs": [],
   "source": [
    "The range function generates a sequence of evenly spaced integers:"
   ]
  },
  {
   "cell_type": "code",
   "execution_count": null,
   "id": "6a83b816-d906-4a32-a43c-104c0bf5f285",
   "metadata": {},
   "outputs": [],
   "source": [
    "In [135]: range(10)\n",
    "Out[135]: range(0, 10)\n",
    "\n",
    "In [136]: list(range(10))"
   ]
  },
  {
   "cell_type": "code",
   "execution_count": null,
   "id": "d76b876c-f329-4672-89b5-eb7f3b55b05b",
   "metadata": {},
   "outputs": [],
   "source": [
    "A start, end, and step (which may be negative) can be given:"
   ]
  },
  {
   "cell_type": "code",
   "execution_count": null,
   "id": "f05d3aa5-2438-4bc5-8a22-0d70da02ea20",
   "metadata": {},
   "outputs": [],
   "source": [
    "In [137]: list(range(0, 20, 2))\n",
    "Out[137]: [0, 2, 4, 6, 8, 10, 12, 14, 16, 18]\n",
    "\n",
    "In [138]: list(range(5, 0, -1))\n",
    "Out[138]: [5, 4, 3, 2, 1]"
   ]
  },
  {
   "cell_type": "code",
   "execution_count": null,
   "id": "1fdf312c-4281-48f9-8e82-477c2bfc8424",
   "metadata": {},
   "outputs": [],
   "source": [
    "As you can see, range produces integers up to but not including the endpoint. A common use of range is for iterating through sequences by index:"
   ]
  },
  {
   "cell_type": "code",
   "execution_count": null,
   "id": "c90c84e3-f9b1-44b3-847b-70b602e03cfa",
   "metadata": {},
   "outputs": [],
   "source": [
    "In [139]: seq = [1, 2, 3, 4]\n",
    "\n",
    "In [140]: for i in range(len(seq)):\n",
    "   .....:     print(f\"element {i}: {seq[i]}\")"
   ]
  },
  {
   "cell_type": "code",
   "execution_count": null,
   "id": "6733e938-1ca6-433d-a5dd-a4a4d87b7ebf",
   "metadata": {},
   "outputs": [],
   "source": [
    "While you can use functions like list to store all the integers generated by range in some other data structure, often the default iterator form will be what you want. This snippet sums all numbers from 0 to 99,999 that are multiples of 3 or 5:"
   ]
  },
  {
   "cell_type": "code",
   "execution_count": null,
   "id": "93a48a6f-d351-49c4-a56d-5335ac317c06",
   "metadata": {},
   "outputs": [],
   "source": [
    "In [141]: total = 0\n",
    "\n",
    "In [142]: for i in range(100_000):\n",
    "   .....:     # % is the modulo operator\n",
    "   .....:     if i % 3 == 0 or i % 5 == 0:\n",
    "   .....:         total += i\n",
    "\n",
    "In [143]: print(total)"
   ]
  },
  {
   "cell_type": "code",
   "execution_count": null,
   "id": "78dd1eac-159b-48f3-ac6d-03e8690281b2",
   "metadata": {},
   "outputs": [],
   "source": [
    "While the range generated can be arbitrarily large, the memory use at any given time may be very small."
   ]
  },
  {
   "cell_type": "code",
   "execution_count": null,
   "id": "d45069e7-8b59-4e59-830d-fc88993814ff",
   "metadata": {},
   "outputs": [],
   "source": []
  }
 ],
 "metadata": {
  "kernelspec": {
   "display_name": "Python [conda env:base] *",
   "language": "python",
   "name": "conda-base-py"
  },
  "language_info": {
   "codemirror_mode": {
    "name": "ipython",
    "version": 3
   },
   "file_extension": ".py",
   "mimetype": "text/x-python",
   "name": "python",
   "nbconvert_exporter": "python",
   "pygments_lexer": "ipython3",
   "version": "3.12.7"
  }
 },
 "nbformat": 4,
 "nbformat_minor": 5
}
