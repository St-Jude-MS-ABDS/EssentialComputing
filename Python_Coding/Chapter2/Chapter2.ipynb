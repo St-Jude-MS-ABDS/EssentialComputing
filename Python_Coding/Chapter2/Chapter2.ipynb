{
 "cells": [
  {
   "cell_type": "markdown",
   "id": "084e252c-e67c-4bbf-93cc-76039dfe67dc",
   "metadata": {},
   "source": [
    "# 2.1 The Python Interpreter"
   ]
  },
  {
   "cell_type": "markdown",
   "id": "c0c03774-fccd-4357-957c-be5f3738d947",
   "metadata": {},
   "source": [
    "Python is an interpreted language. The Python interpreter runs a program by executing one statement at a time. The standard interactive Python interpreter can be invoked on the command line with the python command:"
   ]
  },
  {
   "cell_type": "raw",
   "id": "534759f7-c816-4eeb-bf42-21170594424b",
   "metadata": {},
   "source": [
    "$ python\n",
    "Python 3.10.4 | packaged by conda-forge | (main, Mar 24 2022, 17:38:57)\n",
    "[GCC 10.3.0] on linux\n",
    "Type \"help\", \"copyright\", \"credits\" or \"license\" for more information.\n",
    ">>> a = 5\n",
    ">>> print(a)\n",
    "5"
   ]
  },
  {
   "cell_type": "markdown",
   "id": "c3b6ac21-15c0-4e9d-ab78-9271c983c647",
   "metadata": {},
   "source": [
    "The >>> you see is the prompt after which you’ll type code expressions. To exit the Python interpreter, you can either type exit() or press Ctrl-D (works on Linux and macOS only).\n",
    "\n",
    "Running Python programs is as simple as calling python with a .py file as its first argument. Suppose we had created hello_world.py with these contents:"
   ]
  },
  {
   "cell_type": "raw",
   "id": "4a8800d0-7173-4d18-92fe-fde1d9265224",
   "metadata": {},
   "source": [
    "print(\"Hello world\")"
   ]
  },
  {
   "cell_type": "markdown",
   "id": "0a37b3b4-340f-490c-a29b-7aec6cf3cade",
   "metadata": {},
   "source": [
    "You can run it by executing the following command (the hello_world.py file must be in your current working terminal directory):"
   ]
  },
  {
   "cell_type": "raw",
   "id": "28984900-b4fb-4add-a0c0-a7bbf6b04eff",
   "metadata": {},
   "source": [
    "$ python hello_world.py\n",
    "Hello world"
   ]
  },
  {
   "cell_type": "markdown",
   "id": "4875f4dd-d57c-4432-8a8e-9507575ee1ac",
   "metadata": {},
   "source": [
    "## IPython shell"
   ]
  },
  {
   "cell_type": "markdown",
   "id": "7d1cf291-a247-4ae8-b2a1-73ed14e84165",
   "metadata": {},
   "source": [
    "While some Python programmers execute all of their Python code in this way, those doing data analysis or scientific computing make use of IPython, an enhanced Python interpreter, or Jupyter notebooks, web-based code notebooks originally created within the IPython project. \n",
    "\n",
    "When you use the <b>%run</b> command, IPython executes the code in the specified file in the same process, enabling you to explore the results interactively when it’s done\n",
    "\n"
   ]
  },
  {
   "cell_type": "raw",
   "id": "e8643942-5506-4000-950c-0d1cf6ab4f80",
   "metadata": {},
   "source": [
    "$ ipython\n",
    "Python 3.10.4 | packaged by conda-forge | (main, Mar 24 2022, 17:38:57)\n",
    "Type 'copyright', 'credits' or 'license' for more information\n",
    "IPython 7.31.1 -- An enhanced Interactive Python. Type '?' for help.\n",
    "\n",
    "In [1]: %run hello_world.py\n",
    "Hello world\n",
    "\n",
    "In [2]:"
   ]
  },
  {
   "cell_type": "markdown",
   "id": "ba6d17c6-96c4-402f-a650-3f198f9548c1",
   "metadata": {},
   "source": [
    "# Running the Jupyter Notebook"
   ]
  },
  {
   "cell_type": "markdown",
   "id": "9ea986a3-5ea9-42ce-a57f-b460959a0467",
   "metadata": {},
   "source": [
    "One of the major components of the Jupyter project is the notebook, a type of interactive document for code, text (including Markdown), data visualizations, and other output. The Jupyter notebook interacts with kernels, which are implementations of the Jupyter interactive computing protocol specific to different programming languages. The Python Jupyter kernel uses the IPython system for its underlying behavior."
   ]
  },
  {
   "cell_type": "markdown",
   "id": "fab4b3ca-9112-4953-acb7-e277a575df5c",
   "metadata": {},
   "source": [
    "## Tab Completion\n"
   ]
  },
  {
   "cell_type": "markdown",
   "id": "bc7b19a9-043c-469b-acee-7bcc9e88d918",
   "metadata": {},
   "source": [
    "On the surface, the IPython shell looks like a cosmetically different version of the standard terminal Python interpreter (invoked with python). One of the major improvements over the standard Python shell is tab completion, found in many IDEs or other interactive computing analysis environments. While entering expressions in the shell, pressing the Tab key will search the namespace for any variables (objects, functions, etc.) matching the characters you have typed so far and show the results in a convenient drop-down menu:"
   ]
  },
  {
   "cell_type": "code",
   "execution_count": 6,
   "id": "d0489553-3cf8-4a44-b068-834b9b14a5f8",
   "metadata": {},
   "outputs": [],
   "source": [
    "an_apple = 27\n",
    "\n",
    "an_example = 42"
   ]
  },
  {
   "cell_type": "raw",
   "id": "bfc1b21d-ebb3-4ce6-b746-441579a0706e",
   "metadata": {},
   "source": [
    "an<Tab>"
   ]
  },
  {
   "cell_type": "code",
   "execution_count": null,
   "id": "90c3f70d-640a-42c6-978d-cb852be212a9",
   "metadata": {},
   "outputs": [],
   "source": [
    "an"
   ]
  },
  {
   "cell_type": "markdown",
   "id": "5708c14d-8bec-4493-bf16-029d44a45409",
   "metadata": {},
   "source": [
    "In this example, note that IPython displayed both of the two variables I defined, as well as the built-in function any. Also, you can also complete methods and attributes on any object after typing a period:"
   ]
  },
  {
   "cell_type": "code",
   "execution_count": 8,
   "id": "6f76eb2f-65be-4ce0-a238-b0a4c0d162da",
   "metadata": {},
   "outputs": [],
   "source": [
    "b = [1, 2, 3]"
   ]
  },
  {
   "cell_type": "raw",
   "id": "cf858443-ed63-4f75-9bf2-0527cc14de28",
   "metadata": {},
   "source": [
    "b.<tab>"
   ]
  },
  {
   "cell_type": "code",
   "execution_count": null,
   "id": "594c33f8-971b-4ccf-8e19-c4b0eba96b29",
   "metadata": {},
   "outputs": [],
   "source": [
    "b."
   ]
  },
  {
   "cell_type": "markdown",
   "id": "7b2b75af-3f9d-4fde-975f-dffdce925ab4",
   "metadata": {},
   "source": [
    "The same is true for modules:"
   ]
  },
  {
   "cell_type": "code",
   "execution_count": 10,
   "id": "778474f8-23c7-4ab4-9460-61c087f0d72d",
   "metadata": {},
   "outputs": [],
   "source": [
    "import datetime"
   ]
  },
  {
   "cell_type": "raw",
   "id": "5c4ccce2-9086-430c-ae03-9d6d779ada88",
   "metadata": {},
   "source": [
    "datetime.<Tab>"
   ]
  },
  {
   "cell_type": "code",
   "execution_count": null,
   "id": "34ead44d-9282-4368-ba12-ec90204543d6",
   "metadata": {},
   "outputs": [],
   "source": [
    "datetime."
   ]
  },
  {
   "cell_type": "markdown",
   "id": "06f7d422-329b-4360-9dd3-f5dd40ef54fc",
   "metadata": {},
   "source": [
    "Note that IPython by default hides methods and attributes starting with underscores, such as magic methods and internal “private” methods and attributes, in order to avoid cluttering the display (and confusing novice users!). These, too, can be tab-completed, but you must first type an underscore to see them. If you prefer to always see such methods in tab completion, you can change this setting in the IPython configuration. See the IPython documentation to find out how to do this."
   ]
  },
  {
   "cell_type": "markdown",
   "id": "234700ca-ccab-4224-a0ce-f7420b224864",
   "metadata": {},
   "source": [
    "Tab completion works in many contexts outside of searching the interactive namespace and completing object or module attributes. When typing anything that looks like a file path (even in a Python string), pressing the <b>Tab</b> key will complete anything on your computer’s filesystem matching what you’ve typed.\n",
    "\n",
    "Combined with the <b>%run</b> command (see “The %run Command”), this functionality can save you many keystrokes.\n",
    "\n",
    "Another area where tab completion saves time is in the completion of function keyword arguments (including the = sign!). See Figure 2-4."
   ]
  },
  {
   "cell_type": "markdown",
   "id": "bb8173c0-f296-44c7-8f34-820cf1614731",
   "metadata": {},
   "source": [
    "![](pda3_0204.png)"
   ]
  },
  {
   "cell_type": "markdown",
   "id": "53d18b3d-c8f7-4f0e-a85b-df0245d06b62",
   "metadata": {},
   "source": [
    "We’ll have a closer look at functions in a little bit."
   ]
  },
  {
   "cell_type": "markdown",
   "id": "ddc11115-afb6-413c-a71b-5186ef409b4f",
   "metadata": {},
   "source": [
    "## Introspection"
   ]
  },
  {
   "cell_type": "markdown",
   "id": "5819963a-801c-42e0-8fa2-5d683f5c3c4e",
   "metadata": {},
   "source": [
    "Using a question mark (?) before or after a variable will display some general information about the object:"
   ]
  },
  {
   "cell_type": "code",
   "execution_count": 13,
   "id": "3dd2e285-0876-43a3-992d-5c0ec9b838b3",
   "metadata": {},
   "outputs": [],
   "source": [
    "b = [1, 2, 3]"
   ]
  },
  {
   "cell_type": "code",
   "execution_count": 15,
   "id": "3abcd5cf-cc00-43a0-9675-a3c0fc093ac0",
   "metadata": {},
   "outputs": [
    {
     "data": {
      "text/plain": [
       "\u001b[0;31mType:\u001b[0m        list\n",
       "\u001b[0;31mString form:\u001b[0m [1, 2, 3]\n",
       "\u001b[0;31mLength:\u001b[0m      3\n",
       "\u001b[0;31mDocstring:\u001b[0m  \n",
       "Built-in mutable sequence.\n",
       "\n",
       "If no argument is given, the constructor creates a new empty list.\n",
       "The argument must be an iterable if specified."
      ]
     },
     "metadata": {},
     "output_type": "display_data"
    }
   ],
   "source": [
    "b?"
   ]
  },
  {
   "cell_type": "code",
   "execution_count": 25,
   "id": "b3b31135-7272-4c1b-bbeb-8346e096c061",
   "metadata": {},
   "outputs": [
    {
     "data": {
      "text/plain": [
       "\u001b[0;31mSignature:\u001b[0m \u001b[0mprint\u001b[0m\u001b[0;34m(\u001b[0m\u001b[0;34m*\u001b[0m\u001b[0margs\u001b[0m\u001b[0;34m,\u001b[0m \u001b[0msep\u001b[0m\u001b[0;34m=\u001b[0m\u001b[0;34m' '\u001b[0m\u001b[0;34m,\u001b[0m \u001b[0mend\u001b[0m\u001b[0;34m=\u001b[0m\u001b[0;34m'\\n'\u001b[0m\u001b[0;34m,\u001b[0m \u001b[0mfile\u001b[0m\u001b[0;34m=\u001b[0m\u001b[0;32mNone\u001b[0m\u001b[0;34m,\u001b[0m \u001b[0mflush\u001b[0m\u001b[0;34m=\u001b[0m\u001b[0;32mFalse\u001b[0m\u001b[0;34m)\u001b[0m\u001b[0;34m\u001b[0m\u001b[0;34m\u001b[0m\u001b[0m\n",
       "\u001b[0;31mDocstring:\u001b[0m\n",
       "Prints the values to a stream, or to sys.stdout by default.\n",
       "\n",
       "sep\n",
       "  string inserted between values, default a space.\n",
       "end\n",
       "  string appended after the last value, default a newline.\n",
       "file\n",
       "  a file-like object (stream); defaults to the current sys.stdout.\n",
       "flush\n",
       "  whether to forcibly flush the stream.\n",
       "\u001b[0;31mType:\u001b[0m      builtin_function_or_method"
      ]
     },
     "metadata": {},
     "output_type": "display_data"
    }
   ],
   "source": [
    "print?"
   ]
  },
  {
   "cell_type": "markdown",
   "id": "57d8b354-6d31-4ea8-9d2f-ccf6b0ad9339",
   "metadata": {},
   "source": [
    "This is referred to as object introspection. If the object is a function or instance method, the docstring, if defined, will also be shown. Suppose we’d written the following function (which you can reproduce in IPython or Jupyter):"
   ]
  },
  {
   "cell_type": "code",
   "execution_count": 17,
   "id": "c8702270-8d63-4b9b-8c54-46a9ec58a3c4",
   "metadata": {},
   "outputs": [],
   "source": [
    "def add_numbers(a, b):\n",
    "    \"\"\"\n",
    "    Add two numbers together\n",
    "\n",
    "    Returns\n",
    "    -------\n",
    "    the_sum : type of arguments\n",
    "    \"\"\"\n",
    "    return a + b"
   ]
  },
  {
   "cell_type": "markdown",
   "id": "98a21acc-dd6d-4d91-808f-2f1aa940b511",
   "metadata": {},
   "source": [
    "Then using <b>?</b> shows us the docstring:"
   ]
  },
  {
   "cell_type": "code",
   "execution_count": 20,
   "id": "bc89464e-b2b5-4d33-9a84-0eba3649550f",
   "metadata": {},
   "outputs": [
    {
     "data": {
      "text/plain": [
       "\u001b[0;31mSignature:\u001b[0m \u001b[0madd_numbers\u001b[0m\u001b[0;34m(\u001b[0m\u001b[0ma\u001b[0m\u001b[0;34m,\u001b[0m \u001b[0mb\u001b[0m\u001b[0;34m)\u001b[0m\u001b[0;34m\u001b[0m\u001b[0;34m\u001b[0m\u001b[0m\n",
       "\u001b[0;31mDocstring:\u001b[0m\n",
       "Add two numbers together\n",
       "\n",
       "Returns\n",
       "-------\n",
       "the_sum : type of arguments\n",
       "\u001b[0;31mFile:\u001b[0m      /var/folders/r3/gmt08cnn7lzdwnng743vjxmw0000gp/T/ipykernel_7336/1411870314.py\n",
       "\u001b[0;31mType:\u001b[0m      function"
      ]
     },
     "metadata": {},
     "output_type": "display_data"
    }
   ],
   "source": [
    "add_numbers?"
   ]
  },
  {
   "cell_type": "markdown",
   "id": "870938fe-fa69-4af8-a616-4835d12e7f9a",
   "metadata": {},
   "source": [
    "<b>?</b> has a final usage, which is for searching the IPython namespace in a manner similar to the standard Unix or Windows command line. A number of characters combined with the wildcard (*) will show all names matching the wildcard expression. For example, we could get a list of all functions in the top-level NumPy namespace containing load:"
   ]
  },
  {
   "cell_type": "code",
   "execution_count": 23,
   "id": "06235880-b1a4-4725-80eb-9b987bbf1cf0",
   "metadata": {},
   "outputs": [],
   "source": [
    "import numpy as np"
   ]
  },
  {
   "cell_type": "code",
   "execution_count": 25,
   "id": "3218bb56-6c66-4819-89a6-969c278e3ead",
   "metadata": {},
   "outputs": [
    {
     "data": {
      "text/plain": [
       "np.__loader__\n",
       "np.load\n",
       "np.loadtxt"
      ]
     },
     "metadata": {},
     "output_type": "display_data"
    }
   ],
   "source": [
    "np.*load*?"
   ]
  },
  {
   "cell_type": "markdown",
   "id": "398cb91d-cc92-4fed-b0e0-f1b67092f3ac",
   "metadata": {},
   "source": [
    "# 2.3 Python Language Basics"
   ]
  },
  {
   "cell_type": "markdown",
   "id": "0a3420dc-e20d-427d-a731-7be090f4af1b",
   "metadata": {},
   "source": [
    "In this section, I will give you an overview of essential Python programming concepts and language mechanics. In the next chapter, I will go into more detail about Python data structures, functions, and other built-in tools."
   ]
  },
  {
   "cell_type": "markdown",
   "id": "231c9a9d-044f-46b7-b6bf-61905e6faf63",
   "metadata": {},
   "source": [
    "## Language Semantics"
   ]
  },
  {
   "cell_type": "markdown",
   "id": "4789e277-0f71-4078-96a5-f2e9013463ae",
   "metadata": {},
   "source": [
    "The Python language design is distinguished by its emphasis on readability, simplicity, and explicitness. Some people go so far as to liken it to “executable pseudocode.”"
   ]
  },
  {
   "cell_type": "markdown",
   "id": "ea87eb13-0d4b-42cf-a209-41a87c6f2f4f",
   "metadata": {},
   "source": [
    "### Indentation, not braces"
   ]
  },
  {
   "cell_type": "markdown",
   "id": "de0bf6ca-857f-4aff-a4f4-12675f8e740f",
   "metadata": {},
   "source": [
    "Python uses whitespace (tabs or spaces) to structure code instead of using braces as in many other languages like R, C++, Java, and Perl. Consider a for loop from a sorting algorithm:"
   ]
  },
  {
   "cell_type": "raw",
   "id": "0d1ab98a-7fde-43bb-a070-ca6504264adb",
   "metadata": {},
   "source": [
    "array = []\n",
    "for x in array:\n",
    "    if x < pivot:\n",
    "        less.append(x)\n",
    "    else:\n",
    "        greater.append(x)\n",
    "\n",
    "print(array)"
   ]
  },
  {
   "cell_type": "markdown",
   "id": "6343b4da-3263-41af-8060-25c08cdc3fea",
   "metadata": {},
   "source": [
    "A <b>colon</b> denotes the start of an indented code block after which all of the code must be indented by the same amount until the end of the block."
   ]
  },
  {
   "cell_type": "markdown",
   "id": "8314491e-fc06-443c-a5c4-4f3aceecb058",
   "metadata": {},
   "source": [
    "<blockquote>Note\n",
    "    \n",
    "I strongly recommend using four spaces as your default indentation and replacing tabs with four spaces. Many text editors have a setting that will replace tab stops with spaces automatically (do this!). IPython and Jupyter notebooks will automatically insert four spaces on new lines following a colon and replace tabs by four spaces.</blockquote>"
   ]
  },
  {
   "cell_type": "markdown",
   "id": "f323466a-e78e-473b-af54-cbcd70c8ded0",
   "metadata": {},
   "source": [
    "As you can see by now, Python statements also do not need to be terminated by semicolons. <b>Semicolons</b> can be used, however, to separate multiple statements on a single line:"
   ]
  },
  {
   "cell_type": "code",
   "execution_count": 55,
   "id": "e1a88b53-3b23-48c5-b07d-6ff651e9e59c",
   "metadata": {},
   "outputs": [],
   "source": [
    "a = 5; b = 6; c = 7"
   ]
  },
  {
   "cell_type": "markdown",
   "id": "4db1f3ca-ceeb-4a3f-92f0-bd8785d46b13",
   "metadata": {},
   "source": [
    "Putting multiple statements on one line is generally discouraged in Python as it can make code less readable."
   ]
  },
  {
   "cell_type": "markdown",
   "id": "0319160c-8d78-4aad-8bf5-812f973ffdff",
   "metadata": {},
   "source": [
    "## Everything is an object"
   ]
  },
  {
   "cell_type": "markdown",
   "id": "427d1fe0-775d-4be2-af42-ead0cc27ef3c",
   "metadata": {},
   "source": [
    "An important characteristic of the Python language is the consistency of its object model. Every number, string, data structure, function, class, module, and so on exists in the Python interpreter in its own “box,” which is referred to as a Python object. Each object has an associated type (e.g., integer, string, or function) and internal data. In practice this makes the language very flexible, as even functions can be treated like any other object."
   ]
  },
  {
   "cell_type": "markdown",
   "id": "87c0ef3b-ada7-4312-95a4-91eb0ada606c",
   "metadata": {},
   "source": [
    "## Comments"
   ]
  },
  {
   "cell_type": "markdown",
   "id": "6ddcfbe6-f831-4e3f-8491-13ab1bb63a6c",
   "metadata": {},
   "source": [
    "Any text preceded by the hash mark (pound sign) <b>#</b> is ignored by the Python interpreter. This is often used to add comments to code. At times you may also want to exclude certain blocks of code without deleting them. One solution is to comment out the code:"
   ]
  },
  {
   "cell_type": "code",
   "execution_count": 64,
   "id": "c57c44e0-e751-464d-b28e-17a3badaca6d",
   "metadata": {},
   "outputs": [],
   "source": [
    "results = []\n",
    "file_handle = []\n",
    "for line in file_handle:\n",
    "    # keep the empty lines for now\n",
    "    # if len(line) == 0:\n",
    "    #   continue\n",
    "    results.append(line.replace(\"foo\", \"bar\"))"
   ]
  },
  {
   "cell_type": "markdown",
   "id": "aaabff10-3ee2-4e6e-b90a-728d5fb5a825",
   "metadata": {},
   "source": [
    "Comments can also occur after a line of executed code. While some programmers prefer comments to be placed in the line preceding a particular line of code, this can be useful at times:"
   ]
  },
  {
   "cell_type": "code",
   "execution_count": 67,
   "id": "b1c84935-7294-4aee-8da4-7914edf9ae1f",
   "metadata": {},
   "outputs": [
    {
     "name": "stdout",
     "output_type": "stream",
     "text": [
      "Reached this line\n"
     ]
    }
   ],
   "source": [
    "print(\"Reached this line\")  # Simple status report"
   ]
  },
  {
   "cell_type": "markdown",
   "id": "7aed76f0-c401-449e-8b86-ed73a7ad5624",
   "metadata": {},
   "source": [
    "## Function and object method calls"
   ]
  },
  {
   "cell_type": "markdown",
   "id": "9a5e551b-320a-4392-8efd-77b715d47587",
   "metadata": {},
   "source": [
    "You call functions using parentheses and passing zero or more arguments, optionally assigning the returned value to a variable:"
   ]
  },
  {
   "cell_type": "raw",
   "id": "944de0e0-d9b9-42f5-9a18-5a16e8d4d41b",
   "metadata": {
    "collapsed": true,
    "jupyter": {
     "outputs_hidden": true
    }
   },
   "source": [
    "result = f(x, y, z)\n",
    "\n",
    "g()"
   ]
  },
  {
   "cell_type": "markdown",
   "id": "fe115833-c0cb-4866-98e3-b7bf677d01c7",
   "metadata": {},
   "source": [
    "Almost every object in Python has attached functions, known as methods, that have access to the object’s internal contents. You can call them using the following syntax:"
   ]
  },
  {
   "cell_type": "raw",
   "id": "ea5499bf-e3c1-475b-9c3c-a0f68ba1da7e",
   "metadata": {},
   "source": [
    "obj.some_method(x, y, z)"
   ]
  },
  {
   "cell_type": "markdown",
   "id": "1abdb94e-6353-4ffa-ba84-992987d4dab2",
   "metadata": {},
   "source": [
    "Functions can take both positional and keyword arguments:"
   ]
  },
  {
   "cell_type": "raw",
   "id": "27f19fb6-36a2-4b57-a537-eeb2db15132e",
   "metadata": {},
   "source": [
    "result = f(a, b, c, d=5, e=\"foo\")"
   ]
  },
  {
   "cell_type": "markdown",
   "id": "7107fc54-d988-4c5a-ae78-5b8798aa9457",
   "metadata": {},
   "source": [
    "We will look at this in more detail later."
   ]
  },
  {
   "cell_type": "markdown",
   "id": "afbd3a1d-3cde-4c61-9d74-379c51d7d2c6",
   "metadata": {},
   "source": [
    "## Variables and argument passing"
   ]
  },
  {
   "cell_type": "markdown",
   "id": "0698e8af-79a5-41fa-8b77-1fdab2cab06a",
   "metadata": {},
   "source": [
    "When assigning a variable in Python, you are creating a reference to the object shown on the right-hand side of the equals sign. In practical terms, consider a list of integers:"
   ]
  },
  {
   "cell_type": "code",
   "execution_count": 29,
   "id": "ae23e6e9-fa3c-4060-9d29-c8cacb43257e",
   "metadata": {},
   "outputs": [],
   "source": [
    "a = [1, 2, 3]"
   ]
  },
  {
   "cell_type": "markdown",
   "id": "58e9450e-eee3-4389-bf11-2e10f51df5d2",
   "metadata": {},
   "source": [
    "Suppose we assign <b>a</b> to a new variable <b>b</b>:"
   ]
  },
  {
   "cell_type": "code",
   "execution_count": 32,
   "id": "59c2e8d6-c198-4f9c-802d-ab6771ec35e6",
   "metadata": {},
   "outputs": [
    {
     "data": {
      "text/plain": [
       "[1, 2, 3]"
      ]
     },
     "execution_count": 32,
     "metadata": {},
     "output_type": "execute_result"
    }
   ],
   "source": [
    "b=a\n",
    "b"
   ]
  },
  {
   "cell_type": "markdown",
   "id": "f74cf6ca-6a67-406b-be09-12a1e8f06d73",
   "metadata": {},
   "source": [
    "In some languages, the assignment of <b>b</b> will cause the data [1, 2, 3] to be copied. In Python, <b>a</b> and <b>b</b> actually now refer to the same object, the original list [1, 2, 3] (see Figure 2-5 for a mock-up). You can prove this to yourself by appending an element to <b>b</b> and then examining <b>a</b>:"
   ]
  },
  {
   "cell_type": "code",
   "execution_count": 124,
   "id": "d7ee69e6-08ba-4b1f-9eb9-2b0f9091f26d",
   "metadata": {},
   "outputs": [
    {
     "data": {
      "text/plain": [
       "[1, 2, 3, 4]"
      ]
     },
     "execution_count": 124,
     "metadata": {},
     "output_type": "execute_result"
    }
   ],
   "source": [
    "b.append(4)\n",
    "a"
   ]
  },
  {
   "cell_type": "markdown",
   "id": "a0c3a3cb-cbf4-49b0-a575-a6d20b41c15e",
   "metadata": {},
   "source": [
    "![](pda3_0205.png)"
   ]
  },
  {
   "cell_type": "markdown",
   "id": "ccbb7f63-08a9-40b8-b055-6727d2d4d6d4",
   "metadata": {},
   "source": [
    "Understanding the semantics of references in Python, and when, how, and why data is copied, is especially critical when you are working with larger datasets in Python."
   ]
  },
  {
   "cell_type": "markdown",
   "id": "b632f348-91b5-4387-b417-9f25b55e7a03",
   "metadata": {},
   "source": [
    "<blockquote>Assignment is also referred to as binding, as we are binding a name to an object. Variable names that have been assigned may occasionally be referred to as bound variables.</blockquote>"
   ]
  },
  {
   "cell_type": "markdown",
   "id": "924f5b38-ad50-4585-9492-17066c84ff06",
   "metadata": {},
   "source": [
    "When you pass objects as arguments to a function, new local variables are created referencing the original objects without any copying. If you bind a new object to a variable inside a function, that will not overwrite a variable of the same name in the “scope” outside of the function (the “parent scope”). It is therefore possible to alter the internals of a mutable argument. Suppose we had the following function:"
   ]
  },
  {
   "cell_type": "code",
   "execution_count": 128,
   "id": "7e1b110b-36dc-4590-8c98-05b6143e76cf",
   "metadata": {},
   "outputs": [],
   "source": [
    "def append_element(some_list, element):\n",
    "    some_list.append(element)"
   ]
  },
  {
   "cell_type": "markdown",
   "id": "b5a128fa-dc7f-4759-a2ad-4640af2bb16d",
   "metadata": {},
   "source": [
    "Then we have:"
   ]
  },
  {
   "cell_type": "code",
   "execution_count": 96,
   "id": "241ea925-f8dd-4b19-9b86-bf00da09c0e8",
   "metadata": {},
   "outputs": [
    {
     "data": {
      "text/plain": [
       "[1, 2, 3, 4]"
      ]
     },
     "execution_count": 96,
     "metadata": {},
     "output_type": "execute_result"
    }
   ],
   "source": [
    "data = [1, 2, 3]\n",
    "append_element(data, 4)\n",
    "data"
   ]
  },
  {
   "cell_type": "markdown",
   "id": "e11f8d18-b314-4f0b-889d-30f375a3aa2b",
   "metadata": {},
   "source": [
    "### Dynamic references, strong types"
   ]
  },
  {
   "cell_type": "markdown",
   "id": "1b12044b-6c4e-4f60-a832-27bdfa92f2dd",
   "metadata": {},
   "source": [
    "Variables in Python have no inherent type associated with them; a variable can refer to a different type of object simply by doing an assignment. There is no problem with the following:"
   ]
  },
  {
   "cell_type": "code",
   "execution_count": 100,
   "id": "a26256c1-2193-4a8b-9967-2b2bc2440dac",
   "metadata": {},
   "outputs": [
    {
     "data": {
      "text/plain": [
       "int"
      ]
     },
     "execution_count": 100,
     "metadata": {},
     "output_type": "execute_result"
    }
   ],
   "source": [
    "a = 5\n",
    "type(a)"
   ]
  },
  {
   "cell_type": "code",
   "execution_count": 102,
   "id": "70f06e45-42c2-4b62-aa2b-d1e1c331a3e5",
   "metadata": {},
   "outputs": [
    {
     "data": {
      "text/plain": [
       "str"
      ]
     },
     "execution_count": 102,
     "metadata": {},
     "output_type": "execute_result"
    }
   ],
   "source": [
    "a = \"foo\"\n",
    "type(a)"
   ]
  },
  {
   "cell_type": "markdown",
   "id": "f1f5fd8b-2934-4177-b1aa-973605ccdf51",
   "metadata": {},
   "source": [
    "Variables are names for objects within a particular namespace; the type information is stored in the object itself. Some observers might hastily conclude that Python is not a “typed language.” This is not true; consider this example:"
   ]
  },
  {
   "cell_type": "code",
   "execution_count": 105,
   "id": "06165eee-1534-4b2c-8516-206420aa86eb",
   "metadata": {},
   "outputs": [
    {
     "ename": "TypeError",
     "evalue": "can only concatenate str (not \"int\") to str",
     "output_type": "error",
     "traceback": [
      "\u001b[0;31m---------------------------------------------------------------------------\u001b[0m",
      "\u001b[0;31mTypeError\u001b[0m                                 Traceback (most recent call last)",
      "Cell \u001b[0;32mIn[105], line 1\u001b[0m\n\u001b[0;32m----> 1\u001b[0m \u001b[38;5;124m\"\u001b[39m\u001b[38;5;124m5\u001b[39m\u001b[38;5;124m\"\u001b[39m \u001b[38;5;241m+\u001b[39m \u001b[38;5;241m5\u001b[39m\n",
      "\u001b[0;31mTypeError\u001b[0m: can only concatenate str (not \"int\") to str"
     ]
    }
   ],
   "source": [
    "\"5\" + 5"
   ]
  },
  {
   "cell_type": "markdown",
   "id": "70f55999-18da-4187-b6d7-de5956c65eeb",
   "metadata": {},
   "source": [
    "In some languages, the string '5' might get implicitly converted (or cast) to an integer, thus yielding 10. In other languages the integer 5 might be cast to a string, yielding the concatenated string '55'. In Python, such implicit casts are not allowed. In this regard we say that Python is a strongly typed language, which means that every object has a specific type (or class), and implicit conversions will occur only in certain permitted circumstances, such as:"
   ]
  },
  {
   "cell_type": "code",
   "execution_count": 108,
   "id": "35730df4-3b05-4964-ba24-bbf0697ba50c",
   "metadata": {},
   "outputs": [
    {
     "name": "stdout",
     "output_type": "stream",
     "text": [
      "a is <class 'float'>, b is <class 'int'>\n"
     ]
    }
   ],
   "source": [
    "a = 4.5\n",
    "\n",
    "b = 2\n",
    "\n",
    "# String formatting, to be visited later\n",
    "print(f\"a is {type(a)}, b is {type(b)}\")"
   ]
  },
  {
   "cell_type": "code",
   "execution_count": 110,
   "id": "7a1e20c4-6054-404a-976e-6f7bb4b4e872",
   "metadata": {},
   "outputs": [
    {
     "data": {
      "text/plain": [
       "2.25"
      ]
     },
     "execution_count": 110,
     "metadata": {},
     "output_type": "execute_result"
    }
   ],
   "source": [
    "a / b"
   ]
  },
  {
   "cell_type": "markdown",
   "id": "401b0c0b-b414-46a1-a800-8372a48f9f42",
   "metadata": {},
   "source": [
    "Here, even though b is an integer, it is implicitly converted to a float for the division operation.\n",
    "\n",
    "Knowing the type of an object is important, and it’s useful to be able to write functions that can handle many different kinds of input. You can check that an object is an instance of a particular type using the isinstance function:"
   ]
  },
  {
   "cell_type": "code",
   "execution_count": 113,
   "id": "4b4d222d-6e23-45a3-9be4-eb1c26622be3",
   "metadata": {},
   "outputs": [
    {
     "data": {
      "text/plain": [
       "True"
      ]
     },
     "execution_count": 113,
     "metadata": {},
     "output_type": "execute_result"
    }
   ],
   "source": [
    "a = 5\n",
    "isinstance(a, int)"
   ]
  },
  {
   "cell_type": "markdown",
   "id": "5f2519aa-85c7-4ac2-a0ef-91bfb7fc9879",
   "metadata": {},
   "source": [
    "isinstance can accept a tuple of types if you want to check that an object’s type is among those present in the tuple:"
   ]
  },
  {
   "cell_type": "code",
   "execution_count": 35,
   "id": "1d3ffb65-efa1-4b90-a26f-c09f96c57ac9",
   "metadata": {},
   "outputs": [],
   "source": [
    "a = 5; b = 4.5"
   ]
  },
  {
   "cell_type": "code",
   "execution_count": 43,
   "id": "97009610-451c-4afe-9255-1e98c073d866",
   "metadata": {},
   "outputs": [
    {
     "data": {
      "text/plain": [
       "True"
      ]
     },
     "execution_count": 43,
     "metadata": {},
     "output_type": "execute_result"
    }
   ],
   "source": [
    "isinstance(a, (int, float))"
   ]
  },
  {
   "cell_type": "code",
   "execution_count": 47,
   "id": "157c75f8-39f4-4ade-82e1-ba3276a7d8a2",
   "metadata": {},
   "outputs": [
    {
     "data": {
      "text/plain": [
       "False"
      ]
     },
     "execution_count": 47,
     "metadata": {},
     "output_type": "execute_result"
    }
   ],
   "source": [
    "isinstance(b, (int, str))"
   ]
  },
  {
   "cell_type": "markdown",
   "id": "f7c992de-2b26-463e-a4fd-fe16a6b5041d",
   "metadata": {},
   "source": [
    "## Attributes and methods"
   ]
  },
  {
   "cell_type": "markdown",
   "id": "95e9dee3-0296-4580-9ffe-e300f28f0274",
   "metadata": {},
   "source": [
    "Objects in Python typically have both <b>attributes</b> (other Python objects stored “inside” the object) and <b>methods</b> (functions associated with an object that can have access to the object’s internal data). Both of them are accessed via the syntax <b>obj.attribute_name</b>:"
   ]
  },
  {
   "cell_type": "code",
   "execution_count": 50,
   "id": "de21a731-1b39-416f-aabf-6d6ac469155c",
   "metadata": {},
   "outputs": [],
   "source": [
    "a = \"foo\""
   ]
  },
  {
   "cell_type": "raw",
   "id": "d07b97c3-6f82-4047-a25e-9a9ed6c8cd48",
   "metadata": {},
   "source": [
    "a.<tab>"
   ]
  },
  {
   "cell_type": "markdown",
   "id": "3234ebcc-abf8-4ca0-bf38-7957e9d41d9f",
   "metadata": {},
   "source": [
    "Try pressing \\<tab\\> after an object"
   ]
  },
  {
   "cell_type": "code",
   "execution_count": 58,
   "id": "7b9ff17f-0f3f-4d9e-8569-6ca41bd33486",
   "metadata": {},
   "outputs": [
    {
     "ename": "SyntaxError",
     "evalue": "invalid syntax (3905452595.py, line 1)",
     "output_type": "error",
     "traceback": [
      "\u001b[0;36m  Cell \u001b[0;32mIn[58], line 1\u001b[0;36m\u001b[0m\n\u001b[0;31m    a.\u001b[0m\n\u001b[0m      ^\u001b[0m\n\u001b[0;31mSyntaxError\u001b[0m\u001b[0;31m:\u001b[0m invalid syntax\n"
     ]
    }
   ],
   "source": [
    "a."
   ]
  },
  {
   "cell_type": "markdown",
   "id": "89cbed9e-bc61-4d9e-9ed6-4160fc545004",
   "metadata": {},
   "source": [
    "Attributes and methods can also be accessed by name via the getattr function:"
   ]
  },
  {
   "cell_type": "code",
   "execution_count": 60,
   "id": "c860490a-5d3f-4598-a990-70ff1aef59f4",
   "metadata": {},
   "outputs": [
    {
     "data": {
      "text/plain": [
       "<function str.split(sep=None, maxsplit=-1)>"
      ]
     },
     "execution_count": 60,
     "metadata": {},
     "output_type": "execute_result"
    }
   ],
   "source": [
    "getattr(a, \"split\")"
   ]
  },
  {
   "cell_type": "markdown",
   "id": "829789d9-13ad-4614-883f-f1341163fb37",
   "metadata": {},
   "source": [
    "While we will not extensively use the functions getattr and related functions hasattr and setattr in this book, they can be used very effectively to write generic, reusable code."
   ]
  },
  {
   "cell_type": "markdown",
   "id": "65f0c42f-307a-45d5-8cda-f25ecee684c1",
   "metadata": {},
   "source": [
    "## Duck typing"
   ]
  },
  {
   "cell_type": "markdown",
   "id": "0daa6986-a403-41ca-a0a0-389507f92e69",
   "metadata": {},
   "source": [
    "Often you may not care about the type of an object but rather only whether it has certain methods or behavior. This is sometimes called duck typing, after the saying “If it walks like a duck and quacks like a duck, then it’s a duck.” For example, you can verify that an object is iterable if it implements the iterator protocol. For many objects, this means it has an __iter__ “magic method,” though an alternative and better way to check is to try using the iter function:"
   ]
  },
  {
   "cell_type": "code",
   "execution_count": 76,
   "id": "b902660e-d2fd-4906-b981-fd619855500d",
   "metadata": {},
   "outputs": [],
   "source": [
    "def isiterable(obj):\n",
    "     try:\n",
    "         iter(obj)\n",
    "         return True\n",
    "     except TypeError: # not iterable\n",
    "         return False"
   ]
  },
  {
   "cell_type": "markdown",
   "id": "87faa697-67a9-49f1-8f6e-3380a01c9276",
   "metadata": {},
   "source": [
    "This function would return True for strings as well as most Python collection types:"
   ]
  },
  {
   "cell_type": "code",
   "execution_count": 79,
   "id": "76254524-fadb-4248-aafe-d8f35fee5403",
   "metadata": {},
   "outputs": [
    {
     "data": {
      "text/plain": [
       "True"
      ]
     },
     "execution_count": 79,
     "metadata": {},
     "output_type": "execute_result"
    }
   ],
   "source": [
    "isiterable(\"a string\")"
   ]
  },
  {
   "cell_type": "code",
   "execution_count": 81,
   "id": "ab94a42a-befd-4aa3-a05d-8d2834d278c5",
   "metadata": {},
   "outputs": [
    {
     "data": {
      "text/plain": [
       "True"
      ]
     },
     "execution_count": 81,
     "metadata": {},
     "output_type": "execute_result"
    }
   ],
   "source": [
    "isiterable([1, 2, 3])"
   ]
  },
  {
   "cell_type": "code",
   "execution_count": 83,
   "id": "a5496ff0-2a34-4213-9878-892bb5ace89c",
   "metadata": {},
   "outputs": [
    {
     "data": {
      "text/plain": [
       "False"
      ]
     },
     "execution_count": 83,
     "metadata": {},
     "output_type": "execute_result"
    }
   ],
   "source": [
    "isiterable(5)"
   ]
  },
  {
   "cell_type": "markdown",
   "id": "112db7e0-27dd-4a15-94c7-ca3c1d744744",
   "metadata": {},
   "source": [
    "## Modules"
   ]
  },
  {
   "cell_type": "markdown",
   "id": "ad3f9506-dbe0-4d3f-aade-0f4fc48b7de3",
   "metadata": {},
   "source": [
    "In Python, a module is simply a file with the .py extension containing Python code. Suppose we had the following module:"
   ]
  },
  {
   "cell_type": "raw",
   "id": "3b539525-b5f3-49a5-bc1a-1d63adaa98a0",
   "metadata": {},
   "source": [
    "#some_module.py\n",
    "\n",
    "PI = 3.14159\n",
    "\n",
    "def f(x):\n",
    "    return x + 2\n",
    "\n",
    "def g(a, b):\n",
    "    return a + b"
   ]
  },
  {
   "cell_type": "markdown",
   "id": "c9952479-017e-4e9f-b0e2-51f88c092ccc",
   "metadata": {},
   "source": [
    "If we wanted to access the variables and functions defined in some_module.py, from another file in the same directory we could do:"
   ]
  },
  {
   "cell_type": "code",
   "execution_count": 67,
   "id": "a59e973c-bf1b-4041-97a4-742878ce008d",
   "metadata": {},
   "outputs": [
    {
     "data": {
      "text/plain": [
       "3.14159"
      ]
     },
     "execution_count": 67,
     "metadata": {},
     "output_type": "execute_result"
    }
   ],
   "source": [
    "import some_module\n",
    "#result = some_module.f(5)\n",
    "pi = some_module.PI\n",
    "pi"
   ]
  },
  {
   "cell_type": "markdown",
   "id": "bb6a4c1c-49d6-4cd1-b579-d2ce2282b628",
   "metadata": {},
   "source": [
    "Or alternately:"
   ]
  },
  {
   "cell_type": "code",
   "execution_count": 70,
   "id": "c8cdadfc-269e-4c1e-b551-9e4f0a8b892d",
   "metadata": {},
   "outputs": [],
   "source": [
    "from some_module import g, PI"
   ]
  },
  {
   "cell_type": "code",
   "execution_count": 72,
   "id": "063790d6-bdd9-4047-a5c8-5fb47c4c160e",
   "metadata": {},
   "outputs": [
    {
     "name": "stdout",
     "output_type": "stream",
     "text": [
      "8.14159\n"
     ]
    }
   ],
   "source": [
    "result = g(5, PI)\n",
    "print(result)"
   ]
  },
  {
   "cell_type": "markdown",
   "id": "58ac35dd-a665-446d-b45f-0847056831af",
   "metadata": {},
   "source": [
    "By using the <b>as</b> keyword, you can give imports different variable names:"
   ]
  },
  {
   "cell_type": "code",
   "execution_count": 106,
   "id": "e52ea023-f7d1-4ffd-8131-851d9cc4f17f",
   "metadata": {},
   "outputs": [],
   "source": [
    "import some_module as sm\n",
    "from some_module import PI as pi, g as gf"
   ]
  },
  {
   "cell_type": "code",
   "execution_count": 110,
   "id": "d992ff07-9c33-450b-af64-456de86b2b9e",
   "metadata": {},
   "outputs": [
    {
     "name": "stdout",
     "output_type": "stream",
     "text": [
      "5.14159\n"
     ]
    }
   ],
   "source": [
    "r1 = sm.f(pi)\n",
    "print(r1)"
   ]
  },
  {
   "cell_type": "code",
   "execution_count": 112,
   "id": "4f544ae8-db1c-4728-b0cd-b2269dd9bc31",
   "metadata": {},
   "outputs": [
    {
     "name": "stdout",
     "output_type": "stream",
     "text": [
      "9.14159\n"
     ]
    }
   ],
   "source": [
    "r2 = gf(6, pi)\n",
    "print(r2)"
   ]
  },
  {
   "cell_type": "markdown",
   "id": "9559a0b0-9f36-4ca6-b455-4e6d6d2a089d",
   "metadata": {},
   "source": [
    "## Binary operators and comparisons"
   ]
  },
  {
   "cell_type": "markdown",
   "id": "838059f7-ac47-4b80-b104-bcd15b43546a",
   "metadata": {},
   "source": [
    "Most of the binary math operations and comparisons use familiar mathematical syntax used in other programming languages:"
   ]
  },
  {
   "cell_type": "code",
   "execution_count": 170,
   "id": "ce28cd7d-8989-475b-b21d-2ce28735f066",
   "metadata": {},
   "outputs": [
    {
     "data": {
      "text/plain": [
       "-2"
      ]
     },
     "execution_count": 170,
     "metadata": {},
     "output_type": "execute_result"
    }
   ],
   "source": [
    "5 - 7"
   ]
  },
  {
   "cell_type": "code",
   "execution_count": 172,
   "id": "ff6d0d7c-723a-46d1-910c-0352a57209d5",
   "metadata": {},
   "outputs": [
    {
     "data": {
      "text/plain": [
       "33.5"
      ]
     },
     "execution_count": 172,
     "metadata": {},
     "output_type": "execute_result"
    }
   ],
   "source": [
    "12 + 21.5"
   ]
  },
  {
   "cell_type": "code",
   "execution_count": 174,
   "id": "1c84169c-29c8-440e-bb1f-3559112fc318",
   "metadata": {},
   "outputs": [
    {
     "data": {
      "text/plain": [
       "False"
      ]
     },
     "execution_count": 174,
     "metadata": {},
     "output_type": "execute_result"
    }
   ],
   "source": [
    "5 <= 2"
   ]
  },
  {
   "cell_type": "markdown",
   "id": "1925bc52-45ee-4bb2-9cf9-807d5cace318",
   "metadata": {},
   "source": [
    "See Table 2-1 for all of the available binary operators."
   ]
  },
  {
   "cell_type": "markdown",
   "id": "d1720862-3944-40a0-8996-a81ac2a6219f",
   "metadata": {},
   "source": [
    "|Operation|Description|\n",
    "|---|---|\n",
    "|a + b|Add a and b|\n",
    "|a - b|Subtract b from a|\n",
    "|a * b|Multiply a by b|\n",
    "|a / b|Divide a by b|\n",
    "|a // b|Floor-divide a by b, dropping any fractional remainder|\n",
    "|a ** b|Raise a to the b power|\n",
    "|a & b|\tTrue if both a and b are True; for integers, take the bitwise AND|\n",
    "|a \\| b|\tTrue if either a or b is True; for integers, take the bitwise OR|\n",
    "|a ^ b|\tFor Booleans, True if a or b is True, but not both; for integers, take the bitwise EXCLUSIVE-OR|\n",
    "|a == b|True if a equals b|\n",
    "|a != b|\tTrue if a is not equal to b|\n",
    "|a < b, a <= b|\tTrue if a is less than (less than or equal to) b|\n",
    "|a > b, a >= b|\tTrue if a is greater than (greater than or equal to) b|\n",
    "|a is b|\tTrue if a and b reference the same Python object|\n",
    "|a is not b|\tTrue if a and b reference different Python objects|"
   ]
  },
  {
   "cell_type": "markdown",
   "id": "e715f99d-728a-494e-87ce-95df8ed7609a",
   "metadata": {},
   "source": [
    "To check if two variables <b>refer</b> to the same object, use the <b>is</b> keyword. \n",
    "\n",
    "Use <b>is not</b> to check that two objects are not the same:"
   ]
  },
  {
   "cell_type": "code",
   "execution_count": 82,
   "id": "5b02996a-4c17-47ee-a60e-8fb690d2867d",
   "metadata": {},
   "outputs": [],
   "source": [
    "a = [1, 2, 3]\n",
    "\n",
    "b = a\n",
    "\n",
    "c = list(a)"
   ]
  },
  {
   "cell_type": "code",
   "execution_count": 85,
   "id": "2afa6374-6677-4bde-87b8-b7b5c1f0cf8b",
   "metadata": {},
   "outputs": [
    {
     "data": {
      "text/plain": [
       "True"
      ]
     },
     "execution_count": 85,
     "metadata": {},
     "output_type": "execute_result"
    }
   ],
   "source": [
    "a is b"
   ]
  },
  {
   "cell_type": "code",
   "execution_count": 90,
   "id": "b3701278-fce3-489f-b480-1556900978bd",
   "metadata": {},
   "outputs": [
    {
     "data": {
      "text/plain": [
       "False"
      ]
     },
     "execution_count": 90,
     "metadata": {},
     "output_type": "execute_result"
    }
   ],
   "source": [
    "a is c"
   ]
  },
  {
   "cell_type": "code",
   "execution_count": 87,
   "id": "fe247d57-0095-48c4-8603-0e6aa08bf27c",
   "metadata": {},
   "outputs": [
    {
     "data": {
      "text/plain": [
       "True"
      ]
     },
     "execution_count": 87,
     "metadata": {},
     "output_type": "execute_result"
    }
   ],
   "source": [
    "a is not c"
   ]
  },
  {
   "cell_type": "markdown",
   "id": "04494f1d-560b-4330-904e-44f783fac05c",
   "metadata": {},
   "source": [
    "The <b>list</b> function always creates a new Python list (i.e., a copy), so <b>c</b> and <b>a</b> do not refer to the same object. \n",
    "\n",
    "However, comparing <b>a</b> and <b>c</b> with the <b>==</b> operator shows that their contents are equal :"
   ]
  },
  {
   "cell_type": "code",
   "execution_count": 95,
   "id": "0282727e-3137-4a03-9b44-f100a166fc3f",
   "metadata": {},
   "outputs": [
    {
     "data": {
      "text/plain": [
       "True"
      ]
     },
     "execution_count": 95,
     "metadata": {},
     "output_type": "execute_result"
    }
   ],
   "source": [
    "a == c"
   ]
  },
  {
   "cell_type": "markdown",
   "id": "4248b2ac-72df-4668-8714-cec802f7a6c4",
   "metadata": {},
   "source": [
    "A common use of <b>is</b> and <b>is not</b> is to check if a variable is <b>None</b>, since there is only one instance of <b>None</b>.\n",
    "\n",
    "This can be useful for scanning a document for missing values"
   ]
  },
  {
   "cell_type": "code",
   "execution_count": 195,
   "id": "72bdabce-8535-438b-80c1-7407d96892ed",
   "metadata": {},
   "outputs": [
    {
     "data": {
      "text/plain": [
       "True"
      ]
     },
     "execution_count": 195,
     "metadata": {},
     "output_type": "execute_result"
    }
   ],
   "source": [
    "a = None\n",
    "a is None"
   ]
  },
  {
   "cell_type": "markdown",
   "id": "18b0eaa7-ecbf-422e-be01-7fe99e1b71ef",
   "metadata": {},
   "source": [
    "## Mutable and immutable objects"
   ]
  },
  {
   "cell_type": "markdown",
   "id": "85ad18f8-ed68-41b2-85a9-08fc71842dd9",
   "metadata": {},
   "source": [
    "Many objects in Python, such as lists, dictionaries, NumPy arrays, and most user-defined types (classes), are mutable. This means that the object or values that they contain can be modified:"
   ]
  },
  {
   "cell_type": "code",
   "execution_count": 99,
   "id": "d2707d12-9f9a-4ace-b865-9e33a99467df",
   "metadata": {},
   "outputs": [
    {
     "data": {
      "text/plain": [
       "['foo', 2, (3, 4)]"
      ]
     },
     "execution_count": 99,
     "metadata": {},
     "output_type": "execute_result"
    }
   ],
   "source": [
    "a_list = [\"foo\", 2, [4, 5]]\n",
    "a_list[2] = (3, 4)\n",
    "a_list"
   ]
  },
  {
   "cell_type": "markdown",
   "id": "ef9323bd-2bd7-4a3f-929f-2a87cedb5485",
   "metadata": {},
   "source": [
    "Others, like strings and tuples, are immutable, which means their internal data cannot be changed:"
   ]
  },
  {
   "cell_type": "code",
   "execution_count": 202,
   "id": "bbc2ddbf-075a-409a-ad66-bfa7e4efc583",
   "metadata": {},
   "outputs": [
    {
     "ename": "TypeError",
     "evalue": "'tuple' object does not support item assignment",
     "output_type": "error",
     "traceback": [
      "\u001b[0;31m---------------------------------------------------------------------------\u001b[0m",
      "\u001b[0;31mTypeError\u001b[0m                                 Traceback (most recent call last)",
      "Cell \u001b[0;32mIn[202], line 3\u001b[0m\n\u001b[1;32m      1\u001b[0m a_tuple \u001b[38;5;241m=\u001b[39m (\u001b[38;5;241m3\u001b[39m, \u001b[38;5;241m5\u001b[39m, (\u001b[38;5;241m4\u001b[39m, \u001b[38;5;241m5\u001b[39m))\n\u001b[0;32m----> 3\u001b[0m a_tuple[\u001b[38;5;241m1\u001b[39m] \u001b[38;5;241m=\u001b[39m \u001b[38;5;124m\"\u001b[39m\u001b[38;5;124mfour\u001b[39m\u001b[38;5;124m\"\u001b[39m\n",
      "\u001b[0;31mTypeError\u001b[0m: 'tuple' object does not support item assignment"
     ]
    }
   ],
   "source": [
    "a_tuple = (3, 5, (4, 5))\n",
    "\n",
    "a_tuple[1] = \"four\""
   ]
  },
  {
   "cell_type": "markdown",
   "id": "ccc8d657-bae1-494f-80ae-07b1d5034875",
   "metadata": {},
   "source": [
    "Remember that just because you can mutate an object does not mean that you always should. Such actions are known as side effects. For example, when writing a function, any side effects should be explicitly communicated to the user in the function’s documentation or comments. If possible, I recommend trying to avoid side effects and favor immutability, even though there may be mutable objects involved."
   ]
  },
  {
   "cell_type": "markdown",
   "id": "fc3e8cf3-1ac2-43e4-9ac2-829bba6d4c1b",
   "metadata": {},
   "source": [
    "## Scalar Types"
   ]
  },
  {
   "cell_type": "markdown",
   "id": "f6e20288-5cf3-4835-8934-57a3b5ca08c8",
   "metadata": {},
   "source": [
    "Python has a small set of built-in types for handling numerical data, strings, Boolean (True or False) values, and dates and time. These “single value” types are sometimes called scalar types, and we refer to them in this book as scalars . See Table 2-2 for a list of the main scalar types. Date and time handling will be discussed separately, as these are provided by the datetime module in the standard library."
   ]
  },
  {
   "cell_type": "markdown",
   "id": "5dff8d86-5bd7-451b-8238-56e2c2f50ac9",
   "metadata": {},
   "source": [
    "|Type|Description|\n",
    "|---|---|\n",
    "|None|The Python “null” value (only one instance of the None object exists)|\n",
    "|str|String type; holds Unicode strings|\n",
    "|bytes|Raw binary data|\n",
    "|float|Double-precision floating-point number (note there is no separate double type)|\n",
    "|bool|A Boolean True or False value|\n",
    "|int|Arbitrary precision integer|"
   ]
  },
  {
   "cell_type": "markdown",
   "id": "729d80d5-260c-4671-aa38-ca177d2d9a00",
   "metadata": {},
   "source": [
    "## Numeric types"
   ]
  },
  {
   "cell_type": "markdown",
   "id": "906c872f-ede0-4d45-9e09-cce3904b5e63",
   "metadata": {},
   "source": [
    "The primary Python types for numbers are int and float. An int can store arbitrarily large numbers:"
   ]
  },
  {
   "cell_type": "code",
   "execution_count": 210,
   "id": "3af8690d-982c-4f13-ba0b-0176fc699bb9",
   "metadata": {},
   "outputs": [
    {
     "data": {
      "text/plain": [
       "26254519291092456596965462913230729701102721"
      ]
     },
     "execution_count": 210,
     "metadata": {},
     "output_type": "execute_result"
    }
   ],
   "source": [
    "ival = 17239871\n",
    "\n",
    "ival ** 6"
   ]
  },
  {
   "cell_type": "markdown",
   "id": "7f0f99ef-9744-45c2-8136-f923f0a2dc8c",
   "metadata": {},
   "source": [
    "Floating-point numbers are represented with the Python float type. Under the hood, each one is a double-precision value. They can also be expressed with scientific notation:"
   ]
  },
  {
   "cell_type": "code",
   "execution_count": 213,
   "id": "3f476176-f7c8-464a-8f9e-db1733dc0e1c",
   "metadata": {},
   "outputs": [],
   "source": [
    "fval = 7.243\n",
    "\n",
    "fval2 = 6.78e-5"
   ]
  },
  {
   "cell_type": "markdown",
   "id": "962231c1-4378-4d99-9b3d-3c615377f20c",
   "metadata": {},
   "source": [
    "Integer division not resulting in a whole number will always yield a floating-point number:"
   ]
  },
  {
   "cell_type": "code",
   "execution_count": 216,
   "id": "c540df36-2986-48bb-ba3d-f550744d2aaa",
   "metadata": {},
   "outputs": [
    {
     "data": {
      "text/plain": [
       "1.5"
      ]
     },
     "execution_count": 216,
     "metadata": {},
     "output_type": "execute_result"
    }
   ],
   "source": [
    "3 / 2"
   ]
  },
  {
   "cell_type": "markdown",
   "id": "0488cdf2-70d2-4ace-bd5c-7a62b060a05c",
   "metadata": {},
   "source": [
    "To get C-style integer division (which drops the fractional part if the result is not a whole number), use the floor division operator //:"
   ]
  },
  {
   "cell_type": "code",
   "execution_count": 219,
   "id": "84de06cb-a237-4bfb-9dc8-75fd2fc05cad",
   "metadata": {},
   "outputs": [
    {
     "data": {
      "text/plain": [
       "1"
      ]
     },
     "execution_count": 219,
     "metadata": {},
     "output_type": "execute_result"
    }
   ],
   "source": [
    "3 // 2"
   ]
  },
  {
   "cell_type": "markdown",
   "id": "561a52e6-52d8-4575-b179-c1610d42e2bb",
   "metadata": {},
   "source": [
    "## Strings"
   ]
  },
  {
   "cell_type": "markdown",
   "id": "5a290f85-d8ce-4466-99a5-fc3ac594ca43",
   "metadata": {},
   "source": [
    "Many people use Python for its built-in string handling capabilities. You can write string literals using either single quotes <b>'</b> or double quotes <b>\"</b> (double quotes are generally favored):"
   ]
  },
  {
   "cell_type": "code",
   "execution_count": 111,
   "id": "580f8fd1-efab-4211-b031-a141e245d043",
   "metadata": {},
   "outputs": [],
   "source": [
    "a = 'one way of writing a string'\n",
    "b = \"another way\""
   ]
  },
  {
   "cell_type": "markdown",
   "id": "21e921aa-07e1-4357-83de-6bcc6400f122",
   "metadata": {},
   "source": [
    "The Python string type is <b>str</b>.\n",
    "\n",
    "For multiline strings with line breaks, you can use triple quotes, either <b>'''</b> or <b>\"\"\"</b>:"
   ]
  },
  {
   "cell_type": "code",
   "execution_count": 114,
   "id": "313b364d-67be-44a9-94b8-5ce0ecda19ad",
   "metadata": {},
   "outputs": [],
   "source": [
    "c = \"\"\"\n",
    "This is a longer string that\n",
    "spans multiple lines\n",
    "\"\"\""
   ]
  },
  {
   "cell_type": "markdown",
   "id": "1a5ff556-3346-4676-bf75-06190d565355",
   "metadata": {},
   "source": [
    "It may surprise you that this string c actually contains four lines of text; the line breaks after \"\"\" and after lines are included in the string. We can count the new line characters with the count method on c:"
   ]
  },
  {
   "cell_type": "code",
   "execution_count": 117,
   "id": "619c0b44-ae2c-4d87-943d-e6811447441d",
   "metadata": {},
   "outputs": [
    {
     "data": {
      "text/plain": [
       "3"
      ]
     },
     "execution_count": 117,
     "metadata": {},
     "output_type": "execute_result"
    }
   ],
   "source": [
    "c.count(\"\\n\")"
   ]
  },
  {
   "cell_type": "markdown",
   "id": "72dab2ad-6ba1-4f9a-947f-b2d733f6f9de",
   "metadata": {},
   "source": [
    "Python strings are immutable; you cannot modify a string:"
   ]
  },
  {
   "cell_type": "code",
   "execution_count": 120,
   "id": "8e44e02e-1f67-47d5-a3d2-62a0c921c6a5",
   "metadata": {},
   "outputs": [
    {
     "ename": "TypeError",
     "evalue": "'str' object does not support item assignment",
     "output_type": "error",
     "traceback": [
      "\u001b[0;31m---------------------------------------------------------------------------\u001b[0m",
      "\u001b[0;31mTypeError\u001b[0m                                 Traceback (most recent call last)",
      "Cell \u001b[0;32mIn[120], line 3\u001b[0m\n\u001b[1;32m      1\u001b[0m a \u001b[38;5;241m=\u001b[39m \u001b[38;5;124m\"\u001b[39m\u001b[38;5;124mthis is a string\u001b[39m\u001b[38;5;124m\"\u001b[39m\n\u001b[0;32m----> 3\u001b[0m a[\u001b[38;5;241m10\u001b[39m] \u001b[38;5;241m=\u001b[39m \u001b[38;5;124m\"\u001b[39m\u001b[38;5;124mf\u001b[39m\u001b[38;5;124m\"\u001b[39m\n",
      "\u001b[0;31mTypeError\u001b[0m: 'str' object does not support item assignment"
     ]
    }
   ],
   "source": [
    "a = \"this is a string\"\n",
    "\n",
    "a[10] = \"f\""
   ]
  },
  {
   "cell_type": "markdown",
   "id": "db22cde0-a848-4fc4-86f7-86a2ae3e42f7",
   "metadata": {},
   "source": [
    "To interpret this error message, read from the bottom up. We tried to replace the character at position 10 with the letter \"f\", but this is not allowed for string objects. If we need to modify a string, we have to use a function or method that creates a new string, such as the string replace method:"
   ]
  },
  {
   "cell_type": "code",
   "execution_count": 122,
   "id": "100822dc-ea0d-497b-906d-9fd5a7ac63c3",
   "metadata": {},
   "outputs": [
    {
     "data": {
      "text/plain": [
       "'this is a longer string'"
      ]
     },
     "execution_count": 122,
     "metadata": {},
     "output_type": "execute_result"
    }
   ],
   "source": [
    "b = a.replace(\"string\", \"longer string\")\n",
    "b"
   ]
  },
  {
   "cell_type": "markdown",
   "id": "c390da67-474d-45c9-8f2b-c8e431567702",
   "metadata": {},
   "source": [
    "Afer this operation, the variable <b>a</b> is unmodified:"
   ]
  },
  {
   "cell_type": "code",
   "execution_count": 125,
   "id": "b838f1c0-2123-4d99-92ae-fdcef6a4c00f",
   "metadata": {},
   "outputs": [
    {
     "data": {
      "text/plain": [
       "'this is a string'"
      ]
     },
     "execution_count": 125,
     "metadata": {},
     "output_type": "execute_result"
    }
   ],
   "source": [
    "a"
   ]
  },
  {
   "cell_type": "markdown",
   "id": "5e847c03-faab-4be0-a371-35389bdfbee0",
   "metadata": {},
   "source": [
    "Many Python objects can be converted to a string using the <b>str</b> function:"
   ]
  },
  {
   "cell_type": "code",
   "execution_count": 128,
   "id": "91f2c8df-c892-4fc7-a93b-8ad0f7e17dfa",
   "metadata": {},
   "outputs": [
    {
     "name": "stdout",
     "output_type": "stream",
     "text": [
      "5.6\n"
     ]
    }
   ],
   "source": [
    "a = 5.6\n",
    "\n",
    "s = str(a)\n",
    "\n",
    "print(s)"
   ]
  },
  {
   "cell_type": "markdown",
   "id": "ec909cbe-fe6d-435e-b14d-5ca725623744",
   "metadata": {},
   "source": [
    "Strings are a sequence of Unicode characters and therefore can be treated like other sequences, such as lists and tuples:"
   ]
  },
  {
   "cell_type": "code",
   "execution_count": 134,
   "id": "aa4e4975-61cd-4323-aa84-5626d2e6cc21",
   "metadata": {},
   "outputs": [
    {
     "data": {
      "text/plain": [
       "['p', 'y', 't', 'h', 'o', 'n']"
      ]
     },
     "execution_count": 134,
     "metadata": {},
     "output_type": "execute_result"
    }
   ],
   "source": [
    "s = \"python\"\n",
    "\n",
    "list(s)"
   ]
  },
  {
   "cell_type": "code",
   "execution_count": 136,
   "id": "34d1508b-f9bc-4c49-8760-d8edb96dafa8",
   "metadata": {},
   "outputs": [
    {
     "data": {
      "text/plain": [
       "'pyt'"
      ]
     },
     "execution_count": 136,
     "metadata": {},
     "output_type": "execute_result"
    }
   ],
   "source": [
    "s[:3]"
   ]
  },
  {
   "cell_type": "markdown",
   "id": "0665ab0d-fd81-4292-b71b-f4e00d63c2aa",
   "metadata": {},
   "source": [
    "The syntax <b>s[:3]</b> is called <b>slicing</b> and is implemented for many kinds of Python sequences. This will be explained in more detail later on, as it is used extensively in the book."
   ]
  },
  {
   "cell_type": "markdown",
   "id": "9ecbc32c-b6fa-4550-9cde-e58e95daedb8",
   "metadata": {},
   "source": [
    "The backslash character <b>\\\\</b> is an escape character, meaning that it is used to specify special characters like newline <b>\\\\n</b> or Unicode characters. To write a string literal with backslashes, you need to escape them:"
   ]
  },
  {
   "cell_type": "code",
   "execution_count": 142,
   "id": "1403938f-4caa-439a-9461-e9aa5f5ddafc",
   "metadata": {},
   "outputs": [
    {
     "name": "stdout",
     "output_type": "stream",
     "text": [
      "12\\34\n"
     ]
    }
   ],
   "source": [
    "s = \"12\\\\34\"\n",
    "\n",
    "print(s)"
   ]
  },
  {
   "cell_type": "markdown",
   "id": "ad2524d5-b670-4b95-8936-c09496117373",
   "metadata": {},
   "source": [
    "If you have a string with a lot of backslashes and no special characters, you might find this a bit annoying. Fortunately you can preface the leading quote of the string with <b>r</b>, which means that the characters should be interpreted as is:"
   ]
  },
  {
   "cell_type": "code",
   "execution_count": 145,
   "id": "529896bc-12d3-4eba-8d15-37cc561d1a34",
   "metadata": {},
   "outputs": [
    {
     "data": {
      "text/plain": [
       "'this\\\\has\\\\no\\\\special\\\\characters'"
      ]
     },
     "execution_count": 145,
     "metadata": {},
     "output_type": "execute_result"
    }
   ],
   "source": [
    "s = r\"this\\has\\no\\special\\characters\"\n",
    "\n",
    "s"
   ]
  },
  {
   "cell_type": "markdown",
   "id": "9de6da2f-a07b-445d-a099-428e8a0b7a0a",
   "metadata": {},
   "source": [
    "The <b>r</b> stands for raw.\n",
    "\n",
    "Adding two strings together concatenates them and produces a new string:"
   ]
  },
  {
   "cell_type": "code",
   "execution_count": 148,
   "id": "fd08d166-66d1-4bee-8c5e-e270f129e460",
   "metadata": {},
   "outputs": [
    {
     "data": {
      "text/plain": [
       "'this is the first half and this is the second half'"
      ]
     },
     "execution_count": 148,
     "metadata": {},
     "output_type": "execute_result"
    }
   ],
   "source": [
    "a = \"this is the first half \"\n",
    "\n",
    "b = \"and this is the second half\"\n",
    "\n",
    "a + b"
   ]
  },
  {
   "cell_type": "markdown",
   "id": "473f2481-befa-4ef3-a628-8238f45b2c80",
   "metadata": {},
   "source": [
    "String templating or formatting is another important topic. The number of ways to do so has expanded with the advent of Python 3, and here I will briefly describe the mechanics of one of the main interfaces. \n",
    "\n",
    "String objects have a format method that can be used to substitute formatted arguments into the string, producing a new string:"
   ]
  },
  {
   "cell_type": "code",
   "execution_count": 172,
   "id": "712d45c6-6e16-4a70-a67d-cce79428c1d4",
   "metadata": {},
   "outputs": [],
   "source": [
    "template = \"{0:.2f} {1:s} are worth US${2:d}\""
   ]
  },
  {
   "cell_type": "markdown",
   "id": "bbd3801a-552e-4247-9065-679f632de5ba",
   "metadata": {},
   "source": [
    "In this string:\n",
    "\n",
    "<b>{0:.2f}</b> means to format the <b>first</b> argument as a <b>floating-point</b> number with two decimal places.\n",
    "\n",
    "<b>{1:s}</b> means to format the <b>second</b> argument as a <b>string</b>.\n",
    "\n",
    "<b>{2:d}</b> means to format the <b>third</b> argument as an exact <b>integer</b>.\n",
    "\n",
    "To substitute arguments for these format parameters, we pass a sequence of arguments to the format method:"
   ]
  },
  {
   "cell_type": "code",
   "execution_count": 175,
   "id": "b9dd197b-2f50-47db-b640-2aae7d0640a7",
   "metadata": {},
   "outputs": [
    {
     "data": {
      "text/plain": [
       "'88.46 Argentine Pesos are worth US$1'"
      ]
     },
     "execution_count": 175,
     "metadata": {},
     "output_type": "execute_result"
    }
   ],
   "source": [
    " template.format(88.46, \"Argentine Pesos\", 1)"
   ]
  },
  {
   "cell_type": "markdown",
   "id": "66ba0e24-3611-4c68-815f-62b2715b1343",
   "metadata": {},
   "source": [
    "Python 3.6 introduced a new feature called f-strings (short for formatted string literals) which can make creating formatted strings even more convenient. To create an f-string, write the character f immediately preceding a string literal. Within the string, enclose Python expressions in curly braces to substitute the value of the expression into the formatted string:"
   ]
  },
  {
   "cell_type": "code",
   "execution_count": 182,
   "id": "5d1d84c9-832e-4c22-ab10-357e7acd3162",
   "metadata": {},
   "outputs": [],
   "source": [
    "amount = 10\n",
    "\n",
    "rate = 88.46\n",
    "\n",
    "currency = \"Pesos\"\n",
    "\n",
    "result = f\"{amount} {currency} is worth US${amount / rate}\""
   ]
  },
  {
   "cell_type": "markdown",
   "id": "05cfd10f-00d9-43ea-9623-fb678cc7826e",
   "metadata": {},
   "source": [
    "Format specifiers can be added after each expression using the same syntax as with the string templates above:"
   ]
  },
  {
   "cell_type": "code",
   "execution_count": 184,
   "id": "3c426648-605c-417e-b1d8-0c1f66d547ed",
   "metadata": {},
   "outputs": [
    {
     "data": {
      "text/plain": [
       "'10 Pesos is worth US$0.11'"
      ]
     },
     "execution_count": 184,
     "metadata": {},
     "output_type": "execute_result"
    }
   ],
   "source": [
    "f\"{amount} {currency} is worth US${amount / rate:.2f}\""
   ]
  },
  {
   "cell_type": "markdown",
   "id": "76875873-a2bf-4167-b904-77bfcae32b7a",
   "metadata": {},
   "source": [
    "String formatting is a deep topic; there are multiple methods and numerous options and tweaks available to control how values are formatted in the resulting string. To learn more, consult the official Python documentation."
   ]
  },
  {
   "cell_type": "markdown",
   "id": "f6740801-b0d6-4b2e-8b27-f92d8ab91888",
   "metadata": {},
   "source": [
    "## Bytes and Unicode"
   ]
  },
  {
   "cell_type": "markdown",
   "id": "38c42ad5-79ac-46f7-8379-713899bfd22a",
   "metadata": {},
   "source": [
    "In modern Python (i.e., Python 3.0 and up), Unicode has become the first-class string type to enable more consistent handling of ASCII and non-ASCII text. In older versions of Python, strings were all bytes without any explicit Unicode encoding. You could convert to Unicode assuming you knew the character encoding. Here is an example Unicode string with non-ASCII characters:"
   ]
  },
  {
   "cell_type": "code",
   "execution_count": 273,
   "id": "7ce35e65-6800-4f20-96ee-f4629113483d",
   "metadata": {},
   "outputs": [
    {
     "data": {
      "text/plain": [
       "'español'"
      ]
     },
     "execution_count": 273,
     "metadata": {},
     "output_type": "execute_result"
    }
   ],
   "source": [
    "val = \"español\"\n",
    "\n",
    "val"
   ]
  },
  {
   "cell_type": "markdown",
   "id": "8d9d3c44-1968-4535-b611-21cd2124d8b1",
   "metadata": {},
   "source": [
    "We can convert this Unicode string to its UTF-8 bytes representation using the encode method:"
   ]
  },
  {
   "cell_type": "code",
   "execution_count": 276,
   "id": "c04e0ec1-21d6-4cb3-bdaa-07e2ce0675db",
   "metadata": {},
   "outputs": [],
   "source": [
    "val_utf8 = val.encode(\"utf-8\")"
   ]
  },
  {
   "cell_type": "code",
   "execution_count": 278,
   "id": "2ad1b367-d4bc-436e-9e51-8f22fe1a08ab",
   "metadata": {},
   "outputs": [
    {
     "data": {
      "text/plain": [
       "b'espa\\xc3\\xb1ol'"
      ]
     },
     "execution_count": 278,
     "metadata": {},
     "output_type": "execute_result"
    }
   ],
   "source": [
    "val_utf8"
   ]
  },
  {
   "cell_type": "code",
   "execution_count": 280,
   "id": "8822a8af-d121-4d06-ac03-7c668e68b182",
   "metadata": {},
   "outputs": [
    {
     "data": {
      "text/plain": [
       "bytes"
      ]
     },
     "execution_count": 280,
     "metadata": {},
     "output_type": "execute_result"
    }
   ],
   "source": [
    "type(val_utf8)"
   ]
  },
  {
   "cell_type": "markdown",
   "id": "99dd4980-e719-4486-b902-00ec3fa35280",
   "metadata": {},
   "source": [
    "Assuming you know the Unicode encoding of a bytes object, you can go back using the decode method:"
   ]
  },
  {
   "cell_type": "code",
   "execution_count": 283,
   "id": "5c192f7a-d19f-4e13-8ffe-f89975efcd9a",
   "metadata": {},
   "outputs": [
    {
     "data": {
      "text/plain": [
       "'español'"
      ]
     },
     "execution_count": 283,
     "metadata": {},
     "output_type": "execute_result"
    }
   ],
   "source": [
    "val_utf8.decode(\"utf-8\")"
   ]
  },
  {
   "cell_type": "markdown",
   "id": "e613f66b-4f56-4c44-93ca-e55f7bb12522",
   "metadata": {},
   "source": [
    "While it is now preferable to use UTF-8 for any encoding, for historical reasons you may encounter data in any number of different encodings:"
   ]
  },
  {
   "cell_type": "code",
   "execution_count": 286,
   "id": "0ac8ceee-39e3-4d2b-ab1d-27ed05e95d94",
   "metadata": {},
   "outputs": [
    {
     "data": {
      "text/plain": [
       "b'espa\\xf1ol'"
      ]
     },
     "execution_count": 286,
     "metadata": {},
     "output_type": "execute_result"
    }
   ],
   "source": [
    "val.encode(\"latin1\")"
   ]
  },
  {
   "cell_type": "code",
   "execution_count": 288,
   "id": "220508b9-ac77-4b70-a3d3-da34e587429e",
   "metadata": {},
   "outputs": [
    {
     "data": {
      "text/plain": [
       "b'\\xff\\xfee\\x00s\\x00p\\x00a\\x00\\xf1\\x00o\\x00l\\x00'"
      ]
     },
     "execution_count": 288,
     "metadata": {},
     "output_type": "execute_result"
    }
   ],
   "source": [
    "val.encode(\"utf-16\")"
   ]
  },
  {
   "cell_type": "code",
   "execution_count": 290,
   "id": "eac028f2-681d-4e69-8099-c1be2fec979b",
   "metadata": {},
   "outputs": [
    {
     "data": {
      "text/plain": [
       "b'e\\x00s\\x00p\\x00a\\x00\\xf1\\x00o\\x00l\\x00'"
      ]
     },
     "execution_count": 290,
     "metadata": {},
     "output_type": "execute_result"
    }
   ],
   "source": [
    "val.encode(\"utf-16le\")"
   ]
  },
  {
   "cell_type": "markdown",
   "id": "15409ddb-fa4d-4ec8-853f-7252bd5868f8",
   "metadata": {},
   "source": [
    "It is most common to encounter bytes objects in the context of working with files, where implicitly decoding all data to Unicode strings may not be desired."
   ]
  },
  {
   "cell_type": "code",
   "execution_count": 293,
   "id": "aa836ce0-4939-41d9-b5e9-33946314be08",
   "metadata": {},
   "outputs": [
    {
     "data": {
      "text/plain": [
       "True"
      ]
     },
     "execution_count": 293,
     "metadata": {},
     "output_type": "execute_result"
    }
   ],
   "source": [
    "True and True"
   ]
  },
  {
   "cell_type": "code",
   "execution_count": 295,
   "id": "b4759f09-d70b-4455-a015-cece4c8b5da1",
   "metadata": {},
   "outputs": [
    {
     "data": {
      "text/plain": [
       "True"
      ]
     },
     "execution_count": 295,
     "metadata": {},
     "output_type": "execute_result"
    }
   ],
   "source": [
    "False or True"
   ]
  },
  {
   "cell_type": "markdown",
   "id": "521f3b28-3b7a-4e4a-9a68-e47a6e379a7c",
   "metadata": {},
   "source": [
    "When converted to numbers, False becomes 0 and True becomes 1:"
   ]
  },
  {
   "cell_type": "code",
   "execution_count": 298,
   "id": "70703732-9f11-45de-948a-39c775ca55a5",
   "metadata": {},
   "outputs": [
    {
     "data": {
      "text/plain": [
       "0"
      ]
     },
     "execution_count": 298,
     "metadata": {},
     "output_type": "execute_result"
    }
   ],
   "source": [
    "int(False)"
   ]
  },
  {
   "cell_type": "code",
   "execution_count": 300,
   "id": "caa062e9-cf7c-4205-b56e-797acd8d7da5",
   "metadata": {},
   "outputs": [
    {
     "data": {
      "text/plain": [
       "1"
      ]
     },
     "execution_count": 300,
     "metadata": {},
     "output_type": "execute_result"
    }
   ],
   "source": [
    "int(True)"
   ]
  },
  {
   "cell_type": "markdown",
   "id": "1add844d-67b7-4ecb-9a7e-09ab57ef8f45",
   "metadata": {},
   "source": [
    "The keyword <b>not</b> flips a Boolean value from True to False or vice versa:"
   ]
  },
  {
   "cell_type": "code",
   "execution_count": 303,
   "id": "99d658be-bbb9-4f00-8670-654c44e94d0d",
   "metadata": {},
   "outputs": [],
   "source": [
    "a = True\n",
    "b = False"
   ]
  },
  {
   "cell_type": "code",
   "execution_count": 305,
   "id": "13c8c30a-5aaa-4f9b-b204-2b16058a3283",
   "metadata": {},
   "outputs": [
    {
     "data": {
      "text/plain": [
       "False"
      ]
     },
     "execution_count": 305,
     "metadata": {},
     "output_type": "execute_result"
    }
   ],
   "source": [
    "not a"
   ]
  },
  {
   "cell_type": "code",
   "execution_count": 307,
   "id": "2eb7cb44-80db-4f65-828c-af93bf351201",
   "metadata": {},
   "outputs": [
    {
     "data": {
      "text/plain": [
       "True"
      ]
     },
     "execution_count": 307,
     "metadata": {},
     "output_type": "execute_result"
    }
   ],
   "source": [
    "not b"
   ]
  },
  {
   "cell_type": "markdown",
   "id": "30909bcd-1202-40a8-ac75-4461128b488b",
   "metadata": {},
   "source": [
    "## Type casting"
   ]
  },
  {
   "cell_type": "markdown",
   "id": "65b78e39-8ff6-4e07-91e7-d8a9906933d8",
   "metadata": {},
   "source": [
    "The str, bool, int, and float types are also functions that can be used to cast values to those types:"
   ]
  },
  {
   "cell_type": "code",
   "execution_count": 38,
   "id": "7a6f3c1d-5ca5-4102-a23b-07f7215fdb74",
   "metadata": {},
   "outputs": [
    {
     "data": {
      "text/plain": [
       "3.14159"
      ]
     },
     "execution_count": 38,
     "metadata": {},
     "output_type": "execute_result"
    }
   ],
   "source": [
    "s = \"3.14159\"\n",
    "\n",
    "fval = float(s)\n",
    "fval"
   ]
  },
  {
   "cell_type": "code",
   "execution_count": 313,
   "id": "ab89ab82-f860-4214-9383-6e7249d89d37",
   "metadata": {},
   "outputs": [
    {
     "data": {
      "text/plain": [
       "float"
      ]
     },
     "execution_count": 313,
     "metadata": {},
     "output_type": "execute_result"
    }
   ],
   "source": [
    "type(fval)"
   ]
  },
  {
   "cell_type": "code",
   "execution_count": 315,
   "id": "9e75cff8-ada1-4264-a105-fa8405e831d3",
   "metadata": {},
   "outputs": [
    {
     "data": {
      "text/plain": [
       "3"
      ]
     },
     "execution_count": 315,
     "metadata": {},
     "output_type": "execute_result"
    }
   ],
   "source": [
    "int(fval)"
   ]
  },
  {
   "cell_type": "code",
   "execution_count": 317,
   "id": "0fbc04c9-519c-457f-8d7f-a8695ae92e1b",
   "metadata": {},
   "outputs": [
    {
     "data": {
      "text/plain": [
       "True"
      ]
     },
     "execution_count": 317,
     "metadata": {},
     "output_type": "execute_result"
    }
   ],
   "source": [
    "bool(fval)"
   ]
  },
  {
   "cell_type": "code",
   "execution_count": 319,
   "id": "789fc9d8-ac68-4420-8448-e4c5e1d0fb89",
   "metadata": {},
   "outputs": [
    {
     "data": {
      "text/plain": [
       "False"
      ]
     },
     "execution_count": 319,
     "metadata": {},
     "output_type": "execute_result"
    }
   ],
   "source": [
    "bool(0)"
   ]
  },
  {
   "cell_type": "markdown",
   "id": "699fdf7b-3389-471e-8e72-e25c90ef8642",
   "metadata": {},
   "source": [
    "Note that most nonzero values when cast to <b>bool</b> become <b>True</b>."
   ]
  },
  {
   "cell_type": "markdown",
   "id": "fbf8bbc9-eb63-4b58-9b7b-3c79a0a6bb67",
   "metadata": {},
   "source": [
    "## None"
   ]
  },
  {
   "cell_type": "markdown",
   "id": "ffa2a013-abd8-4e3c-8777-65c88e4aa76e",
   "metadata": {},
   "source": [
    "<b>None</b> is the Python null value type:"
   ]
  },
  {
   "cell_type": "code",
   "execution_count": 324,
   "id": "7e174bcf-2977-46c6-9c1c-cefada4f182d",
   "metadata": {},
   "outputs": [],
   "source": [
    "a = None"
   ]
  },
  {
   "cell_type": "code",
   "execution_count": 326,
   "id": "a8956bbe-703d-4ce9-a563-fd3017ab9951",
   "metadata": {},
   "outputs": [
    {
     "data": {
      "text/plain": [
       "True"
      ]
     },
     "execution_count": 326,
     "metadata": {},
     "output_type": "execute_result"
    }
   ],
   "source": [
    "a is None"
   ]
  },
  {
   "cell_type": "code",
   "execution_count": 328,
   "id": "d0f40aa3-f4a7-4465-bea4-e0066083a5ef",
   "metadata": {},
   "outputs": [],
   "source": [
    "b = 5"
   ]
  },
  {
   "cell_type": "code",
   "execution_count": 330,
   "id": "659b9411-fb14-4dc4-9e9a-bb9ffe9cf081",
   "metadata": {},
   "outputs": [
    {
     "data": {
      "text/plain": [
       "True"
      ]
     },
     "execution_count": 330,
     "metadata": {},
     "output_type": "execute_result"
    }
   ],
   "source": [
    "b is not None"
   ]
  },
  {
   "cell_type": "markdown",
   "id": "f0d47bb5-7bfb-4b40-b035-4aeb8582e46b",
   "metadata": {},
   "source": [
    "<b>None</b> is also a common default value for function arguments:"
   ]
  },
  {
   "cell_type": "code",
   "execution_count": 333,
   "id": "fc658bec-0644-4739-bcbb-6ee78df7559e",
   "metadata": {},
   "outputs": [],
   "source": [
    "def add_and_maybe_multiply(a, b, c=None):\n",
    "    result = a + b\n",
    "\n",
    "    if c is not None:\n",
    "        result = result * c\n",
    "\n",
    "    return result"
   ]
  },
  {
   "cell_type": "markdown",
   "id": "d5db7cac-050a-48c5-b4a2-8664f9b7cdfd",
   "metadata": {},
   "source": [
    "## Dates and times"
   ]
  },
  {
   "cell_type": "markdown",
   "id": "5a942cd1-3a8d-4fdc-9d21-c376c2eb0d6c",
   "metadata": {},
   "source": [
    "The built-in Python datetime module provides datetime, date, and time types. The datetime type combines the information stored in date and time and is the most commonly used:"
   ]
  },
  {
   "cell_type": "code",
   "execution_count": 337,
   "id": "701b1b58-5743-4e12-b289-6d72951cce4e",
   "metadata": {},
   "outputs": [],
   "source": [
    "from datetime import datetime, date, time\n",
    "\n",
    "dt = datetime(2011, 10, 29, 20, 30, 21)"
   ]
  },
  {
   "cell_type": "code",
   "execution_count": 339,
   "id": "8f937a30-6b5a-4971-8724-7c5b3f9a6921",
   "metadata": {},
   "outputs": [
    {
     "data": {
      "text/plain": [
       "29"
      ]
     },
     "execution_count": 339,
     "metadata": {},
     "output_type": "execute_result"
    }
   ],
   "source": [
    "dt.day"
   ]
  },
  {
   "cell_type": "code",
   "execution_count": 341,
   "id": "453683d6-0c37-40ae-8b09-0204badc4eee",
   "metadata": {},
   "outputs": [
    {
     "data": {
      "text/plain": [
       "30"
      ]
     },
     "execution_count": 341,
     "metadata": {},
     "output_type": "execute_result"
    }
   ],
   "source": [
    "dt.minute"
   ]
  },
  {
   "cell_type": "markdown",
   "id": "1c477e8e-55e5-46a5-a4c1-42df8759a91a",
   "metadata": {},
   "source": [
    "Given a datetime instance, you can extract the equivalent date and time objects by calling methods on the datetime of the same name:"
   ]
  },
  {
   "cell_type": "code",
   "execution_count": 344,
   "id": "712af519-9cb0-4af5-9835-1a6df33514b3",
   "metadata": {},
   "outputs": [
    {
     "data": {
      "text/plain": [
       "datetime.date(2011, 10, 29)"
      ]
     },
     "execution_count": 344,
     "metadata": {},
     "output_type": "execute_result"
    }
   ],
   "source": [
    "dt.date()"
   ]
  },
  {
   "cell_type": "code",
   "execution_count": 346,
   "id": "b0d93fb7-56b7-4fdf-af1a-3a0266f92030",
   "metadata": {},
   "outputs": [
    {
     "data": {
      "text/plain": [
       "datetime.time(20, 30, 21)"
      ]
     },
     "execution_count": 346,
     "metadata": {},
     "output_type": "execute_result"
    }
   ],
   "source": [
    "dt.time()"
   ]
  },
  {
   "cell_type": "markdown",
   "id": "132e06f1-ac78-4185-9c7d-ce2d58458c98",
   "metadata": {},
   "source": [
    "The strftime method formats a datetime as a string:"
   ]
  },
  {
   "cell_type": "code",
   "execution_count": 349,
   "id": "7a38a5a1-a114-4b57-b336-2684c3fb7b51",
   "metadata": {},
   "outputs": [
    {
     "data": {
      "text/plain": [
       "'2011-10-29 20:30'"
      ]
     },
     "execution_count": 349,
     "metadata": {},
     "output_type": "execute_result"
    }
   ],
   "source": [
    "dt.strftime(\"%Y-%m-%d %H:%M\")"
   ]
  },
  {
   "cell_type": "markdown",
   "id": "f899b9dd-6269-464c-9779-d6b422f4a572",
   "metadata": {},
   "source": [
    "Strings can be converted (parsed) into datetime objects with the strptime function:"
   ]
  },
  {
   "cell_type": "code",
   "execution_count": 352,
   "id": "e7ab8183-32bb-49d9-9db7-30d77bb2148e",
   "metadata": {},
   "outputs": [
    {
     "data": {
      "text/plain": [
       "datetime.datetime(2009, 10, 31, 0, 0)"
      ]
     },
     "execution_count": 352,
     "metadata": {},
     "output_type": "execute_result"
    }
   ],
   "source": [
    "datetime.strptime(\"20091031\", \"%Y%m%d\")"
   ]
  },
  {
   "cell_type": "markdown",
   "id": "f262243e-2763-40ea-8073-54a98d5e188b",
   "metadata": {},
   "source": [
    "See Table 11-2 for a full list of format specifications.\n",
    "\n",
    "When you are aggregating or otherwise grouping time series data, it will occasionally be useful to replace time fields of a series of datetimes—for example, replacing the minute and second fields with zero:"
   ]
  },
  {
   "cell_type": "code",
   "execution_count": 355,
   "id": "032a648a-ba62-49fb-8cc0-6c58e6c7a64d",
   "metadata": {},
   "outputs": [
    {
     "data": {
      "text/plain": [
       "datetime.datetime(2011, 10, 29, 20, 0)"
      ]
     },
     "execution_count": 355,
     "metadata": {},
     "output_type": "execute_result"
    }
   ],
   "source": [
    "dt_hour = dt.replace(minute=0, second=0)\n",
    "\n",
    "dt_hour"
   ]
  },
  {
   "cell_type": "markdown",
   "id": "a104d619-0864-4be6-8e68-66c7e69ac59d",
   "metadata": {},
   "source": [
    "Since datetime.datetime is an immutable type, methods like these always produce new objects. So in the previous example, dt is not modified by replace:"
   ]
  },
  {
   "cell_type": "code",
   "execution_count": 358,
   "id": "21e5c887-7ed6-40af-b861-663468fc5e9e",
   "metadata": {},
   "outputs": [
    {
     "data": {
      "text/plain": [
       "datetime.datetime(2011, 10, 29, 20, 30, 21)"
      ]
     },
     "execution_count": 358,
     "metadata": {},
     "output_type": "execute_result"
    }
   ],
   "source": [
    "dt"
   ]
  },
  {
   "cell_type": "markdown",
   "id": "c58a1aef-b773-47e4-8571-c2fee2704b73",
   "metadata": {},
   "source": [
    "The difference of two datetime objects produces a datetime.timedelta type:"
   ]
  },
  {
   "cell_type": "code",
   "execution_count": 361,
   "id": "4becf36b-b766-446b-ae9c-cfc5f084622b",
   "metadata": {},
   "outputs": [],
   "source": [
    "dt2 = datetime(2011, 11, 15, 22, 30)\n",
    "\n",
    "delta = dt2 - dt"
   ]
  },
  {
   "cell_type": "code",
   "execution_count": 363,
   "id": "76892543-3c9a-4812-a5b7-9c8bc13efc98",
   "metadata": {},
   "outputs": [
    {
     "data": {
      "text/plain": [
       "datetime.timedelta(days=17, seconds=7179)"
      ]
     },
     "execution_count": 363,
     "metadata": {},
     "output_type": "execute_result"
    }
   ],
   "source": [
    "delta"
   ]
  },
  {
   "cell_type": "code",
   "execution_count": 365,
   "id": "18f674cc-5db2-49d3-8c93-75a8235746e9",
   "metadata": {},
   "outputs": [
    {
     "data": {
      "text/plain": [
       "datetime.timedelta"
      ]
     },
     "execution_count": 365,
     "metadata": {},
     "output_type": "execute_result"
    }
   ],
   "source": [
    "type(delta)"
   ]
  },
  {
   "cell_type": "markdown",
   "id": "7b7e689e-8b8a-4055-9458-1d842ae1f085",
   "metadata": {},
   "source": [
    "The output timedelta(17, 7179) indicates that the timedelta encodes an offset of 17 days and 7,179 seconds.\n",
    "\n",
    "Adding a timedelta to a datetime produces a new shifted datetime:"
   ]
  },
  {
   "cell_type": "code",
   "execution_count": 368,
   "id": "f7e7184c-a7a7-4b6f-b37f-893cc427b34b",
   "metadata": {},
   "outputs": [
    {
     "data": {
      "text/plain": [
       "datetime.datetime(2011, 10, 29, 20, 30, 21)"
      ]
     },
     "execution_count": 368,
     "metadata": {},
     "output_type": "execute_result"
    }
   ],
   "source": [
    "dt"
   ]
  },
  {
   "cell_type": "code",
   "execution_count": 370,
   "id": "cc00b02a-9db3-4d53-8d0a-c23e7de6adab",
   "metadata": {},
   "outputs": [
    {
     "data": {
      "text/plain": [
       "datetime.datetime(2011, 11, 15, 22, 30)"
      ]
     },
     "execution_count": 370,
     "metadata": {},
     "output_type": "execute_result"
    }
   ],
   "source": [
    "dt + delta"
   ]
  },
  {
   "cell_type": "markdown",
   "id": "ed3fc4f7-924e-48af-bc02-c64b7b87f290",
   "metadata": {},
   "source": [
    "## Control Flow"
   ]
  },
  {
   "cell_type": "markdown",
   "id": "806a6f49-c467-4605-97bd-4b6baf0652a3",
   "metadata": {},
   "source": [
    "Python has several built-in keywords for conditional logic, loops, and other standard control flow concepts found in other programming languages."
   ]
  },
  {
   "cell_type": "markdown",
   "id": "a2e562e5-12d3-44d0-bf01-e1900744b3bf",
   "metadata": {},
   "source": [
    "## Conditionals\n",
    "### if, elif, and else\n"
   ]
  },
  {
   "cell_type": "markdown",
   "id": "bd5f310c-c3ef-402d-af1f-cad3f382177d",
   "metadata": {},
   "source": [
    "The if statement is one of the most well-known control flow statement types. It checks a condition that, if True, evaluates the code in the block that follows:"
   ]
  },
  {
   "cell_type": "code",
   "execution_count": 376,
   "id": "6dd576f4-733a-4774-b34c-3fde5a648be8",
   "metadata": {},
   "outputs": [
    {
     "name": "stdout",
     "output_type": "stream",
     "text": [
      "It's negative\n"
     ]
    }
   ],
   "source": [
    "x = -5\n",
    "if x < 0:\n",
    "    print(\"It's negative\")"
   ]
  },
  {
   "cell_type": "markdown",
   "id": "75c9bb6d-b88c-4d8c-8ec3-f898bb2fc3e4",
   "metadata": {},
   "source": [
    "An if statement can be optionally followed by one or more elif blocks and a catchall else block if all of the conditions are False:"
   ]
  },
  {
   "cell_type": "code",
   "execution_count": 379,
   "id": "632a2971-db53-4ca1-90a6-71372c588d0d",
   "metadata": {},
   "outputs": [
    {
     "name": "stdout",
     "output_type": "stream",
     "text": [
      "It's negative\n"
     ]
    }
   ],
   "source": [
    "if x < 0:\n",
    "    print(\"It's negative\")\n",
    "elif x == 0:\n",
    "    print(\"Equal to zero\")\n",
    "elif 0 < x < 5:\n",
    "    print(\"Positive but smaller than 5\")\n",
    "else:\n",
    "    print(\"Positive and larger than or equal to 5\")"
   ]
  },
  {
   "cell_type": "markdown",
   "id": "1b1d34eb-6700-44ea-977b-8424fb6c178b",
   "metadata": {},
   "source": [
    "If any of the conditions are True, no further elif or else blocks will be reached. With a compound condition using and or or, conditions are evaluated left to right and will short-circuit:"
   ]
  },
  {
   "cell_type": "code",
   "execution_count": 382,
   "id": "e49b2a50-030b-4aa4-9119-4b99f66c2a2c",
   "metadata": {},
   "outputs": [
    {
     "name": "stdout",
     "output_type": "stream",
     "text": [
      "Made it\n"
     ]
    }
   ],
   "source": [
    "a = 5; b = 7\n",
    "\n",
    "c = 8; d = 4\n",
    "\n",
    "if a < b or c > d:\n",
    "    print(\"Made it\")"
   ]
  },
  {
   "cell_type": "markdown",
   "id": "e8f5ad6f-e1b8-43a1-8563-2622b8ad1efd",
   "metadata": {},
   "source": [
    "In this example, the comparison c > d never gets evaluated because the first comparison was True.\n",
    "\n",
    "It is also possible to chain comparisons:"
   ]
  },
  {
   "cell_type": "code",
   "execution_count": 385,
   "id": "ae2128a9-bcb6-4f04-a7ca-82ab282a2497",
   "metadata": {},
   "outputs": [
    {
     "data": {
      "text/plain": [
       "True"
      ]
     },
     "execution_count": 385,
     "metadata": {},
     "output_type": "execute_result"
    }
   ],
   "source": [
    "4 > 3 > 2 > 1"
   ]
  },
  {
   "cell_type": "markdown",
   "id": "3caaa0fc-434b-42ae-bb06-ff3e333347ca",
   "metadata": {},
   "source": [
    "### for loops"
   ]
  },
  {
   "cell_type": "markdown",
   "id": "07c60b55-34ab-47ea-b883-485f374cd065",
   "metadata": {},
   "source": [
    "<b>for</b> loops are for iterating over a collection (like a list or tuple) or an iterater. The standard syntax for a <b>for</b> loop is:"
   ]
  },
  {
   "cell_type": "raw",
   "id": "9ead0d69-2e5e-48be-a262-8522750f6557",
   "metadata": {},
   "source": [
    "for value in collection:\n",
    "    # do something with value"
   ]
  },
  {
   "cell_type": "markdown",
   "id": "be43b39b-bd2b-4f6f-a8aa-573512a1e5b2",
   "metadata": {},
   "source": [
    "You can advance a for loop to the next iteration, skipping the remainder of the block, using the continue keyword. Consider this code, which sums up integers in a list and skips None values:"
   ]
  },
  {
   "cell_type": "code",
   "execution_count": 193,
   "id": "d6c0f093-0363-4a18-80ad-67ff0991bf4a",
   "metadata": {},
   "outputs": [],
   "source": [
    "sequence = [1, 2, None, 4, None, 5]\n",
    "total = 0\n",
    "for value in sequence:\n",
    "    if value is None:\n",
    "        continue\n",
    "    total += value"
   ]
  },
  {
   "cell_type": "code",
   "execution_count": 195,
   "id": "bb9aefb8-fdd0-4511-824f-821ba896afd5",
   "metadata": {},
   "outputs": [
    {
     "data": {
      "text/plain": [
       "12"
      ]
     },
     "execution_count": 195,
     "metadata": {},
     "output_type": "execute_result"
    }
   ],
   "source": [
    "total"
   ]
  },
  {
   "cell_type": "markdown",
   "id": "471fd737-66f1-468e-a527-285e139f41ca",
   "metadata": {},
   "source": [
    "A for loop can be exited altogether with the break keyword. This code sums elements of the list until a 5 is reached:"
   ]
  },
  {
   "cell_type": "code",
   "execution_count": 197,
   "id": "fd38274c-c922-4212-b081-d40a03b968d8",
   "metadata": {},
   "outputs": [],
   "source": [
    "sequence = [1, 2, 0, 4, 6, 5, 2, 1]\n",
    "total_until_5 = 0\n",
    "for value in sequence:\n",
    "    if value == 5:\n",
    "        break\n",
    "    total_until_5 += value"
   ]
  },
  {
   "cell_type": "markdown",
   "id": "77ad657a-be58-4074-afcd-0e871ad72a68",
   "metadata": {},
   "source": [
    "The break keyword only terminates the innermost for loop; any outer for loops will continue to run:"
   ]
  },
  {
   "cell_type": "code",
   "execution_count": 398,
   "id": "c74a46d4-9d94-4a70-afad-477a7de962af",
   "metadata": {},
   "outputs": [
    {
     "name": "stdout",
     "output_type": "stream",
     "text": [
      "(0, 0)\n",
      "(1, 0)\n",
      "(1, 1)\n",
      "(2, 0)\n",
      "(2, 1)\n",
      "(2, 2)\n",
      "(3, 0)\n",
      "(3, 1)\n",
      "(3, 2)\n",
      "(3, 3)\n"
     ]
    }
   ],
   "source": [
    "for i in range(4):\n",
    "    for j in range(4):\n",
    "        if j > i:\n",
    "            break\n",
    "        print((i, j))"
   ]
  },
  {
   "cell_type": "markdown",
   "id": "b92ad006-4ac1-4aab-a8b1-2ac2130b9a48",
   "metadata": {},
   "source": [
    "As we will see in more detail, if the elements in the collection or iterator are sequences (tuples or lists, say), they can be conveniently unpacked into variables in the for loop statement:"
   ]
  },
  {
   "cell_type": "code",
   "execution_count": 401,
   "id": "a1dfa0e5-3a28-4832-bc1d-431f47b797c4",
   "metadata": {},
   "outputs": [
    {
     "ename": "SyntaxError",
     "evalue": "incomplete input (3249532412.py, line 2)",
     "output_type": "error",
     "traceback": [
      "\u001b[0;36m  Cell \u001b[0;32mIn[401], line 2\u001b[0;36m\u001b[0m\n\u001b[0;31m    # do something\u001b[0m\n\u001b[0m                  ^\u001b[0m\n\u001b[0;31mSyntaxError\u001b[0m\u001b[0;31m:\u001b[0m incomplete input\n"
     ]
    }
   ],
   "source": [
    "for a, b, c in iterator:\n",
    "    # do something"
   ]
  },
  {
   "cell_type": "markdown",
   "id": "a261c4ad-1836-4c40-b774-93d9fc09f8ac",
   "metadata": {},
   "source": [
    "### while loops"
   ]
  },
  {
   "cell_type": "markdown",
   "id": "2babf8d6-a76e-4279-bc24-6ccbf15ae2db",
   "metadata": {},
   "source": [
    "A while loop specifies a condition and a block of code that is to be executed until the condition evaluates to False or the loop is explicitly ended with break:"
   ]
  },
  {
   "cell_type": "code",
   "execution_count": 405,
   "id": "3e82c308-572f-4aab-bfcb-13f083c5cc2f",
   "metadata": {},
   "outputs": [],
   "source": [
    "x = 256\n",
    "total = 0\n",
    "while x > 0:\n",
    "    if total > 500:\n",
    "        break\n",
    "    total += x\n",
    "    x = x // 2"
   ]
  },
  {
   "cell_type": "markdown",
   "id": "a42d8101-02d1-4f91-b8ff-f197d697b602",
   "metadata": {},
   "source": [
    "### pass"
   ]
  },
  {
   "cell_type": "markdown",
   "id": "eab3e538-725d-4110-ac2f-a540de8ab6dd",
   "metadata": {},
   "source": [
    "pass is the “no-op” (or “do nothing”) statement in Python. It can be used in blocks where no action is to be taken (or as a placeholder for code not yet implemented); it is required only because Python uses whitespace to delimit blocks:"
   ]
  },
  {
   "cell_type": "code",
   "execution_count": 409,
   "id": "1cb7baa1-bf59-41da-ab9d-ba1956e1d21a",
   "metadata": {},
   "outputs": [
    {
     "name": "stdout",
     "output_type": "stream",
     "text": [
      "positive!\n"
     ]
    }
   ],
   "source": [
    "if x < 0:\n",
    "    print(\"negative!\")\n",
    "elif x == 0:\n",
    "    # TODO: put something smart here\n",
    "    pass\n",
    "else:\n",
    "    print(\"positive!\")"
   ]
  },
  {
   "cell_type": "markdown",
   "id": "3286d387-b957-460b-8631-827298c5197b",
   "metadata": {},
   "source": [
    "### range"
   ]
  },
  {
   "cell_type": "markdown",
   "id": "0b65e5d7-d418-40d2-8622-e08a39d4ecbd",
   "metadata": {},
   "source": [
    "The range function generates a sequence of evenly spaced integers:"
   ]
  },
  {
   "cell_type": "code",
   "execution_count": 413,
   "id": "6a83b816-d906-4a32-a43c-104c0bf5f285",
   "metadata": {},
   "outputs": [
    {
     "data": {
      "text/plain": [
       "range(0, 10)"
      ]
     },
     "execution_count": 413,
     "metadata": {},
     "output_type": "execute_result"
    }
   ],
   "source": [
    "range(10)"
   ]
  },
  {
   "cell_type": "code",
   "execution_count": 415,
   "id": "ba77c038-6e1e-492c-87be-dad253bef94c",
   "metadata": {},
   "outputs": [
    {
     "data": {
      "text/plain": [
       "[0, 1, 2, 3, 4, 5, 6, 7, 8, 9]"
      ]
     },
     "execution_count": 415,
     "metadata": {},
     "output_type": "execute_result"
    }
   ],
   "source": [
    "list(range(10))"
   ]
  },
  {
   "cell_type": "markdown",
   "id": "ece2a65d-8cd3-40e5-9f8d-85e07e4c26b0",
   "metadata": {},
   "source": [
    "A start, end, and step (which may be negative) can be given:"
   ]
  },
  {
   "cell_type": "code",
   "execution_count": 418,
   "id": "f05d3aa5-2438-4bc5-8a22-0d70da02ea20",
   "metadata": {},
   "outputs": [
    {
     "data": {
      "text/plain": [
       "[0, 2, 4, 6, 8, 10, 12, 14, 16, 18]"
      ]
     },
     "execution_count": 418,
     "metadata": {},
     "output_type": "execute_result"
    }
   ],
   "source": [
    "list(range(0, 20, 2))"
   ]
  },
  {
   "cell_type": "code",
   "execution_count": 420,
   "id": "029931f8-ed4f-4807-8f3f-d6e59ff2f6ba",
   "metadata": {},
   "outputs": [
    {
     "data": {
      "text/plain": [
       "[5, 4, 3, 2, 1]"
      ]
     },
     "execution_count": 420,
     "metadata": {},
     "output_type": "execute_result"
    }
   ],
   "source": [
    "list(range(5, 0, -1))"
   ]
  },
  {
   "cell_type": "markdown",
   "id": "0f647b26-a7f3-4db3-b3e6-9728682730eb",
   "metadata": {},
   "source": [
    "As you can see, range produces integers up to but not including the endpoint. A common use of range is for iterating through sequences by index:"
   ]
  },
  {
   "cell_type": "code",
   "execution_count": 423,
   "id": "c90c84e3-f9b1-44b3-847b-70b602e03cfa",
   "metadata": {},
   "outputs": [
    {
     "name": "stdout",
     "output_type": "stream",
     "text": [
      "element 0: 1\n",
      "element 1: 2\n",
      "element 2: 3\n",
      "element 3: 4\n"
     ]
    }
   ],
   "source": [
    "seq = [1, 2, 3, 4]\n",
    "\n",
    "for i in range(len(seq)):\n",
    "    print(f\"element {i}: {seq[i]}\")"
   ]
  },
  {
   "cell_type": "markdown",
   "id": "9202b9c8-a01d-4fcd-97c3-c84b95c524e2",
   "metadata": {},
   "source": [
    "While you can use functions like list to store all the integers generated by range in some other data structure, often the default iterator form will be what you want. This snippet sums all numbers from 0 to 99,999 that are multiples of 3 or 5:"
   ]
  },
  {
   "cell_type": "code",
   "execution_count": 426,
   "id": "93a48a6f-d351-49c4-a56d-5335ac317c06",
   "metadata": {},
   "outputs": [
    {
     "name": "stdout",
     "output_type": "stream",
     "text": [
      "2333316668\n"
     ]
    }
   ],
   "source": [
    "total = 0\n",
    "\n",
    "for i in range(100_000):\n",
    "    # % is the modulo operator\n",
    "    if i % 3 == 0 or i % 5 == 0:\n",
    "        total += i\n",
    "\n",
    "print(total)"
   ]
  },
  {
   "cell_type": "markdown",
   "id": "d3927690-1b3a-4c1c-ad71-c2f78b1f2429",
   "metadata": {},
   "source": [
    "While the range generated can be arbitrarily large, the memory use at any given time may be very small."
   ]
  },
  {
   "cell_type": "markdown",
   "id": "3583273e-edf0-4f44-bfa9-d3bfe0144920",
   "metadata": {},
   "source": [
    "# 2.4 Conclusion"
   ]
  },
  {
   "cell_type": "markdown",
   "id": "4e174a3e-60c0-458a-b85b-dafa894d0e40",
   "metadata": {},
   "source": [
    "This chapter provided a brief introduction to some basic Python language concepts and the IPython and Jupyter programming environments. In the next chapter, I will discuss many built-in data types, functions, and input-output utilities that will be used continuously throughout the rest of the book."
   ]
  }
 ],
 "metadata": {
  "kernelspec": {
   "display_name": "Python [conda env:base] *",
   "language": "python",
   "name": "conda-base-py"
  },
  "language_info": {
   "codemirror_mode": {
    "name": "ipython",
    "version": 3
   },
   "file_extension": ".py",
   "mimetype": "text/x-python",
   "name": "python",
   "nbconvert_exporter": "python",
   "pygments_lexer": "ipython3",
   "version": "3.12.7"
  }
 },
 "nbformat": 4,
 "nbformat_minor": 5
}
