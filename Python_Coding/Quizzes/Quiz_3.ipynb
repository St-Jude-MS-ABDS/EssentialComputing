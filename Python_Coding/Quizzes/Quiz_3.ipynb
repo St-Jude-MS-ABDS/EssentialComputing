{
 "cells": [
  {
   "cell_type": "markdown",
   "id": "8ede9c48-9278-47c8-b19f-a0b09e382552",
   "metadata": {},
   "source": [
    "# Quiz 3: Chapters 3.3, 6.1-6.2 File formats and I/O "
   ]
  },
  {
   "cell_type": "code",
   "execution_count": null,
   "id": "8a666384-388f-4304-8974-4bda3118bbf7",
   "metadata": {},
   "outputs": [],
   "source": []
  },
  {
   "cell_type": "markdown",
   "id": "3da3380d-fe48-4c0f-a082-8f1147ad4475",
   "metadata": {},
   "source": [
    "## Question 1"
   ]
  },
  {
   "cell_type": "markdown",
   "id": "cbc54f64-2dca-4856-99d7-a0dfaaf7c438",
   "metadata": {},
   "source": [
    "What is the difference between the <b>read()</b> and <b>readlines()</b> methods when reading data from a file? "
   ]
  },
  {
   "cell_type": "markdown",
   "id": "2f4df83d-926b-4aaf-bd70-bfe4dfa114e6",
   "metadata": {},
   "source": [
    "## Question 2"
   ]
  },
  {
   "cell_type": "markdown",
   "id": "68670a3b-caa3-4e1b-b780-ccab896cb008",
   "metadata": {},
   "source": [
    "How can you read a file line by line without loading the entire file into memory?"
   ]
  },
  {
   "cell_type": "markdown",
   "id": "f1c4b526-8050-40ac-ab6a-419f774d3c58",
   "metadata": {},
   "source": [
    "## Question 3"
   ]
  },
  {
   "cell_type": "markdown",
   "id": "30e6ff93-9d1c-4c59-9c0f-425b7f35bd9b",
   "metadata": {},
   "source": [
    "What does the <b>with</b> statement do in the context of file handling? \n",
    "\n",
    "Why is it considered a best practice?"
   ]
  },
  {
   "cell_type": "markdown",
   "id": "ca46ce8e-bac4-4c6a-a5ae-6d54d26736d2",
   "metadata": {},
   "source": [
    "## Question 4"
   ]
  },
  {
   "cell_type": "markdown",
   "id": "577d1a36-2edc-4a88-a74f-9837ed77a2d0",
   "metadata": {},
   "source": [
    "How can you handle missing values while reading a CSV file using Pandas?"
   ]
  },
  {
   "cell_type": "markdown",
   "id": "b09d7844-7812-4b29-809a-8ab875cb8ee6",
   "metadata": {},
   "source": [
    "## Question 5"
   ]
  },
  {
   "cell_type": "code",
   "execution_count": null,
   "id": "c6d56403-69d1-4c87-a3c9-9ed5b44668df",
   "metadata": {},
   "outputs": [],
   "source": []
  }
 ],
 "metadata": {
  "kernelspec": {
   "display_name": "Python [conda env:base] *",
   "language": "python",
   "name": "conda-base-py"
  },
  "language_info": {
   "codemirror_mode": {
    "name": "ipython",
    "version": 3
   },
   "file_extension": ".py",
   "mimetype": "text/x-python",
   "name": "python",
   "nbconvert_exporter": "python",
   "pygments_lexer": "ipython3",
   "version": "3.12.7"
  }
 },
 "nbformat": 4,
 "nbformat_minor": 5
}
