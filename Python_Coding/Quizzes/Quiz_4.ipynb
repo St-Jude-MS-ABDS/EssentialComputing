{
 "cells": [
  {
   "cell_type": "markdown",
   "id": "7a65401c-2f45-490a-9f46-af1251151a8f",
   "metadata": {},
   "source": [
    "# Quiz 4: Chapters 4.1-4.6 Numpy Basics, Arrays, Vectorization "
   ]
  },
  {
   "cell_type": "code",
   "execution_count": null,
   "id": "a586cc8d-0022-45c3-bb43-cbe32a8bc8ed",
   "metadata": {},
   "outputs": [],
   "source": []
  },
  {
   "cell_type": "markdown",
   "id": "004711e8-65b2-45ef-9d69-9e8172fa94d5",
   "metadata": {},
   "source": [
    "## Question 1"
   ]
  },
  {
   "cell_type": "code",
   "execution_count": null,
   "id": "85c431e7-2044-4e6a-b3d8-e9c2729e1050",
   "metadata": {},
   "outputs": [],
   "source": []
  },
  {
   "cell_type": "markdown",
   "id": "34210ffd-7467-412a-a45e-5806dc9ad9c4",
   "metadata": {},
   "source": [
    "## Question 2"
   ]
  },
  {
   "cell_type": "code",
   "execution_count": null,
   "id": "8f3cd42c-144a-41fd-b829-67bf76755997",
   "metadata": {},
   "outputs": [],
   "source": []
  },
  {
   "cell_type": "markdown",
   "id": "838c177b-03e3-4845-b5fc-ef120df8064b",
   "metadata": {},
   "source": [
    "## Question 3"
   ]
  },
  {
   "cell_type": "code",
   "execution_count": null,
   "id": "ab0ce6b1-75ea-4570-8e70-3b6f63473f19",
   "metadata": {},
   "outputs": [],
   "source": []
  },
  {
   "cell_type": "markdown",
   "id": "e12a4b28-834e-4fcf-85e3-c140fb4dc12c",
   "metadata": {},
   "source": [
    "## Question 4"
   ]
  },
  {
   "cell_type": "code",
   "execution_count": null,
   "id": "6a2515bf-54ae-4f5e-81f9-87da8b252a71",
   "metadata": {},
   "outputs": [],
   "source": []
  },
  {
   "cell_type": "markdown",
   "id": "1c21074c-e41d-43e5-9aed-544cd69f1ca1",
   "metadata": {},
   "source": [
    "## Question 5"
   ]
  },
  {
   "cell_type": "code",
   "execution_count": null,
   "id": "29c26072-1798-41b2-9fad-719ef078e5de",
   "metadata": {},
   "outputs": [],
   "source": []
  }
 ],
 "metadata": {
  "kernelspec": {
   "display_name": "Python [conda env:base] *",
   "language": "python",
   "name": "conda-base-py"
  },
  "language_info": {
   "codemirror_mode": {
    "name": "ipython",
    "version": 3
   },
   "file_extension": ".py",
   "mimetype": "text/x-python",
   "name": "python",
   "nbconvert_exporter": "python",
   "pygments_lexer": "ipython3",
   "version": "3.12.7"
  }
 },
 "nbformat": 4,
 "nbformat_minor": 5
}
