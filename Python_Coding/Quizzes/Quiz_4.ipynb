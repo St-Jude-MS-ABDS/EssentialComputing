{
 "cells": [
  {
   "cell_type": "markdown",
   "id": "7a65401c-2f45-490a-9f46-af1251151a8f",
   "metadata": {},
   "source": [
    "# Quiz 4: Chapters 4.1-4.6 Numpy Basics, Arrays, Vectorization "
   ]
  },
  {
   "cell_type": "code",
   "execution_count": null,
   "id": "a586cc8d-0022-45c3-bb43-cbe32a8bc8ed",
   "metadata": {},
   "outputs": [],
   "source": []
  },
  {
   "cell_type": "markdown",
   "id": "004711e8-65b2-45ef-9d69-9e8172fa94d5",
   "metadata": {},
   "source": [
    "## Question 1"
   ]
  },
  {
   "cell_type": "markdown",
   "id": "a5ff3ed8-18ec-4002-b6fc-5636517295c9",
   "metadata": {},
   "source": [
    "What are the performance benefits of using numpy arrays over python lists?"
   ]
  },
  {
   "cell_type": "code",
   "execution_count": null,
   "id": "dc1cc8e7-1bb2-42fe-bb84-2a192d4e3b51",
   "metadata": {},
   "outputs": [],
   "source": []
  },
  {
   "cell_type": "markdown",
   "id": "34210ffd-7467-412a-a45e-5806dc9ad9c4",
   "metadata": {},
   "source": [
    "## Question 2"
   ]
  },
  {
   "cell_type": "markdown",
   "id": "9c3892ab-aa20-4335-8934-a2c56f4909a5",
   "metadata": {},
   "source": [
    "What are the attributes of and numpy <b>ndarray</b>?"
   ]
  },
  {
   "cell_type": "code",
   "execution_count": null,
   "id": "c54390bc-d4e6-4b80-8965-27e60d1c323a",
   "metadata": {},
   "outputs": [],
   "source": []
  },
  {
   "cell_type": "markdown",
   "id": "838c177b-03e3-4845-b5fc-ef120df8064b",
   "metadata": {},
   "source": [
    "## Question 3"
   ]
  },
  {
   "cell_type": "markdown",
   "id": "5be489a2-a33d-4ba6-b36f-d4b1a8eb2c3e",
   "metadata": {},
   "source": [
    "What are the contents of a matrix initialized by np.empty((2,2))?"
   ]
  },
  {
   "cell_type": "code",
   "execution_count": null,
   "id": "ef4179cb-97dc-4e64-881e-3909967d58a8",
   "metadata": {},
   "outputs": [],
   "source": []
  },
  {
   "cell_type": "markdown",
   "id": "e12a4b28-834e-4fcf-85e3-c140fb4dc12c",
   "metadata": {},
   "source": [
    "## Question 4"
   ]
  },
  {
   "cell_type": "markdown",
   "id": "d8e7e5c4-373f-493b-b91d-3e93bbd7e5eb",
   "metadata": {},
   "source": [
    "What does vectorization mean with respect to numpy arrays?"
   ]
  },
  {
   "cell_type": "code",
   "execution_count": null,
   "id": "a8d14dcb-69d3-4b4f-aa17-361329b3db3c",
   "metadata": {},
   "outputs": [],
   "source": []
  },
  {
   "cell_type": "markdown",
   "id": "1c21074c-e41d-43e5-9aed-544cd69f1ca1",
   "metadata": {},
   "source": [
    "## Question 5"
   ]
  },
  {
   "cell_type": "markdown",
   "id": "2063e074-7acf-45c6-bfaf-f37206a71c2a",
   "metadata": {},
   "source": [
    "In the following ndarray, how would you access the element with value 7?\n",
    "\n",
    "arr2d = np.array([[1, 2, 3], [4, 5, 6], [7, 8, 9]])"
   ]
  },
  {
   "cell_type": "code",
   "execution_count": null,
   "id": "7bf29f00-ce3b-4667-8b57-2cd1b0c534b5",
   "metadata": {},
   "outputs": [],
   "source": [
    "      "
   ]
  }
 ],
 "metadata": {
  "kernelspec": {
   "display_name": "Python [conda env:base] *",
   "language": "python",
   "name": "conda-base-py"
  },
  "language_info": {
   "codemirror_mode": {
    "name": "ipython",
    "version": 3
   },
   "file_extension": ".py",
   "mimetype": "text/x-python",
   "name": "python",
   "nbconvert_exporter": "python",
   "pygments_lexer": "ipython3",
   "version": "3.12.7"
  }
 },
 "nbformat": 4,
 "nbformat_minor": 5
}
