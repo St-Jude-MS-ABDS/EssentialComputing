{
 "cells": [
  {
   "cell_type": "markdown",
   "id": "7a65401c-2f45-490a-9f46-af1251151a8f",
   "metadata": {},
   "source": [
    "# Quiz 4: Chapters 4.1-4.6 Numpy Basics, Arrays, Vectorization "
   ]
  },
  {
   "cell_type": "markdown",
   "id": "0950f6c2-29e0-4c64-bad5-5a8916d5bfd4",
   "metadata": {},
   "source": [
    "These quizzes are intended to gauge the effectiveness of lectures and assignments in achieving learning outcomes.\n",
    "\n",
    "Answer the following five questions without referring to any external sources including class notes."
   ]
  },
  {
   "cell_type": "markdown",
   "id": "004711e8-65b2-45ef-9d69-9e8172fa94d5",
   "metadata": {},
   "source": [
    "## Question 1"
   ]
  },
  {
   "cell_type": "markdown",
   "id": "a5ff3ed8-18ec-4002-b6fc-5636517295c9",
   "metadata": {},
   "source": [
    "What are the performance benefits of using numpy arrays over python lists for numerical data?"
   ]
  },
  {
   "cell_type": "raw",
   "id": "9a4e8954-a0d7-4206-921b-54f60d361dc0",
   "metadata": {},
   "source": [
    "#solution\n",
    "numpy arrays are optimized for floating point operations.\n",
    "numpy "
   ]
  },
  {
   "cell_type": "markdown",
   "id": "34210ffd-7467-412a-a45e-5806dc9ad9c4",
   "metadata": {},
   "source": [
    "## Question 2"
   ]
  },
  {
   "cell_type": "markdown",
   "id": "9c3892ab-aa20-4335-8934-a2c56f4909a5",
   "metadata": {},
   "source": [
    "Which of the following are attributes of a numpy <b>ndarray</b> object?\n",
    "(list all that apply)\n",
    "\n",
    "- shape\n",
    "- size\n",
    "- key\n",
    "- ndim\n",
    "- dtype\n",
    "- tuple"
   ]
  },
  {
   "cell_type": "raw",
   "id": "35364687-0bde-407c-b9ca-d9e11ddd72aa",
   "metadata": {},
   "source": [
    "#solution\n",
    "all but key and tuple"
   ]
  },
  {
   "cell_type": "markdown",
   "id": "838c177b-03e3-4845-b5fc-ef120df8064b",
   "metadata": {},
   "source": [
    "## Question 3"
   ]
  },
  {
   "cell_type": "markdown",
   "id": "5be489a2-a33d-4ba6-b36f-d4b1a8eb2c3e",
   "metadata": {},
   "source": [
    "What are the contents of a matrix initialized by \n",
    "```Python\n",
    "np.empty((2,2))\n",
    "```"
   ]
  },
  {
   "cell_type": "raw",
   "id": "68532414-52ce-4394-ba46-3fecbca7c9b8",
   "metadata": {},
   "source": [
    "#solution\n",
    "The contents of an empty function are undefined until they are explicitly assigned."
   ]
  },
  {
   "cell_type": "markdown",
   "id": "e12a4b28-834e-4fcf-85e3-c140fb4dc12c",
   "metadata": {},
   "source": [
    "## Question 4"
   ]
  },
  {
   "cell_type": "markdown",
   "id": "d8e7e5c4-373f-493b-b91d-3e93bbd7e5eb",
   "metadata": {},
   "source": [
    "What does vectorization mean with respect to numpy arrays?"
   ]
  },
  {
   "cell_type": "raw",
   "id": "a41d27d9-a7c6-4c45-90e3-9a54f53e0475",
   "metadata": {},
   "source": [
    "#solution\n",
    "Vectorization in NumPy refers to the process of performing operations on entire arrays at once, rather than iterating through individual elements using explicit Python loops. This technique leverages highly optimized, pre-compiled C code under the hood, leading to significant performance improvements, especially for large datasets."
   ]
  },
  {
   "cell_type": "markdown",
   "id": "1c21074c-e41d-43e5-9aed-544cd69f1ca1",
   "metadata": {},
   "source": [
    "## Question 5"
   ]
  },
  {
   "cell_type": "markdown",
   "id": "2063e074-7acf-45c6-bfaf-f37206a71c2a",
   "metadata": {},
   "source": [
    "In the following ndarray, how would you access the element with value 7?\n",
    "```Python\n",
    "arr2d = np.array([[1, 2, 3], [4, 5, 6], [7, 8, 9]])\n",
    "```"
   ]
  },
  {
   "cell_type": "raw",
   "id": "cf876a25-25ed-4cfe-91d5-01fc3b878fa2",
   "metadata": {},
   "source": [
    "#solution\n",
    "arr2d[2,0]\n",
    "7"
   ]
  }
 ],
 "metadata": {
  "kernelspec": {
   "display_name": "Python [conda env:base] *",
   "language": "python",
   "name": "conda-base-py"
  },
  "language_info": {
   "codemirror_mode": {
    "name": "ipython",
    "version": 3
   },
   "file_extension": ".py",
   "mimetype": "text/x-python",
   "name": "python",
   "nbconvert_exporter": "python",
   "pygments_lexer": "ipython3",
   "version": "3.12.7"
  }
 },
 "nbformat": 4,
 "nbformat_minor": 5
}
