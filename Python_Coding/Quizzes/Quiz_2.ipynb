{
 "cells": [
  {
   "cell_type": "markdown",
   "id": "7c5933ab-567f-45c7-bf61-b00d879ab6bf",
   "metadata": {},
   "source": [
    "# Quiz 2: Chapters 3.1-3.2 Data Structures and Functions"
   ]
  },
  {
   "cell_type": "markdown",
   "id": "ae4cb279-d246-4760-816b-d05d71764950",
   "metadata": {},
   "source": [
    "These quizzes are intended to gauge the effectiveness of lectures and assignments in achieving learning outcomes.\n",
    "\n",
    "Answer the following five questions without referring to any external sources including class notes."
   ]
  },
  {
   "cell_type": "markdown",
   "id": "cfae96f9-76ac-4837-82cc-4fb6a2569b81",
   "metadata": {},
   "source": [
    "## Question 1"
   ]
  },
  {
   "cell_type": "markdown",
   "id": "2e689dd2-34e1-43cc-90de-a581d3653c37",
   "metadata": {},
   "source": [
    "What is the output of the following code?"
   ]
  },
  {
   "cell_type": "markdown",
   "id": "3cd5e99a-07da-4763-8ec6-9be45aa78e07",
   "metadata": {},
   "source": [
    "```Python\n",
    "def add(a, b=5):\n",
    "    return a + b\n",
    "\n",
    "print(add(3,4))\n",
    "print(add(1))\n",
    "```"
   ]
  },
  {
   "cell_type": "raw",
   "id": "bba72bb0-ef5b-47e2-98ca-ba90da0aeb49",
   "metadata": {},
   "source": [
    "#solution\n",
    "7\n",
    "6"
   ]
  },
  {
   "cell_type": "markdown",
   "id": "9c6b8ea8-e6fc-41c0-a1ee-714c643a9a6d",
   "metadata": {},
   "source": [
    "## Question 2"
   ]
  },
  {
   "cell_type": "markdown",
   "id": "e805841d-cee3-4fb0-a4ba-c16eafca7aa2",
   "metadata": {},
   "source": [
    "What is a generator, and how is it different from a function?\n",
    "\n",
    "Where would we use one vs the other?"
   ]
  },
  {
   "cell_type": "raw",
   "id": "29030b91-3bec-4073-96f2-7af5046a6017",
   "metadata": {},
   "source": [
    "#solution\n",
    "A generator is a contruct similar to a function but uses yield instead of return to compute elements in a loop as needed rather than all at once. Repeated calls to a generator return the next value in the loop. A generator retains its Namespace state in between executions\n",
    "\n",
    "Use functions for tasks where all results are needed at once or when working with small datasets.\n",
    "\n",
    "Use generators for tasks requiring lazy evaluation, memory efficiency, or handling large/infinite datasets."
   ]
  },
  {
   "cell_type": "markdown",
   "id": "c2f33ab8-b840-4504-bc6b-e1b4dd282186",
   "metadata": {},
   "source": [
    "## Question 3"
   ]
  },
  {
   "cell_type": "markdown",
   "id": "8a0b74fe-e393-4a73-a556-31de28e0d2dd",
   "metadata": {},
   "source": [
    "What is the output of the following set comprehension?"
   ]
  },
  {
   "cell_type": "markdown",
   "id": "f05c0f03-888c-4a88-82c9-d104137b2ef2",
   "metadata": {},
   "source": [
    "```Python\n",
    "unique_lengths = { len(word) for word in [\"apple\", \"banana\", \"cherry\", \"date\"] }\n",
    "print(unique_lengths)\n",
    "```"
   ]
  },
  {
   "cell_type": "raw",
   "id": "0ee0f39d-e80c-4fa2-99fb-44b1cb871b1c",
   "metadata": {},
   "source": [
    "#solution\n",
    "{4,5,6}"
   ]
  },
  {
   "cell_type": "markdown",
   "id": "712ee249-f81c-4764-a35f-ee81d6e2310c",
   "metadata": {},
   "source": [
    "## Question 4"
   ]
  },
  {
   "cell_type": "markdown",
   "id": "68f0df5a-4ffa-425d-9ef9-bd62cac29bf7",
   "metadata": {},
   "source": [
    "What are three advantages to using functions in a Python code?"
   ]
  },
  {
   "cell_type": "markdown",
   "id": "77fbee20-9a69-4c96-b732-1b41bf721f9c",
   "metadata": {},
   "source": [
    "#solution\n",
    "- reproduceability\n",
    "- modularity\n",
    "- readability"
   ]
  },
  {
   "cell_type": "markdown",
   "id": "a8671b8b-3ce6-4503-bfe2-f720540b0247",
   "metadata": {},
   "source": [
    "## Question 5"
   ]
  },
  {
   "cell_type": "markdown",
   "id": "29a2d5d8-1323-4a19-96fb-cefb5ef89911",
   "metadata": {},
   "source": [
    "What is the output of the following code?"
   ]
  },
  {
   "cell_type": "markdown",
   "id": "2ad85b60-084e-487a-9862-40f156a06d84",
   "metadata": {},
   "source": [
    "```Python\n",
    "x = 10\n",
    "\n",
    "def my_func():\n",
    "    x = 5\n",
    "    print(x)\n",
    "\n",
    "my_func()\n",
    "print(x)\n",
    "```"
   ]
  },
  {
   "cell_type": "raw",
   "id": "f2e8ce42-cbb4-4137-89df-4519893bda9e",
   "metadata": {},
   "source": [
    "#solution\n",
    "5\n",
    "10"
   ]
  }
 ],
 "metadata": {
  "kernelspec": {
   "display_name": "Python [conda env:base] *",
   "language": "python",
   "name": "conda-base-py"
  },
  "language_info": {
   "codemirror_mode": {
    "name": "ipython",
    "version": 3
   },
   "file_extension": ".py",
   "mimetype": "text/x-python",
   "name": "python",
   "nbconvert_exporter": "python",
   "pygments_lexer": "ipython3",
   "version": "3.12.7"
  }
 },
 "nbformat": 4,
 "nbformat_minor": 5
}
