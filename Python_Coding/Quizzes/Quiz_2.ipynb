{
 "cells": [
  {
   "cell_type": "markdown",
   "id": "7c5933ab-567f-45c7-bf61-b00d879ab6bf",
   "metadata": {},
   "source": [
    "# Quiz 2: Chapters 3.1-3.2 Data Structures and Functions"
   ]
  },
  {
   "cell_type": "code",
   "execution_count": null,
   "id": "5c0dd964-1a49-4160-9b31-bb90195333e4",
   "metadata": {},
   "outputs": [],
   "source": []
  },
  {
   "cell_type": "markdown",
   "id": "cfae96f9-76ac-4837-82cc-4fb6a2569b81",
   "metadata": {},
   "source": [
    "## Question 1"
   ]
  },
  {
   "cell_type": "markdown",
   "id": "2e689dd2-34e1-43cc-90de-a581d3653c37",
   "metadata": {},
   "source": [
    "(functions, default and positional arguments)\n",
    "\n",
    "What is the output of the following code?"
   ]
  },
  {
   "cell_type": "code",
   "execution_count": null,
   "id": "b8b231b4-03f9-439d-8917-009931d0ce65",
   "metadata": {},
   "outputs": [],
   "source": [
    "def add(a, b=5):\n",
    "    return a + b\n",
    "\n",
    "print(add(3))"
   ]
  },
  {
   "cell_type": "markdown",
   "id": "9c6b8ea8-e6fc-41c0-a1ee-714c643a9a6d",
   "metadata": {},
   "source": [
    "## Question 2"
   ]
  },
  {
   "cell_type": "markdown",
   "id": "4caee798-cd79-4233-9ccb-4f131306f7ec",
   "metadata": {},
   "source": [
    "(dictionaries and lists)\n",
    "\n",
    "What is the purpose of a dictionary in Python? How is it different from a list?"
   ]
  },
  {
   "cell_type": "markdown",
   "id": "b6bac312-25ba-41ba-a38b-f796930a3bfb",
   "metadata": {},
   "source": [
    "## Question 3"
   ]
  },
  {
   "cell_type": "markdown",
   "id": "e805841d-cee3-4fb0-a4ba-c16eafca7aa2",
   "metadata": {},
   "source": [
    "What is a generator, and how is it different from a function?"
   ]
  },
  {
   "cell_type": "code",
   "execution_count": null,
   "id": "115b3249-f03e-404b-816f-86b5ac26b843",
   "metadata": {},
   "outputs": [],
   "source": []
  },
  {
   "cell_type": "markdown",
   "id": "c2f33ab8-b840-4504-bc6b-e1b4dd282186",
   "metadata": {},
   "source": [
    "## Question 4"
   ]
  },
  {
   "cell_type": "markdown",
   "id": "8a0b74fe-e393-4a73-a556-31de28e0d2dd",
   "metadata": {},
   "source": [
    "(Comprehensions)\n",
    "\n",
    "What is the output of the following set comprehension?"
   ]
  },
  {
   "cell_type": "code",
   "execution_count": null,
   "id": "9840675a-bbf0-44f7-b73c-d85b5155d385",
   "metadata": {},
   "outputs": [],
   "source": [
    "unique_lengths = {len(word) for word in [\"apple\", \"banana\", \"cherry\", \"date\"]}\n",
    "print(unique_lengths)"
   ]
  },
  {
   "cell_type": "code",
   "execution_count": null,
   "id": "a3fec1d0-13c2-4cb4-a1ff-29d757475e18",
   "metadata": {},
   "outputs": [],
   "source": []
  },
  {
   "cell_type": "markdown",
   "id": "712ee249-f81c-4764-a35f-ee81d6e2310c",
   "metadata": {},
   "source": [
    "## Question 5"
   ]
  },
  {
   "cell_type": "markdown",
   "id": "68f0df5a-4ffa-425d-9ef9-bd62cac29bf7",
   "metadata": {},
   "source": [
    "What are some advantages to using functions in a Python code?"
   ]
  },
  {
   "cell_type": "markdown",
   "id": "77fbee20-9a69-4c96-b732-1b41bf721f9c",
   "metadata": {},
   "source": [
    "- reproducability\n",
    "- modularity\n",
    "- "
   ]
  },
  {
   "cell_type": "markdown",
   "id": "030b23ef-8e30-443d-8158-2157bc8a77ae",
   "metadata": {},
   "source": [
    "What is the purpose of exception handling in Python?\n",
    "\n",
    "<ol style=\"list-style-type: upper-alpha\">\n",
    "  <li>To debug errors in the code.</li>\n",
    "  <li>To gracefully handle runtime errors and prevent program crashes.</li>\n",
    "  <li>To write error-free code.</li>\n",
    "  <li>To terminate the program on error.</li>\n",
    "</ol>\n"
   ]
  },
  {
   "cell_type": "markdown",
   "id": "a8671b8b-3ce6-4503-bfe2-f720540b0247",
   "metadata": {},
   "source": [
    "## Question 6"
   ]
  },
  {
   "cell_type": "markdown",
   "id": "29a2d5d8-1323-4a19-96fb-cefb5ef89911",
   "metadata": {},
   "source": [
    "What is the output of the following code?"
   ]
  },
  {
   "cell_type": "code",
   "execution_count": null,
   "id": "5de1e7fa-0b64-4811-9312-461e2438d8cc",
   "metadata": {},
   "outputs": [],
   "source": [
    "x = 10\n",
    "\n",
    "def my_func():\n",
    "    x = 5\n",
    "    print(x)\n",
    "\n",
    "my_func()\n",
    "print(x)"
   ]
  }
 ],
 "metadata": {
  "kernelspec": {
   "display_name": "Python [conda env:base] *",
   "language": "python",
   "name": "conda-base-py"
  },
  "language_info": {
   "codemirror_mode": {
    "name": "ipython",
    "version": 3
   },
   "file_extension": ".py",
   "mimetype": "text/x-python",
   "name": "python",
   "nbconvert_exporter": "python",
   "pygments_lexer": "ipython3",
   "version": "3.12.7"
  }
 },
 "nbformat": 4,
 "nbformat_minor": 5
}
