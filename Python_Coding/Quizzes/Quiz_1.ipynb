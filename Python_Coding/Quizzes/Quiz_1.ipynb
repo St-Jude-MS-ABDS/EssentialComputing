{
 "cells": [
  {
   "cell_type": "markdown",
   "id": "5e09c49f-9c64-4aac-a19d-9dd0fc757e60",
   "metadata": {},
   "source": [
    "# Quiz 1: Chapters 1.1-1.3, 2.1-2.3 Python Basics and Markdown"
   ]
  },
  {
   "cell_type": "markdown",
   "id": "4862884d-29f7-4be0-9231-1056b2a0b797",
   "metadata": {},
   "source": [
    "\n",
    "Answer 3-5 questions. The top 3 questions will be included in the grade."
   ]
  },
  {
   "cell_type": "markdown",
   "id": "bdc16420-a6c4-42f8-8f76-1ef6c1a3550a",
   "metadata": {},
   "source": [
    "## Question 1"
   ]
  },
  {
   "cell_type": "raw",
   "id": "96ed721d-e281-4a6c-86df-ffcd962ad756",
   "metadata": {},
   "source": [
    "What is result of this code snippet?\n",
    "\n",
    "word = \"apple\"\n",
    "print(word[::-1])"
   ]
  },
  {
   "cell_type": "markdown",
   "id": "abee59b7-a805-4154-93a2-1a1c95182af1",
   "metadata": {},
   "source": [
    "## Question 2"
   ]
  },
  {
   "cell_type": "raw",
   "id": "4ee7a475-522c-4e05-a438-76931f0aac56",
   "metadata": {},
   "source": [
    "What are scalar types? \n",
    "List them"
   ]
  },
  {
   "cell_type": "markdown",
   "id": "f3b0ec8d-7183-4f90-b2f1-fb1b32820471",
   "metadata": {},
   "source": [
    "## Question 3"
   ]
  },
  {
   "cell_type": "code",
   "execution_count": 17,
   "id": "da41a055-66a2-4d1b-8a0f-dbcb8dcb1b5e",
   "metadata": {},
   "outputs": [
    {
     "name": "stdout",
     "output_type": "stream",
     "text": [
      "jello\n"
     ]
    }
   ],
   "source": [
    "text = \"hello\"\n",
    "print(text.replace(\"h\", \"j\"))"
   ]
  },
  {
   "cell_type": "markdown",
   "id": "87825227-33a5-42e7-9422-0c3783a50956",
   "metadata": {},
   "source": [
    "## Question 4"
   ]
  },
  {
   "cell_type": "code",
   "execution_count": null,
   "id": "0fc4b016-0337-41aa-9a9c-41e79a035076",
   "metadata": {},
   "outputs": [],
   "source": []
  },
  {
   "cell_type": "markdown",
   "id": "2e4290c1-974b-45cf-ab05-60954c0875c1",
   "metadata": {},
   "source": [
    "## Question 5"
   ]
  },
  {
   "cell_type": "code",
   "execution_count": null,
   "id": "8cccb91a-fbd3-45b8-a34b-4309c00312c1",
   "metadata": {},
   "outputs": [],
   "source": []
  }
 ],
 "metadata": {
  "kernelspec": {
   "display_name": "Python [conda env:base] *",
   "language": "python",
   "name": "conda-base-py"
  },
  "language_info": {
   "codemirror_mode": {
    "name": "ipython",
    "version": 3
   },
   "file_extension": ".py",
   "mimetype": "text/x-python",
   "name": "python",
   "nbconvert_exporter": "python",
   "pygments_lexer": "ipython3",
   "version": "3.12.7"
  }
 },
 "nbformat": 4,
 "nbformat_minor": 5
}
