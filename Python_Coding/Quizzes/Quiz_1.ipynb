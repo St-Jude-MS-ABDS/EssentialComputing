{
 "cells": [
  {
   "cell_type": "markdown",
   "id": "5e09c49f-9c64-4aac-a19d-9dd0fc757e60",
   "metadata": {},
   "source": [
    "# Quiz 1: Chapters 1.1-1.3, 2.1-2.3 Python Basics and Markdown"
   ]
  },
  {
   "cell_type": "markdown",
   "id": "4862884d-29f7-4be0-9231-1056b2a0b797",
   "metadata": {},
   "source": [
    "These quizzes are intended to gauge the effectiveness of lectures and assignments in achieving learning outcomes.\n",
    "\n",
    "Answer the following five questions without referring to any external sources including class notes."
   ]
  },
  {
   "cell_type": "markdown",
   "id": "bdc16420-a6c4-42f8-8f76-1ef6c1a3550a",
   "metadata": {},
   "source": [
    "## Question 1"
   ]
  },
  {
   "cell_type": "markdown",
   "id": "3a00b4b5-74c2-42aa-bd65-7e3e8ae80821",
   "metadata": {},
   "source": [
    "What is result of this code snippet?\n",
    "```Python\n",
    "word = \"apple\"\n",
    "print(word[::-1])\n",
    "```"
   ]
  },
  {
   "cell_type": "raw",
   "id": "e9133774-0fbd-4f50-b83e-bdd68b10322b",
   "metadata": {},
   "source": []
  },
  {
   "cell_type": "markdown",
   "id": "abee59b7-a805-4154-93a2-1a1c95182af1",
   "metadata": {},
   "source": [
    "## Question 2"
   ]
  },
  {
   "cell_type": "markdown",
   "id": "79ef463f-d9f9-4e0f-894b-612b77647fa1",
   "metadata": {},
   "source": [
    "What happens if you try to directly modify a character in a string? Why?"
   ]
  },
  {
   "cell_type": "raw",
   "id": "8fe80151-4bb7-430f-89b1-f5e6ec6f0f42",
   "metadata": {},
   "source": []
  },
  {
   "cell_type": "markdown",
   "id": "f3b0ec8d-7183-4f90-b2f1-fb1b32820471",
   "metadata": {},
   "source": [
    "## Question 3"
   ]
  },
  {
   "cell_type": "markdown",
   "id": "2a357006-9e8f-452c-bf88-0ba1b4069327",
   "metadata": {},
   "source": [
    "What is the output of the following code snippet?\n",
    "\n",
    "```Python\n",
    "text = \"hello\"\n",
    "print(text.replace(\"h\", \"j\"))\n",
    "```"
   ]
  },
  {
   "cell_type": "raw",
   "id": "656da53c-28c9-43ad-b588-a971c7e94ad5",
   "metadata": {},
   "source": []
  },
  {
   "cell_type": "markdown",
   "id": "87825227-33a5-42e7-9422-0c3783a50956",
   "metadata": {},
   "source": [
    "## Question 4"
   ]
  },
  {
   "cell_type": "markdown",
   "id": "1254a84c-8511-4e78-9b99-14f5f3794132",
   "metadata": {},
   "source": [
    "What is the output of the following code?\n",
    "```Python\n",
    "print(type('3.5'))\n",
    "```"
   ]
  },
  {
   "cell_type": "raw",
   "id": "6c4f9758-f52b-4e28-8617-93187460e42b",
   "metadata": {},
   "source": []
  },
  {
   "cell_type": "markdown",
   "id": "2e4290c1-974b-45cf-ab05-60954c0875c1",
   "metadata": {},
   "source": [
    "## Question 5"
   ]
  },
  {
   "cell_type": "markdown",
   "id": "856281fe-e21a-4efa-a51c-bcb813a2ee6e",
   "metadata": {},
   "source": [
    "Match the types of bracketing characters with the datatypes they define?\n",
    "\n",
    "datatypes: list, string, set, tuple\n",
    "\n",
    "1. { } \n",
    "2. [ ]\n",
    "3. ( )\n",
    "4. \" \"\n",
    "\n",
    "\n"
   ]
  },
  {
   "cell_type": "raw",
   "id": "d16d7ebe-aa7b-47bb-8395-352203dd73e9",
   "metadata": {},
   "source": []
  }
 ],
 "metadata": {
  "kernelspec": {
   "display_name": "Python [conda env:base] *",
   "language": "python",
   "name": "conda-base-py"
  },
  "language_info": {
   "codemirror_mode": {
    "name": "ipython",
    "version": 3
   },
   "file_extension": ".py",
   "mimetype": "text/x-python",
   "name": "python",
   "nbconvert_exporter": "python",
   "pygments_lexer": "ipython3",
   "version": "3.12.7"
  }
 },
 "nbformat": 4,
 "nbformat_minor": 5
}
