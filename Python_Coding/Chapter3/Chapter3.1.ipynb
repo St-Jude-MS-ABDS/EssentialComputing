{
 "cells": [
  {
   "cell_type": "markdown",
   "id": "80b7c21c-41dd-4936-95b7-14b0716c2d54",
   "metadata": {},
   "source": [
    "# Chapter 3. Built-In Data Structures, Functions, and Files"
   ]
  },
  {
   "cell_type": "markdown",
   "id": "6fdff639-920f-4f97-87ae-32d5ea59d17f",
   "metadata": {},
   "source": [
    "This chapter discusses capabilities built into the Python language that will be used ubiquitously throughout the book. While add-on libraries like pandas and NumPy add advanced computational functionality for larger datasets, they are designed to be used together with Python’s built-in data manipulation tools.\n",
    "\n",
    "We’ll start with Python’s workhorse data structures: tuples, lists, dictionaries, and sets. Then, we’ll discuss creating your own reusable Python functions. Finally, we’ll look at the mechanics of Python file objects and interacting with your local hard drive."
   ]
  },
  {
   "cell_type": "markdown",
   "id": "7493c591-36f6-4c45-ae59-ec27437b68b1",
   "metadata": {},
   "source": [
    "# 3.1 Data Structures and Sequences"
   ]
  },
  {
   "cell_type": "markdown",
   "id": "fb3ae63d-978a-471d-b033-cf1ff15d60f7",
   "metadata": {},
   "source": [
    "Python’s data structures are simple but powerful. Mastering their use is a critical part of becoming a proficient Python programmer. We start with tuple, list, and dictionary, which are some of the most frequently used sequence types."
   ]
  },
  {
   "cell_type": "markdown",
   "id": "5e72cb65-ca57-456d-8da4-08fdad9ca945",
   "metadata": {},
   "source": [
    "## Tuple"
   ]
  },
  {
   "cell_type": "markdown",
   "id": "3f60bd39-053f-4732-9089-3f5b85ae4580",
   "metadata": {},
   "source": [
    "A tuple is a fixed-length, immutable sequence of Python objects which, once assigned, cannot be changed. The easiest way to create one is with a comma-separated sequence of values wrapped in parentheses:"
   ]
  },
  {
   "cell_type": "code",
   "execution_count": 8,
   "id": "397bb6ee-acec-4c1f-8b62-36d2e0875068",
   "metadata": {},
   "outputs": [],
   "source": [
    "tup = (4, 5, 6)"
   ]
  },
  {
   "cell_type": "code",
   "execution_count": 10,
   "id": "b486c264-08dd-402f-86f6-66878341f407",
   "metadata": {},
   "outputs": [
    {
     "data": {
      "text/plain": [
       "(4, 5, 6)"
      ]
     },
     "execution_count": 10,
     "metadata": {},
     "output_type": "execute_result"
    }
   ],
   "source": [
    "tup"
   ]
  },
  {
   "cell_type": "markdown",
   "id": "bcfa603f-abb8-43f1-8895-0f18a12170cb",
   "metadata": {},
   "source": [
    "In many contexts, the parentheses can be omitted, so here we could also have written:"
   ]
  },
  {
   "cell_type": "code",
   "execution_count": 13,
   "id": "08927d4d-08ab-4ad4-b64e-f12cd029941b",
   "metadata": {},
   "outputs": [],
   "source": [
    "tup = 4, 5, 6"
   ]
  },
  {
   "cell_type": "code",
   "execution_count": 15,
   "id": "60f51f73-6ec8-46ff-878c-9f7f3ddc6720",
   "metadata": {},
   "outputs": [
    {
     "data": {
      "text/plain": [
       "(4, 5, 6)"
      ]
     },
     "execution_count": 15,
     "metadata": {},
     "output_type": "execute_result"
    }
   ],
   "source": [
    "tup"
   ]
  },
  {
   "cell_type": "markdown",
   "id": "346f47b7-5939-40f3-900a-18982a2fb69d",
   "metadata": {},
   "source": [
    "You can convert any sequence or iterator to a tuple by invoking tuple:"
   ]
  },
  {
   "cell_type": "code",
   "execution_count": 18,
   "id": "2a18f38c-ed29-4176-a416-d595c04762ce",
   "metadata": {},
   "outputs": [
    {
     "data": {
      "text/plain": [
       "(4, 0, 2)"
      ]
     },
     "execution_count": 18,
     "metadata": {},
     "output_type": "execute_result"
    }
   ],
   "source": [
    "tuple([4, 0, 2])"
   ]
  },
  {
   "cell_type": "code",
   "execution_count": 20,
   "id": "23c54bab-75dd-4936-928d-d809595838cb",
   "metadata": {},
   "outputs": [],
   "source": [
    "tup = tuple('string')"
   ]
  },
  {
   "cell_type": "code",
   "execution_count": 22,
   "id": "75ff09fa-7006-4df9-a043-3cadfd86720f",
   "metadata": {},
   "outputs": [
    {
     "data": {
      "text/plain": [
       "('s', 't', 'r', 'i', 'n', 'g')"
      ]
     },
     "execution_count": 22,
     "metadata": {},
     "output_type": "execute_result"
    }
   ],
   "source": [
    "tup"
   ]
  },
  {
   "cell_type": "markdown",
   "id": "a4db241c-a79b-4a31-ad83-089da1880b24",
   "metadata": {},
   "source": [
    "Elements can be accessed with square brackets [] as with most other sequence types. \n",
    "\n",
    "As in C, C++, Java, and many other languages, sequences are <b>0-indexed</b> in Python:"
   ]
  },
  {
   "cell_type": "code",
   "execution_count": 25,
   "id": "5a8a96cb-9427-44ec-a056-deda2ccc40f5",
   "metadata": {},
   "outputs": [
    {
     "data": {
      "text/plain": [
       "'s'"
      ]
     },
     "execution_count": 25,
     "metadata": {},
     "output_type": "execute_result"
    }
   ],
   "source": [
    "tup[0]"
   ]
  },
  {
   "cell_type": "markdown",
   "id": "cb265169-8121-4095-af27-7427a59c4189",
   "metadata": {},
   "source": [
    "When you’re defining tuples within more complicated expressions, it’s often necessary to enclose the values in parentheses, as in this example of creating a tuple of tuples:"
   ]
  },
  {
   "cell_type": "code",
   "execution_count": 28,
   "id": "b7e42d42-c1b9-4e4a-ab6d-469c90f2e8c4",
   "metadata": {},
   "outputs": [],
   "source": [
    "nested_tup = (4, 5, 6), (7, 8)"
   ]
  },
  {
   "cell_type": "code",
   "execution_count": 30,
   "id": "54fdb184-825b-4d29-bd8a-839ae815342b",
   "metadata": {},
   "outputs": [
    {
     "data": {
      "text/plain": [
       "((4, 5, 6), (7, 8))"
      ]
     },
     "execution_count": 30,
     "metadata": {},
     "output_type": "execute_result"
    }
   ],
   "source": [
    "nested_tup"
   ]
  },
  {
   "cell_type": "code",
   "execution_count": 32,
   "id": "5b60fde6-236a-42aa-8c8e-c0c184994f0d",
   "metadata": {},
   "outputs": [
    {
     "data": {
      "text/plain": [
       "(4, 5, 6)"
      ]
     },
     "execution_count": 32,
     "metadata": {},
     "output_type": "execute_result"
    }
   ],
   "source": [
    "nested_tup[0]"
   ]
  },
  {
   "cell_type": "code",
   "execution_count": 34,
   "id": "240da11a-2ec8-4b82-a9c7-9a136bd9c6d9",
   "metadata": {},
   "outputs": [
    {
     "data": {
      "text/plain": [
       "(7, 8)"
      ]
     },
     "execution_count": 34,
     "metadata": {},
     "output_type": "execute_result"
    }
   ],
   "source": [
    "nested_tup[1]"
   ]
  },
  {
   "cell_type": "markdown",
   "id": "86313fc8-3dcf-48cc-84e1-789bd51f5d7f",
   "metadata": {},
   "source": [
    "While the objects stored in a tuple may be mutable themselves, once the tuple is created it’s not possible to modify which object is stored in each slot:\n",
    "\n"
   ]
  },
  {
   "cell_type": "code",
   "execution_count": 37,
   "id": "a6709c79-ebdc-4696-bea9-1e84e8f7c917",
   "metadata": {},
   "outputs": [],
   "source": [
    "tup = tuple(['foo', [1, 2], True])"
   ]
  },
  {
   "cell_type": "code",
   "execution_count": 39,
   "id": "e2aa0ca8-a94b-4b6a-99ef-d89051a6957b",
   "metadata": {},
   "outputs": [
    {
     "ename": "TypeError",
     "evalue": "'tuple' object does not support item assignment",
     "output_type": "error",
     "traceback": [
      "\u001b[0;31m---------------------------------------------------------------------------\u001b[0m",
      "\u001b[0;31mTypeError\u001b[0m                                 Traceback (most recent call last)",
      "Cell \u001b[0;32mIn[39], line 1\u001b[0m\n\u001b[0;32m----> 1\u001b[0m tup[\u001b[38;5;241m2\u001b[39m] \u001b[38;5;241m=\u001b[39m \u001b[38;5;28;01mFalse\u001b[39;00m\n",
      "\u001b[0;31mTypeError\u001b[0m: 'tuple' object does not support item assignment"
     ]
    }
   ],
   "source": [
    "tup[2] = False"
   ]
  },
  {
   "cell_type": "markdown",
   "id": "737f2b90-3857-4706-ad1e-3467d1ac72ed",
   "metadata": {},
   "source": [
    "If an object inside a tuple is mutable, such as a list, you can modify it in place:\n",
    "\n"
   ]
  },
  {
   "cell_type": "code",
   "execution_count": 42,
   "id": "adb4e9cc-2450-48dd-a3cc-ed060fedb87d",
   "metadata": {},
   "outputs": [],
   "source": [
    "tup[1].append(3)"
   ]
  },
  {
   "cell_type": "code",
   "execution_count": 44,
   "id": "757577fa-1d1a-4937-8f9b-55fd687b1832",
   "metadata": {},
   "outputs": [
    {
     "data": {
      "text/plain": [
       "('foo', [1, 2, 3], True)"
      ]
     },
     "execution_count": 44,
     "metadata": {},
     "output_type": "execute_result"
    }
   ],
   "source": [
    "tup"
   ]
  },
  {
   "cell_type": "markdown",
   "id": "7cddcb47-3628-4a3e-9490-4f036739fc9d",
   "metadata": {},
   "source": [
    "You can concatenate tuples using the + operator to produce longer tuples:"
   ]
  },
  {
   "cell_type": "code",
   "execution_count": 47,
   "id": "48f7bb5d-9592-459d-86a3-046b9769c93f",
   "metadata": {},
   "outputs": [
    {
     "data": {
      "text/plain": [
       "(4, None, 'foo', 6, 0, 'bar')"
      ]
     },
     "execution_count": 47,
     "metadata": {},
     "output_type": "execute_result"
    }
   ],
   "source": [
    "(4, None, 'foo') + (6, 0) + ('bar',)"
   ]
  },
  {
   "cell_type": "markdown",
   "id": "ea9ca08e-9a90-4acc-bef7-7e334718c8ff",
   "metadata": {},
   "source": [
    "Multiplying a tuple by an integer, as with lists, has the effect of concatenating that many copies of the tuple:"
   ]
  },
  {
   "cell_type": "code",
   "execution_count": 50,
   "id": "8ebeaaeb-dfad-4278-bd4e-ee0dd805c125",
   "metadata": {},
   "outputs": [
    {
     "data": {
      "text/plain": [
       "('foo', 'bar', 'foo', 'bar', 'foo', 'bar', 'foo', 'bar')"
      ]
     },
     "execution_count": 50,
     "metadata": {},
     "output_type": "execute_result"
    }
   ],
   "source": [
    "('foo', 'bar') * 4"
   ]
  },
  {
   "cell_type": "markdown",
   "id": "0b5afa87-a663-4c48-af0b-f5e68842108f",
   "metadata": {},
   "source": [
    "<b>Note that the objects themselves are not copied, only the references to them.</b>"
   ]
  },
  {
   "cell_type": "markdown",
   "id": "c20320eb-20ae-45d3-82d6-4f8d7072a00b",
   "metadata": {},
   "source": [
    "## Unpacking tuples"
   ]
  },
  {
   "cell_type": "markdown",
   "id": "3cee60b5-b8cc-43f2-9026-5d644c05c7a6",
   "metadata": {},
   "source": [
    "If you try to assign to a tuple-like expression of variables, Python will attempt to unpack the value on the righthand side of the equals sign:"
   ]
  },
  {
   "cell_type": "code",
   "execution_count": 55,
   "id": "bed6745a-7103-4c87-afd7-2a50628620a5",
   "metadata": {},
   "outputs": [],
   "source": [
    "tup = (4, 5, 6)"
   ]
  },
  {
   "cell_type": "code",
   "execution_count": 57,
   "id": "c8fc539e-77fc-417c-b6b7-80a76843abbe",
   "metadata": {},
   "outputs": [],
   "source": [
    "a, b, c = tup"
   ]
  },
  {
   "cell_type": "code",
   "execution_count": 59,
   "id": "82fc141d-0a8a-4e71-995c-9cb34ba0c213",
   "metadata": {},
   "outputs": [
    {
     "data": {
      "text/plain": [
       "5"
      ]
     },
     "execution_count": 59,
     "metadata": {},
     "output_type": "execute_result"
    }
   ],
   "source": [
    "b"
   ]
  },
  {
   "cell_type": "markdown",
   "id": "ba0f668c-286b-4739-a59b-a6a3a1e3c9db",
   "metadata": {},
   "source": [
    "Even sequences with nested tuples can be unpacked:"
   ]
  },
  {
   "cell_type": "code",
   "execution_count": 62,
   "id": "9c522ce9-5fc6-4b69-ae77-a6822defe03a",
   "metadata": {},
   "outputs": [],
   "source": [
    "tup = 4, 5, (6, 7)"
   ]
  },
  {
   "cell_type": "code",
   "execution_count": 64,
   "id": "ffd40a6f-ac14-4371-a8bc-f2370e7adeec",
   "metadata": {},
   "outputs": [],
   "source": [
    "a, b, (c, d) = tup"
   ]
  },
  {
   "cell_type": "code",
   "execution_count": 66,
   "id": "e25507a9-d9f1-44c9-b069-c857336cddd2",
   "metadata": {},
   "outputs": [
    {
     "data": {
      "text/plain": [
       "7"
      ]
     },
     "execution_count": 66,
     "metadata": {},
     "output_type": "execute_result"
    }
   ],
   "source": [
    "d"
   ]
  },
  {
   "cell_type": "markdown",
   "id": "2dcd6c0a-c1b2-4767-8143-1e6c1d8beba1",
   "metadata": {},
   "source": [
    "Using this functionality you can easily swap variable names, a task that in many languages might look like:"
   ]
  },
  {
   "cell_type": "code",
   "execution_count": 69,
   "id": "a7256fd9-d18c-4e19-a9af-001ee10d89fc",
   "metadata": {},
   "outputs": [],
   "source": [
    "tmp = a\n",
    "a = b\n",
    "b = tmp"
   ]
  },
  {
   "cell_type": "markdown",
   "id": "5ec63f36-318b-403c-a6fa-6bc806c1e978",
   "metadata": {},
   "source": [
    "But, in Python, the swap can be done like this:"
   ]
  },
  {
   "cell_type": "code",
   "execution_count": 72,
   "id": "4881d19a-e7b5-4b2d-8140-feabfdab2d38",
   "metadata": {},
   "outputs": [],
   "source": [
    "a, b = 1, 2"
   ]
  },
  {
   "cell_type": "code",
   "execution_count": 74,
   "id": "67b037b3-898b-4798-a86f-67ea77be2c46",
   "metadata": {},
   "outputs": [
    {
     "data": {
      "text/plain": [
       "1"
      ]
     },
     "execution_count": 74,
     "metadata": {},
     "output_type": "execute_result"
    }
   ],
   "source": [
    "a"
   ]
  },
  {
   "cell_type": "code",
   "execution_count": 76,
   "id": "6b68fddb-96b9-4979-8c9a-7b8378e8af11",
   "metadata": {},
   "outputs": [
    {
     "data": {
      "text/plain": [
       "2"
      ]
     },
     "execution_count": 76,
     "metadata": {},
     "output_type": "execute_result"
    }
   ],
   "source": [
    "b"
   ]
  },
  {
   "cell_type": "code",
   "execution_count": 78,
   "id": "900b27cf-99f3-41f0-ba07-ca79029fd91b",
   "metadata": {},
   "outputs": [],
   "source": [
    "b, a = a, b"
   ]
  },
  {
   "cell_type": "code",
   "execution_count": 80,
   "id": "1d336350-5797-4369-bc88-122ffa9fbedc",
   "metadata": {},
   "outputs": [
    {
     "data": {
      "text/plain": [
       "2"
      ]
     },
     "execution_count": 80,
     "metadata": {},
     "output_type": "execute_result"
    }
   ],
   "source": [
    "a"
   ]
  },
  {
   "cell_type": "code",
   "execution_count": 82,
   "id": "69635d3f-72e3-4b76-847b-9843a5bc039c",
   "metadata": {},
   "outputs": [
    {
     "data": {
      "text/plain": [
       "1"
      ]
     },
     "execution_count": 82,
     "metadata": {},
     "output_type": "execute_result"
    }
   ],
   "source": [
    "b"
   ]
  },
  {
   "cell_type": "markdown",
   "id": "2eb1dc68-d34d-4ed2-9863-6e5fb0f81438",
   "metadata": {},
   "source": [
    "A common use of variable unpacking is iterating over sequences of tuples or lists:\n",
    "\n"
   ]
  },
  {
   "cell_type": "code",
   "execution_count": 85,
   "id": "1c725210-5d46-4846-babf-1a3bda65014f",
   "metadata": {},
   "outputs": [],
   "source": [
    "seq = [(1, 2, 3), (4, 5, 6), (7, 8, 9)]"
   ]
  },
  {
   "cell_type": "code",
   "execution_count": 87,
   "id": "d93176a9-48b6-4104-9ba6-bc25d4ed70b1",
   "metadata": {},
   "outputs": [
    {
     "name": "stdout",
     "output_type": "stream",
     "text": [
      "a=1, b=2, c=3\n",
      "a=4, b=5, c=6\n",
      "a=7, b=8, c=9\n"
     ]
    }
   ],
   "source": [
    "for a, b, c in seq:\n",
    "    print(f'a={a}, b={b}, c={c}')"
   ]
  },
  {
   "cell_type": "markdown",
   "id": "3307cc94-ddb4-4804-80a4-00d55855d606",
   "metadata": {},
   "source": [
    "Another common use is returning multiple values from a function. I’ll cover this in more detail later."
   ]
  },
  {
   "cell_type": "markdown",
   "id": "b9ea314f-e42b-41ff-a4d9-19037ba5c12f",
   "metadata": {},
   "source": [
    "There are some situations where you may want to “pluck” a few elements from the beginning of a tuple. There is a special syntax that can do this, <b>*</b>rest, which is also used in function signatures to capture an arbitrarily long list of positional arguments:"
   ]
  },
  {
   "cell_type": "code",
   "execution_count": 91,
   "id": "c7d6c504-6d77-4126-ae4f-065677547294",
   "metadata": {},
   "outputs": [],
   "source": [
    "values = 1, 2, 3, 4, 5"
   ]
  },
  {
   "cell_type": "code",
   "execution_count": 93,
   "id": "ac84506d-1b0c-4f61-9f4c-276538cad714",
   "metadata": {},
   "outputs": [],
   "source": [
    "a, b, *rest = values"
   ]
  },
  {
   "cell_type": "code",
   "execution_count": 95,
   "id": "21b5a874-27ca-4722-8e25-b7d8d4bec1f2",
   "metadata": {},
   "outputs": [
    {
     "data": {
      "text/plain": [
       "1"
      ]
     },
     "execution_count": 95,
     "metadata": {},
     "output_type": "execute_result"
    }
   ],
   "source": [
    "a"
   ]
  },
  {
   "cell_type": "code",
   "execution_count": 97,
   "id": "a6e067ee-ae55-4a59-a9cb-ab527eb5b6f5",
   "metadata": {},
   "outputs": [
    {
     "data": {
      "text/plain": [
       "2"
      ]
     },
     "execution_count": 97,
     "metadata": {},
     "output_type": "execute_result"
    }
   ],
   "source": [
    "b"
   ]
  },
  {
   "cell_type": "code",
   "execution_count": 99,
   "id": "47afc6cb-1e5c-41e0-ae84-689dea2e7b3d",
   "metadata": {},
   "outputs": [
    {
     "data": {
      "text/plain": [
       "[3, 4, 5]"
      ]
     },
     "execution_count": 99,
     "metadata": {},
     "output_type": "execute_result"
    }
   ],
   "source": [
    "rest"
   ]
  },
  {
   "cell_type": "markdown",
   "id": "2910689d-220b-4225-9b57-89ff5fdb1aa9",
   "metadata": {},
   "source": [
    "This rest bit is sometimes something you want to discard; there is nothing special about the rest name. As a matter of convention, many Python programmers will use the underscore (_) for unwanted variables:"
   ]
  },
  {
   "cell_type": "code",
   "execution_count": 102,
   "id": "f4530807-1604-48ec-976f-4f4fa119aab5",
   "metadata": {},
   "outputs": [],
   "source": [
    "a, b, *_ = values"
   ]
  },
  {
   "cell_type": "markdown",
   "id": "c1f4f774-1c12-4449-87b8-2a21103c464c",
   "metadata": {},
   "source": [
    "## Tuple methods"
   ]
  },
  {
   "cell_type": "markdown",
   "id": "1ad3a487-6a66-4633-8283-ad09aedb8a68",
   "metadata": {},
   "source": [
    "Since the size and contents of a tuple cannot be modified, it is very light on instance methods. A particularly useful one (also available on lists) is <b>count</b>, which counts the number of occurrences of a value:"
   ]
  },
  {
   "cell_type": "code",
   "execution_count": 106,
   "id": "1a84c9fd-ddfd-4916-9ee2-83e120893ec1",
   "metadata": {},
   "outputs": [],
   "source": [
    "a = (1, 2, 2, 2, 3, 4, 2)"
   ]
  },
  {
   "cell_type": "code",
   "execution_count": 108,
   "id": "66287c34-e644-4dc2-a13e-0b1126475c9e",
   "metadata": {},
   "outputs": [
    {
     "data": {
      "text/plain": [
       "4"
      ]
     },
     "execution_count": 108,
     "metadata": {},
     "output_type": "execute_result"
    }
   ],
   "source": [
    "a.count(2)"
   ]
  },
  {
   "cell_type": "markdown",
   "id": "1e834aa2-c887-40ca-acaf-873f960cda1c",
   "metadata": {},
   "source": [
    "## List"
   ]
  },
  {
   "cell_type": "markdown",
   "id": "01a0f9f3-436f-4e9b-b0e2-1e1ce9e03d95",
   "metadata": {},
   "source": [
    "In contrast with tuples, lists are variable length and their contents can be modified in place. Lists are mutable. You can define them using square brackets [] or using the list type function:"
   ]
  },
  {
   "cell_type": "code",
   "execution_count": 112,
   "id": "f996b352-fd36-472a-a689-c1a6a3822f04",
   "metadata": {},
   "outputs": [],
   "source": [
    "a_list = [2, 3, 7, None]"
   ]
  },
  {
   "cell_type": "code",
   "execution_count": 114,
   "id": "2df00ab6-acc2-4032-8fda-36a62965bccd",
   "metadata": {},
   "outputs": [],
   "source": [
    "tup = (\"foo\", \"bar\", \"baz\")"
   ]
  },
  {
   "cell_type": "code",
   "execution_count": 116,
   "id": "97905caa-f957-4165-ace0-b7eec6fab10a",
   "metadata": {},
   "outputs": [],
   "source": [
    "b_list = list(tup)"
   ]
  },
  {
   "cell_type": "code",
   "execution_count": 118,
   "id": "126722b2-438b-48ac-813f-eb0b452f597e",
   "metadata": {},
   "outputs": [
    {
     "data": {
      "text/plain": [
       "['foo', 'bar', 'baz']"
      ]
     },
     "execution_count": 118,
     "metadata": {},
     "output_type": "execute_result"
    }
   ],
   "source": [
    "b_list"
   ]
  },
  {
   "cell_type": "code",
   "execution_count": 120,
   "id": "2a0b0f65-eb4d-4c4c-94db-1b653cb7dde3",
   "metadata": {},
   "outputs": [],
   "source": [
    "b_list[1] = \"peekaboo\""
   ]
  },
  {
   "cell_type": "code",
   "execution_count": 122,
   "id": "2b2ae5ad-70cb-4dfb-b4a9-ee7f70615ed0",
   "metadata": {},
   "outputs": [
    {
     "data": {
      "text/plain": [
       "['foo', 'peekaboo', 'baz']"
      ]
     },
     "execution_count": 122,
     "metadata": {},
     "output_type": "execute_result"
    }
   ],
   "source": [
    "b_list"
   ]
  },
  {
   "cell_type": "markdown",
   "id": "2ae9f8bb-793d-43f3-b3b9-5ea5576aaeda",
   "metadata": {},
   "source": [
    "Lists and tuples are semantically similar (though tuples cannot be modified) and can be used interchangeably in many functions.\n",
    "\n",
    "The <b>list</b> built-in function is frequently used in data processing as a way to materialize an iterator or generator expression:"
   ]
  },
  {
   "cell_type": "code",
   "execution_count": 125,
   "id": "0c3ef5f2-08eb-4e0e-9b7c-524803d086a9",
   "metadata": {},
   "outputs": [],
   "source": [
    "gen = range(10)"
   ]
  },
  {
   "cell_type": "code",
   "execution_count": 127,
   "id": "ca714c3d-bec6-4969-b43a-d32b4e3ef0cd",
   "metadata": {},
   "outputs": [
    {
     "data": {
      "text/plain": [
       "range(0, 10)"
      ]
     },
     "execution_count": 127,
     "metadata": {},
     "output_type": "execute_result"
    }
   ],
   "source": [
    "gen"
   ]
  },
  {
   "cell_type": "code",
   "execution_count": 129,
   "id": "e7feaf6e-fa2e-4f41-9bb4-92bd05deb426",
   "metadata": {},
   "outputs": [
    {
     "data": {
      "text/plain": [
       "[0, 1, 2, 3, 4, 5, 6, 7, 8, 9]"
      ]
     },
     "execution_count": 129,
     "metadata": {},
     "output_type": "execute_result"
    }
   ],
   "source": [
    "list(gen)"
   ]
  },
  {
   "cell_type": "markdown",
   "id": "719316ed-82d4-46fb-986b-eb690db38f3b",
   "metadata": {},
   "source": [
    "## Adding and removing elements"
   ]
  },
  {
   "cell_type": "markdown",
   "id": "a5ff0bd6-bc25-49ac-8039-8f18f4c302f8",
   "metadata": {},
   "source": [
    "Elements can be appended to the end of the list with the append method:\n",
    "\n"
   ]
  },
  {
   "cell_type": "code",
   "execution_count": 133,
   "id": "604ebb6d-43d0-4ec7-b556-b7c30bdff1f6",
   "metadata": {},
   "outputs": [],
   "source": [
    "b_list.append(\"dwarf\")"
   ]
  },
  {
   "cell_type": "code",
   "execution_count": 135,
   "id": "2a91b76a-25ec-443f-be46-2e2dbf21a1c8",
   "metadata": {},
   "outputs": [
    {
     "data": {
      "text/plain": [
       "['foo', 'peekaboo', 'baz', 'dwarf']"
      ]
     },
     "execution_count": 135,
     "metadata": {},
     "output_type": "execute_result"
    }
   ],
   "source": [
    "b_list"
   ]
  },
  {
   "cell_type": "markdown",
   "id": "ec273691-88dd-42ac-8ad0-f24f70a47783",
   "metadata": {},
   "source": [
    "Using <b>insert</b> you can insert an element at a specific location in the list:"
   ]
  },
  {
   "cell_type": "code",
   "execution_count": 138,
   "id": "6945215b-ee33-4b9d-88d2-5f33c9bdb60d",
   "metadata": {},
   "outputs": [],
   "source": [
    "b_list.insert(1, \"red\")"
   ]
  },
  {
   "cell_type": "code",
   "execution_count": 140,
   "id": "23900688-937b-4c7a-9ffb-05c9aa7087fa",
   "metadata": {},
   "outputs": [
    {
     "data": {
      "text/plain": [
       "['foo', 'red', 'peekaboo', 'baz', 'dwarf']"
      ]
     },
     "execution_count": 140,
     "metadata": {},
     "output_type": "execute_result"
    }
   ],
   "source": [
    "b_list"
   ]
  },
  {
   "cell_type": "markdown",
   "id": "6b827603-f027-435d-b231-bd8ae234295b",
   "metadata": {},
   "source": [
    "The insertion index must be between 0 and the length of the list, inclusive.\n",
    "\n"
   ]
  },
  {
   "cell_type": "markdown",
   "id": "b8f56ac8-af55-4e56-bbb9-f107f971a4eb",
   "metadata": {},
   "source": [
    "<blockquote>\n",
    "Warning\n",
    "\n",
    "insert is computationally expensive compared with append, because references to subsequent elements have to be shifted internally to make room for the new element. If you need to insert elements at both the beginning and end of a sequence, you may wish to explore collections.deque, a double-ended queue, which is optimized for this purpose and found in the Python Standard Library.\n",
    "</blockquote>"
   ]
  },
  {
   "cell_type": "markdown",
   "id": "79421013-24f2-40f3-8535-03831247c563",
   "metadata": {},
   "source": [
    "The inverse operation to <b>insert</b> is <b>pop</b>, which removes and returns an element at a particular index:"
   ]
  },
  {
   "cell_type": "code",
   "execution_count": 145,
   "id": "07ba205c-2750-485c-aadd-64b0be90df26",
   "metadata": {},
   "outputs": [
    {
     "data": {
      "text/plain": [
       "'peekaboo'"
      ]
     },
     "execution_count": 145,
     "metadata": {},
     "output_type": "execute_result"
    }
   ],
   "source": [
    "b_list.pop(2)"
   ]
  },
  {
   "cell_type": "code",
   "execution_count": 147,
   "id": "a17e301f-a570-4cbb-ae47-801fe3e7aff1",
   "metadata": {},
   "outputs": [
    {
     "data": {
      "text/plain": [
       "['foo', 'red', 'baz', 'dwarf']"
      ]
     },
     "execution_count": 147,
     "metadata": {},
     "output_type": "execute_result"
    }
   ],
   "source": [
    "b_list"
   ]
  },
  {
   "cell_type": "markdown",
   "id": "5bb1c5b4-650d-47af-9a5e-a358633e13e0",
   "metadata": {},
   "source": [
    "Elements can be removed by value with <b>remove</b>, which locates the first such value and removes it from the list:"
   ]
  },
  {
   "cell_type": "code",
   "execution_count": 150,
   "id": "140079c2-f46c-4f36-b972-5aabfb5f03a9",
   "metadata": {},
   "outputs": [],
   "source": [
    "b_list.append(\"foo\")\n"
   ]
  },
  {
   "cell_type": "code",
   "execution_count": 152,
   "id": "77b371cf-aa40-4579-a11f-6751d01d0c7e",
   "metadata": {},
   "outputs": [
    {
     "data": {
      "text/plain": [
       "['foo', 'red', 'baz', 'dwarf', 'foo']"
      ]
     },
     "execution_count": 152,
     "metadata": {},
     "output_type": "execute_result"
    }
   ],
   "source": [
    "b_list"
   ]
  },
  {
   "cell_type": "code",
   "execution_count": 154,
   "id": "f56a437c-1d09-4a8a-86c7-99ef85efb8f7",
   "metadata": {},
   "outputs": [],
   "source": [
    "b_list.remove(\"foo\")"
   ]
  },
  {
   "cell_type": "code",
   "execution_count": 156,
   "id": "1d160b4a-4f36-4d0e-8bac-d703117e4a36",
   "metadata": {},
   "outputs": [
    {
     "data": {
      "text/plain": [
       "['red', 'baz', 'dwarf', 'foo']"
      ]
     },
     "execution_count": 156,
     "metadata": {},
     "output_type": "execute_result"
    }
   ],
   "source": [
    "b_list"
   ]
  },
  {
   "cell_type": "markdown",
   "id": "0e80c74c-6cf3-4d31-9b3a-972b234fd3cd",
   "metadata": {},
   "source": [
    "If performance is not a concern, by using <b>append</b> and <b>remove</b>, you can use a Python list as a set-like data structure (although Python has actual set objects, discussed later)."
   ]
  },
  {
   "cell_type": "markdown",
   "id": "bf7a0e3d-eb5b-4c29-a69c-a55c17cdf26b",
   "metadata": {},
   "source": [
    "Check if a list contains a value using the <b>in</b> keyword:"
   ]
  },
  {
   "cell_type": "code",
   "execution_count": 160,
   "id": "488dbe26-7989-45a8-a4be-dd696a34b5c2",
   "metadata": {},
   "outputs": [],
   "source": [
    "In [61]: \"dwarf\" in b_list\n",
    "Out[61]: True"
   ]
  },
  {
   "cell_type": "markdown",
   "id": "5161cc2e-471f-410f-8f9f-29fd2e4c2928",
   "metadata": {},
   "source": [
    "The keyword <b>not</b> can be used to negate <b>in</b>:\n",
    "\n"
   ]
  },
  {
   "cell_type": "code",
   "execution_count": 163,
   "id": "f78f3747-4c8f-4de4-b7da-d21ccc4ff914",
   "metadata": {},
   "outputs": [
    {
     "data": {
      "text/plain": [
       "False"
      ]
     },
     "execution_count": 163,
     "metadata": {},
     "output_type": "execute_result"
    }
   ],
   "source": [
    "\"dwarf\" not in b_list"
   ]
  },
  {
   "cell_type": "markdown",
   "id": "ee140774-ec36-4874-98af-a3b879f4d02d",
   "metadata": {},
   "source": [
    "Checking whether a list contains a value is a lot slower than doing so with dictionaries and sets (to be introduced shortly), as Python makes a linear scan across the values of the list, whereas it can check the others (based on hash tables) in constant time."
   ]
  },
  {
   "cell_type": "markdown",
   "id": "3ea33410-d9a4-439b-bcb1-77ca13a3a6d1",
   "metadata": {},
   "source": [
    "## Concatenating and combining lists\n"
   ]
  },
  {
   "cell_type": "markdown",
   "id": "f9f892c9-cbac-419b-a14c-f7643c0b2a4b",
   "metadata": {},
   "source": [
    "Similar to tuples, adding two lists together with <b>+</b> concatenates them:\n",
    "\n"
   ]
  },
  {
   "cell_type": "code",
   "execution_count": 168,
   "id": "d57e451a-95b7-4831-811c-51d8b3a04bb0",
   "metadata": {},
   "outputs": [
    {
     "data": {
      "text/plain": [
       "[4, None, 'foo', 7, 8, (2, 3)]"
      ]
     },
     "execution_count": 168,
     "metadata": {},
     "output_type": "execute_result"
    }
   ],
   "source": [
    "[4, None, \"foo\"] + [7, 8, (2, 3)]"
   ]
  },
  {
   "cell_type": "markdown",
   "id": "3b2ce5e0-c80f-4930-872c-ba3b3e1217f1",
   "metadata": {},
   "source": [
    "If you have a list already defined, you can append multiple elements to it using the <b>extend</b> method:\n",
    "\n"
   ]
  },
  {
   "cell_type": "code",
   "execution_count": 171,
   "id": "3b9ec9f1-1422-437e-a1cd-edfbaa310308",
   "metadata": {},
   "outputs": [],
   "source": [
    "x = [4, None, \"foo\"]"
   ]
  },
  {
   "cell_type": "code",
   "execution_count": 173,
   "id": "03006bfb-45ab-4f6a-b404-4b5546838e65",
   "metadata": {},
   "outputs": [],
   "source": [
    "x.extend([7, 8, (2, 3)])"
   ]
  },
  {
   "cell_type": "code",
   "execution_count": 175,
   "id": "38764117-95a5-4b52-a7ff-2db158ffddf6",
   "metadata": {},
   "outputs": [
    {
     "data": {
      "text/plain": [
       "[4, None, 'foo', 7, 8, (2, 3)]"
      ]
     },
     "execution_count": 175,
     "metadata": {},
     "output_type": "execute_result"
    }
   ],
   "source": [
    "x"
   ]
  },
  {
   "cell_type": "markdown",
   "id": "1a4e94de-15b7-45df-a4c0-54f218e633dc",
   "metadata": {},
   "source": [
    "Note that list concatenation by addition is a comparatively expensive operation since a new list must be created and the objects copied over. Using extend to append elements to an existing list, especially if you are building up a large list, is usually preferable. Thus:"
   ]
  },
  {
   "cell_type": "raw",
   "id": "d950343a-717f-488d-a581-1f1c28b858f3",
   "metadata": {},
   "source": [
    "everything = []\n",
    "for chunk in list_of_lists:\n",
    "    everything.extend(chunk)"
   ]
  },
  {
   "cell_type": "markdown",
   "id": "82d2fb99-f7f8-4f60-93a2-f3d0ae05e70d",
   "metadata": {},
   "source": [
    "is faster than the concatenative alternative:"
   ]
  },
  {
   "cell_type": "raw",
   "id": "34b48ef8-7dad-4d01-ba60-9f4886cdb069",
   "metadata": {},
   "source": [
    "everything = []\n",
    "for chunk in list_of_lists:\n",
    "    everything = everything + chunk"
   ]
  },
  {
   "cell_type": "markdown",
   "id": "6216f659-0580-46b4-88bd-a39dc8526ead",
   "metadata": {},
   "source": [
    "## Sorting\n"
   ]
  },
  {
   "cell_type": "markdown",
   "id": "d9cd24b2-1a43-464c-b598-bed2f036f40c",
   "metadata": {},
   "source": [
    "You can sort a list in place (without creating a new object) by calling its sort function:\n",
    "\n"
   ]
  },
  {
   "cell_type": "code",
   "execution_count": 27,
   "id": "31686976-b72d-4596-8c50-52eee386b7ef",
   "metadata": {},
   "outputs": [],
   "source": [
    "a = [7, 2, 5, 1, 3]"
   ]
  },
  {
   "cell_type": "code",
   "execution_count": 29,
   "id": "c2e3db22-43fb-42ea-a2f4-9d8e65ed365b",
   "metadata": {},
   "outputs": [],
   "source": [
    "a.sort()"
   ]
  },
  {
   "cell_type": "code",
   "execution_count": 31,
   "id": "09711284-03f8-4c55-8530-e71b3f177d57",
   "metadata": {},
   "outputs": [
    {
     "data": {
      "text/plain": [
       "[1, 2, 3, 5, 7]"
      ]
     },
     "execution_count": 31,
     "metadata": {},
     "output_type": "execute_result"
    }
   ],
   "source": [
    "a"
   ]
  },
  {
   "cell_type": "markdown",
   "id": "f28876d3-fcfc-44da-ab49-2cf72d1c8277",
   "metadata": {},
   "source": [
    "<b>sort</b> has a few options that will occasionally come in handy. \n",
    "\n",
    "One is the ability to pass a secondary <i>sort key</i>—that is, a function that produces a value to use to sort the objects. For example, we could sort a collection of strings by their lengths:"
   ]
  },
  {
   "cell_type": "code",
   "execution_count": 36,
   "id": "5e96a6f1-6540-4e12-ab47-8b339aa7b82c",
   "metadata": {},
   "outputs": [],
   "source": [
    "b = [\"saw\", \"small\", \"He\", \"foxes\", \"six\"]"
   ]
  },
  {
   "cell_type": "code",
   "execution_count": 38,
   "id": "f6273177-bb25-40f3-89d2-fef4fba2e589",
   "metadata": {},
   "outputs": [],
   "source": [
    "b.sort(key=len)"
   ]
  },
  {
   "cell_type": "code",
   "execution_count": 40,
   "id": "005da2c5-4757-4b83-8af0-613e65613303",
   "metadata": {},
   "outputs": [
    {
     "data": {
      "text/plain": [
       "['He', 'saw', 'six', 'small', 'foxes']"
      ]
     },
     "execution_count": 40,
     "metadata": {},
     "output_type": "execute_result"
    }
   ],
   "source": [
    "b"
   ]
  },
  {
   "cell_type": "markdown",
   "id": "d3dbaecb-5cff-4017-b4ab-ff75212d4c1a",
   "metadata": {},
   "source": [
    "Soon, we’ll look at the sorted function, which can produce a sorted copy of a general sequence."
   ]
  },
  {
   "cell_type": "markdown",
   "id": "0b085438-0783-4b1b-8e75-ab8ca3935d26",
   "metadata": {},
   "source": [
    "## Slicing\n"
   ]
  },
  {
   "cell_type": "markdown",
   "id": "2a59d532-c628-4902-9708-cc5ad9e63d16",
   "metadata": {},
   "source": [
    "You can select sections of most sequence types by using slice notation, which in its basic form consists of start:stop passed to the indexing operator <b>[:]</b>"
   ]
  },
  {
   "cell_type": "code",
   "execution_count": 45,
   "id": "5f93ca84-771f-4577-9d94-ed5940c5c8f7",
   "metadata": {},
   "outputs": [],
   "source": [
    "seq = [7, 2, 3, 7, 5, 6, 0, 1]"
   ]
  },
  {
   "cell_type": "code",
   "execution_count": 47,
   "id": "7d773b8a-06b0-4e8a-bd0d-37ce37cd3271",
   "metadata": {},
   "outputs": [
    {
     "data": {
      "text/plain": [
       "[2, 3, 7, 5]"
      ]
     },
     "execution_count": 47,
     "metadata": {},
     "output_type": "execute_result"
    }
   ],
   "source": [
    "seq[1:5]"
   ]
  },
  {
   "cell_type": "markdown",
   "id": "620ab944-e377-4f2c-8860-2b6cdcd12b11",
   "metadata": {},
   "source": [
    "Slices can also be assigned with a sequence:"
   ]
  },
  {
   "cell_type": "code",
   "execution_count": 50,
   "id": "04e176c3-e50d-4ed9-b24b-be67c091b800",
   "metadata": {},
   "outputs": [],
   "source": [
    "seq[3:5] = [6, 3]"
   ]
  },
  {
   "cell_type": "code",
   "execution_count": 52,
   "id": "111d189d-454c-418d-b0eb-65c2c052be02",
   "metadata": {},
   "outputs": [
    {
     "data": {
      "text/plain": [
       "[7, 2, 3, 6, 3, 6, 0, 1]"
      ]
     },
     "execution_count": 52,
     "metadata": {},
     "output_type": "execute_result"
    }
   ],
   "source": [
    "seq"
   ]
  },
  {
   "cell_type": "markdown",
   "id": "4ff45d42-7551-46f9-bb6e-9c353fb54a7a",
   "metadata": {},
   "source": [
    "While the element at the start index is included, the stop index is not included, so that the number of elements in the result is stop - start."
   ]
  },
  {
   "cell_type": "markdown",
   "id": "0813595d-bd64-4799-81d3-2732ff5d6275",
   "metadata": {},
   "source": [
    "Either the start or stop can be omitted, in which case they default to the start of the sequence and the end of the sequence, respectively:"
   ]
  },
  {
   "cell_type": "code",
   "execution_count": 56,
   "id": "ae7a4bdd-8ed0-4d63-a5fb-a37961d6e374",
   "metadata": {},
   "outputs": [
    {
     "data": {
      "text/plain": [
       "[7, 2, 3, 6, 3]"
      ]
     },
     "execution_count": 56,
     "metadata": {},
     "output_type": "execute_result"
    }
   ],
   "source": [
    "seq[:5]"
   ]
  },
  {
   "cell_type": "code",
   "execution_count": 58,
   "id": "3331f948-104a-4043-9c1d-797b77668546",
   "metadata": {},
   "outputs": [
    {
     "data": {
      "text/plain": [
       "[6, 3, 6, 0, 1]"
      ]
     },
     "execution_count": 58,
     "metadata": {},
     "output_type": "execute_result"
    }
   ],
   "source": [
    "seq[3:]"
   ]
  },
  {
   "cell_type": "markdown",
   "id": "138f0591-8d8f-4f54-b8bb-352a1ec9d3ac",
   "metadata": {},
   "source": [
    "Negative indices slice the sequence relative to the end:"
   ]
  },
  {
   "cell_type": "code",
   "execution_count": 61,
   "id": "579d11aa-2d31-4d80-ae4f-59a927909069",
   "metadata": {},
   "outputs": [
    {
     "data": {
      "text/plain": [
       "[3, 6, 0, 1]"
      ]
     },
     "execution_count": 61,
     "metadata": {},
     "output_type": "execute_result"
    }
   ],
   "source": [
    "seq[-4:]"
   ]
  },
  {
   "cell_type": "code",
   "execution_count": 63,
   "id": "de27ae00-3e22-4396-b550-46c6487149dc",
   "metadata": {},
   "outputs": [
    {
     "data": {
      "text/plain": [
       "[3, 6, 3, 6]"
      ]
     },
     "execution_count": 63,
     "metadata": {},
     "output_type": "execute_result"
    }
   ],
   "source": [
    "seq[-6:-2]"
   ]
  },
  {
   "cell_type": "markdown",
   "id": "c76fd3b3-d529-45ca-af33-9633702a3847",
   "metadata": {},
   "source": [
    "Slicing semantics takes a bit of getting used to, especially if you’re coming from R or MATLAB. See Figure 3-1 for a helpful illustration of slicing with positive and negative integers. In the figure, the indices are shown at the “bin edges” to help show where the slice selections start and stop using positive or negative indices."
   ]
  },
  {
   "cell_type": "markdown",
   "id": "fd4aac94-bf5d-49af-a6ac-65443531af1e",
   "metadata": {},
   "source": [
    "![](pda3_0301.png)"
   ]
  },
  {
   "cell_type": "markdown",
   "id": "3399c167-858e-473e-8a20-2100326be216",
   "metadata": {},
   "source": [
    "A step can also be used after a second colon to, say, take every other element:"
   ]
  },
  {
   "cell_type": "code",
   "execution_count": 68,
   "id": "48d5b597-1757-459a-a138-86c35181c9d6",
   "metadata": {},
   "outputs": [
    {
     "data": {
      "text/plain": [
       "[7, 3, 3, 0]"
      ]
     },
     "execution_count": 68,
     "metadata": {},
     "output_type": "execute_result"
    }
   ],
   "source": [
    "seq[::2]"
   ]
  },
  {
   "cell_type": "markdown",
   "id": "6b95646e-7c33-4285-b95d-ab046159d524",
   "metadata": {},
   "source": [
    "A clever use of this is to pass -1, which has the useful effect of reversing a list or tuple:\n",
    "\n"
   ]
  },
  {
   "cell_type": "code",
   "execution_count": 227,
   "id": "6bc7aaec-4aee-4a4c-b46f-a9a541dbc810",
   "metadata": {},
   "outputs": [
    {
     "data": {
      "text/plain": [
       "[1, 0, 6, 3, 6, 3, 2, 7]"
      ]
     },
     "execution_count": 227,
     "metadata": {},
     "output_type": "execute_result"
    }
   ],
   "source": [
    "seq[::-1]"
   ]
  },
  {
   "cell_type": "markdown",
   "id": "e1e54ad6-677b-4986-97a3-354e783b746e",
   "metadata": {},
   "source": [
    "## Dictionary"
   ]
  },
  {
   "cell_type": "markdown",
   "id": "228f5470-daba-48a8-8b9b-2c42b2bf2d51",
   "metadata": {},
   "source": [
    "The dictionary or <b>dict</b> may be the most important built-in Python data structure. \n",
    "\n",
    "In other programming languages, dictionaries are sometimes called hash maps or associative arrays. A dictionary stores a collection of key-value pairs, where key and value are Python objects. Each key is associated with a value so that a value can be conveniently retrieved, inserted, modified, or deleted given a particular key. \n",
    "\n",
    "One approach for creating a dictionary is to use curly braces <b>{}</b> and colons to separate keys and values:"
   ]
  },
  {
   "cell_type": "code",
   "execution_count": 231,
   "id": "c103ca90-1e82-4273-ad83-2a6c4099bc49",
   "metadata": {},
   "outputs": [],
   "source": [
    "empty_dict = {}"
   ]
  },
  {
   "cell_type": "code",
   "execution_count": 233,
   "id": "b7adff6f-db53-4f1e-928b-9ec429c6dc06",
   "metadata": {},
   "outputs": [],
   "source": [
    "d1 = {\"a\": \"some value\", \"b\": [1, 2, 3, 4]}"
   ]
  },
  {
   "cell_type": "code",
   "execution_count": 235,
   "id": "ef0bb816-fc5e-4ebd-ac52-fe9268be80d0",
   "metadata": {},
   "outputs": [
    {
     "data": {
      "text/plain": [
       "{'a': 'some value', 'b': [1, 2, 3, 4]}"
      ]
     },
     "execution_count": 235,
     "metadata": {},
     "output_type": "execute_result"
    }
   ],
   "source": [
    "d1"
   ]
  },
  {
   "cell_type": "markdown",
   "id": "8e0faca9-661b-4708-bed1-34ed1367605f",
   "metadata": {},
   "source": [
    "You can access, insert, or set elements using the same syntax as for accessing elements of a list or tuple:"
   ]
  },
  {
   "cell_type": "code",
   "execution_count": 238,
   "id": "1da2ab48-0f28-48b3-ad7e-f0e988b027f5",
   "metadata": {},
   "outputs": [],
   "source": [
    "d1[7] = \"an integer\""
   ]
  },
  {
   "cell_type": "code",
   "execution_count": 240,
   "id": "59f02957-534a-4cf0-9591-8e64199424b7",
   "metadata": {},
   "outputs": [
    {
     "data": {
      "text/plain": [
       "{'a': 'some value', 'b': [1, 2, 3, 4], 7: 'an integer'}"
      ]
     },
     "execution_count": 240,
     "metadata": {},
     "output_type": "execute_result"
    }
   ],
   "source": [
    "d1"
   ]
  },
  {
   "cell_type": "code",
   "execution_count": 242,
   "id": "d363f66a-a67c-44c7-9028-dc1ad505be2d",
   "metadata": {},
   "outputs": [
    {
     "data": {
      "text/plain": [
       "[1, 2, 3, 4]"
      ]
     },
     "execution_count": 242,
     "metadata": {},
     "output_type": "execute_result"
    }
   ],
   "source": [
    "d1[\"b\"]"
   ]
  },
  {
   "cell_type": "markdown",
   "id": "5f84ce16-5b13-49b8-b553-34b5b3f6f759",
   "metadata": {},
   "source": [
    "You can check if a dictionary contains a key using the same syntax used for checking whether a list or tuple contains a value:"
   ]
  },
  {
   "cell_type": "code",
   "execution_count": 245,
   "id": "52351d45-ef01-430b-90c1-965eef952c2e",
   "metadata": {},
   "outputs": [
    {
     "data": {
      "text/plain": [
       "True"
      ]
     },
     "execution_count": 245,
     "metadata": {},
     "output_type": "execute_result"
    }
   ],
   "source": [
    "\"b\" in d1"
   ]
  },
  {
   "cell_type": "markdown",
   "id": "bc12152a-035b-45df-badb-7e893fe233fb",
   "metadata": {},
   "source": [
    "You can delete values using either the <b>del</b> keyword or the <b>pop</b> method (which simultaneously returns the value and deletes the key):"
   ]
  },
  {
   "cell_type": "code",
   "execution_count": 248,
   "id": "2203fb2b-74a9-4a22-b230-d40a8c4520f4",
   "metadata": {},
   "outputs": [],
   "source": [
    "d1[5] = \"some value\""
   ]
  },
  {
   "cell_type": "code",
   "execution_count": 250,
   "id": "f949b056-e477-4eed-98a8-479c074c83d4",
   "metadata": {},
   "outputs": [
    {
     "data": {
      "text/plain": [
       "{'a': 'some value', 'b': [1, 2, 3, 4], 7: 'an integer', 5: 'some value'}"
      ]
     },
     "execution_count": 250,
     "metadata": {},
     "output_type": "execute_result"
    }
   ],
   "source": [
    "d1"
   ]
  },
  {
   "cell_type": "code",
   "execution_count": 252,
   "id": "adcd15b2-5b9c-4c57-97ef-e254e50add15",
   "metadata": {},
   "outputs": [],
   "source": [
    "d1[\"dummy\"] = \"another value\""
   ]
  },
  {
   "cell_type": "code",
   "execution_count": 254,
   "id": "19b077d4-cfb4-4544-8653-0ffc5131509d",
   "metadata": {},
   "outputs": [
    {
     "data": {
      "text/plain": [
       "{'a': 'some value',\n",
       " 'b': [1, 2, 3, 4],\n",
       " 7: 'an integer',\n",
       " 5: 'some value',\n",
       " 'dummy': 'another value'}"
      ]
     },
     "execution_count": 254,
     "metadata": {},
     "output_type": "execute_result"
    }
   ],
   "source": [
    "d1"
   ]
  },
  {
   "cell_type": "code",
   "execution_count": 256,
   "id": "49b4054d-d86f-401d-a922-d34f29ca16d4",
   "metadata": {},
   "outputs": [],
   "source": [
    "del d1[5]"
   ]
  },
  {
   "cell_type": "code",
   "execution_count": 258,
   "id": "69a3b2dd-1a7b-432e-bf80-6209d7166d15",
   "metadata": {},
   "outputs": [
    {
     "data": {
      "text/plain": [
       "{'a': 'some value',\n",
       " 'b': [1, 2, 3, 4],\n",
       " 7: 'an integer',\n",
       " 'dummy': 'another value'}"
      ]
     },
     "execution_count": 258,
     "metadata": {},
     "output_type": "execute_result"
    }
   ],
   "source": [
    "d1"
   ]
  },
  {
   "cell_type": "code",
   "execution_count": 260,
   "id": "8d71a8d9-a2f6-45f8-9fca-6696832c52a4",
   "metadata": {},
   "outputs": [],
   "source": [
    "ret = d1.pop(\"dummy\")"
   ]
  },
  {
   "cell_type": "code",
   "execution_count": 262,
   "id": "408ec918-ea55-4036-891d-66dbccbb6981",
   "metadata": {},
   "outputs": [
    {
     "data": {
      "text/plain": [
       "'another value'"
      ]
     },
     "execution_count": 262,
     "metadata": {},
     "output_type": "execute_result"
    }
   ],
   "source": [
    "ret"
   ]
  },
  {
   "cell_type": "code",
   "execution_count": 264,
   "id": "75196305-e439-4501-b565-bea7ae550f82",
   "metadata": {},
   "outputs": [
    {
     "data": {
      "text/plain": [
       "{'a': 'some value', 'b': [1, 2, 3, 4], 7: 'an integer'}"
      ]
     },
     "execution_count": 264,
     "metadata": {},
     "output_type": "execute_result"
    }
   ],
   "source": [
    "d1"
   ]
  },
  {
   "cell_type": "markdown",
   "id": "a076a997-c49a-4d3f-a412-ab66d3a29061",
   "metadata": {},
   "source": [
    "The <b>keys</b> and <b>values</b> method gives you iterators of the dictionary’s keys and values, respectively. \n",
    "\n",
    "The order of the keys depends on the order of their insertion, and these functions output the keys and values in the same respective order:"
   ]
  },
  {
   "cell_type": "code",
   "execution_count": 267,
   "id": "94de2b41-07d8-4362-ba28-fd92d0fcd2de",
   "metadata": {},
   "outputs": [
    {
     "data": {
      "text/plain": [
       "['a', 'b', 7]"
      ]
     },
     "execution_count": 267,
     "metadata": {},
     "output_type": "execute_result"
    }
   ],
   "source": [
    "list(d1.keys())"
   ]
  },
  {
   "cell_type": "code",
   "execution_count": 269,
   "id": "0d9d345a-4b35-45ae-a307-f512700fe513",
   "metadata": {},
   "outputs": [
    {
     "data": {
      "text/plain": [
       "['some value', [1, 2, 3, 4], 'an integer']"
      ]
     },
     "execution_count": 269,
     "metadata": {},
     "output_type": "execute_result"
    }
   ],
   "source": [
    "list(d1.values())"
   ]
  },
  {
   "cell_type": "markdown",
   "id": "d3bf9751-9301-4325-adc1-1b0e35b3c385",
   "metadata": {},
   "source": [
    "If you need to iterate over both the keys and values, you can use the <b>items</b> method to iterate over the keys and values as 2-tuples:"
   ]
  },
  {
   "cell_type": "code",
   "execution_count": 272,
   "id": "7e88f7b9-b0ad-4a00-85ec-b2437124a470",
   "metadata": {},
   "outputs": [
    {
     "data": {
      "text/plain": [
       "[('a', 'some value'), ('b', [1, 2, 3, 4]), (7, 'an integer')]"
      ]
     },
     "execution_count": 272,
     "metadata": {},
     "output_type": "execute_result"
    }
   ],
   "source": [
    "list(d1.items())"
   ]
  },
  {
   "cell_type": "markdown",
   "id": "1416b612-69ca-44d3-929f-89c7655e80dd",
   "metadata": {},
   "source": [
    "You can merge one dictionary into another using the <b>update</b> method:"
   ]
  },
  {
   "cell_type": "code",
   "execution_count": 275,
   "id": "a1763391-4616-4ba3-8f21-9d1984befa11",
   "metadata": {},
   "outputs": [],
   "source": [
    "d1.update({\"b\": \"foo\", \"c\": 12})"
   ]
  },
  {
   "cell_type": "code",
   "execution_count": 277,
   "id": "22e06745-0a4d-4017-b036-c2c56861dd51",
   "metadata": {},
   "outputs": [
    {
     "data": {
      "text/plain": [
       "{'a': 'some value', 'b': 'foo', 7: 'an integer', 'c': 12}"
      ]
     },
     "execution_count": 277,
     "metadata": {},
     "output_type": "execute_result"
    }
   ],
   "source": [
    "d1"
   ]
  },
  {
   "cell_type": "markdown",
   "id": "53d8a9d3-43a9-4089-881a-8b299feaccc2",
   "metadata": {},
   "source": [
    "The update method changes dictionaries in place, so any existing keys in the data passed to update will have their old values discarded."
   ]
  },
  {
   "cell_type": "markdown",
   "id": "e0d25f2a-788e-41af-b218-cec0ac0b30db",
   "metadata": {},
   "source": [
    "## Creating dictionaries from sequences"
   ]
  },
  {
   "cell_type": "markdown",
   "id": "eee66709-e8ef-4412-8364-ea9d99c36f3f",
   "metadata": {},
   "source": [
    "It’s common to occasionally end up with two sequences that you want to pair up element-wise in a dictionary. As a first cut, you might write code like this:"
   ]
  },
  {
   "cell_type": "raw",
   "id": "627c154c-2d2d-4e0d-98fb-e4853c732608",
   "metadata": {},
   "source": [
    "mapping = {}\n",
    "for key, value in zip(key_list, value_list):\n",
    "    mapping[key] = value"
   ]
  },
  {
   "cell_type": "markdown",
   "id": "f9aa9c07-6062-4e86-9b23-db5d30f8748d",
   "metadata": {},
   "source": [
    "Since a dictionary is essentially a collection of 2-tuples, the dict function accepts a list of 2-tuples:"
   ]
  },
  {
   "cell_type": "code",
   "execution_count": 79,
   "id": "d3da27fe-818c-4e25-bfd1-33432b3d346d",
   "metadata": {},
   "outputs": [],
   "source": [
    "tuples = zip(range(5), reversed(range(5)))"
   ]
  },
  {
   "cell_type": "code",
   "execution_count": 81,
   "id": "5ac3db1d-fbaa-4123-86f6-74b354764120",
   "metadata": {},
   "outputs": [
    {
     "data": {
      "text/plain": [
       "<zip at 0x32bbe5640>"
      ]
     },
     "execution_count": 81,
     "metadata": {},
     "output_type": "execute_result"
    }
   ],
   "source": [
    "tuples"
   ]
  },
  {
   "cell_type": "code",
   "execution_count": 83,
   "id": "e553ac14-2e7d-41cb-95ac-b71a48cf4ebe",
   "metadata": {},
   "outputs": [],
   "source": [
    "mapping = dict(tuples)"
   ]
  },
  {
   "cell_type": "code",
   "execution_count": 85,
   "id": "d4d3829d-108a-443c-9202-bae31359d5e1",
   "metadata": {},
   "outputs": [
    {
     "data": {
      "text/plain": [
       "{0: 4, 1: 3, 2: 2, 3: 1, 4: 0}"
      ]
     },
     "execution_count": 85,
     "metadata": {},
     "output_type": "execute_result"
    }
   ],
   "source": [
    "mapping"
   ]
  },
  {
   "cell_type": "markdown",
   "id": "d38590b3-b05d-4bca-8708-38ef5401658f",
   "metadata": {},
   "source": [
    "Later we’ll talk about dictionary comprehensions, which are another way to construct dictionaries."
   ]
  },
  {
   "cell_type": "markdown",
   "id": "de1a053b-11fa-44eb-afc0-80e8886a6cca",
   "metadata": {},
   "source": [
    "## Default values"
   ]
  },
  {
   "cell_type": "markdown",
   "id": "6e8fa442-58f4-4530-b13f-3359ba58e6ca",
   "metadata": {},
   "source": [
    "It’s common to have logic like:\n",
    "\n"
   ]
  },
  {
   "cell_type": "raw",
   "id": "de53748f-f395-4eee-89f8-581c6d73dc04",
   "metadata": {},
   "source": [
    "if key in some_dict:\n",
    "    value = some_dict[key]\n",
    "else:\n",
    "    value = default_value"
   ]
  },
  {
   "cell_type": "markdown",
   "id": "979de096-1600-4eb7-8a04-be9ad45fbb27",
   "metadata": {},
   "source": [
    "Thus, the dictionary methods <b>get</b> and <b>pop</b> can take a default value to be returned, so that the above if-else block can be written simply as:"
   ]
  },
  {
   "cell_type": "raw",
   "id": "0f7b9f2a-97a1-425e-a8a4-cfe501238250",
   "metadata": {},
   "source": [
    "value = some_dict.get(key, default_value)"
   ]
  },
  {
   "cell_type": "markdown",
   "id": "4ed3f8fc-cc6c-4b2c-a136-eec87db9d391",
   "metadata": {},
   "source": [
    "<b>get</b> by default will return <b>None</b> if the key is not present, while <b>pop</b> will raise an exception.\n",
    "\n",
    "With setting values, it may be that the values in a dictionary are another kind of collection, like a list. \n",
    "\n",
    "For example, you could imagine categorizing a list of words by their first letters as a dictionary of lists:"
   ]
  },
  {
   "cell_type": "code",
   "execution_count": 93,
   "id": "f2e85e77-7051-4346-81da-fa0a18a04a57",
   "metadata": {},
   "outputs": [],
   "source": [
    "words = [\"apple\", \"bat\", \"bar\", \"atom\", \"book\"]"
   ]
  },
  {
   "cell_type": "code",
   "execution_count": 95,
   "id": "f7422298-12a0-411c-a0cd-e2f2752f54cd",
   "metadata": {},
   "outputs": [],
   "source": [
    "by_letter = {}"
   ]
  },
  {
   "cell_type": "code",
   "execution_count": 97,
   "id": "061243bb-55f7-4e24-9521-450d82c6b738",
   "metadata": {},
   "outputs": [],
   "source": [
    "for word in words:\n",
    "    letter = word[0]\n",
    "    if letter not in by_letter:\n",
    "        by_letter[letter] = [word]\n",
    "    else:\n",
    "        by_letter[letter].append(word)"
   ]
  },
  {
   "cell_type": "code",
   "execution_count": 99,
   "id": "836083bb-e0a8-464f-aaa5-519e121b2e81",
   "metadata": {},
   "outputs": [
    {
     "data": {
      "text/plain": [
       "{'a': ['apple', 'atom'], 'b': ['bat', 'bar', 'book']}"
      ]
     },
     "execution_count": 99,
     "metadata": {},
     "output_type": "execute_result"
    }
   ],
   "source": [
    "by_letter"
   ]
  },
  {
   "cell_type": "markdown",
   "id": "790e2bfe-18ae-4535-a01a-9a8e8c565754",
   "metadata": {},
   "source": [
    "The <b>setdefault</b> dictionary method can be used to simplify this workflow. \n",
    "\n",
    "The preceding for loop can be rewritten as:"
   ]
  },
  {
   "cell_type": "code",
   "execution_count": 102,
   "id": "44344486-2348-4295-bff0-f1af3ccd511c",
   "metadata": {},
   "outputs": [],
   "source": [
    "by_letter = {}"
   ]
  },
  {
   "cell_type": "code",
   "execution_count": 104,
   "id": "f8b2b08a-0a15-40fc-9f6b-d23e9ff102f2",
   "metadata": {},
   "outputs": [],
   "source": [
    "for word in words:\n",
    "    letter = word[0]\n",
    "    by_letter.setdefault(letter, []).append(word)"
   ]
  },
  {
   "cell_type": "code",
   "execution_count": 106,
   "id": "7b886417-23af-4964-8689-32527749d50b",
   "metadata": {},
   "outputs": [
    {
     "data": {
      "text/plain": [
       "{'a': ['apple', 'atom'], 'b': ['bat', 'bar', 'book']}"
      ]
     },
     "execution_count": 106,
     "metadata": {},
     "output_type": "execute_result"
    }
   ],
   "source": [
    "by_letter"
   ]
  },
  {
   "cell_type": "markdown",
   "id": "f33f544c-5efa-4335-a97e-d1017bed2d8e",
   "metadata": {},
   "source": [
    "The built-in <b>collections</b> module has a useful class, <b>defaultdict</b>, which makes this even easier. \n",
    "\n",
    "To create one, you pass a type or function for generating the default value for each slot in the dictionary:"
   ]
  },
  {
   "cell_type": "code",
   "execution_count": 109,
   "id": "7eb7aff0-3d61-4776-8c86-146755754f9c",
   "metadata": {},
   "outputs": [],
   "source": [
    "from collections import defaultdict"
   ]
  },
  {
   "cell_type": "code",
   "execution_count": 111,
   "id": "5d6fac39-a205-4264-9eb4-1f5ed1081810",
   "metadata": {},
   "outputs": [],
   "source": [
    "by_letter = defaultdict(list)"
   ]
  },
  {
   "cell_type": "code",
   "execution_count": 113,
   "id": "a0319c58-e01d-452c-b4d0-eca59da934df",
   "metadata": {},
   "outputs": [],
   "source": [
    "for word in words:\n",
    "    by_letter[word[0]].append(word)"
   ]
  },
  {
   "cell_type": "code",
   "execution_count": 115,
   "id": "8e4a0b49-b87e-42d8-94f1-de7ac8d7c759",
   "metadata": {},
   "outputs": [
    {
     "data": {
      "text/plain": [
       "defaultdict(list, {'a': ['apple', 'atom'], 'b': ['bat', 'bar', 'book']})"
      ]
     },
     "execution_count": 115,
     "metadata": {},
     "output_type": "execute_result"
    }
   ],
   "source": [
    "by_letter"
   ]
  },
  {
   "cell_type": "markdown",
   "id": "e1196297-ed8c-4c6d-af6a-ea4234970aa5",
   "metadata": {},
   "source": [
    "## Valid dictionary key types"
   ]
  },
  {
   "cell_type": "markdown",
   "id": "28c97b52-ed14-4255-a31f-3d07c99d72ac",
   "metadata": {},
   "source": [
    "While the values of a dictionary can be any Python object, the <b>keys</b> generally have to be <b>immutable</b> objects like scalar types (int, float, string) or tuples (all the objects in the tuple need to be immutable, too). \n",
    "\n",
    "The technical term here is hashability. You can check whether an object is hashable (can be used as a key in a dictionary) with the hash function:"
   ]
  },
  {
   "cell_type": "code",
   "execution_count": 326,
   "id": "37e3a236-f7e9-4aa7-956e-4c95048e0abc",
   "metadata": {},
   "outputs": [
    {
     "data": {
      "text/plain": [
       "8433698764441582378"
      ]
     },
     "execution_count": 326,
     "metadata": {},
     "output_type": "execute_result"
    }
   ],
   "source": [
    "hash(\"string\")"
   ]
  },
  {
   "cell_type": "code",
   "execution_count": 328,
   "id": "c34d1866-3e9f-4e3d-bee4-09811ab87c47",
   "metadata": {},
   "outputs": [
    {
     "data": {
      "text/plain": [
       "-9209053662355515447"
      ]
     },
     "execution_count": 328,
     "metadata": {},
     "output_type": "execute_result"
    }
   ],
   "source": [
    "hash((1, 2, (2, 3)))"
   ]
  },
  {
   "cell_type": "code",
   "execution_count": 330,
   "id": "84501e1f-ca48-4161-b963-424c3302354b",
   "metadata": {},
   "outputs": [
    {
     "ename": "TypeError",
     "evalue": "unhashable type: 'list'",
     "output_type": "error",
     "traceback": [
      "\u001b[0;31m---------------------------------------------------------------------------\u001b[0m",
      "\u001b[0;31mTypeError\u001b[0m                                 Traceback (most recent call last)",
      "Cell \u001b[0;32mIn[330], line 1\u001b[0m\n\u001b[0;32m----> 1\u001b[0m \u001b[38;5;28mhash\u001b[39m((\u001b[38;5;241m1\u001b[39m, \u001b[38;5;241m2\u001b[39m, [\u001b[38;5;241m2\u001b[39m, \u001b[38;5;241m3\u001b[39m]))\n",
      "\u001b[0;31mTypeError\u001b[0m: unhashable type: 'list'"
     ]
    }
   ],
   "source": [
    "hash((1, 2, [2, 3])) # fails because lists are mutable"
   ]
  },
  {
   "cell_type": "markdown",
   "id": "37eea654-eef1-4256-9985-bae46ff64a8f",
   "metadata": {},
   "source": [
    "The hash values you see when using the hash function in general will depend on the Python version you are using."
   ]
  },
  {
   "cell_type": "markdown",
   "id": "5c4f6bef-f2f0-49b3-a9da-9282421c1852",
   "metadata": {},
   "source": [
    "To use a list as a key, one option is to convert it to a tuple, which can be hashed as long as its elements also can be:"
   ]
  },
  {
   "cell_type": "code",
   "execution_count": 334,
   "id": "9fa84dd4-2c3c-4ebd-bc2f-08f749d9aac4",
   "metadata": {},
   "outputs": [],
   "source": [
    "d = {}"
   ]
  },
  {
   "cell_type": "code",
   "execution_count": 336,
   "id": "c919e5c9-5cfe-4c8b-b708-9b9698c887d1",
   "metadata": {},
   "outputs": [],
   "source": [
    "d[tuple([1, 2, 3])] = 5"
   ]
  },
  {
   "cell_type": "code",
   "execution_count": 338,
   "id": "a9409c3a-3e26-48f1-b7ec-3f14045557b3",
   "metadata": {},
   "outputs": [
    {
     "data": {
      "text/plain": [
       "{(1, 2, 3): 5}"
      ]
     },
     "execution_count": 338,
     "metadata": {},
     "output_type": "execute_result"
    }
   ],
   "source": [
    "d"
   ]
  },
  {
   "cell_type": "markdown",
   "id": "92d5c223-2e85-4353-8435-192e031a8fbb",
   "metadata": {},
   "source": [
    "## Set"
   ]
  },
  {
   "cell_type": "markdown",
   "id": "6c4c8a40-f4e8-4922-b64e-7c5156581352",
   "metadata": {},
   "source": [
    "A <b>set</b> is an unordered collection of unique elements. \n",
    "\n",
    "A set can be created in two ways: via the set function or via a set literal with curly braces <b>{}</b>:"
   ]
  },
  {
   "cell_type": "code",
   "execution_count": 342,
   "id": "a7b7012b-811e-4896-b873-0b0ce049cd1a",
   "metadata": {},
   "outputs": [
    {
     "data": {
      "text/plain": [
       "{1, 2, 3}"
      ]
     },
     "execution_count": 342,
     "metadata": {},
     "output_type": "execute_result"
    }
   ],
   "source": [
    "set([2, 2, 2, 1, 3, 3])"
   ]
  },
  {
   "cell_type": "code",
   "execution_count": 344,
   "id": "992bb123-738a-484a-a950-abda0d552be0",
   "metadata": {},
   "outputs": [
    {
     "data": {
      "text/plain": [
       "{1, 2, 3}"
      ]
     },
     "execution_count": 344,
     "metadata": {},
     "output_type": "execute_result"
    }
   ],
   "source": [
    "{2, 2, 2, 1, 3, 3}"
   ]
  },
  {
   "cell_type": "markdown",
   "id": "88100561-e157-46d4-b6b1-ef3ba5793727",
   "metadata": {},
   "source": [
    "Sets support mathematical set operations like <b>union</b>, <b>intersection</b>, <b>difference</b>, and <b>symmetric difference</b>. \n",
    "\n",
    "Consider these two example sets:"
   ]
  },
  {
   "cell_type": "code",
   "execution_count": 121,
   "id": "aa7066a7-d54d-44ee-8bea-24f2be7206ad",
   "metadata": {},
   "outputs": [],
   "source": [
    "a = {1, 2, 3, 4, 5}"
   ]
  },
  {
   "cell_type": "code",
   "execution_count": 123,
   "id": "6074a38c-61c0-47ac-b178-d057217464c7",
   "metadata": {},
   "outputs": [],
   "source": [
    "b = {3, 4, 5, 6, 7, 8}"
   ]
  },
  {
   "cell_type": "markdown",
   "id": "ab44972e-4115-44f1-9228-fbfbf50bfd17",
   "metadata": {},
   "source": [
    "The union of these two sets is the set of distinct elements occurring in either set. This can be computed with either the <b>union</b> method or the <b>|</b> binary operator:"
   ]
  },
  {
   "cell_type": "code",
   "execution_count": 126,
   "id": "660c5048-2ce6-4fe5-a56b-78646077c379",
   "metadata": {},
   "outputs": [
    {
     "data": {
      "text/plain": [
       "{1, 2, 3, 4, 5, 6, 7, 8}"
      ]
     },
     "execution_count": 126,
     "metadata": {},
     "output_type": "execute_result"
    }
   ],
   "source": [
    "a.union(b)"
   ]
  },
  {
   "cell_type": "code",
   "execution_count": 128,
   "id": "d1daf3ed-ef81-496d-9f02-a72d6fc570af",
   "metadata": {},
   "outputs": [
    {
     "data": {
      "text/plain": [
       "{1, 2, 3, 4, 5, 6, 7, 8}"
      ]
     },
     "execution_count": 128,
     "metadata": {},
     "output_type": "execute_result"
    }
   ],
   "source": [
    "a | b"
   ]
  },
  {
   "cell_type": "markdown",
   "id": "ed775ee6-ee60-42dd-b81d-5f54190ee3f2",
   "metadata": {},
   "source": [
    "The <b>intersection</b> contains the elements occurring in both sets. The <b>&</b> operator or the <b>intersection</b> method can be used:"
   ]
  },
  {
   "cell_type": "code",
   "execution_count": 131,
   "id": "c97671ee-315c-4f6e-9ee4-4da2feb5253a",
   "metadata": {},
   "outputs": [
    {
     "data": {
      "text/plain": [
       "{3, 4, 5}"
      ]
     },
     "execution_count": 131,
     "metadata": {},
     "output_type": "execute_result"
    }
   ],
   "source": [
    "a.intersection(b)"
   ]
  },
  {
   "cell_type": "code",
   "execution_count": 133,
   "id": "9a1c00b7-8e43-4375-a6cf-87e9476dc274",
   "metadata": {},
   "outputs": [
    {
     "data": {
      "text/plain": [
       "{3, 4, 5}"
      ]
     },
     "execution_count": 133,
     "metadata": {},
     "output_type": "execute_result"
    }
   ],
   "source": [
    "a & b"
   ]
  },
  {
   "cell_type": "markdown",
   "id": "39951f29-f914-49cb-8948-bfe383ec45d2",
   "metadata": {},
   "source": [
    "See Table 3-1 for a list of commonly used set methods."
   ]
  },
  {
   "cell_type": "markdown",
   "id": "44500707-b4ca-446f-93f9-f741aae2d8fe",
   "metadata": {},
   "source": [
    "## Table 3-1. Python set operations\n",
    "\n",
    "|Function|Alternative syntax|Description|\n",
    "|---|---|---|\n",
    "|a.add(x)|N/A|Add element x to set a|\n",
    "|a.clear()|N/A|Reset set a to an empty state, discarding all of its elements|\n",
    "|a.remove(x)|N/A|\tRemove element x from set a|\n",
    "|a.pop()|N/A|\tRemove an arbitrary element from set a, raising KeyError if the set is empty|\n",
    "|a.union(b)|a \\| b|\tAll of the unique elements in a and b|\n",
    "|a.update(b)|a \\|= b|\tSet the contents of a to be the union of the elements in a and b|\n",
    "|a.intersection(b)|a & b|\tAll of the elements in both a and b|\n",
    "|a.intersection_update(b)|\ta &= b|\tSet the contents of a to be the intersection of the elements in a and b|\n",
    "|a.difference(b)|a - b|\tThe elements in a that are not in b|\n",
    "|a.difference_update(b)|a -= b|\tSet a to the elements in a that are not in b|\n",
    "|a.symmetric_difference(b)|\ta ^ b|\tAll of the elements in either a or b but not both|\n",
    "|a.symmetric_difference_update(b)|\ta ^= b|\tSet a to contain the elements in either a or b but not both|\n",
    "|a.issubset(b)|<=|True if the elements of a are all contained in b|\n",
    "|a.issuperset(b)|>=|True if the elements of b are all contained in a|\n",
    "|a.isdisjoint(b)|N/A|True if a and b have no elements in common|"
   ]
  },
  {
   "cell_type": "markdown",
   "id": "04d7a7c9-2851-41e7-9519-21ac479ac578",
   "metadata": {},
   "source": [
    "<blockquote>\n",
    "Note\n",
    "\n",
    "If you pass an input that is not a set to methods like union and intersection, Python will convert the input to a set before executing the operation. When using the binary operators, both objects must already be sets.\n",
    "</blockquote>"
   ]
  },
  {
   "cell_type": "markdown",
   "id": "fa1b2d68-45c1-4a1b-bef1-d9e56d548be4",
   "metadata": {},
   "source": [
    "All of the logical set operations have <i>in-place</i> counterparts, which enable you to replace the contents of the set on the left side of the operation with the result. For very large sets, this may be more efficient:"
   ]
  },
  {
   "cell_type": "code",
   "execution_count": 139,
   "id": "08bc2628-957b-45e8-9ed0-1c46fcfe2d65",
   "metadata": {},
   "outputs": [],
   "source": [
    "c = a.copy()"
   ]
  },
  {
   "cell_type": "code",
   "execution_count": 141,
   "id": "633c81a1-4e8b-4b00-bbae-d1d5ad6debfb",
   "metadata": {},
   "outputs": [],
   "source": [
    "c |= b"
   ]
  },
  {
   "cell_type": "code",
   "execution_count": 143,
   "id": "7cb8ae47-4bec-4767-bffb-368dfb62cb7f",
   "metadata": {},
   "outputs": [
    {
     "data": {
      "text/plain": [
       "{1, 2, 3, 4, 5, 6, 7, 8}"
      ]
     },
     "execution_count": 143,
     "metadata": {},
     "output_type": "execute_result"
    }
   ],
   "source": [
    "c"
   ]
  },
  {
   "cell_type": "code",
   "execution_count": 145,
   "id": "d9420f82-f927-401c-8dac-8774ee9737a0",
   "metadata": {},
   "outputs": [],
   "source": [
    "d = a.copy()"
   ]
  },
  {
   "cell_type": "code",
   "execution_count": 147,
   "id": "8cf298ba-6043-4cc0-a5c4-947a238aa2b8",
   "metadata": {},
   "outputs": [],
   "source": [
    "d &= b"
   ]
  },
  {
   "cell_type": "code",
   "execution_count": 149,
   "id": "bb722d5f-0541-43f1-acf7-bf295eb5b901",
   "metadata": {},
   "outputs": [
    {
     "data": {
      "text/plain": [
       "{3, 4, 5}"
      ]
     },
     "execution_count": 149,
     "metadata": {},
     "output_type": "execute_result"
    }
   ],
   "source": [
    "d"
   ]
  },
  {
   "cell_type": "markdown",
   "id": "e69ba455-6121-486e-b15e-72d555d4331d",
   "metadata": {},
   "source": [
    "Like dictionary keys, set elements generally must be immutable, and they must be hashable (which means that calling hash on a value does not raise an exception). In order to store list-like elements (or other mutable sequences) in a set, you can convert them to tuples:"
   ]
  },
  {
   "cell_type": "code",
   "execution_count": 152,
   "id": "0ac554e8-88a1-4236-a71d-1f7da401618a",
   "metadata": {},
   "outputs": [],
   "source": [
    "my_data = [1, 2, 3, 4]"
   ]
  },
  {
   "cell_type": "code",
   "execution_count": 154,
   "id": "21fc65ca-1383-4377-b646-6146ab25c212",
   "metadata": {},
   "outputs": [],
   "source": [
    "my_set = {tuple(my_data)}"
   ]
  },
  {
   "cell_type": "code",
   "execution_count": 156,
   "id": "07abfd55-df57-4819-ba3d-3b44eb389472",
   "metadata": {},
   "outputs": [
    {
     "data": {
      "text/plain": [
       "{(1, 2, 3, 4)}"
      ]
     },
     "execution_count": 156,
     "metadata": {},
     "output_type": "execute_result"
    }
   ],
   "source": [
    "my_set"
   ]
  },
  {
   "cell_type": "markdown",
   "id": "cb07246b-d39e-469a-b89b-7d288b636646",
   "metadata": {},
   "source": [
    "You can also check if a set is a <b>subset</b> of (is contained in) or a <b>superset</b> of (contains all elements of) another set:"
   ]
  },
  {
   "cell_type": "code",
   "execution_count": 159,
   "id": "89acbfa8-9625-4e8a-a43e-cfb0c0ab62aa",
   "metadata": {},
   "outputs": [],
   "source": [
    "a_set = {1, 2, 3, 4, 5}"
   ]
  },
  {
   "cell_type": "code",
   "execution_count": 161,
   "id": "e8c5090b-b3d7-411d-bbe7-aea96e0bd6c8",
   "metadata": {},
   "outputs": [
    {
     "data": {
      "text/plain": [
       "True"
      ]
     },
     "execution_count": 161,
     "metadata": {},
     "output_type": "execute_result"
    }
   ],
   "source": [
    "{1, 2, 3}.issubset(a_set)"
   ]
  },
  {
   "cell_type": "code",
   "execution_count": 163,
   "id": "2b7e3e06-3a03-43af-8f3a-7d7871b095b8",
   "metadata": {},
   "outputs": [
    {
     "data": {
      "text/plain": [
       "True"
      ]
     },
     "execution_count": 163,
     "metadata": {},
     "output_type": "execute_result"
    }
   ],
   "source": [
    "a_set.issuperset({1, 2, 3})"
   ]
  },
  {
   "cell_type": "markdown",
   "id": "56d30a8a-dff2-47d7-bb66-5240d5991b52",
   "metadata": {},
   "source": [
    "Sets are equal if and only if their contents are equal:"
   ]
  },
  {
   "cell_type": "code",
   "execution_count": 392,
   "id": "bbdde219-f1c0-450e-9e8e-721bec595acb",
   "metadata": {},
   "outputs": [
    {
     "data": {
      "text/plain": [
       "True"
      ]
     },
     "execution_count": 392,
     "metadata": {},
     "output_type": "execute_result"
    }
   ],
   "source": [
    "{1, 2, 3} == {3, 2, 1}"
   ]
  },
  {
   "cell_type": "markdown",
   "id": "1a6df011-f1c5-42a1-8695-8ab29242a6c0",
   "metadata": {},
   "source": [
    "## Built-In Sequence Functions\n"
   ]
  },
  {
   "cell_type": "markdown",
   "id": "ab5000ad-b73f-425c-ac92-05d0bd5eb3e8",
   "metadata": {},
   "source": [
    "Python has a handful of useful sequence functions that you should familiarize yourself with and use at any opportunity."
   ]
  },
  {
   "cell_type": "code",
   "execution_count": null,
   "id": "fa3e5ee9-bc57-424f-9c2b-a2b836edc164",
   "metadata": {},
   "outputs": [],
   "source": [
    "index = 0\n",
    "for value in collection:\n",
    "   # do something with value\n",
    "   index += 1"
   ]
  },
  {
   "cell_type": "markdown",
   "id": "094ffdfe-811b-468e-b5f4-37435f706061",
   "metadata": {},
   "source": [
    "Since this is so common, Python has a built-in function, <b>enumerate</b>, which returns a sequence of (i, value) tuples:"
   ]
  },
  {
   "cell_type": "code",
   "execution_count": null,
   "id": "3b38ad0b-4593-4f72-91df-d2928a9ba44e",
   "metadata": {},
   "outputs": [],
   "source": [
    "for index, value in enumerate(collection):\n",
    "   # do something with value"
   ]
  },
  {
   "cell_type": "markdown",
   "id": "7f09be7c-13af-4d12-beb0-8b196d5b3eed",
   "metadata": {},
   "source": [
    "## sorted\n"
   ]
  },
  {
   "cell_type": "markdown",
   "id": "02574b10-c593-4fe1-b175-4c7237feaebc",
   "metadata": {},
   "source": [
    "The <b>sorted</b> function returns a new sorted list from the elements of any sequence:"
   ]
  },
  {
   "cell_type": "code",
   "execution_count": 169,
   "id": "3100786a-2639-4000-957b-c94e3c965291",
   "metadata": {},
   "outputs": [
    {
     "data": {
      "text/plain": [
       "[0, 1, 2, 2, 3, 6, 7]"
      ]
     },
     "execution_count": 169,
     "metadata": {},
     "output_type": "execute_result"
    }
   ],
   "source": [
    "sorted([7, 1, 2, 6, 0, 3, 2])"
   ]
  },
  {
   "cell_type": "code",
   "execution_count": 171,
   "id": "8529dee4-7f24-4177-804b-93cfec1b1317",
   "metadata": {},
   "outputs": [
    {
     "data": {
      "text/plain": [
       "[' ', 'a', 'c', 'e', 'e', 'h', 'o', 'r', 'r', 's']"
      ]
     },
     "execution_count": 171,
     "metadata": {},
     "output_type": "execute_result"
    }
   ],
   "source": [
    "sorted(\"horse race\")"
   ]
  },
  {
   "cell_type": "markdown",
   "id": "caba1ba8-a65a-466d-9d5f-b19ccd631a50",
   "metadata": {},
   "source": [
    "The sorted function accepts the same arguments as the sort method on lists."
   ]
  },
  {
   "cell_type": "markdown",
   "id": "4daea743-3a92-4dec-a9b7-32a17c8d8bf8",
   "metadata": {},
   "source": [
    "## zip"
   ]
  },
  {
   "cell_type": "markdown",
   "id": "111cc817-2c12-48d7-89f2-0ef77d598909",
   "metadata": {},
   "source": [
    "<b>zip</b> “pairs” up the elements of a number of lists, tuples, or other sequences to create a list of tuples:"
   ]
  },
  {
   "cell_type": "code",
   "execution_count": 175,
   "id": "4dd1f771-f382-43a7-a662-e7f29e1e9d59",
   "metadata": {},
   "outputs": [],
   "source": [
    "seq1 = [\"foo\", \"bar\", \"baz\"]"
   ]
  },
  {
   "cell_type": "code",
   "execution_count": 177,
   "id": "932ba908-7516-4118-927d-8118f85616e3",
   "metadata": {},
   "outputs": [],
   "source": [
    "seq2 = [\"one\", \"two\", \"three\"]"
   ]
  },
  {
   "cell_type": "code",
   "execution_count": 179,
   "id": "c12a576e-1d86-4ac8-9fc9-0ac499b4ccd2",
   "metadata": {},
   "outputs": [],
   "source": [
    "zipped = zip(seq1, seq2)"
   ]
  },
  {
   "cell_type": "code",
   "execution_count": 181,
   "id": "70436f1c-3d94-46a5-835e-05f517260cc1",
   "metadata": {},
   "outputs": [
    {
     "data": {
      "text/plain": [
       "[('foo', 'one'), ('bar', 'two'), ('baz', 'three')]"
      ]
     },
     "execution_count": 181,
     "metadata": {},
     "output_type": "execute_result"
    }
   ],
   "source": [
    "list(zipped)"
   ]
  },
  {
   "cell_type": "markdown",
   "id": "418bb8d9-71b6-47e5-8c66-c1156cc335dd",
   "metadata": {},
   "source": [
    "<b>zip</b> can take an arbitrary number of sequences, and the number of elements it produces is determined by the shortest sequence:"
   ]
  },
  {
   "cell_type": "code",
   "execution_count": 184,
   "id": "25952bfe-e51a-4fc9-a196-524544758bfb",
   "metadata": {},
   "outputs": [],
   "source": [
    "seq3 = [False, True]"
   ]
  },
  {
   "cell_type": "code",
   "execution_count": 186,
   "id": "243e7d92-d14d-4daf-ab32-6646369c7e7c",
   "metadata": {},
   "outputs": [
    {
     "data": {
      "text/plain": [
       "[('foo', 'one', False), ('bar', 'two', True)]"
      ]
     },
     "execution_count": 186,
     "metadata": {},
     "output_type": "execute_result"
    }
   ],
   "source": [
    "list(zip(seq1, seq2, seq3))"
   ]
  },
  {
   "cell_type": "markdown",
   "id": "6a4e9c87-c16c-4dbc-9f15-b650ebf28109",
   "metadata": {},
   "source": [
    "A common use of <b>zip</b> is simultaneously iterating over multiple sequences, possibly also combined with <b>enumerate</b>:"
   ]
  },
  {
   "cell_type": "code",
   "execution_count": 189,
   "id": "2853927c-dbc0-4cf6-baea-c8ddbf43baeb",
   "metadata": {},
   "outputs": [
    {
     "name": "stdout",
     "output_type": "stream",
     "text": [
      "0: foo, one\n",
      "1: bar, two\n",
      "2: baz, three\n"
     ]
    }
   ],
   "source": [
    "for index, (a, b) in enumerate(zip(seq1, seq2)):\n",
    "    print(f\"{index}: {a}, {b}\")"
   ]
  },
  {
   "cell_type": "markdown",
   "id": "bdf7d336-05fe-4dfe-aa40-449f754b059c",
   "metadata": {},
   "source": [
    "## reversed\n"
   ]
  },
  {
   "cell_type": "markdown",
   "id": "98583883-98e9-463f-b2c7-75fd9e18be79",
   "metadata": {},
   "source": [
    "<b>reversed</b> iterates over the elements of a sequence in reverse order:"
   ]
  },
  {
   "cell_type": "code",
   "execution_count": 192,
   "id": "a3b408a2-206a-4086-aba7-3637d2e8b7e9",
   "metadata": {},
   "outputs": [
    {
     "data": {
      "text/plain": [
       "[9, 8, 7, 6, 5, 4, 3, 2, 1, 0]"
      ]
     },
     "execution_count": 192,
     "metadata": {},
     "output_type": "execute_result"
    }
   ],
   "source": [
    "list(reversed(range(10)))"
   ]
  },
  {
   "cell_type": "markdown",
   "id": "a4687335-ca5a-4104-9d9f-7e0e76b24240",
   "metadata": {},
   "source": [
    "<blockquote>\n",
    "Keep in mind that reversed is a generator (to be discussed in some more detail later), so it does not create the reversed sequence until materialized (e.g., with list or a for loop).\n",
    "</blockquote>"
   ]
  },
  {
   "cell_type": "markdown",
   "id": "044a5e3a-d049-4003-9c90-aea931955ae6",
   "metadata": {},
   "source": [
    "## List, Set, and Dictionary (and Generator) Comprehensions"
   ]
  },
  {
   "cell_type": "markdown",
   "id": "46b8f794-b58d-4378-b8f4-7225f8cfe207",
   "metadata": {},
   "source": [
    "List <b>comprehensions</b> are a convenient and widely used Python language feature. \n",
    "They allow you to concisely form a new list by filtering the elements of a collection, transforming the elements passing the filter into one concise expression. \n",
    "\n",
    "They take the basic form:"
   ]
  },
  {
   "cell_type": "code",
   "execution_count": null,
   "id": "fb45b547-7c07-4bcf-9ed0-4f1330d683cc",
   "metadata": {},
   "outputs": [],
   "source": [
    "[expr for value in collection if condition]"
   ]
  },
  {
   "cell_type": "markdown",
   "id": "a2730598-786e-4deb-b740-7522e7d121de",
   "metadata": {},
   "source": [
    "This is equivalent to the following for loop:"
   ]
  },
  {
   "cell_type": "code",
   "execution_count": null,
   "id": "84a97944-1d45-443f-b4b4-f5e4c9e4f232",
   "metadata": {},
   "outputs": [],
   "source": [
    "result = []\n",
    "for value in collection:\n",
    "    if condition:\n",
    "        result.append(expr)"
   ]
  },
  {
   "cell_type": "markdown",
   "id": "4a5b98d3-a128-4fe7-b7aa-f0148274611f",
   "metadata": {},
   "source": [
    "The filter condition can be omitted, leaving only the expression. \n",
    "\n",
    "For example, given a list of strings, we could filter out strings with length 2 or less and convert them to uppercase like this:"
   ]
  },
  {
   "cell_type": "code",
   "execution_count": 198,
   "id": "f202885d-adcb-4be7-8340-6266b8d25e71",
   "metadata": {},
   "outputs": [],
   "source": [
    "strings = [\"a\", \"as\", \"bat\", \"car\", \"dove\", \"python\"]"
   ]
  },
  {
   "cell_type": "code",
   "execution_count": 200,
   "id": "70a89b58-3fee-44f8-aa79-34083ab2b695",
   "metadata": {},
   "outputs": [
    {
     "data": {
      "text/plain": [
       "['BAT', 'CAR', 'DOVE', 'PYTHON']"
      ]
     },
     "execution_count": 200,
     "metadata": {},
     "output_type": "execute_result"
    }
   ],
   "source": [
    "[x.upper() for x in strings if len(x) > 2]"
   ]
  },
  {
   "cell_type": "markdown",
   "id": "3d5dc049-6f59-4754-b901-f5e3c914cd80",
   "metadata": {},
   "source": [
    "Set and dictionary comprehensions are a natural extension, producing sets and dictionaries in an idiomatically similar way instead of lists."
   ]
  },
  {
   "cell_type": "markdown",
   "id": "45d8af80-5dca-4ad0-98ba-2f9956952ed6",
   "metadata": {},
   "source": [
    "A dictionary comprehension looks like this:"
   ]
  },
  {
   "cell_type": "code",
   "execution_count": null,
   "id": "34fc0790-8c74-41cf-9b29-4148331235f4",
   "metadata": {},
   "outputs": [],
   "source": [
    "dict_comp = {key-expr: value-expr for value in collection\n",
    "             if condition}"
   ]
  },
  {
   "cell_type": "markdown",
   "id": "71cc33c0-15e8-4c30-91a4-107719c8b60b",
   "metadata": {},
   "source": [
    "A set comprehension looks like the equivalent list comprehension except with curly braces instead of square brackets:"
   ]
  },
  {
   "cell_type": "code",
   "execution_count": null,
   "id": "2a3cf7ca-a629-454a-ba56-498ad5909af1",
   "metadata": {},
   "outputs": [],
   "source": [
    "set_comp = {expr for value in collection if condition}"
   ]
  },
  {
   "cell_type": "markdown",
   "id": "cfefd8fc-2ef7-4631-9f7d-daa2fc43fc3d",
   "metadata": {},
   "source": [
    "Like list comprehensions, set and dictionary comprehensions are mostly conveniences, but they similarly can make code both easier to write and read. \n",
    "\n",
    "Consider the list of strings from before. Suppose we wanted a set containing just the lengths of the strings contained in the collection; we could easily compute this using a set comprehension:"
   ]
  },
  {
   "cell_type": "code",
   "execution_count": 451,
   "id": "5b856cc6-39ca-4253-9f5c-7e9886a1b2a5",
   "metadata": {},
   "outputs": [],
   "source": [
    "unique_lengths = {len(x) for x in strings}"
   ]
  },
  {
   "cell_type": "code",
   "execution_count": 453,
   "id": "9713d38b-ae74-4387-ae54-b773c4ca9f23",
   "metadata": {},
   "outputs": [
    {
     "data": {
      "text/plain": [
       "{1, 2, 3, 4, 6}"
      ]
     },
     "execution_count": 453,
     "metadata": {},
     "output_type": "execute_result"
    }
   ],
   "source": [
    "unique_lengths"
   ]
  },
  {
   "cell_type": "markdown",
   "id": "48cb730e-1f68-494b-ad32-016872f96b1a",
   "metadata": {},
   "source": [
    "We could also express this more functionally using the <b>map</b> function, introduced shortly:"
   ]
  },
  {
   "cell_type": "code",
   "execution_count": 204,
   "id": "5368069b-7af4-416f-a7ab-44fcf8a1361b",
   "metadata": {},
   "outputs": [
    {
     "data": {
      "text/plain": [
       "{1, 2, 3, 4, 6}"
      ]
     },
     "execution_count": 204,
     "metadata": {},
     "output_type": "execute_result"
    }
   ],
   "source": [
    "set(map(len, strings))"
   ]
  },
  {
   "cell_type": "markdown",
   "id": "0713757b-7335-4a39-9994-d2ff52daf0b8",
   "metadata": {},
   "source": [
    "As a simple dictionary comprehension example, we could create a lookup map of these strings for their locations in the list:"
   ]
  },
  {
   "cell_type": "code",
   "execution_count": 459,
   "id": "e932b13b-e91b-4976-895f-8b8043e7efcd",
   "metadata": {},
   "outputs": [],
   "source": [
    "loc_mapping = {value: index for index, value in enumerate(strings)}"
   ]
  },
  {
   "cell_type": "code",
   "execution_count": 461,
   "id": "8cdc0f43-8eda-4987-8e65-d457f9f72add",
   "metadata": {},
   "outputs": [
    {
     "data": {
      "text/plain": [
       "{'a': 0, 'as': 1, 'bat': 2, 'car': 3, 'dove': 4, 'python': 5}"
      ]
     },
     "execution_count": 461,
     "metadata": {},
     "output_type": "execute_result"
    }
   ],
   "source": [
    "loc_mapping"
   ]
  },
  {
   "cell_type": "markdown",
   "id": "160b77e8-bf82-4c7d-a824-ea66251efca8",
   "metadata": {},
   "source": [
    "## Nested list comprehensions"
   ]
  },
  {
   "cell_type": "markdown",
   "id": "ca55a235-691e-44d0-8bd6-a4db37aefacd",
   "metadata": {},
   "source": [
    "Suppose we have a list of lists containing some English and Spanish names:"
   ]
  },
  {
   "cell_type": "code",
   "execution_count": 206,
   "id": "f95bf137-970d-4a8c-b7ad-6ad22a3e4c94",
   "metadata": {},
   "outputs": [],
   "source": [
    "all_data = [[\"John\", \"Emily\", \"Michael\", \"Mary\", \"Steven\"],\n",
    "    [\"Maria\", \"Juan\", \"Javier\", \"Natalia\", \"Pilar\"]]"
   ]
  },
  {
   "cell_type": "markdown",
   "id": "5bfe2072-e246-4ce2-ad03-d8b881c58d08",
   "metadata": {},
   "source": [
    "Suppose we wanted to get a single list containing all names with two or more a’s in them. \n",
    "\n",
    "We could certainly do this with a simple for loop:"
   ]
  },
  {
   "cell_type": "code",
   "execution_count": 209,
   "id": "7af1e019-1ef1-436b-8983-64161deba72c",
   "metadata": {},
   "outputs": [],
   "source": [
    "names_of_interest = []"
   ]
  },
  {
   "cell_type": "code",
   "execution_count": 211,
   "id": "e36f44c7-eec3-45d5-8734-738820095c70",
   "metadata": {},
   "outputs": [],
   "source": [
    "for names in all_data:\n",
    "    enough_as = [name for name in names if name.count(\"a\") >= 2]\n",
    "    names_of_interest.extend(enough_as)"
   ]
  },
  {
   "cell_type": "code",
   "execution_count": 214,
   "id": "d6069353-fb64-42c8-a985-c2491f885fcb",
   "metadata": {},
   "outputs": [
    {
     "data": {
      "text/plain": [
       "['Maria', 'Natalia']"
      ]
     },
     "execution_count": 214,
     "metadata": {},
     "output_type": "execute_result"
    }
   ],
   "source": [
    "names_of_interest"
   ]
  },
  {
   "cell_type": "markdown",
   "id": "29c373b7-7a8c-4f73-9ba6-b55a73c251f0",
   "metadata": {},
   "source": [
    "You can actually wrap this whole operation up in a single nested list comprehension, which will look like:"
   ]
  },
  {
   "cell_type": "code",
   "execution_count": 217,
   "id": "60c11c6a-3ffe-4ab6-bb39-17bb23127d3e",
   "metadata": {},
   "outputs": [],
   "source": [
    "result = [name for names in all_data for name in names\n",
    "    if name.count(\"a\") >= 2]"
   ]
  },
  {
   "cell_type": "code",
   "execution_count": 219,
   "id": "a04b5fb2-cd53-409c-b261-b107a64d305a",
   "metadata": {},
   "outputs": [
    {
     "data": {
      "text/plain": [
       "['Maria', 'Natalia']"
      ]
     },
     "execution_count": 219,
     "metadata": {},
     "output_type": "execute_result"
    }
   ],
   "source": [
    "result"
   ]
  },
  {
   "cell_type": "markdown",
   "id": "4f00fade-3a46-4a92-89ed-d81b31b82025",
   "metadata": {},
   "source": [
    "At first, nested list comprehensions are a bit hard to wrap your head around. \n",
    "\n",
    "The <b>for</b> parts of the list comprehension are arranged according to the order of nesting, and any filter condition is put at the end as before. \n",
    "\n",
    "Here is another example where we “flatten” a list of tuples of integers into a simple list of integers:"
   ]
  },
  {
   "cell_type": "code",
   "execution_count": 222,
   "id": "b90351e3-9995-4323-ac74-280432b71caf",
   "metadata": {},
   "outputs": [],
   "source": [
    "some_tuples = [(1, 2, 3), (4, 5, 6), (7, 8, 9)]"
   ]
  },
  {
   "cell_type": "code",
   "execution_count": 224,
   "id": "670182de-8175-4be0-a2e8-7fd0732a8c58",
   "metadata": {},
   "outputs": [],
   "source": [
    "flattened = [x for tup in some_tuples for x in tup]"
   ]
  },
  {
   "cell_type": "code",
   "execution_count": 226,
   "id": "d9eabf8f-9a8c-4947-82f0-62a4a8f6cd8e",
   "metadata": {},
   "outputs": [
    {
     "data": {
      "text/plain": [
       "[1, 2, 3, 4, 5, 6, 7, 8, 9]"
      ]
     },
     "execution_count": 226,
     "metadata": {},
     "output_type": "execute_result"
    }
   ],
   "source": [
    "flattened"
   ]
  },
  {
   "cell_type": "markdown",
   "id": "784f20b3-d0b0-444a-87a3-0ace264303e2",
   "metadata": {},
   "source": [
    "Keep in mind that the order of the for expressions would be the same if you wrote a nested for loop instead of a list comprehension:"
   ]
  },
  {
   "cell_type": "code",
   "execution_count": 229,
   "id": "0d066454-9eb5-4480-a553-be8181af6a6e",
   "metadata": {},
   "outputs": [],
   "source": [
    "flattened = []\n",
    "\n",
    "for tup in some_tuples:\n",
    "    for x in tup:\n",
    "        flattened.append(x)"
   ]
  },
  {
   "cell_type": "markdown",
   "id": "58aa7095-0245-4045-8b4a-ddd67e04c645",
   "metadata": {},
   "source": [
    "You can have arbitrarily many levels of nesting, though if you have more than two or three levels of nesting, you should probably start to question whether this makes sense from a code readability standpoint. \n",
    "\n",
    "It’s important to distinguish the syntax just shown from a list comprehension inside a list comprehension, which is also perfectly valid:"
   ]
  },
  {
   "cell_type": "code",
   "execution_count": 231,
   "id": "5ff47625-1688-4ea5-89cc-736c8246efe8",
   "metadata": {},
   "outputs": [
    {
     "data": {
      "text/plain": [
       "[[1, 2, 3], [4, 5, 6], [7, 8, 9]]"
      ]
     },
     "execution_count": 231,
     "metadata": {},
     "output_type": "execute_result"
    }
   ],
   "source": [
    "[[x for x in tup] for tup in some_tuples]"
   ]
  },
  {
   "cell_type": "markdown",
   "id": "0309efd0-9b17-4a05-879e-3f830c433e01",
   "metadata": {},
   "source": [
    "This produces a list of lists, rather than a flattened list of all of the inner elements."
   ]
  }
 ],
 "metadata": {
  "kernelspec": {
   "display_name": "Python [conda env:base] *",
   "language": "python",
   "name": "conda-base-py"
  },
  "language_info": {
   "codemirror_mode": {
    "name": "ipython",
    "version": 3
   },
   "file_extension": ".py",
   "mimetype": "text/x-python",
   "name": "python",
   "nbconvert_exporter": "python",
   "pygments_lexer": "ipython3",
   "version": "3.12.7"
  }
 },
 "nbformat": 4,
 "nbformat_minor": 5
}
