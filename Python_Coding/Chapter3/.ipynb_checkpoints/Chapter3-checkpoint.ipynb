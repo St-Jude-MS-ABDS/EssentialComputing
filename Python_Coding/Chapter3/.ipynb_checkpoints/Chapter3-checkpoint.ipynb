{
 "cells": [
  {
   "cell_type": "markdown",
   "id": "80b7c21c-41dd-4936-95b7-14b0716c2d54",
   "metadata": {},
   "source": [
    "# Chapter 3. Built-In Data Structures, Functions, and Files"
   ]
  },
  {
   "cell_type": "markdown",
   "id": "6fdff639-920f-4f97-87ae-32d5ea59d17f",
   "metadata": {},
   "source": [
    "This chapter discusses capabilities built into the Python language that will be used ubiquitously throughout the book. While add-on libraries like pandas and NumPy add advanced computational functionality for larger datasets, they are designed to be used together with Python’s built-in data manipulation tools.\n",
    "\n",
    "We’ll start with Python’s workhorse data structures: tuples, lists, dictionaries, and sets. Then, we’ll discuss creating your own reusable Python functions. Finally, we’ll look at the mechanics of Python file objects and interacting with your local hard drive."
   ]
  },
  {
   "cell_type": "markdown",
   "id": "7493c591-36f6-4c45-ae59-ec27437b68b1",
   "metadata": {},
   "source": [
    "# 3.1 Data Structures and Sequences"
   ]
  },
  {
   "cell_type": "markdown",
   "id": "fb3ae63d-978a-471d-b033-cf1ff15d60f7",
   "metadata": {},
   "source": [
    "Python’s data structures are simple but powerful. Mastering their use is a critical part of becoming a proficient Python programmer. We start with tuple, list, and dictionary, which are some of the most frequently used sequence types."
   ]
  },
  {
   "cell_type": "markdown",
   "id": "5e72cb65-ca57-456d-8da4-08fdad9ca945",
   "metadata": {},
   "source": [
    "## Tuple"
   ]
  },
  {
   "cell_type": "markdown",
   "id": "3f60bd39-053f-4732-9089-3f5b85ae4580",
   "metadata": {},
   "source": [
    "A tuple is a fixed-length, immutable sequence of Python objects which, once assigned, cannot be changed. The easiest way to create one is with a comma-separated sequence of values wrapped in parentheses:"
   ]
  },
  {
   "cell_type": "code",
   "execution_count": null,
   "id": "397bb6ee-acec-4c1f-8b62-36d2e0875068",
   "metadata": {},
   "outputs": [],
   "source": [
    "In [2]: tup = (4, 5, 6)\n",
    "\n",
    "In [3]: tup\n",
    "Out[3]: (4, 5, 6)\n"
   ]
  },
  {
   "cell_type": "markdown",
   "id": "bcfa603f-abb8-43f1-8895-0f18a12170cb",
   "metadata": {},
   "source": [
    "In many contexts, the parentheses can be omitted, so here we could also have written:"
   ]
  },
  {
   "cell_type": "code",
   "execution_count": null,
   "id": "08927d4d-08ab-4ad4-b64e-f12cd029941b",
   "metadata": {},
   "outputs": [],
   "source": [
    "In [4]: tup = 4, 5, 6\n",
    "\n",
    "In [5]: tup\n",
    "Out[5]: (4, 5, 6)"
   ]
  },
  {
   "cell_type": "markdown",
   "id": "346f47b7-5939-40f3-900a-18982a2fb69d",
   "metadata": {},
   "source": [
    "You can convert any sequence or iterator to a tuple by invoking tuple:"
   ]
  },
  {
   "cell_type": "code",
   "execution_count": null,
   "id": "2a18f38c-ed29-4176-a416-d595c04762ce",
   "metadata": {},
   "outputs": [],
   "source": [
    "In [6]: tuple([4, 0, 2])\n",
    "Out[6]: (4, 0, 2)\n",
    "\n",
    "In [7]: tup = tuple('string')\n",
    "\n",
    "In [8]: tup\n",
    "Out[8]: ('s', 't', 'r', 'i', 'n', 'g')"
   ]
  },
  {
   "cell_type": "markdown",
   "id": "a4db241c-a79b-4a31-ad83-089da1880b24",
   "metadata": {},
   "source": [
    "Elements can be accessed with square brackets [] as with most other sequence types. As in C, C++, Java, and many other languages, sequences are 0-indexed in Python:"
   ]
  },
  {
   "cell_type": "code",
   "execution_count": null,
   "id": "5a8a96cb-9427-44ec-a056-deda2ccc40f5",
   "metadata": {},
   "outputs": [],
   "source": [
    "In [9]: tup[0]\n",
    "Out[9]: 's'"
   ]
  },
  {
   "cell_type": "markdown",
   "id": "cb265169-8121-4095-af27-7427a59c4189",
   "metadata": {},
   "source": [
    "When you’re defining tuples within more complicated expressions, it’s often necessary to enclose the values in parentheses, as in this example of creating a tuple of tuples:"
   ]
  },
  {
   "cell_type": "code",
   "execution_count": null,
   "id": "b7e42d42-c1b9-4e4a-ab6d-469c90f2e8c4",
   "metadata": {},
   "outputs": [],
   "source": [
    "In [10]: nested_tup = (4, 5, 6), (7, 8)\n",
    "\n",
    "In [11]: nested_tup\n",
    "Out[11]: ((4, 5, 6), (7, 8))\n",
    "\n",
    "In [12]: nested_tup[0]\n",
    "Out[12]: (4, 5, 6)\n",
    "\n",
    "In [13]: nested_tup[1]\n",
    "Out[13]: (7, 8)"
   ]
  },
  {
   "cell_type": "markdown",
   "id": "86313fc8-3dcf-48cc-84e1-789bd51f5d7f",
   "metadata": {},
   "source": [
    "While the objects stored in a tuple may be mutable themselves, once the tuple is created it’s not possible to modify which object is stored in each slot:\n",
    "\n"
   ]
  },
  {
   "cell_type": "code",
   "execution_count": null,
   "id": "a6709c79-ebdc-4696-bea9-1e84e8f7c917",
   "metadata": {},
   "outputs": [],
   "source": [
    "In [14]: tup = tuple(['foo', [1, 2], True])\n",
    "\n",
    "In [15]: tup[2] = False\n",
    "---------------------------------------------------------------------------\n",
    "TypeError                                 Traceback (most recent call last)\n",
    "<ipython-input-15-b89d0c4ae599> in <module>\n",
    "----> 1 tup[2] = False\n",
    "TypeError: 'tuple' object does not support item assignment"
   ]
  },
  {
   "cell_type": "markdown",
   "id": "737f2b90-3857-4706-ad1e-3467d1ac72ed",
   "metadata": {},
   "source": [
    "If an object inside a tuple is mutable, such as a list, you can modify it in place:\n",
    "\n"
   ]
  },
  {
   "cell_type": "code",
   "execution_count": null,
   "id": "adb4e9cc-2450-48dd-a3cc-ed060fedb87d",
   "metadata": {},
   "outputs": [],
   "source": [
    "In [16]: tup[1].append(3)\n",
    "\n",
    "In [17]: tup\n",
    "Out[17]: ('foo', [1, 2, 3], True)"
   ]
  },
  {
   "cell_type": "markdown",
   "id": "7cddcb47-3628-4a3e-9490-4f036739fc9d",
   "metadata": {},
   "source": [
    "You can concatenate tuples using the + operator to produce longer tuples:"
   ]
  },
  {
   "cell_type": "code",
   "execution_count": null,
   "id": "48f7bb5d-9592-459d-86a3-046b9769c93f",
   "metadata": {},
   "outputs": [],
   "source": [
    "In [18]: (4, None, 'foo') + (6, 0) + ('bar',)\n",
    "Out[18]: (4, None, 'foo', 6, 0, 'bar')"
   ]
  },
  {
   "cell_type": "markdown",
   "id": "ea9ca08e-9a90-4acc-bef7-7e334718c8ff",
   "metadata": {},
   "source": [
    "Multiplying a tuple by an integer, as with lists, has the effect of concatenating that many copies of the tuple:"
   ]
  },
  {
   "cell_type": "code",
   "execution_count": null,
   "id": "8ebeaaeb-dfad-4278-bd4e-ee0dd805c125",
   "metadata": {},
   "outputs": [],
   "source": [
    "In [19]: ('foo', 'bar') * 4\n",
    "Out[19]: ('foo', 'bar', 'foo', 'bar', 'foo', 'bar', 'foo', 'bar')"
   ]
  },
  {
   "cell_type": "markdown",
   "id": "0b5afa87-a663-4c48-af0b-f5e68842108f",
   "metadata": {},
   "source": [
    "Note that the objects themselves are not copied, only the references to them."
   ]
  },
  {
   "cell_type": "markdown",
   "id": "c20320eb-20ae-45d3-82d6-4f8d7072a00b",
   "metadata": {},
   "source": [
    "## Unpacking tuples"
   ]
  },
  {
   "cell_type": "markdown",
   "id": "3cee60b5-b8cc-43f2-9026-5d644c05c7a6",
   "metadata": {},
   "source": [
    "If you try to assign to a tuple-like expression of variables, Python will attempt to unpack the value on the righthand side of the equals sign:"
   ]
  },
  {
   "cell_type": "code",
   "execution_count": null,
   "id": "bed6745a-7103-4c87-afd7-2a50628620a5",
   "metadata": {},
   "outputs": [],
   "source": [
    "In [20]: tup = (4, 5, 6)\n",
    "\n",
    "In [21]: a, b, c = tup\n",
    "\n",
    "In [22]: b\n",
    "Out[22]: 5"
   ]
  },
  {
   "cell_type": "markdown",
   "id": "ba0f668c-286b-4739-a59b-a6a3a1e3c9db",
   "metadata": {},
   "source": [
    "Even sequences with nested tuples can be unpacked:"
   ]
  },
  {
   "cell_type": "code",
   "execution_count": null,
   "id": "9c522ce9-5fc6-4b69-ae77-a6822defe03a",
   "metadata": {},
   "outputs": [],
   "source": [
    "In [23]: tup = 4, 5, (6, 7)\n",
    "\n",
    "In [24]: a, b, (c, d) = tup\n",
    "\n",
    "In [25]: d\n",
    "Out[25]: 7"
   ]
  },
  {
   "cell_type": "markdown",
   "id": "2dcd6c0a-c1b2-4767-8143-1e6c1d8beba1",
   "metadata": {},
   "source": [
    "Using this functionality you can easily swap variable names, a task that in many languages might look like:"
   ]
  },
  {
   "cell_type": "code",
   "execution_count": null,
   "id": "a7256fd9-d18c-4e19-a9af-001ee10d89fc",
   "metadata": {},
   "outputs": [],
   "source": [
    "tmp = a\n",
    "a = b\n",
    "b = tmp"
   ]
  },
  {
   "cell_type": "markdown",
   "id": "5ec63f36-318b-403c-a6fa-6bc806c1e978",
   "metadata": {},
   "source": [
    "But, in Python, the swap can be done like this:"
   ]
  },
  {
   "cell_type": "code",
   "execution_count": null,
   "id": "4881d19a-e7b5-4b2d-8140-feabfdab2d38",
   "metadata": {},
   "outputs": [],
   "source": [
    "In [26]: a, b = 1, 2\n",
    "\n",
    "In [27]: a\n",
    "Out[27]: 1\n",
    "\n",
    "In [28]: b\n",
    "Out[28]: 2\n",
    "\n",
    "In [29]: b, a = a, b\n",
    "\n",
    "In [30]: a\n",
    "Out[30]: 2\n",
    "\n",
    "In [31]: b\n",
    "Out[31]: 1"
   ]
  },
  {
   "cell_type": "markdown",
   "id": "2eb1dc68-d34d-4ed2-9863-6e5fb0f81438",
   "metadata": {},
   "source": [
    "A common use of variable unpacking is iterating over sequences of tuples or lists:\n",
    "\n"
   ]
  },
  {
   "cell_type": "code",
   "execution_count": null,
   "id": "1c725210-5d46-4846-babf-1a3bda65014f",
   "metadata": {},
   "outputs": [],
   "source": [
    "In [32]: seq = [(1, 2, 3), (4, 5, 6), (7, 8, 9)]\n",
    "\n",
    "In [33]: for a, b, c in seq:\n",
    "   ....:     print(f'a={a}, b={b}, c={c}')\n",
    "a=1, b=2, c=3\n",
    "a=4, b=5, c=6\n",
    "a=7, b=8, c=9"
   ]
  },
  {
   "cell_type": "markdown",
   "id": "3307cc94-ddb4-4804-80a4-00d55855d606",
   "metadata": {},
   "source": [
    "Another common use is returning multiple values from a function. I’ll cover this in more detail later."
   ]
  },
  {
   "cell_type": "markdown",
   "id": "b9ea314f-e42b-41ff-a4d9-19037ba5c12f",
   "metadata": {},
   "source": [
    "There are some situations where you may want to “pluck” a few elements from the beginning of a tuple. There is a special syntax that can do this, *rest, which is also used in function signatures to capture an arbitrarily long list of positional arguments:"
   ]
  },
  {
   "cell_type": "code",
   "execution_count": null,
   "id": "c7d6c504-6d77-4126-ae4f-065677547294",
   "metadata": {},
   "outputs": [],
   "source": [
    "In [34]: values = 1, 2, 3, 4, 5\n",
    "\n",
    "In [35]: a, b, *rest = values\n",
    "\n",
    "In [36]: a\n",
    "Out[36]: 1\n",
    "\n",
    "In [37]: b\n",
    "Out[37]: 2\n",
    "\n",
    "In [38]: rest\n",
    "Out[38]: [3, 4, 5]"
   ]
  },
  {
   "cell_type": "markdown",
   "id": "2910689d-220b-4225-9b57-89ff5fdb1aa9",
   "metadata": {},
   "source": [
    "This rest bit is sometimes something you want to discard; there is nothing special about the rest name. As a matter of convention, many Python programmers will use the underscore (_) for unwanted variables:"
   ]
  },
  {
   "cell_type": "code",
   "execution_count": null,
   "id": "f4530807-1604-48ec-976f-4f4fa119aab5",
   "metadata": {},
   "outputs": [],
   "source": [
    "In [39]: a, b, *_ = values"
   ]
  },
  {
   "cell_type": "markdown",
   "id": "c1f4f774-1c12-4449-87b8-2a21103c464c",
   "metadata": {},
   "source": [
    "## Tuple methods"
   ]
  },
  {
   "cell_type": "markdown",
   "id": "1ad3a487-6a66-4633-8283-ad09aedb8a68",
   "metadata": {},
   "source": [
    "Since the size and contents of a tuple cannot be modified, it is very light on instance methods. A particularly useful one (also available on lists) is count, which counts the number of occurrences of a value:"
   ]
  },
  {
   "cell_type": "code",
   "execution_count": null,
   "id": "1a84c9fd-ddfd-4916-9ee2-83e120893ec1",
   "metadata": {},
   "outputs": [],
   "source": [
    "In [40]: a = (1, 2, 2, 2, 3, 4, 2)\n",
    "\n",
    "In [41]: a.count(2)\n",
    "Out[41]: 4"
   ]
  },
  {
   "cell_type": "markdown",
   "id": "1e834aa2-c887-40ca-acaf-873f960cda1c",
   "metadata": {},
   "source": [
    "## List"
   ]
  },
  {
   "cell_type": "markdown",
   "id": "01a0f9f3-436f-4e9b-b0e2-1e1ce9e03d95",
   "metadata": {},
   "source": [
    "In contrast with tuples, lists are variable length and their contents can be modified in place. Lists are mutable. You can define them using square brackets [] or using the list type function:"
   ]
  },
  {
   "cell_type": "code",
   "execution_count": null,
   "id": "f996b352-fd36-472a-a689-c1a6a3822f04",
   "metadata": {},
   "outputs": [],
   "source": [
    "In [42]: a_list = [2, 3, 7, None]\n",
    "\n",
    "In [43]: tup = (\"foo\", \"bar\", \"baz\")\n",
    "\n",
    "In [44]: b_list = list(tup)\n",
    "\n",
    "In [45]: b_list\n",
    "Out[45]: ['foo', 'bar', 'baz']\n",
    "\n",
    "In [46]: b_list[1] = \"peekaboo\"\n",
    "\n",
    "In [47]: b_list\n",
    "Out[47]: ['foo', 'peekaboo', 'baz']"
   ]
  },
  {
   "cell_type": "markdown",
   "id": "2ae9f8bb-793d-43f3-b3b9-5ea5576aaeda",
   "metadata": {},
   "source": [
    "Lists and tuples are semantically similar (though tuples cannot be modified) and can be used interchangeably in many functions.\n",
    "\n",
    "The list built-in function is frequently used in data processing as a way to materialize an iterator or generator expression:"
   ]
  },
  {
   "cell_type": "code",
   "execution_count": null,
   "id": "0c3ef5f2-08eb-4e0e-9b7c-524803d086a9",
   "metadata": {},
   "outputs": [],
   "source": [
    "In [48]: gen = range(10)\n",
    "\n",
    "In [49]: gen\n",
    "Out[49]: range(0, 10)\n",
    "\n",
    "In [50]: list(gen)\n",
    "Out[50]: [0, 1, 2, 3, 4, 5, 6, 7, 8, 9]"
   ]
  },
  {
   "cell_type": "markdown",
   "id": "719316ed-82d4-46fb-986b-eb690db38f3b",
   "metadata": {},
   "source": [
    "Adding and removing elements"
   ]
  },
  {
   "cell_type": "markdown",
   "id": "a5ff0bd6-bc25-49ac-8039-8f18f4c302f8",
   "metadata": {},
   "source": [
    "Elements can be appended to the end of the list with the append method:\n",
    "\n"
   ]
  },
  {
   "cell_type": "code",
   "execution_count": null,
   "id": "604ebb6d-43d0-4ec7-b556-b7c30bdff1f6",
   "metadata": {},
   "outputs": [],
   "source": [
    "In [51]: b_list.append(\"dwarf\")\n",
    "\n",
    "In [52]: b_list\n",
    "Out[52]: ['foo', 'peekaboo', 'baz', 'dwarf']"
   ]
  },
  {
   "cell_type": "markdown",
   "id": "ec273691-88dd-42ac-8ad0-f24f70a47783",
   "metadata": {},
   "source": [
    "Using insert you can insert an element at a specific location in the list:\n",
    "\n"
   ]
  },
  {
   "cell_type": "code",
   "execution_count": null,
   "id": "6945215b-ee33-4b9d-88d2-5f33c9bdb60d",
   "metadata": {},
   "outputs": [],
   "source": [
    "In [53]: b_list.insert(1, \"red\")\n",
    "\n",
    "In [54]: b_list\n",
    "Out[54]: ['foo', 'red', 'peekaboo', 'baz', 'dwarf']"
   ]
  },
  {
   "cell_type": "markdown",
   "id": "6b827603-f027-435d-b231-bd8ae234295b",
   "metadata": {},
   "source": [
    "The insertion index must be between 0 and the length of the list, inclusive.\n",
    "\n"
   ]
  },
  {
   "cell_type": "markdown",
   "id": "b8f56ac8-af55-4e56-bbb9-f107f971a4eb",
   "metadata": {},
   "source": [
    "Warning\n",
    "insert is computationally expensive compared with append, because references to subsequent elements have to be shifted internally to make room for the new element. If you need to insert elements at both the beginning and end of a sequence, you may wish to explore collections.deque, a double-ended queue, which is optimized for this purpose and found in the Python Standard Library."
   ]
  },
  {
   "cell_type": "markdown",
   "id": "51d5b075-68a2-4b3e-bcac-a042d3100b01",
   "metadata": {},
   "source": [
    "Warning\n",
    "insert is computationally expensive compared with append, because references to subsequent elements have to be shifted internally to make room for the new element. If you need to insert elements at both the beginning and end of a sequence, you may wish to explore collections.deque, a double-ended queue, which is optimized for this purpose and found in the Python Standard Library."
   ]
  },
  {
   "cell_type": "code",
   "execution_count": null,
   "id": "07ba205c-2750-485c-aadd-64b0be90df26",
   "metadata": {},
   "outputs": [],
   "source": [
    "In [55]: b_list.pop(2)\n",
    "Out[55]: 'peekaboo'\n",
    "\n",
    "In [56]: b_list\n",
    "Out[56]: ['foo', 'red', 'baz', 'dwarf']"
   ]
  },
  {
   "cell_type": "markdown",
   "id": "5bb1c5b4-650d-47af-9a5e-a358633e13e0",
   "metadata": {},
   "source": [
    "Elements can be removed by value with remove, which locates the first such value and removes it from the list:"
   ]
  },
  {
   "cell_type": "code",
   "execution_count": null,
   "id": "140079c2-f46c-4f36-b972-5aabfb5f03a9",
   "metadata": {},
   "outputs": [],
   "source": [
    "In [57]: b_list.append(\"foo\")\n",
    "\n",
    "In [58]: b_list\n",
    "Out[58]: ['foo', 'red', 'baz', 'dwarf', 'foo']\n",
    "\n",
    "In [59]: b_list.remove(\"foo\")\n",
    "\n",
    "In [60]: b_list\n",
    "Out[60]: ['red', 'baz', 'dwarf', 'foo']\n"
   ]
  },
  {
   "cell_type": "markdown",
   "id": "0e80c74c-6cf3-4d31-9b3a-972b234fd3cd",
   "metadata": {},
   "source": [
    "If performance is not a concern, by using append and remove, you can use a Python list as a set-like data structure (although Python has actual set objects, discussed later)."
   ]
  },
  {
   "cell_type": "markdown",
   "id": "bf7a0e3d-eb5b-4c29-a69c-a55c17cdf26b",
   "metadata": {},
   "source": [
    "Check if a list contains a value using the in keyword:\n",
    "\n"
   ]
  },
  {
   "cell_type": "code",
   "execution_count": null,
   "id": "488dbe26-7989-45a8-a4be-dd696a34b5c2",
   "metadata": {},
   "outputs": [],
   "source": [
    "In [61]: \"dwarf\" in b_list\n",
    "Out[61]: True"
   ]
  },
  {
   "cell_type": "markdown",
   "id": "5161cc2e-471f-410f-8f9f-29fd2e4c2928",
   "metadata": {},
   "source": [
    "The keyword not can be used to negate in:\n",
    "\n"
   ]
  },
  {
   "cell_type": "code",
   "execution_count": null,
   "id": "f78f3747-4c8f-4de4-b7da-d21ccc4ff914",
   "metadata": {},
   "outputs": [],
   "source": [
    "In [62]: \"dwarf\" not in b_list\n",
    "Out[62]: False"
   ]
  },
  {
   "cell_type": "markdown",
   "id": "ee140774-ec36-4874-98af-a3b879f4d02d",
   "metadata": {},
   "source": [
    "Checking whether a list contains a value is a lot slower than doing so with dictionaries and sets (to be introduced shortly), as Python makes a linear scan across the values of the list, whereas it can check the others (based on hash tables) in constant time."
   ]
  },
  {
   "cell_type": "markdown",
   "id": "3ea33410-d9a4-439b-bcb1-77ca13a3a6d1",
   "metadata": {},
   "source": [
    "## Concatenating and combining lists\n"
   ]
  },
  {
   "cell_type": "markdown",
   "id": "f9f892c9-cbac-419b-a14c-f7643c0b2a4b",
   "metadata": {},
   "source": [
    "Similar to tuples, adding two lists together with + concatenates them:\n",
    "\n"
   ]
  },
  {
   "cell_type": "code",
   "execution_count": null,
   "id": "d57e451a-95b7-4831-811c-51d8b3a04bb0",
   "metadata": {},
   "outputs": [],
   "source": [
    "In [63]: [4, None, \"foo\"] + [7, 8, (2, 3)]\n",
    "Out[63]: [4, None, 'foo', 7, 8, (2, 3)]"
   ]
  },
  {
   "cell_type": "markdown",
   "id": "3b2ce5e0-c80f-4930-872c-ba3b3e1217f1",
   "metadata": {},
   "source": [
    "If you have a list already defined, you can append multiple elements to it using the extend method:\n",
    "\n"
   ]
  },
  {
   "cell_type": "code",
   "execution_count": null,
   "id": "3b9ec9f1-1422-437e-a1cd-edfbaa310308",
   "metadata": {},
   "outputs": [],
   "source": [
    "In [64]: x = [4, None, \"foo\"]\n",
    "\n",
    "In [65]: x.extend([7, 8, (2, 3)])\n",
    "\n",
    "In [66]: x\n",
    "Out[66]: [4, None, 'foo', 7, 8, (2, 3)]"
   ]
  },
  {
   "cell_type": "markdown",
   "id": "1a4e94de-15b7-45df-a4c0-54f218e633dc",
   "metadata": {},
   "source": [
    "Note that list concatenation by addition is a comparatively expensive operation since a new list must be created and the objects copied over. Using extend to append elements to an existing list, especially if you are building up a large list, is usually preferable. Thus:"
   ]
  },
  {
   "cell_type": "code",
   "execution_count": null,
   "id": "322df2f3-bb51-4a7b-b822-9de0ab5aca3b",
   "metadata": {},
   "outputs": [],
   "source": [
    "everything = []\n",
    "for chunk in list_of_lists:\n",
    "    everything.extend(chunk)"
   ]
  },
  {
   "cell_type": "markdown",
   "id": "82d2fb99-f7f8-4f60-93a2-f3d0ae05e70d",
   "metadata": {},
   "source": [
    "is faster than the concatenative alternative:"
   ]
  },
  {
   "cell_type": "code",
   "execution_count": null,
   "id": "abfae0d9-07a6-4db5-9e38-bb45ac4ca862",
   "metadata": {},
   "outputs": [],
   "source": [
    "everything = []\n",
    "for chunk in list_of_lists:\n",
    "    everything = everything + chunk"
   ]
  },
  {
   "cell_type": "markdown",
   "id": "6216f659-0580-46b4-88bd-a39dc8526ead",
   "metadata": {},
   "source": [
    "## Sorting\n"
   ]
  },
  {
   "cell_type": "markdown",
   "id": "d9cd24b2-1a43-464c-b598-bed2f036f40c",
   "metadata": {},
   "source": [
    "You can sort a list in place (without creating a new object) by calling its sort function:\n",
    "\n"
   ]
  },
  {
   "cell_type": "code",
   "execution_count": null,
   "id": "31686976-b72d-4596-8c50-52eee386b7ef",
   "metadata": {},
   "outputs": [],
   "source": [
    "In [67]: a = [7, 2, 5, 1, 3]\n",
    "\n",
    "In [68]: a.sort()\n",
    "\n",
    "In [69]: a\n",
    "Out[69]: [1, 2, 3, 5, 7]"
   ]
  },
  {
   "cell_type": "markdown",
   "id": "f28876d3-fcfc-44da-ab49-2cf72d1c8277",
   "metadata": {},
   "source": [
    "sort has a few options that will occasionally come in handy. One is the ability to pass a secondary sort key—that is, a function that produces a value to use to sort the objects. For example, we could sort a collection of strings by their lengths:"
   ]
  },
  {
   "cell_type": "code",
   "execution_count": null,
   "id": "5e96a6f1-6540-4e12-ab47-8b339aa7b82c",
   "metadata": {},
   "outputs": [],
   "source": [
    "In [70]: b = [\"saw\", \"small\", \"He\", \"foxes\", \"six\"]\n",
    "\n",
    "In [71]: b.sort(key=len)\n",
    "\n",
    "In [72]: b\n",
    "Out[72]: ['He', 'saw', 'six', 'small', 'foxes']"
   ]
  },
  {
   "cell_type": "markdown",
   "id": "d3dbaecb-5cff-4017-b4ab-ff75212d4c1a",
   "metadata": {},
   "source": [
    "Soon, we’ll look at the sorted function, which can produce a sorted copy of a general sequence."
   ]
  },
  {
   "cell_type": "markdown",
   "id": "0b085438-0783-4b1b-8e75-ab8ca3935d26",
   "metadata": {},
   "source": [
    "## Slicing\n"
   ]
  },
  {
   "cell_type": "markdown",
   "id": "2a59d532-c628-4902-9708-cc5ad9e63d16",
   "metadata": {},
   "source": [
    "You can select sections of most sequence types by using slice notation, which in its basic form consists of start:stop passed to the indexing operator []:"
   ]
  },
  {
   "cell_type": "code",
   "execution_count": null,
   "id": "5f93ca84-771f-4577-9d94-ed5940c5c8f7",
   "metadata": {},
   "outputs": [],
   "source": [
    "In [73]: seq = [7, 2, 3, 7, 5, 6, 0, 1]\n",
    "\n",
    "In [74]: seq[1:5]\n",
    "Out[74]: [2, 3, 7, 5]"
   ]
  },
  {
   "cell_type": "code",
   "execution_count": null,
   "id": "cdabe2f5-fa51-445d-8a09-cf767548429a",
   "metadata": {},
   "outputs": [],
   "source": [
    "Slices can also be assigned with a sequence:\n",
    "\n"
   ]
  },
  {
   "cell_type": "code",
   "execution_count": null,
   "id": "04e176c3-e50d-4ed9-b24b-be67c091b800",
   "metadata": {},
   "outputs": [],
   "source": [
    "In [75]: seq[3:5] = [6, 3]\n",
    "\n",
    "In [76]: seq\n",
    "Out[76]: [7, 2, 3, 6, 3, 6, 0, 1]"
   ]
  },
  {
   "cell_type": "code",
   "execution_count": null,
   "id": "6feb3515-86cf-4f9e-b9b2-88116f4a062d",
   "metadata": {},
   "outputs": [],
   "source": [
    "While the element at the start index is included, the stop index is not included, so that the number of elements in the result is stop - start."
   ]
  },
  {
   "cell_type": "code",
   "execution_count": null,
   "id": "91bccc7d-3810-4cd3-a292-68a1e53806f8",
   "metadata": {},
   "outputs": [],
   "source": [
    "Either the start or stop can be omitted, in which case they default to the start of the sequence and the end of the sequence, respectively:"
   ]
  },
  {
   "cell_type": "code",
   "execution_count": null,
   "id": "ae7a4bdd-8ed0-4d63-a5fb-a37961d6e374",
   "metadata": {},
   "outputs": [],
   "source": [
    "In [77]: seq[:5]\n",
    "Out[77]: [7, 2, 3, 6, 3]\n",
    "\n",
    "In [78]: seq[3:]\n",
    "Out[78]: [6, 3, 6, 0, 1]"
   ]
  },
  {
   "cell_type": "code",
   "execution_count": null,
   "id": "deb2ff27-9060-4184-adee-7ad78f445bff",
   "metadata": {},
   "outputs": [],
   "source": [
    "Negative indices slice the sequence relative to the end:\n",
    "\n"
   ]
  },
  {
   "cell_type": "code",
   "execution_count": null,
   "id": "579d11aa-2d31-4d80-ae4f-59a927909069",
   "metadata": {},
   "outputs": [],
   "source": [
    "In [79]: seq[-4:]\n",
    "Out[79]: [3, 6, 0, 1]\n",
    "\n",
    "In [80]: seq[-6:-2]\n",
    "Out[80]: [3, 6, 3, 6]"
   ]
  },
  {
   "cell_type": "code",
   "execution_count": null,
   "id": "94e58eb6-1715-462b-9472-58d8279493df",
   "metadata": {},
   "outputs": [],
   "source": [
    "Slicing semantics takes a bit of getting used to, especially if you’re coming from R or MATLAB. See Figure 3-1 for a helpful illustration of slicing with positive and negative integers. In the figure, the indices are shown at the “bin edges” to help show where the slice selections start and stop using positive or negative indices.\n",
    "\n"
   ]
  },
  {
   "cell_type": "markdown",
   "id": "fd4aac94-bf5d-49af-a6ac-65443531af1e",
   "metadata": {},
   "source": [
    "![](pda3_0301.png)"
   ]
  },
  {
   "cell_type": "code",
   "execution_count": null,
   "id": "0da16a5c-7151-46d9-b23b-a8073d54994b",
   "metadata": {},
   "outputs": [],
   "source": [
    "A step can also be used after a second colon to, say, take every other element:\n",
    "\n"
   ]
  },
  {
   "cell_type": "code",
   "execution_count": null,
   "id": "48d5b597-1757-459a-a138-86c35181c9d6",
   "metadata": {},
   "outputs": [],
   "source": [
    "In [81]: seq[::2]\n",
    "Out[81]: [7, 3, 3, 0]"
   ]
  },
  {
   "cell_type": "markdown",
   "id": "6b95646e-7c33-4285-b95d-ab046159d524",
   "metadata": {},
   "source": [
    "A clever use of this is to pass -1, which has the useful effect of reversing a list or tuple:\n",
    "\n"
   ]
  },
  {
   "cell_type": "code",
   "execution_count": null,
   "id": "6bc7aaec-4aee-4a4c-b46f-a9a541dbc810",
   "metadata": {},
   "outputs": [],
   "source": [
    "In [82]: seq[::-1]\n",
    "Out[82]: [1, 0, 6, 3, 6, 3, 2, 7]"
   ]
  },
  {
   "cell_type": "markdown",
   "id": "e1e54ad6-677b-4986-97a3-354e783b746e",
   "metadata": {},
   "source": [
    "## Dictionary"
   ]
  },
  {
   "cell_type": "markdown",
   "id": "228f5470-daba-48a8-8b9b-2c42b2bf2d51",
   "metadata": {},
   "source": [
    "The dictionary or dict may be the most important built-in Python data structure. In other programming languages, dictionaries are sometimes called hash maps or associative arrays. A dictionary stores a collection of key-value pairs, where key and value are Python objects. Each key is associated with a value so that a value can be conveniently retrieved, inserted, modified, or deleted given a particular key. One approach for creating a dictionary is to use curly braces {} and colons to separate keys and values:"
   ]
  },
  {
   "cell_type": "code",
   "execution_count": null,
   "id": "c103ca90-1e82-4273-ad83-2a6c4099bc49",
   "metadata": {},
   "outputs": [],
   "source": [
    "In [83]: empty_dict = {}\n",
    "\n",
    "In [84]: d1 = {\"a\": \"some value\", \"b\": [1, 2, 3, 4]}\n",
    "\n",
    "In [85]: d1\n",
    "Out[85]: {'a': 'some value', 'b': [1, 2, 3, 4]}\n"
   ]
  },
  {
   "cell_type": "markdown",
   "id": "8e0faca9-661b-4708-bed1-34ed1367605f",
   "metadata": {},
   "source": [
    "You can access, insert, or set elements using the same syntax as for accessing elements of a list or tuple:"
   ]
  },
  {
   "cell_type": "code",
   "execution_count": null,
   "id": "1da2ab48-0f28-48b3-ad7e-f0e988b027f5",
   "metadata": {},
   "outputs": [],
   "source": [
    "In [86]: d1[7] = \"an integer\"\n",
    "\n",
    "In [87]: d1\n",
    "Out[87]: {'a': 'some value', 'b': [1, 2, 3, 4], 7: 'an integer'}\n",
    "\n",
    "In [88]: d1[\"b\"]\n",
    "Out[88]: [1, 2, 3, 4]"
   ]
  },
  {
   "cell_type": "code",
   "execution_count": null,
   "id": "50cef5a9-099f-4bfb-b844-435ae31b8253",
   "metadata": {},
   "outputs": [],
   "source": [
    "You can check if a dictionary contains a key using the same syntax used for checking whether a list or tuple contains a value:\n",
    "\n"
   ]
  },
  {
   "cell_type": "code",
   "execution_count": null,
   "id": "52351d45-ef01-430b-90c1-965eef952c2e",
   "metadata": {},
   "outputs": [],
   "source": [
    "In [89]: \"b\" in d1\n",
    "Out[89]: True"
   ]
  },
  {
   "cell_type": "code",
   "execution_count": null,
   "id": "a0a74de0-8c18-425e-b9ff-2225fa8af908",
   "metadata": {},
   "outputs": [],
   "source": [
    "You can delete values using either the del keyword or the pop method (which simultaneously returns the value and deletes the key):"
   ]
  },
  {
   "cell_type": "code",
   "execution_count": null,
   "id": "2203fb2b-74a9-4a22-b230-d40a8c4520f4",
   "metadata": {},
   "outputs": [],
   "source": [
    "In [90]: d1[5] = \"some value\"\n",
    "\n",
    "In [91]: d1\n",
    "Out[91]: \n",
    "{'a': 'some value',\n",
    " 'b': [1, 2, 3, 4],\n",
    " 7: 'an integer',\n",
    " 5: 'some value'}\n",
    "\n",
    "In [92]: d1[\"dummy\"] = \"another value\"\n",
    "\n",
    "In [93]: d1\n",
    "Out[93]: \n",
    "{'a': 'some value',\n",
    " 'b': [1, 2, 3, 4],\n",
    " 7: 'an integer',\n",
    " 5: 'some value',\n",
    " 'dummy': 'another value'}\n",
    "\n",
    "In [94]: del d1[5]\n",
    "\n",
    "In [95]: d1\n",
    "Out[95]: \n",
    "{'a': 'some value',\n",
    " 'b': [1, 2, 3, 4],\n",
    " 7: 'an integer',\n",
    " 'dummy': 'another value'}\n",
    "\n",
    "In [96]: ret = d1.pop(\"dummy\")\n",
    "\n",
    "In [97]: ret\n",
    "Out[97]: 'another value'\n",
    "\n",
    "In [98]: d1"
   ]
  },
  {
   "cell_type": "code",
   "execution_count": null,
   "id": "365c732b-567c-440a-be62-c6ff0c09f838",
   "metadata": {},
   "outputs": [],
   "source": [
    "The keys and values method gives you iterators of the dictionary’s keys and values, respectively. The order of the keys depends on the order of their insertion, and these functions output the keys and values in the same respective order:"
   ]
  },
  {
   "cell_type": "code",
   "execution_count": null,
   "id": "94de2b41-07d8-4362-ba28-fd92d0fcd2de",
   "metadata": {},
   "outputs": [],
   "source": [
    "In [99]: list(d1.keys())\n",
    "Out[99]: ['a', 'b', 7]\n",
    "\n",
    "In [100]: list(d1.values())\n",
    "Out[100]: ['some value', [1, 2, 3, 4], 'an integer']"
   ]
  },
  {
   "cell_type": "code",
   "execution_count": null,
   "id": "7da69268-beaf-4fc5-a519-dd9093dfe1a4",
   "metadata": {},
   "outputs": [],
   "source": [
    "If you need to iterate over both the keys and values, you can use the items method to iterate over the keys and values as 2-tuples:"
   ]
  },
  {
   "cell_type": "code",
   "execution_count": null,
   "id": "7e88f7b9-b0ad-4a00-85ec-b2437124a470",
   "metadata": {},
   "outputs": [],
   "source": [
    "In [101]: list(d1.items())"
   ]
  },
  {
   "cell_type": "code",
   "execution_count": null,
   "id": "2184ab61-0261-47c0-91d4-8730d931cdb5",
   "metadata": {},
   "outputs": [],
   "source": [
    "You can merge one dictionary into another using the update method:"
   ]
  },
  {
   "cell_type": "code",
   "execution_count": null,
   "id": "a1763391-4616-4ba3-8f21-9d1984befa11",
   "metadata": {},
   "outputs": [],
   "source": [
    "In [102]: d1.update({\"b\": \"foo\", \"c\": 12})\n",
    "\n",
    "In [103]: d1"
   ]
  },
  {
   "cell_type": "code",
   "execution_count": null,
   "id": "0797970f-8e6c-425e-aa8a-cc225139519f",
   "metadata": {},
   "outputs": [],
   "source": [
    "The update method changes dictionaries in place, so any existing keys in the data passed to update will have their old values discarded."
   ]
  },
  {
   "cell_type": "markdown",
   "id": "e0d25f2a-788e-41af-b218-cec0ac0b30db",
   "metadata": {},
   "source": [
    "## Creating dictionaries from sequences"
   ]
  },
  {
   "cell_type": "code",
   "execution_count": null,
   "id": "221686cc-a109-4639-8290-64c70aa2583c",
   "metadata": {},
   "outputs": [],
   "source": [
    "It’s common to occasionally end up with two sequences that you want to pair up element-wise in a dictionary. As a first cut, you might write code like this:"
   ]
  },
  {
   "cell_type": "code",
   "execution_count": null,
   "id": "f560e2f5-64e4-4855-a63b-11040ed11ed0",
   "metadata": {},
   "outputs": [],
   "source": [
    "mapping = {}\n",
    "for key, value in zip(key_list, value_list):\n",
    "    mapping[key] = value\n"
   ]
  },
  {
   "cell_type": "code",
   "execution_count": null,
   "id": "d86f14e5-232e-41e0-99b2-02c82be46fb7",
   "metadata": {},
   "outputs": [],
   "source": [
    "Since a dictionary is essentially a collection of 2-tuples, the dict function accepts a list of 2-tuples:"
   ]
  },
  {
   "cell_type": "code",
   "execution_count": null,
   "id": "d3da27fe-818c-4e25-bfd1-33432b3d346d",
   "metadata": {},
   "outputs": [],
   "source": [
    "In [104]: tuples = zip(range(5), reversed(range(5)))\n",
    "\n",
    "In [105]: tuples\n",
    "Out[105]: <zip at 0x7fd3a4fc9000>\n",
    "\n",
    "In [106]: mapping = dict(tuples)\n",
    "\n",
    "In [107]: mapping\n",
    "Out[107]: {0: 4, 1: 3, 2: 2, 3: 1, 4: 0}"
   ]
  },
  {
   "cell_type": "code",
   "execution_count": null,
   "id": "d83a2b9f-12cf-46e5-9e12-782f2a7319db",
   "metadata": {},
   "outputs": [],
   "source": [
    "Later we’ll talk about dictionary comprehensions, which are another way to construct dictionaries."
   ]
  },
  {
   "cell_type": "markdown",
   "id": "de1a053b-11fa-44eb-afc0-80e8886a6cca",
   "metadata": {},
   "source": [
    "## Default values"
   ]
  },
  {
   "cell_type": "markdown",
   "id": "6e8fa442-58f4-4530-b13f-3359ba58e6ca",
   "metadata": {},
   "source": [
    "It’s common to have logic like:\n",
    "\n"
   ]
  },
  {
   "cell_type": "code",
   "execution_count": null,
   "id": "9bd26ce0-a9df-419e-be3e-abb87ab642f6",
   "metadata": {},
   "outputs": [],
   "source": [
    "if key in some_dict:\n",
    "    value = some_dict[key]\n",
    "else:\n",
    "    value = default_value"
   ]
  },
  {
   "cell_type": "code",
   "execution_count": null,
   "id": "ab510b0e-2d81-4f0c-96a1-dcc6a2c6202e",
   "metadata": {},
   "outputs": [],
   "source": [
    "Thus, the dictionary methods get and pop can take a default value to be returned, so that the above if-else block can be written simply as:"
   ]
  },
  {
   "cell_type": "code",
   "execution_count": null,
   "id": "8c71ad26-1cf0-4381-97d3-935f4f4ff263",
   "metadata": {},
   "outputs": [],
   "source": [
    "value = some_dict.get(key, default_value)"
   ]
  },
  {
   "cell_type": "code",
   "execution_count": null,
   "id": "12564eae-9b0c-4a71-9504-1566146672a9",
   "metadata": {},
   "outputs": [],
   "source": [
    "get by default will return None if the key is not present, while pop will raise an exception. With setting values, it may be that the values in a dictionary are another kind of collection, like a list. For example, you could imagine categorizing a list of words by their first letters as a dictionary of lists:"
   ]
  },
  {
   "cell_type": "code",
   "execution_count": null,
   "id": "f2e85e77-7051-4346-81da-fa0a18a04a57",
   "metadata": {},
   "outputs": [],
   "source": [
    "In [108]: words = [\"apple\", \"bat\", \"bar\", \"atom\", \"book\"]\n",
    "\n",
    "In [109]: by_letter = {}\n",
    "\n",
    "In [110]: for word in words:\n",
    "   .....:     letter = word[0]\n",
    "   .....:     if letter not in by_letter:\n",
    "   .....:         by_letter[letter] = [word]\n",
    "   .....:     else:\n",
    "   .....:         by_letter[letter].append(word)\n",
    "   .....:\n",
    "\n",
    "In [111]: by_letter"
   ]
  },
  {
   "cell_type": "code",
   "execution_count": null,
   "id": "77e57418-7d99-485d-b1c0-80b858af1948",
   "metadata": {},
   "outputs": [],
   "source": [
    "The setdefault dictionary method can be used to simplify this workflow. The preceding for loop can be rewritten as:"
   ]
  },
  {
   "cell_type": "code",
   "execution_count": null,
   "id": "44344486-2348-4295-bff0-f1af3ccd511c",
   "metadata": {},
   "outputs": [],
   "source": [
    "In [112]: by_letter = {}\n",
    "\n",
    "In [113]: for word in words:\n",
    "   .....:     letter = word[0]\n",
    "   .....:     by_letter.setdefault(letter, []).append(word)\n",
    "   .....:\n",
    "\n",
    "In [114]: by_letter"
   ]
  },
  {
   "cell_type": "code",
   "execution_count": null,
   "id": "eff4ebca-07de-4af9-90fe-0abec5f227cd",
   "metadata": {},
   "outputs": [],
   "source": [
    "The built-in collections module has a useful class, defaultdict, which makes this even easier. To create one, you pass a type or function for generating the default value for each slot in the dictionary:"
   ]
  },
  {
   "cell_type": "code",
   "execution_count": null,
   "id": "7eb7aff0-3d61-4776-8c86-146755754f9c",
   "metadata": {},
   "outputs": [],
   "source": [
    "In [115]: from collections import defaultdict\n",
    "\n",
    "In [116]: by_letter = defaultdict(list)\n",
    "\n",
    "In [117]: for word in words:\n",
    "   .....:     by_letter[word[0]].append(word)"
   ]
  },
  {
   "cell_type": "markdown",
   "id": "e1196297-ed8c-4c6d-af6a-ea4234970aa5",
   "metadata": {},
   "source": [
    "## Valid dictionary key types"
   ]
  },
  {
   "cell_type": "code",
   "execution_count": null,
   "id": "2a5cd500-acd6-4cb1-bb4a-2128ccde5a8d",
   "metadata": {},
   "outputs": [],
   "source": [
    "While the values of a dictionary can be any Python object, the keys generally have to be immutable objects like scalar types (int, float, string) or tuples (all the objects in the tuple need to be immutable, too). The technical term here is hashability. You can check whether an object is hashable (can be used as a key in a dictionary) with the hash function:"
   ]
  },
  {
   "cell_type": "code",
   "execution_count": null,
   "id": "37e3a236-f7e9-4aa7-956e-4c95048e0abc",
   "metadata": {},
   "outputs": [],
   "source": [
    "In [118]: hash(\"string\")\n",
    "Out[118]: -2343563706010950905\n",
    "\n",
    "In [119]: hash((1, 2, (2, 3)))\n",
    "Out[119]: -9209053662355515447\n",
    "\n",
    "In [120]: hash((1, 2, [2, 3])) # fails because lists are mutable\n"
   ]
  },
  {
   "cell_type": "code",
   "execution_count": null,
   "id": "7008afa7-2ab8-4250-9b97-a05178cbc3a9",
   "metadata": {},
   "outputs": [],
   "source": [
    "The hash values you see when using the hash function in general will depend on the Python version you are using."
   ]
  },
  {
   "cell_type": "code",
   "execution_count": null,
   "id": "4b968e61-3943-4f73-9bef-f88310e0a765",
   "metadata": {},
   "outputs": [],
   "source": [
    "To use a list as a key, one option is to convert it to a tuple, which can be hashed as long as its elements also can be:"
   ]
  },
  {
   "cell_type": "code",
   "execution_count": null,
   "id": "9fa84dd4-2c3c-4ebd-bc2f-08f749d9aac4",
   "metadata": {},
   "outputs": [],
   "source": [
    "In [121]: d = {}\n",
    "\n",
    "In [122]: d[tuple([1, 2, 3])] = 5\n",
    "\n",
    "In [123]: d\n",
    "Out[123]: {(1, 2, 3): 5}"
   ]
  },
  {
   "cell_type": "markdown",
   "id": "92d5c223-2e85-4353-8435-192e031a8fbb",
   "metadata": {},
   "source": [
    "## Set"
   ]
  },
  {
   "cell_type": "code",
   "execution_count": null,
   "id": "49a3b67a-9ae0-41c3-bde3-c04e3c1c743c",
   "metadata": {},
   "outputs": [],
   "source": [
    "A set is an unordered collection of unique elements. A set can be created in two ways: via the set function or via a set literal with curly braces:"
   ]
  },
  {
   "cell_type": "code",
   "execution_count": null,
   "id": "a7b7012b-811e-4896-b873-0b0ce049cd1a",
   "metadata": {},
   "outputs": [],
   "source": [
    "In [124]: set([2, 2, 2, 1, 3, 3])\n",
    "Out[124]: {1, 2, 3}\n",
    "\n",
    "In [125]: {2, 2, 2, 1, 3, 3}\n",
    "Out[125]: {1, 2, 3}"
   ]
  },
  {
   "cell_type": "code",
   "execution_count": null,
   "id": "c89b5e0a-72d9-4c7f-a6b4-58fbf733ddbc",
   "metadata": {},
   "outputs": [],
   "source": [
    "Sets support mathematical set operations like union, intersection, difference, and symmetric difference. Consider these two example sets:"
   ]
  },
  {
   "cell_type": "code",
   "execution_count": null,
   "id": "aa7066a7-d54d-44ee-8bea-24f2be7206ad",
   "metadata": {},
   "outputs": [],
   "source": [
    "In [126]: a = {1, 2, 3, 4, 5}\n",
    "\n",
    "In [127]: b = {3, 4, 5, 6, 7, 8}"
   ]
  },
  {
   "cell_type": "code",
   "execution_count": null,
   "id": "2d6473f1-35bc-4cc5-9eee-a693931aae37",
   "metadata": {},
   "outputs": [],
   "source": [
    "The union of these two sets is the set of distinct elements occurring in either set. This can be computed with either the union method or the | binary operator:"
   ]
  },
  {
   "cell_type": "code",
   "execution_count": null,
   "id": "660c5048-2ce6-4fe5-a56b-78646077c379",
   "metadata": {},
   "outputs": [],
   "source": [
    "In [128]: a.union(b)\n",
    "Out[128]: {1, 2, 3, 4, 5, 6, 7, 8}\n",
    "\n",
    "In [129]: a | b\n",
    "Out[129]: {1, 2, 3, 4, 5, 6, 7, 8}"
   ]
  },
  {
   "cell_type": "code",
   "execution_count": null,
   "id": "8b90cfea-62c8-4119-9833-7028018f7c29",
   "metadata": {},
   "outputs": [],
   "source": [
    "The intersection contains the elements occurring in both sets. The & operator or the intersection method can be used:"
   ]
  },
  {
   "cell_type": "code",
   "execution_count": null,
   "id": "c97671ee-315c-4f6e-9ee4-4da2feb5253a",
   "metadata": {},
   "outputs": [],
   "source": [
    "In [130]: a.intersection(b)\n",
    "Out[130]: {3, 4, 5}\n",
    "\n",
    "In [131]: a & b\n",
    "Out[131]: {3, 4, 5}"
   ]
  },
  {
   "cell_type": "code",
   "execution_count": null,
   "id": "5fa7b497-50e0-48ce-8032-8040c42bd43e",
   "metadata": {},
   "outputs": [],
   "source": [
    "See Table 3-1 for a list of commonly used set methods."
   ]
  },
  {
   "cell_type": "code",
   "execution_count": null,
   "id": "f79db1f6-b312-4668-9011-6efbb1dd99a0",
   "metadata": {},
   "outputs": [],
   "source": [
    "Table 3-1. Python set operations\n",
    "Function\tAlternative syntax\tDescription\n",
    "a.add(x)\tN/A\tAdd element x to set a\n",
    "a.clear()\tN/A\tReset set a to an empty state, discarding all of its elements\n",
    "a.remove(x)\tN/A\tRemove element x from set a\n",
    "a.pop()\tN/A\tRemove an arbitrary element from set a, raising KeyError if the set is empty\n",
    "a.union(b)\ta | b\tAll of the unique elements in a and b\n",
    "a.update(b)\ta |= b\tSet the contents of a to be the union of the elements in a and b\n",
    "a.intersection(b)\ta & b\tAll of the elements in both a and b\n",
    "a.intersection_update(b)\ta &= b\tSet the contents of a to be the intersection of the elements in a and b\n",
    "a.difference(b)\ta - b\tThe elements in a that are not in b\n",
    "a.difference_update(b)\ta -= b\tSet a to the elements in a that are not in b\n",
    "a.symmetric_difference(b)\ta ^ b\tAll of the elements in either a or b but not both\n",
    "a.symmetric_difference_update(b)\ta ^= b\tSet a to contain the elements in either a or b but not both\n",
    "a.issubset(b)\t<=\tTrue if the elements of a are all contained in b\n",
    "a.issuperset(b)\t>=\tTrue if the elements of b are all contained in a\n",
    "a.isdisjoint(b)\tN/A\tTrue if a and b have no elements in common"
   ]
  },
  {
   "cell_type": "code",
   "execution_count": null,
   "id": "ea63a261-15ae-4063-aa0b-ab0b409b43f1",
   "metadata": {},
   "outputs": [],
   "source": [
    "Note\n",
    "If you pass an input that is not a set to methods like union and intersection, Python will convert the input to a set before executing the operation. When using the binary operators, both objects must already be sets."
   ]
  },
  {
   "cell_type": "code",
   "execution_count": null,
   "id": "c5e78143-503a-4665-ac5a-5fbae27e16fc",
   "metadata": {},
   "outputs": [],
   "source": [
    "All of the logical set operations have in-place counterparts, which enable you to replace the contents of the set on the left side of the operation with the result. For very large sets, this may be more efficient:"
   ]
  },
  {
   "cell_type": "code",
   "execution_count": null,
   "id": "08bc2628-957b-45e8-9ed0-1c46fcfe2d65",
   "metadata": {},
   "outputs": [],
   "source": [
    "In [132]: c = a.copy()\n",
    "\n",
    "In [133]: c |= b\n",
    "\n",
    "In [134]: c\n",
    "Out[134]: {1, 2, 3, 4, 5, 6, 7, 8}\n",
    "\n",
    "In [135]: d = a.copy()\n",
    "\n",
    "In [136]: d &= b\n",
    "\n",
    "In [137]: d\n",
    "Out[137]: {3, 4, 5}"
   ]
  },
  {
   "cell_type": "code",
   "execution_count": null,
   "id": "e6548894-bfc2-4ca8-8d84-9529180e3a95",
   "metadata": {},
   "outputs": [],
   "source": [
    "Like dictionary keys, set elements generally must be immutable, and they must be hashable (which means that calling hash on a value does not raise an exception). In order to store list-like elements (or other mutable sequences) in a set, you can convert them to tuples:"
   ]
  },
  {
   "cell_type": "code",
   "execution_count": null,
   "id": "0ac554e8-88a1-4236-a71d-1f7da401618a",
   "metadata": {},
   "outputs": [],
   "source": [
    "In [138]: my_data = [1, 2, 3, 4]\n",
    "\n",
    "In [139]: my_set = {tuple(my_data)}\n",
    "\n",
    "In [140]: my_set\n",
    "Out[140]: {(1, 2, 3, 4)}"
   ]
  },
  {
   "cell_type": "code",
   "execution_count": null,
   "id": "d0afcc05-d7f2-47bf-a996-9e362a2f38dd",
   "metadata": {},
   "outputs": [],
   "source": [
    "You can also check if a set is a subset of (is contained in) or a superset of (contains all elements of) another set:"
   ]
  },
  {
   "cell_type": "code",
   "execution_count": null,
   "id": "89acbfa8-9625-4e8a-a43e-cfb0c0ab62aa",
   "metadata": {},
   "outputs": [],
   "source": [
    "In [141]: a_set = {1, 2, 3, 4, 5}\n",
    "\n",
    "In [142]: {1, 2, 3}.issubset(a_set)\n",
    "Out[142]: True\n",
    "\n",
    "In [143]: a_set.issuperset({1, 2, 3})\n",
    "Out[143]: True"
   ]
  },
  {
   "cell_type": "code",
   "execution_count": null,
   "id": "7b02cb4a-4f64-47f5-bc08-433c2ab74605",
   "metadata": {},
   "outputs": [],
   "source": [
    "Sets are equal if and only if their contents are equal:"
   ]
  },
  {
   "cell_type": "code",
   "execution_count": null,
   "id": "bbdde219-f1c0-450e-9e8e-721bec595acb",
   "metadata": {},
   "outputs": [],
   "source": [
    "In [144]: {1, 2, 3} == {3, 2, 1}\n",
    "Out[144]: True"
   ]
  },
  {
   "cell_type": "markdown",
   "id": "1a6df011-f1c5-42a1-8695-8ab29242a6c0",
   "metadata": {},
   "source": [
    "## Built-In Sequence Functions\n"
   ]
  },
  {
   "cell_type": "markdown",
   "id": "ab5000ad-b73f-425c-ac92-05d0bd5eb3e8",
   "metadata": {},
   "source": [
    "Python has a handful of useful sequence functions that you should familiarize yourself with and use at any opportunity."
   ]
  },
  {
   "cell_type": "code",
   "execution_count": null,
   "id": "ad3f122b-1b08-4569-8142-8af37ba1f605",
   "metadata": {},
   "outputs": [],
   "source": [
    "index = 0\n",
    "for value in collection:\n",
    "   # do something with value\n",
    "   index += 1"
   ]
  },
  {
   "cell_type": "code",
   "execution_count": null,
   "id": "af05271b-5432-4ab3-ac73-93a781cfc924",
   "metadata": {},
   "outputs": [],
   "source": [
    "Since this is so common, Python has a built-in function, enumerate, which returns a sequence of (i, value) tuples:"
   ]
  },
  {
   "cell_type": "code",
   "execution_count": null,
   "id": "72422af7-b2d3-4c43-9f78-02446995daff",
   "metadata": {},
   "outputs": [],
   "source": [
    "for index, value in enumerate(collection):\n",
    "   # do something with value"
   ]
  },
  {
   "cell_type": "markdown",
   "id": "7f09be7c-13af-4d12-beb0-8b196d5b3eed",
   "metadata": {},
   "source": [
    "## sorted\n"
   ]
  },
  {
   "cell_type": "code",
   "execution_count": null,
   "id": "54f421c3-5332-40dd-828b-0fed49a2d0a7",
   "metadata": {},
   "outputs": [],
   "source": [
    "The sorted function returns a new sorted list from the elements of any sequence:"
   ]
  },
  {
   "cell_type": "code",
   "execution_count": null,
   "id": "3100786a-2639-4000-957b-c94e3c965291",
   "metadata": {},
   "outputs": [],
   "source": [
    "In [145]: sorted([7, 1, 2, 6, 0, 3, 2])\n",
    "Out[145]: [0, 1, 2, 2, 3, 6, 7]\n",
    "\n",
    "In [146]: sorted(\"horse race\")\n",
    "Out[146]: [' ', 'a', 'c', 'e', 'e', 'h', 'o', 'r', 'r', 's']"
   ]
  },
  {
   "cell_type": "code",
   "execution_count": null,
   "id": "a85a6b8f-7524-4550-9946-8d037915e0b9",
   "metadata": {},
   "outputs": [],
   "source": [
    "The sorted function accepts the same arguments as the sort method on lists."
   ]
  },
  {
   "cell_type": "markdown",
   "id": "4daea743-3a92-4dec-a9b7-32a17c8d8bf8",
   "metadata": {},
   "source": [
    "## zip"
   ]
  },
  {
   "cell_type": "code",
   "execution_count": null,
   "id": "d533000a-9e60-43c4-9f82-e05c9e9be625",
   "metadata": {},
   "outputs": [],
   "source": [
    "zip “pairs” up the elements of a number of lists, tuples, or other sequences to create a list of tuples:"
   ]
  },
  {
   "cell_type": "code",
   "execution_count": null,
   "id": "4dd1f771-f382-43a7-a662-e7f29e1e9d59",
   "metadata": {},
   "outputs": [],
   "source": [
    "In [147]: seq1 = [\"foo\", \"bar\", \"baz\"]\n",
    "\n",
    "In [148]: seq2 = [\"one\", \"two\", \"three\"]\n",
    "\n",
    "In [149]: zipped = zip(seq1, seq2)\n",
    "\n",
    "In [150]: list(zipped)\n",
    "Out[150]: [('foo', 'one'), ('bar', 'two'), ('baz', 'three')]"
   ]
  },
  {
   "cell_type": "code",
   "execution_count": null,
   "id": "c8b33fda-a1a1-4d65-8788-79d626146ca6",
   "metadata": {},
   "outputs": [],
   "source": [
    "zip can take an arbitrary number of sequences, and the number of elements it produces is determined by the shortest sequence:"
   ]
  },
  {
   "cell_type": "code",
   "execution_count": null,
   "id": "25952bfe-e51a-4fc9-a196-524544758bfb",
   "metadata": {},
   "outputs": [],
   "source": [
    "In [151]: seq3 = [False, True]\n",
    "\n",
    "In [152]: list(zip(seq1, seq2, seq3))\n",
    "Out[152]: [('foo', 'one', False), ('bar', 'two', True)]"
   ]
  },
  {
   "cell_type": "code",
   "execution_count": null,
   "id": "f1fb6349-e017-4887-8455-ad789d3f8286",
   "metadata": {},
   "outputs": [],
   "source": [
    "A common use of zip is simultaneously iterating over multiple sequences, possibly also combined with enumerate:"
   ]
  },
  {
   "cell_type": "code",
   "execution_count": null,
   "id": "2853927c-dbc0-4cf6-baea-c8ddbf43baeb",
   "metadata": {},
   "outputs": [],
   "source": [
    "In [153]: for index, (a, b) in enumerate(zip(seq1, seq2)):\n",
    "   .....:     print(f\"{index}: {a}, {b}\")\n",
    "   .....:\n",
    "0: foo, one\n",
    "1: bar, two\n",
    "2: baz, three"
   ]
  },
  {
   "cell_type": "markdown",
   "id": "bdf7d336-05fe-4dfe-aa40-449f754b059c",
   "metadata": {},
   "source": [
    "## reversed\n"
   ]
  },
  {
   "cell_type": "code",
   "execution_count": null,
   "id": "464eb4f8-6383-45be-87a3-5cc90480523a",
   "metadata": {},
   "outputs": [],
   "source": [
    "reversed iterates over the elements of a sequence in reverse order:"
   ]
  },
  {
   "cell_type": "code",
   "execution_count": null,
   "id": "a3b408a2-206a-4086-aba7-3637d2e8b7e9",
   "metadata": {},
   "outputs": [],
   "source": [
    "In [154]: list(reversed(range(10)))\n",
    "Out[154]: [9, 8, 7, 6, 5, 4, 3, 2, 1, 0]"
   ]
  },
  {
   "cell_type": "code",
   "execution_count": null,
   "id": "1d3528c7-4255-43b7-85bd-53f1902cc6c6",
   "metadata": {},
   "outputs": [],
   "source": [
    "Keep in mind that reversed is a generator (to be discussed in some more detail later), so it does not create the reversed sequence until materialized (e.g., with list or a for loop)."
   ]
  },
  {
   "cell_type": "markdown",
   "id": "044a5e3a-d049-4003-9c90-aea931955ae6",
   "metadata": {},
   "source": [
    "## List, Set, and Dictionary Comprehensions"
   ]
  },
  {
   "cell_type": "code",
   "execution_count": 72,
   "id": "08104ae7-372a-412d-9269-3ea05ae8dcbc",
   "metadata": {},
   "outputs": [
    {
     "ename": "SyntaxError",
     "evalue": "invalid syntax (3464144565.py, line 1)",
     "output_type": "error",
     "traceback": [
      "\u001b[0;36m  Cell \u001b[0;32mIn[72], line 1\u001b[0;36m\u001b[0m\n\u001b[0;31m    List comprehensions are a convenient and widely used Python language feature. They allow you to concisely form a new list by filtering the elements of a collection, transforming the elements passing the filter into one concise expression. They take the basic form:\u001b[0m\n\u001b[0m         ^\u001b[0m\n\u001b[0;31mSyntaxError\u001b[0m\u001b[0;31m:\u001b[0m invalid syntax\n"
     ]
    }
   ],
   "source": [
    "List comprehensions are a convenient and widely used Python language feature. They allow you to concisely form a new list by filtering the elements of a collection, transforming the elements passing the filter into one concise expression. They take the basic form:"
   ]
  },
  {
   "cell_type": "code",
   "execution_count": null,
   "id": "50540e38-caa3-4a2f-929f-3dd90923c024",
   "metadata": {},
   "outputs": [],
   "source": [
    "[expr for value in collection if condition]"
   ]
  },
  {
   "cell_type": "code",
   "execution_count": null,
   "id": "22d48aef-e830-4386-a577-76a3fc844e53",
   "metadata": {},
   "outputs": [],
   "source": [
    "This is equivalent to the following for loop:\n",
    "\n"
   ]
  },
  {
   "cell_type": "code",
   "execution_count": null,
   "id": "dd64797e-f285-4327-8009-358fe5488ac2",
   "metadata": {},
   "outputs": [],
   "source": [
    "result = []\n",
    "for value in collection:\n",
    "    if condition:\n",
    "        result.append(expr)"
   ]
  },
  {
   "cell_type": "code",
   "execution_count": null,
   "id": "3ef97dae-66d3-401c-b12e-7955e69be9a0",
   "metadata": {},
   "outputs": [],
   "source": [
    "The filter condition can be omitted, leaving only the expression. For example, given a list of strings, we could filter out strings with length 2 or less and convert them to uppercase like this:"
   ]
  },
  {
   "cell_type": "code",
   "execution_count": null,
   "id": "f202885d-adcb-4be7-8340-6266b8d25e71",
   "metadata": {},
   "outputs": [],
   "source": [
    "In [155]: strings = [\"a\", \"as\", \"bat\", \"car\", \"dove\", \"python\"]\n",
    "\n",
    "In [156]: [x.upper() for x in strings if len(x) > 2]\n",
    "Out[156]: ['BAT', 'CAR', 'DOVE', 'PYTHON']"
   ]
  },
  {
   "cell_type": "code",
   "execution_count": null,
   "id": "351d2c42-459e-4eac-a4de-52832dfa58dd",
   "metadata": {},
   "outputs": [],
   "source": [
    "Set and dictionary comprehensions are a natural extension, producing sets and dictionaries in an idiomatically similar way instead of lists."
   ]
  },
  {
   "cell_type": "code",
   "execution_count": null,
   "id": "394a28f4-6dee-4d50-99b6-117d7f987dca",
   "metadata": {},
   "outputs": [],
   "source": [
    "A dictionary comprehension looks like this:"
   ]
  },
  {
   "cell_type": "code",
   "execution_count": null,
   "id": "e182195f-cdb7-44cf-90b8-0b49a3c09503",
   "metadata": {},
   "outputs": [],
   "source": [
    "dict_comp = {key-expr: value-expr for value in collection\n",
    "             if condition}"
   ]
  },
  {
   "cell_type": "code",
   "execution_count": null,
   "id": "2be20e78-42bd-44c3-875e-27f590621279",
   "metadata": {},
   "outputs": [],
   "source": [
    "A set comprehension looks like the equivalent list comprehension except with curly braces instead of square brackets:"
   ]
  },
  {
   "cell_type": "code",
   "execution_count": null,
   "id": "e4d2d9f4-a627-4ad3-81df-cc621d6de63e",
   "metadata": {},
   "outputs": [],
   "source": [
    "set_comp = {expr for value in collection if condition}"
   ]
  },
  {
   "cell_type": "code",
   "execution_count": null,
   "id": "4d1fdf15-d66b-4523-9898-36127afc1ea3",
   "metadata": {},
   "outputs": [],
   "source": [
    "Like list comprehensions, set and dictionary comprehensions are mostly conveniences, but they similarly can make code both easier to write and read. Consider the list of strings from before. Suppose we wanted a set containing just the lengths of the strings contained in the collection; we could easily compute this using a set comprehension:"
   ]
  },
  {
   "cell_type": "code",
   "execution_count": null,
   "id": "5b856cc6-39ca-4253-9f5c-7e9886a1b2a5",
   "metadata": {},
   "outputs": [],
   "source": [
    "In [157]: unique_lengths = {len(x) for x in strings}\n",
    "\n",
    "In [158]: unique_lengths\n",
    "Out[158]: {1, 2, 3, 4, 6}"
   ]
  },
  {
   "cell_type": "code",
   "execution_count": null,
   "id": "a7338d99-1e9c-4b59-96fc-a3bc276fa2b2",
   "metadata": {},
   "outputs": [],
   "source": [
    "We could also express this more functionally using the map function, introduced shortly:"
   ]
  },
  {
   "cell_type": "code",
   "execution_count": null,
   "id": "5368069b-7af4-416f-a7ab-44fcf8a1361b",
   "metadata": {},
   "outputs": [],
   "source": [
    "In [159]: set(map(len, strings))\n",
    "Out[159]: {1, 2, 3, 4, 6}"
   ]
  },
  {
   "cell_type": "code",
   "execution_count": null,
   "id": "ea301037-6731-48fa-8c38-e719d00c2be2",
   "metadata": {},
   "outputs": [],
   "source": [
    "As a simple dictionary comprehension example, we could create a lookup map of these strings for their locations in the list:"
   ]
  },
  {
   "cell_type": "code",
   "execution_count": null,
   "id": "e932b13b-e91b-4976-895f-8b8043e7efcd",
   "metadata": {},
   "outputs": [],
   "source": [
    "In [160]: loc_mapping = {value: index for index, value in enumerate(strings)}\n",
    "\n",
    "In [161]: loc_mapping\n",
    "Out[161]: {'a': 0, 'as': 1, 'bat': 2, 'car': 3, 'dove': 4, 'python': 5}"
   ]
  },
  {
   "cell_type": "markdown",
   "id": "160b77e8-bf82-4c7d-a824-ea66251efca8",
   "metadata": {},
   "source": [
    "## Nested list comprehensions"
   ]
  },
  {
   "cell_type": "code",
   "execution_count": null,
   "id": "162300e4-2373-427b-9ffc-19498ac73fd5",
   "metadata": {},
   "outputs": [],
   "source": [
    "Suppose we have a list of lists containing some English and Spanish names:"
   ]
  },
  {
   "cell_type": "code",
   "execution_count": null,
   "id": "f95bf137-970d-4a8c-b7ad-6ad22a3e4c94",
   "metadata": {},
   "outputs": [],
   "source": [
    "In [162]: all_data = [[\"John\", \"Emily\", \"Michael\", \"Mary\", \"Steven\"],\n",
    "   .....:             [\"Maria\", \"Juan\", \"Javier\", \"Natalia\", \"Pilar\"]]"
   ]
  },
  {
   "cell_type": "code",
   "execution_count": null,
   "id": "5fc38d7c-ba52-44a7-bc8b-f60aa64c25f1",
   "metadata": {},
   "outputs": [],
   "source": [
    "Suppose we wanted to get a single list containing all names with two or more a’s in them. We could certainly do this with a simple for loop:"
   ]
  },
  {
   "cell_type": "code",
   "execution_count": null,
   "id": "7af1e019-1ef1-436b-8983-64161deba72c",
   "metadata": {},
   "outputs": [],
   "source": [
    "In [163]: names_of_interest = []\n",
    "\n",
    "In [164]: for names in all_data:\n",
    "   .....:     enough_as = [name for name in names if name.count(\"a\") >= 2]\n",
    "   .....:     names_of_interest.extend(enough_as)\n",
    "   .....:\n",
    "\n",
    "In [165]: names_of_interest\n",
    "Out[165]: ['Maria', 'Natalia']"
   ]
  },
  {
   "cell_type": "code",
   "execution_count": null,
   "id": "99685779-e781-4d24-a292-1f2c92c25e3c",
   "metadata": {},
   "outputs": [],
   "source": [
    "You can actually wrap this whole operation up in a single nested list comprehension, which will look like:"
   ]
  },
  {
   "cell_type": "code",
   "execution_count": null,
   "id": "60c11c6a-3ffe-4ab6-bb39-17bb23127d3e",
   "metadata": {},
   "outputs": [],
   "source": [
    "In [166]: result = [name for names in all_data for name in names\n",
    "   .....:           if name.count(\"a\") >= 2]\n",
    "\n",
    "In [167]: result\n",
    "Out[167]: ['Maria', 'Natalia']"
   ]
  },
  {
   "cell_type": "code",
   "execution_count": null,
   "id": "f97d32af-8a22-40a4-91c0-c1d9e06a958f",
   "metadata": {},
   "outputs": [],
   "source": [
    "At first, nested list comprehensions are a bit hard to wrap your head around. The for parts of the list comprehension are arranged according to the order of nesting, and any filter condition is put at the end as before. Here is another example where we “flatten” a list of tuples of integers into a simple list of integers:"
   ]
  },
  {
   "cell_type": "code",
   "execution_count": null,
   "id": "b90351e3-9995-4323-ac74-280432b71caf",
   "metadata": {},
   "outputs": [],
   "source": [
    "In [168]: some_tuples = [(1, 2, 3), (4, 5, 6), (7, 8, 9)]\n",
    "\n",
    "In [169]: flattened = [x for tup in some_tuples for x in tup]\n",
    "\n",
    "In [170]: flattened\n",
    "Out[170]: [1, 2, 3, 4, 5, 6, 7, 8, 9]"
   ]
  },
  {
   "cell_type": "code",
   "execution_count": null,
   "id": "f840370d-30fa-483c-a531-06a4b3f72be0",
   "metadata": {},
   "outputs": [],
   "source": [
    "Keep in mind that the order of the for expressions would be the same if you wrote a nested for loop instead of a list comprehension:"
   ]
  },
  {
   "cell_type": "code",
   "execution_count": null,
   "id": "0d066454-9eb5-4480-a553-be8181af6a6e",
   "metadata": {},
   "outputs": [],
   "source": [
    "flattened = []\n",
    "\n",
    "for tup in some_tuples:\n",
    "    for x in tup:\n",
    "        flattened.append(x)"
   ]
  },
  {
   "cell_type": "code",
   "execution_count": null,
   "id": "1ed77068-0b9c-4b76-89c2-061e9ed66305",
   "metadata": {},
   "outputs": [],
   "source": [
    "You can have arbitrarily many levels of nesting, though if you have more than two or three levels of nesting, you should probably start to question whether this makes sense from a code readability standpoint. It’s important to distinguish the syntax just shown from a list comprehension inside a list comprehension, which is also perfectly valid:"
   ]
  },
  {
   "cell_type": "code",
   "execution_count": null,
   "id": "5ff47625-1688-4ea5-89cc-736c8246efe8",
   "metadata": {},
   "outputs": [],
   "source": [
    "In [172]: [[x for x in tup] for tup in some_tuples]\n",
    "Out[172]: [[1, 2, 3], [4, 5, 6], [7, 8, 9]]"
   ]
  },
  {
   "cell_type": "code",
   "execution_count": null,
   "id": "4fb77414-7f62-45c1-8ef6-bde41876b35c",
   "metadata": {},
   "outputs": [],
   "source": [
    "This produces a list of lists, rather than a flattened list of all of the inner elements."
   ]
  },
  {
   "cell_type": "markdown",
   "id": "ea35d0de-603b-4a52-a43a-5d8b3a53c4c5",
   "metadata": {},
   "source": [
    "# 3.2 Functions"
   ]
  },
  {
   "cell_type": "code",
   "execution_count": null,
   "id": "104cdd3e-7d41-485c-bd7d-be658d7572fb",
   "metadata": {},
   "outputs": [],
   "source": [
    "Functions are the primary and most important method of code organization and reuse in Python. As a rule of thumb, if you anticipate needing to repeat the same or very similar code more than once, it may be worth writing a reusable function. Functions can also help make your code more readable by giving a name to a group of Python statements."
   ]
  },
  {
   "cell_type": "code",
   "execution_count": null,
   "id": "b920579d-182d-4a58-8d6b-7789aa17aa40",
   "metadata": {},
   "outputs": [],
   "source": [
    "Functions are declared with the def keyword. A function contains a block of code with an optional use of the return keyword:"
   ]
  },
  {
   "cell_type": "code",
   "execution_count": null,
   "id": "44a8d732-0dc3-49b5-ace6-1a8f89a5ca79",
   "metadata": {},
   "outputs": [],
   "source": [
    "In [173]: def my_function(x, y):\n",
    "   .....:     return x + y"
   ]
  },
  {
   "cell_type": "code",
   "execution_count": null,
   "id": "aa09f41b-e138-437e-ad27-1eae1d1541f9",
   "metadata": {},
   "outputs": [],
   "source": [
    "When a line with return is reached, the value or expression after return is sent to the context where the function was called, for example:"
   ]
  },
  {
   "cell_type": "code",
   "execution_count": null,
   "id": "1426846b-6eb8-4f26-a878-e912a2e4b6e3",
   "metadata": {},
   "outputs": [],
   "source": [
    "In [174]: my_function(1, 2)\n",
    "Out[174]: 3\n",
    "\n",
    "In [175]: result = my_function(1, 2)\n",
    "\n",
    "In [176]: result\n",
    "Out[176]: 3"
   ]
  },
  {
   "cell_type": "code",
   "execution_count": null,
   "id": "7ffa24ee-5d2c-4598-b724-8878dc25ac3e",
   "metadata": {},
   "outputs": [],
   "source": [
    "There is no issue with having multiple return statements. If Python reaches the end of a function without encountering a return statement, None is returned automatically. For example:"
   ]
  },
  {
   "cell_type": "code",
   "execution_count": null,
   "id": "8e1e6754-23c8-42aa-bc39-bb0ffe7f4708",
   "metadata": {},
   "outputs": [],
   "source": [
    "In [177]: def function_without_return(x):\n",
    "   .....:     print(x)\n",
    "\n",
    "In [178]: result = function_without_return(\"hello!\")\n",
    "hello!\n",
    "\n",
    "In [179]: print(result)\n",
    "None"
   ]
  },
  {
   "cell_type": "code",
   "execution_count": null,
   "id": "97a1a285-6fa9-4ad0-b8e2-6a2e244c174d",
   "metadata": {},
   "outputs": [],
   "source": [
    "Each function can have positional arguments and keyword arguments. Keyword arguments are most commonly used to specify default values or optional arguments. Here we will define a function with an optional z argument with the default value 1.5:"
   ]
  },
  {
   "cell_type": "code",
   "execution_count": null,
   "id": "a749aeb2-02a1-4233-a207-87cc3154c93e",
   "metadata": {},
   "outputs": [],
   "source": [
    "def my_function2(x, y, z=1.5):\n",
    "    if z > 1:\n",
    "        return z * (x + y)\n",
    "    else:\n",
    "        return z / (x + y)"
   ]
  },
  {
   "cell_type": "code",
   "execution_count": null,
   "id": "c53907c4-0d96-4153-994a-ace042191679",
   "metadata": {},
   "outputs": [],
   "source": [
    "While keyword arguments are optional, all positional arguments must be specified when calling a function."
   ]
  },
  {
   "cell_type": "code",
   "execution_count": null,
   "id": "23c50b74-28f4-48c5-b75f-07d46865a30c",
   "metadata": {},
   "outputs": [],
   "source": [
    "You can pass values to the z argument with or without the keyword provided, though using the keyword is encouraged:"
   ]
  },
  {
   "cell_type": "code",
   "execution_count": null,
   "id": "0f4c1b96-eb6c-4e93-a380-fee48baf0567",
   "metadata": {},
   "outputs": [],
   "source": [
    "In [181]: my_function2(5, 6, z=0.7)\n",
    "Out[181]: 0.06363636363636363\n",
    "\n",
    "In [182]: my_function2(3.14, 7, 3.5)\n",
    "Out[182]: 35.49\n",
    "\n",
    "In [183]: my_function2(10, 20)\n",
    "Out[183]: 45.0"
   ]
  },
  {
   "cell_type": "code",
   "execution_count": null,
   "id": "8652969d-8b9c-468d-9ac1-b8acd2ff90df",
   "metadata": {},
   "outputs": [],
   "source": [
    "The main restriction on function arguments is that the keyword arguments must follow the positional arguments (if any). You can specify keyword arguments in any order. This frees you from having to remember the order in which the function arguments were specified. You need to remember only what their names are.\n"
   ]
  },
  {
   "cell_type": "markdown",
   "id": "e1e2b787-0906-4272-9da0-e162aabb7c6f",
   "metadata": {},
   "source": [
    "## Namespaces, Scope, and Local Functions"
   ]
  },
  {
   "cell_type": "code",
   "execution_count": null,
   "id": "b3a8607a-6a42-4f77-811c-901baf45001f",
   "metadata": {},
   "outputs": [],
   "source": [
    "Functions can access variables created inside the function as well as those outside the function in higher (or even global) scopes. An alternative and more descriptive name describing a variable scope in Python is a namespace. Any variables that are assigned within a function by default are assigned to the local namespace. The local namespace is created when the function is called and is immediately populated by the function’s arguments. After the function is finished, the local namespace is destroyed (with some exceptions that are outside the purview of this chapter). Consider the following function:\n",
    "\n"
   ]
  },
  {
   "cell_type": "code",
   "execution_count": null,
   "id": "72cab5e2-aa00-44bb-80f2-f642a626d589",
   "metadata": {},
   "outputs": [],
   "source": [
    "def func():\n",
    "    a = []\n",
    "    for i in range(5):\n",
    "        a.append(i)"
   ]
  },
  {
   "cell_type": "code",
   "execution_count": null,
   "id": "1b2a1071-f342-4a7c-9785-7a6cdda06aae",
   "metadata": {},
   "outputs": [],
   "source": [
    "When func() is called, the empty list a is created, five elements are appended, and then a is destroyed when the function exits. Suppose instead we had declared a as follows:"
   ]
  },
  {
   "cell_type": "code",
   "execution_count": null,
   "id": "d0ffafdc-3970-45ad-924d-e6879ffc3e08",
   "metadata": {},
   "outputs": [],
   "source": [
    "In [184]: a = []\n",
    "\n",
    "In [185]: def func():\n",
    "   .....:     for i in range(5):\n",
    "   .....:         a.append(i)"
   ]
  },
  {
   "cell_type": "code",
   "execution_count": null,
   "id": "1e8a0647-c642-4eb5-94af-2c5c1d9d703a",
   "metadata": {},
   "outputs": [],
   "source": [
    "Each call to func will modify list a:"
   ]
  },
  {
   "cell_type": "code",
   "execution_count": null,
   "id": "05e5074e-f6a4-4400-b737-c400644fa9b8",
   "metadata": {},
   "outputs": [],
   "source": [
    "In [186]: func()\n",
    "\n",
    "In [187]: a\n",
    "Out[187]: [0, 1, 2, 3, 4]\n",
    "\n",
    "In [188]: func()\n",
    "\n",
    "In [189]: a\n",
    "Out[189]: [0, 1, 2, 3, 4, 0, 1, 2, 3, 4]"
   ]
  },
  {
   "cell_type": "code",
   "execution_count": null,
   "id": "234702d3-0435-4cc2-928f-c922c84bd97a",
   "metadata": {},
   "outputs": [],
   "source": [
    "Assigning variables outside of the function’s scope is possible, but those variables must be declared explicitly using either the global or nonlocal keywords:"
   ]
  },
  {
   "cell_type": "code",
   "execution_count": null,
   "id": "4d380d84-b169-42c3-8c14-37314f7ea6b7",
   "metadata": {},
   "outputs": [],
   "source": [
    "In [190]: a = None\n",
    "\n",
    "In [191]: def bind_a_variable():\n",
    "   .....:     global a\n",
    "   .....:     a = []\n",
    "   .....: bind_a_variable()\n",
    "   .....:\n",
    "\n",
    "In [192]: print(a)\n",
    "[]"
   ]
  },
  {
   "cell_type": "code",
   "execution_count": null,
   "id": "9d720874-e785-4e8a-b2b4-f58ba1f53fc8",
   "metadata": {},
   "outputs": [],
   "source": [
    "nonlocal allows a function to modify variables defined in a higher-level scope that is not global. Since its use is somewhat esoteric (I never use it in this book), I refer you to the Python documentation to learn more about it."
   ]
  },
  {
   "cell_type": "code",
   "execution_count": null,
   "id": "558b33e8-0b06-4c12-a17d-7094819fd7c4",
   "metadata": {},
   "outputs": [],
   "source": [
    "Caution\n",
    "I generally discourage use of the global keyword. Typically, global variables are used to store some kind of state in a system. If you find yourself using a lot of them, it may indicate a need for object-oriented programming (using classes)."
   ]
  },
  {
   "cell_type": "markdown",
   "id": "add56454-aa55-41a6-8cd9-890a81b248b7",
   "metadata": {},
   "source": [
    "## Returning Multiple Values"
   ]
  },
  {
   "cell_type": "code",
   "execution_count": null,
   "id": "0ded9bad-ab79-4d91-ba70-501ff95f792f",
   "metadata": {},
   "outputs": [],
   "source": [
    "When I first programmed in Python after having programmed in Java and C++, one of my favorite features was the ability to return multiple values from a function with simple syntax. Here’s an example:"
   ]
  },
  {
   "cell_type": "code",
   "execution_count": null,
   "id": "08cd91f4-9689-4215-9209-bcd98145fefc",
   "metadata": {},
   "outputs": [],
   "source": [
    "def f():\n",
    "    a = 5\n",
    "    b = 6\n",
    "    c = 7\n",
    "    return a, b, c\n",
    "\n",
    "a, b, c = f()"
   ]
  },
  {
   "cell_type": "code",
   "execution_count": null,
   "id": "5afd1637-4281-4e7a-be1f-4806a348abb5",
   "metadata": {},
   "outputs": [],
   "source": [
    "In data analysis and other scientific applications, you may find yourself doing this often. What’s happening here is that the function is actually just returning one object, a tuple, which is then being unpacked into the result variables. In the preceding example, we could have done this instead:"
   ]
  },
  {
   "cell_type": "code",
   "execution_count": null,
   "id": "cd68f35f-2dc2-4512-9ca1-7d828df83dc9",
   "metadata": {},
   "outputs": [],
   "source": [
    "return_value = f()"
   ]
  },
  {
   "cell_type": "code",
   "execution_count": null,
   "id": "0e0b27bb-5192-4efc-aa3f-a081b3469395",
   "metadata": {},
   "outputs": [],
   "source": [
    "In this case, return_value would be a 3-tuple with the three returned variables. A potentially attractive alternative to returning multiple values like before might be to return a dictionary instead:"
   ]
  },
  {
   "cell_type": "code",
   "execution_count": null,
   "id": "d075f338-1d2d-4310-8bfd-468c60aac5aa",
   "metadata": {},
   "outputs": [],
   "source": [
    "def f():\n",
    "    a = 5\n",
    "    b = 6\n",
    "    c = 7\n",
    "    return {\"a\" : a, \"b\" : b, \"c\" : c}"
   ]
  },
  {
   "cell_type": "code",
   "execution_count": null,
   "id": "30b5af7c-59a2-47bf-a47f-044a126d9e44",
   "metadata": {},
   "outputs": [],
   "source": [
    "This alternative technique can be useful depending on what you are trying to do.\n",
    "\n"
   ]
  },
  {
   "cell_type": "markdown",
   "id": "6148feb0-ef48-48a2-906a-2f13b5834a49",
   "metadata": {},
   "source": [
    "## Functions Are Objects"
   ]
  },
  {
   "cell_type": "code",
   "execution_count": null,
   "id": "abdc059d-f9fb-4891-af0a-5c3a593a7ed7",
   "metadata": {},
   "outputs": [],
   "source": [
    "Since Python functions are objects, many constructs can be easily expressed that are difficult to do in other languages. Suppose we were doing some data cleaning and needed to apply a bunch of transformations to the following list of strings:"
   ]
  },
  {
   "cell_type": "code",
   "execution_count": null,
   "id": "47582076-2ca1-4340-abb8-03091b24d2ff",
   "metadata": {},
   "outputs": [],
   "source": [
    "and needed to apply a bunch of transformations to the following list of strings:\n",
    "\n",
    "In [193]: states = [\"   Alabama \", \"Georgia!\", \"Georgia\", \"georgia\", \"FlOrIda\",\n",
    "   .....:           \"south   carolina##\", \"West virginia?\"]"
   ]
  },
  {
   "cell_type": "code",
   "execution_count": null,
   "id": "0e8bec93-25b6-40bc-b1de-d771acad7ec5",
   "metadata": {},
   "outputs": [],
   "source": [
    "Anyone who has ever worked with user-submitted survey data has seen messy results like these. Lots of things need to happen to make this list of strings uniform and ready for analysis: stripping whitespace, removing punctuation symbols, and standardizing proper capitalization. One way to do this is to use built-in string methods along with the re standard library module for regular expressions:"
   ]
  },
  {
   "cell_type": "code",
   "execution_count": null,
   "id": "06034fe7-dcdc-4749-98a3-52c9ac62ad01",
   "metadata": {},
   "outputs": [],
   "source": [
    "import re\n",
    "\n",
    "def clean_strings(strings):\n",
    "    result = []\n",
    "    for value in strings:\n",
    "        value = value.strip()\n",
    "        value = re.sub(\"[!#?]\", \"\", value)\n",
    "        value = value.title()\n",
    "        result.append(value)\n",
    "    return result"
   ]
  },
  {
   "cell_type": "code",
   "execution_count": null,
   "id": "074e2ac0-397c-4dd5-b951-a2f34859a7eb",
   "metadata": {},
   "outputs": [],
   "source": [
    "The result looks like this:"
   ]
  },
  {
   "cell_type": "code",
   "execution_count": null,
   "id": "b19ec91d-9a6d-4c54-9f1b-200f3a342c00",
   "metadata": {},
   "outputs": [],
   "source": [
    "In [195]: clean_strings(states)"
   ]
  },
  {
   "cell_type": "code",
   "execution_count": null,
   "id": "b4308efa-b267-42e6-a6c4-fb4a0b7c25af",
   "metadata": {},
   "outputs": [],
   "source": [
    "An alternative approach that you may find useful is to make a list of the operations you want to apply to a particular set of strings:"
   ]
  },
  {
   "cell_type": "code",
   "execution_count": null,
   "id": "d667e898-b975-44cd-896e-b61ca97b93e4",
   "metadata": {},
   "outputs": [],
   "source": [
    "def remove_punctuation(value):\n",
    "    return re.sub(\"[!#?]\", \"\", value)\n",
    "\n",
    "clean_ops = [str.strip, remove_punctuation, str.title]\n",
    "\n",
    "def clean_strings(strings, ops):\n",
    "    result = []\n",
    "    for value in strings:\n",
    "        for func in ops:\n",
    "            value = func(value)\n",
    "        result.append(value)\n",
    "    return result"
   ]
  },
  {
   "cell_type": "code",
   "execution_count": null,
   "id": "ff8fa9e5-45f8-4f6d-bdf4-800850144577",
   "metadata": {},
   "outputs": [],
   "source": [
    "Then we have the following:"
   ]
  },
  {
   "cell_type": "code",
   "execution_count": null,
   "id": "a31deeca-4189-4feb-9769-7b1ef055ebfd",
   "metadata": {},
   "outputs": [],
   "source": [
    "In [197]: clean_strings(states, clean_ops)\n",
    "Out[197]: \n",
    "['Alabama',\n",
    " 'Georgia',\n",
    " 'Georgia',\n",
    " 'Georgia',\n",
    " 'Florida',\n",
    " 'South   Carolina',\n",
    " 'West Virginia']"
   ]
  },
  {
   "cell_type": "code",
   "execution_count": null,
   "id": "2f07dda7-1e15-4e16-a87c-e52d3a031fe7",
   "metadata": {},
   "outputs": [],
   "source": [
    "A more functional pattern like this enables you to easily modify how the strings are transformed at a very high level. The clean_strings function is also now more reusable and generic.\n",
    "\n"
   ]
  },
  {
   "cell_type": "code",
   "execution_count": null,
   "id": "c996624d-e683-4eee-8052-086e3f9d3b84",
   "metadata": {},
   "outputs": [],
   "source": [
    "You can use functions as arguments to other functions like the built-in map function, which applies a function to a sequence of some kind:"
   ]
  },
  {
   "cell_type": "code",
   "execution_count": null,
   "id": "b504c369-c6b5-4200-b7b5-694712cacd00",
   "metadata": {},
   "outputs": [],
   "source": [
    "In [198]: for x in map(remove_punctuation, states):\n",
    "   .....:     print(x)\n",
    "Alabama \n",
    "Georgia\n",
    "Georgia\n",
    "georgia\n",
    "FlOrIda\n",
    "south   carolina\n",
    "West virginia"
   ]
  },
  {
   "cell_type": "code",
   "execution_count": null,
   "id": "586b37ae-ea54-4c5f-b4e5-bc9c9af240dd",
   "metadata": {},
   "outputs": [],
   "source": [
    "map can be used as an alternative to list comprehensions without any filter."
   ]
  },
  {
   "cell_type": "markdown",
   "id": "e2cb1245-e1d5-4069-aabf-3fbb5511efa2",
   "metadata": {},
   "source": [
    "## Anonymous (Lambda) Functions"
   ]
  },
  {
   "cell_type": "code",
   "execution_count": null,
   "id": "6172fec2-44cd-493e-b252-1aa67e604198",
   "metadata": {},
   "outputs": [],
   "source": [
    "Python has support for so-called anonymous or lambda functions, which are a way of writing functions consisting of a single statement, the result of which is the return value. They are defined with the lambda keyword, which has no meaning other than “we are declaring an anonymous function”:\n",
    "\n"
   ]
  },
  {
   "cell_type": "code",
   "execution_count": null,
   "id": "4e32abe1-8555-4bd5-b05f-08c9c295713c",
   "metadata": {},
   "outputs": [],
   "source": [
    "In [199]: def short_function(x):\n",
    "   .....:     return x * 2\n",
    "\n",
    "In [200]: equiv_anon = lambda x: x * 2"
   ]
  },
  {
   "cell_type": "code",
   "execution_count": null,
   "id": "2acf34e1-8770-423c-8402-a67215980632",
   "metadata": {},
   "outputs": [],
   "source": [
    "I usually refer to these as lambda functions in the rest of the book. They are especially convenient in data analysis because, as you’ll see, there are many cases where data transformation functions will take functions as arguments. It’s often less typing (and clearer) to pass a lambda function as opposed to writing a full-out function declaration or even assigning the lambda function to a local variable. Consider this example:\n",
    "\n"
   ]
  },
  {
   "cell_type": "code",
   "execution_count": null,
   "id": "375d0c8f-8c81-41bd-88d7-14912915e192",
   "metadata": {},
   "outputs": [],
   "source": [
    "In [201]: def apply_to_list(some_list, f):\n",
    "   .....:     return [f(x) for x in some_list]\n",
    "\n",
    "In [202]: ints = [4, 0, 1, 5, 6]\n",
    "\n",
    "In [203]: apply_to_list(ints, lambda x: x * 2)\n",
    "Out[203]: [8, 0, 2, 10, 12]"
   ]
  },
  {
   "cell_type": "code",
   "execution_count": null,
   "id": "47460def-b950-44ab-ae0f-d2ccaf4ebc33",
   "metadata": {},
   "outputs": [],
   "source": [
    "You could also have written [x * 2 for x in ints], but here we were able to succinctly pass a custom operator to the apply_to_list function.\n",
    "\n"
   ]
  },
  {
   "cell_type": "code",
   "execution_count": null,
   "id": "d4c7ab4d-6b24-42b8-859e-035042836e5e",
   "metadata": {},
   "outputs": [],
   "source": [
    "As another example, suppose you wanted to sort a collection of strings by the number of distinct letters in each string:"
   ]
  },
  {
   "cell_type": "code",
   "execution_count": null,
   "id": "819ad35b-3738-4db2-b15d-804aeb47e76d",
   "metadata": {},
   "outputs": [],
   "source": [
    "In [204]: strings = [\"foo\", \"card\", \"bar\", \"aaaa\", \"abab\"]"
   ]
  },
  {
   "cell_type": "code",
   "execution_count": null,
   "id": "b3e9dd89-896a-4a48-9775-fbdae6686d5a",
   "metadata": {},
   "outputs": [],
   "source": [
    "Here we could pass a lambda function to the list’s sort method:"
   ]
  },
  {
   "cell_type": "code",
   "execution_count": null,
   "id": "630ecb35-8481-44fc-8a1b-df94739bb5ef",
   "metadata": {},
   "outputs": [],
   "source": [
    "In [205]: strings.sort(key=lambda x: len(set(x)))\n",
    "\n",
    "In [206]: strings\n",
    "Out[206]: ['aaaa', 'foo', 'abab', 'bar', 'card']\n"
   ]
  },
  {
   "cell_type": "markdown",
   "id": "a96ba8f3-c82a-459b-9a51-3eb882e29bcb",
   "metadata": {},
   "source": [
    "## Generators"
   ]
  },
  {
   "cell_type": "code",
   "execution_count": null,
   "id": "6e9703a3-8dcd-4d00-8f81-429f69ab59f8",
   "metadata": {},
   "outputs": [],
   "source": [
    "Many objects in Python support iteration, such as over objects in a list or lines in a file. This is accomplished by means of the iterator protocol, a generic way to make objects iterable. For example, iterating over a dictionary yields the dictionary keys:"
   ]
  },
  {
   "cell_type": "code",
   "execution_count": null,
   "id": "31897c34-a0ca-4dd2-a5e2-f9c756bab407",
   "metadata": {},
   "outputs": [],
   "source": [
    "In [207]: some_dict = {\"a\": 1, \"b\": 2, \"c\": 3}\n",
    "\n",
    "In [208]: for key in some_dict:\n",
    "   .....:     print(key)\n",
    "a\n",
    "b\n",
    "c"
   ]
  },
  {
   "cell_type": "code",
   "execution_count": null,
   "id": "65620b47-e899-4afe-bad8-6c872fdc644b",
   "metadata": {},
   "outputs": [],
   "source": [
    "When you write for key in some_dict, the Python interpreter first attempts to create an iterator out of some_dict:"
   ]
  },
  {
   "cell_type": "code",
   "execution_count": null,
   "id": "1e22ac64-ce5c-42c8-9bd7-b6a7e9007cd3",
   "metadata": {},
   "outputs": [],
   "source": [
    "In [209]: dict_iterator = iter(some_dict)\n",
    "\n",
    "In [210]: dict_iterator\n",
    "Out[210]: <dict_keyiterator at 0x7fd3a4ef2ca0>"
   ]
  },
  {
   "cell_type": "code",
   "execution_count": null,
   "id": "2ba795fb-b5ce-4d8f-98ed-47cbda9ca355",
   "metadata": {},
   "outputs": [],
   "source": [
    "An iterator is any object that will yield objects to the Python interpreter when used in a context like a for loop. Most methods expecting a list or list-like object will also accept any iterable object. This includes built-in methods such as min, max, and sum, and type constructors like list and tuple:"
   ]
  },
  {
   "cell_type": "code",
   "execution_count": null,
   "id": "dca3cf37-a6bd-4de6-a4cc-8722a38677db",
   "metadata": {},
   "outputs": [],
   "source": [
    "In [211]: list(dict_iterator)\n",
    "Out[211]: ['a', 'b', 'c']"
   ]
  },
  {
   "cell_type": "code",
   "execution_count": null,
   "id": "228da1fd-0019-4f43-9197-c824da9d0b2d",
   "metadata": {},
   "outputs": [],
   "source": [
    "A generator is a convenient way, similar to writing a normal function, to construct a new iterable object. Whereas normal functions execute and return a single result at a time, generators can return a sequence of multiple values by pausing and resuming execution each time the generator is used. To create a generator, use the yield keyword instead of return in a function:"
   ]
  },
  {
   "cell_type": "code",
   "execution_count": null,
   "id": "d310aa14-d1df-4667-a172-4053630ac4a8",
   "metadata": {},
   "outputs": [],
   "source": [
    "def squares(n=10):\n",
    "    print(f\"Generating squares from 1 to {n ** 2}\")\n",
    "    for i in range(1, n + 1):\n",
    "        yield i ** 2"
   ]
  },
  {
   "cell_type": "code",
   "execution_count": null,
   "id": "978b38c7-bd5f-4efb-b949-8d32734cedbf",
   "metadata": {},
   "outputs": [],
   "source": [
    "When you actually call the generator, no code is immediately executed:"
   ]
  },
  {
   "cell_type": "code",
   "execution_count": null,
   "id": "709860ef-6eec-4d6b-92dc-7622e9304d93",
   "metadata": {},
   "outputs": [],
   "source": [
    "In [213]: gen = squares()\n",
    "\n",
    "In [214]: gen\n",
    "Out[214]: <generator object squares at 0x7fd3a4df5620>"
   ]
  },
  {
   "cell_type": "code",
   "execution_count": null,
   "id": "faa463b5-a087-4a51-b360-edbe5d6b07b7",
   "metadata": {},
   "outputs": [],
   "source": [
    "It is not until you request elements from the generator that it begins executing its code:"
   ]
  },
  {
   "cell_type": "code",
   "execution_count": null,
   "id": "4f448401-6e76-4311-b6b6-38046c5b3954",
   "metadata": {},
   "outputs": [],
   "source": [
    "In [215]: for x in gen:\n",
    "   .....:     print(x, end=\" \")\n",
    "Generating squares from 1 to 100\n",
    "1 4 9 16 25 36 49 64 81 100\n"
   ]
  },
  {
   "cell_type": "code",
   "execution_count": null,
   "id": "fd39582d-27de-4526-bc91-130f84bada8d",
   "metadata": {},
   "outputs": [],
   "source": [
    "Note\n",
    "Since generators produce output one element at a time versus an entire list all at once, it can help your program use less memory."
   ]
  },
  {
   "cell_type": "markdown",
   "id": "d9873e05-72aa-4712-b7cf-e76eb2b602f7",
   "metadata": {},
   "source": [
    "## Generator expressions\n"
   ]
  },
  {
   "cell_type": "code",
   "execution_count": null,
   "id": "170a819c-ef96-4bf8-b34d-5b81de3f85d0",
   "metadata": {},
   "outputs": [],
   "source": [
    "Another way to make a generator is by using a generator expression. This is a generator analogue to list, dictionary, and set comprehensions. To create one, enclose what would otherwise be a list comprehension within parentheses instead of brackets:\n",
    "\n"
   ]
  },
  {
   "cell_type": "code",
   "execution_count": null,
   "id": "8bfbdf23-fc03-4151-9fbc-6cadf9c1cd10",
   "metadata": {},
   "outputs": [],
   "source": [
    "In [216]: gen = (x ** 2 for x in range(100))\n",
    "\n",
    "In [217]: gen\n",
    "Out[217]: <generator object <genexpr> at 0x7fd3a4df5000>"
   ]
  },
  {
   "cell_type": "code",
   "execution_count": null,
   "id": "2476490e-18f6-41f1-ad9e-759251d53081",
   "metadata": {},
   "outputs": [],
   "source": [
    "This is equivalent to the following more verbose generator:"
   ]
  },
  {
   "cell_type": "code",
   "execution_count": null,
   "id": "8551e7c1-a7ee-43c6-a561-088c30480071",
   "metadata": {},
   "outputs": [],
   "source": [
    "def _make_gen():\n",
    "    for x in range(100):\n",
    "        yield x ** 2\n",
    "gen = _make_gen()"
   ]
  },
  {
   "cell_type": "code",
   "execution_count": null,
   "id": "2f25014a-7018-4ad1-9f34-3cb36ad5de13",
   "metadata": {},
   "outputs": [],
   "source": [
    "Generator expressions can be used instead of list comprehensions as function arguments in some cases:"
   ]
  },
  {
   "cell_type": "code",
   "execution_count": null,
   "id": "f34c0709-45c7-44f9-a8f5-5448b9daa17b",
   "metadata": {},
   "outputs": [],
   "source": [
    "In [218]: sum(x ** 2 for x in range(100))\n",
    "Out[218]: 328350\n",
    "\n",
    "In [219]: dict((i, i ** 2) for i in range(5))\n",
    "Out[219]: {0: 0, 1: 1, 2: 4, 3: 9, 4: 16}"
   ]
  },
  {
   "cell_type": "code",
   "execution_count": null,
   "id": "b27f69f0-7ad8-47cc-a1b7-6638b5dc6386",
   "metadata": {},
   "outputs": [],
   "source": [
    "Depending on the number of elements produced by the comprehension expression, the generator version can sometimes be meaningfully faster."
   ]
  },
  {
   "cell_type": "markdown",
   "id": "1d698493-1649-4133-ab8a-126de5200423",
   "metadata": {},
   "source": [
    "## itertools module"
   ]
  },
  {
   "cell_type": "code",
   "execution_count": null,
   "id": "bc13cb97-d28a-4b4d-8162-8d15f80120e1",
   "metadata": {},
   "outputs": [],
   "source": [
    "The standard library itertools module has a collection of generators for many common data algorithms. For example, groupby takes any sequence and a function, grouping consecutive elements in the sequence by return value of the function. Here’s an example:"
   ]
  },
  {
   "cell_type": "code",
   "execution_count": null,
   "id": "ad5b31c4-b081-4475-b8fe-821969d4febe",
   "metadata": {},
   "outputs": [],
   "source": [
    "In [220]: import itertools\n",
    "\n",
    "In [221]: def first_letter(x):\n",
    "   .....:     return x[0]\n",
    "\n",
    "In [222]: names = [\"Alan\", \"Adam\", \"Wes\", \"Will\", \"Albert\", \"Steven\"]\n",
    "\n",
    "In [223]: for letter, names in itertools.groupby(names, first_letter):\n",
    "   .....:     print(letter, list(names)) # names is a generator\n",
    "A ['Alan', 'Adam']\n",
    "W ['Wes', 'Will']\n",
    "A ['Albert']\n",
    "S ['Steven']"
   ]
  },
  {
   "cell_type": "code",
   "execution_count": null,
   "id": "f5dcb8f5-eef0-42b6-83bb-dc61826a27c8",
   "metadata": {},
   "outputs": [],
   "source": [
    "See Table 3-2 for a list of a few other itertools functions I’ve frequently found helpful. You may like to check out the official Python documentation for more on this useful built-in utility module."
   ]
  },
  {
   "cell_type": "code",
   "execution_count": null,
   "id": "4788515a-001c-4d2e-a773-d397a151a85f",
   "metadata": {},
   "outputs": [],
   "source": [
    "Table 3-2. Some useful itertools functions\n",
    "Function\tDescription\n",
    "chain(*iterables)\tGenerates a sequence by chaining iterators together. Once elements from the first iterator are exhausted, elements from the next iterator are returned, and so on.\n",
    "combinations(iterable, k)\tGenerates a sequence of all possible k-tuples of elements in the iterable, ignoring order and without replacement (see also the companion function combinations_with_replacement).\n",
    "permutations(iterable, k)\tGenerates a sequence of all possible k-tuples of elements in the iterable, respecting order.\n",
    "groupby(iterable[, keyfunc])\tGenerates (key, sub-iterator) for each unique key.\n",
    "product(*iterables, repeat=1)\tGenerates the Cartesian product of the input iterables as tuples, similar to a nested for loop."
   ]
  },
  {
   "cell_type": "markdown",
   "id": "736c69c2-f3f9-4dc2-a450-68f91d324cbe",
   "metadata": {},
   "source": [
    "## Errors and Exception Handling"
   ]
  },
  {
   "cell_type": "code",
   "execution_count": null,
   "id": "881d008a-f4de-4f00-9460-f70c290a2cff",
   "metadata": {},
   "outputs": [],
   "source": [
    "Handling Python errors or exceptions gracefully is an important part of building robust programs. In data analysis applications, many functions work only on certain kinds of input. As an example, Python’s float function is capable of casting a string to a floating-point number, but it fails with ValueError on improper inputs:"
   ]
  },
  {
   "cell_type": "code",
   "execution_count": null,
   "id": "2b9d57d7-9fc3-423b-aa07-2b88da376cae",
   "metadata": {},
   "outputs": [],
   "source": [
    "In [224]: float(\"1.2345\")\n",
    "Out[224]: 1.2345\n",
    "\n",
    "In [225]: float(\"something\")\n",
    "---------------------------------------------------------------------------\n",
    "ValueError                                Traceback (most recent call last)\n",
    "<ipython-input-225-5ccfe07933f4> in <module>\n",
    "----> 1 float(\"something\")\n",
    "ValueError: could not convert string to float: 'something'"
   ]
  },
  {
   "cell_type": "code",
   "execution_count": null,
   "id": "dc3c09ba-9bb0-4946-80a8-05484a009bf1",
   "metadata": {},
   "outputs": [],
   "source": [
    "Suppose we wanted a version of float that fails gracefully, returning the input argument. We can do this by writing a function that encloses the call to float in a try/except block (execute this code in IPython):"
   ]
  },
  {
   "cell_type": "code",
   "execution_count": null,
   "id": "17a11b25-05de-4f4e-8d9d-fee969fb2e93",
   "metadata": {},
   "outputs": [],
   "source": [
    "def attempt_float(x):\n",
    "    try:\n",
    "        return float(x)\n",
    "    except:\n",
    "        return x"
   ]
  },
  {
   "cell_type": "code",
   "execution_count": null,
   "id": "9800d794-52d0-41ce-b709-1a6fdcf20004",
   "metadata": {},
   "outputs": [],
   "source": [
    "The code in the except part of the block will only be executed if float(x) raises an exception:"
   ]
  },
  {
   "cell_type": "code",
   "execution_count": null,
   "id": "7fff6043-444f-4cb1-b016-9e0085b4e9da",
   "metadata": {},
   "outputs": [],
   "source": [
    "In [227]: attempt_float(\"1.2345\")\n",
    "Out[227]: 1.2345\n",
    "\n",
    "In [228]: attempt_float(\"something\")\n",
    "Out[228]: 'something'"
   ]
  },
  {
   "cell_type": "code",
   "execution_count": null,
   "id": "424c68ab-0eff-411a-adcb-1d1cb34ff54f",
   "metadata": {},
   "outputs": [],
   "source": [
    "You might notice that float can raise exceptions other than ValueError:"
   ]
  },
  {
   "cell_type": "code",
   "execution_count": null,
   "id": "40622626-2f3b-4fb0-aadd-d123dddd9e07",
   "metadata": {},
   "outputs": [],
   "source": [
    "\n",
    "\n",
    "In [229]: float((1, 2))\n",
    "---------------------------------------------------------------------------\n",
    "TypeError                                 Traceback (most recent call last)\n",
    "<ipython-input-229-82f777b0e564> in <module>\n",
    "----> 1 float((1, 2))\n",
    "TypeError: float() argument must be a string or a real number, not 'tuple'"
   ]
  },
  {
   "cell_type": "code",
   "execution_count": null,
   "id": "5dc9ee97-6ae8-4481-b4fa-3abe1d36a098",
   "metadata": {},
   "outputs": [],
   "source": [
    "You might want to suppress only ValueError, since a TypeError (the input was not a string or numeric value) might indicate a legitimate bug in your program. To do that, write the exception type after except:"
   ]
  },
  {
   "cell_type": "code",
   "execution_count": null,
   "id": "9a08adf7-2c59-4356-ac0c-b6a76b1aa442",
   "metadata": {},
   "outputs": [],
   "source": [
    "def attempt_float(x):\n",
    "    try:\n",
    "        return float(x)\n",
    "    except ValueError:\n",
    "        return x"
   ]
  },
  {
   "cell_type": "code",
   "execution_count": null,
   "id": "7e92889a-6c3b-4a63-99f6-08b36450cd4d",
   "metadata": {},
   "outputs": [],
   "source": [
    "We have then:"
   ]
  },
  {
   "cell_type": "code",
   "execution_count": null,
   "id": "430fae93-dd67-4208-8a44-ea622e0cc8fa",
   "metadata": {},
   "outputs": [],
   "source": [
    "In [231]: attempt_float((1, 2))\n",
    "---------------------------------------------------------------------------\n",
    "TypeError                                 Traceback (most recent call last)\n",
    "<ipython-input-231-8b0026e9e6b7> in <module>\n",
    "----> 1 attempt_float((1, 2))\n",
    "<ipython-input-230-6209ddecd2b5> in attempt_float(x)\n",
    "      1 def attempt_float(x):\n",
    "      2     try:\n",
    "----> 3         return float(x)\n",
    "      4     except ValueError:\n",
    "      5         return x\n",
    "TypeError: float() argument must be a string or a real number, not 'tuple'"
   ]
  },
  {
   "cell_type": "code",
   "execution_count": null,
   "id": "38484e64-e13b-4bba-b681-81bdf149a775",
   "metadata": {},
   "outputs": [],
   "source": [
    "You can catch multiple exception types by writing a tuple of exception types instead (the parentheses are required):"
   ]
  },
  {
   "cell_type": "code",
   "execution_count": null,
   "id": "18edf764-296f-4c6f-a02f-122afb4a134f",
   "metadata": {},
   "outputs": [],
   "source": [
    "def attempt_float(x):\n",
    "    try:\n",
    "        return float(x)\n",
    "    except (TypeError, ValueError):\n",
    "        return x"
   ]
  },
  {
   "cell_type": "code",
   "execution_count": null,
   "id": "90cd92e4-27b9-48ef-b8fc-6b580817f465",
   "metadata": {},
   "outputs": [],
   "source": [
    "In some cases, you may not want to suppress an exception, but you want some code to be executed regardless of whether or not the code in the try block succeeds. To do this, use finally:"
   ]
  },
  {
   "cell_type": "code",
   "execution_count": null,
   "id": "be75e300-4016-4760-a027-7794ebc489a9",
   "metadata": {},
   "outputs": [],
   "source": [
    "f = open(path, mode=\"w\")\n",
    "\n",
    "try:\n",
    "    write_to_file(f)\n",
    "finally:\n",
    "    f.close()"
   ]
  },
  {
   "cell_type": "code",
   "execution_count": null,
   "id": "e8d3a4fb-6bab-4c2e-8445-4e768cd47f41",
   "metadata": {},
   "outputs": [],
   "source": [
    "Here, the file object f will always get closed. Similarly, you can have code that executes only if the try: block succeeds using else:"
   ]
  },
  {
   "cell_type": "code",
   "execution_count": null,
   "id": "0e8166a6-c039-4a61-8a54-a78dc6b530a1",
   "metadata": {},
   "outputs": [],
   "source": [
    "f = open(path, mode=\"w\")\n",
    "\n",
    "try:\n",
    "    write_to_file(f)\n",
    "except:\n",
    "    print(\"Failed\")\n",
    "else:\n",
    "    print(\"Succeeded\")\n",
    "finally:\n",
    "    f.close()"
   ]
  },
  {
   "cell_type": "markdown",
   "id": "a44df6ff-a988-4bd4-8c7b-e216f7fe73f1",
   "metadata": {},
   "source": [
    "## Exceptions in IPython"
   ]
  },
  {
   "cell_type": "code",
   "execution_count": null,
   "id": "80d4f155-6e28-42ef-b5fe-5d64aab649b5",
   "metadata": {},
   "outputs": [],
   "source": [
    "If an exception is raised while you are %run-ing a script or executing any statement, IPython will by default print a full call stack trace (traceback) with a few lines of context around the position at each point in the stack:If an exception is raised while you are %run-ing a script or executing any statement, IPython will by default print a full call stack trace (traceback) with a few lines of context around the position at each point in the stack:"
   ]
  },
  {
   "cell_type": "code",
   "execution_count": null,
   "id": "c2e496d5-648e-4a27-94e8-03f198ac9fc8",
   "metadata": {},
   "outputs": [],
   "source": [
    "In [10]: %run examples/ipython_bug.py\n",
    "---------------------------------------------------------------------------\n",
    "AssertionError                            Traceback (most recent call last)\n",
    "/home/wesm/code/pydata-book/examples/ipython_bug.py in <module>()\n",
    "     13     throws_an_exception()\n",
    "     14\n",
    "---> 15 calling_things()\n",
    "\n",
    "/home/wesm/code/pydata-book/examples/ipython_bug.py in calling_things()\n",
    "     11 def calling_things():\n",
    "     12     works_fine()\n",
    "---> 13     throws_an_exception()\n",
    "     14\n",
    "     15 calling_things()\n",
    "\n",
    "/home/wesm/code/pydata-book/examples/ipython_bug.py in throws_an_exception()\n",
    "      7     a = 5\n",
    "      8     b = 6\n",
    "----> 9     assert(a + b == 10)\n",
    "     10\n",
    "     11 def calling_things():\n",
    "\n",
    "AssertionError:"
   ]
  },
  {
   "cell_type": "code",
   "execution_count": null,
   "id": "21b52806-f380-4dfb-a395-4a77653cc452",
   "metadata": {},
   "outputs": [],
   "source": [
    "Having additional context by itself is a big advantage over the standard Python interpreter (which does not provide any additional context). You can control the amount of context shown using the %xmode magic command, from Plain (same as the standard Python interpreter) to Verbose (which inlines function argument values and more). As you will see later in Appendix B, you can step into the stack (using the %debug or %pdb magics) after an error has occurred for interactive postmortem debugging."
   ]
  },
  {
   "cell_type": "markdown",
   "id": "ab096e45-42e8-444e-a7df-d05578955ef5",
   "metadata": {},
   "source": [
    "# 3.3 Files and the Operating System"
   ]
  },
  {
   "cell_type": "code",
   "execution_count": null,
   "id": "16f63e67-ccfe-42b7-b0a1-a84c2873ee1b",
   "metadata": {},
   "outputs": [],
   "source": [
    "Most of this book uses high-level tools like pandas.read_csv to read data files from disk into Python data structures. However, it’s important to understand the basics of how to work with files in Python. Fortunately, it’s relatively straightforward, which is one reason Python is so popular for text and file munging.\n",
    "\n",
    "To open a file for reading or writing, use the built-in open function with either a relative or absolute file path and an optional file encoding:"
   ]
  },
  {
   "cell_type": "code",
   "execution_count": null,
   "id": "d2be9e41-8444-45ea-ae20-9a9dbfc1c932",
   "metadata": {},
   "outputs": [],
   "source": [
    "In [233]: path = \"examples/segismundo.txt\"\n",
    "\n",
    "In [234]: f = open(path, encoding=\"utf-8\")"
   ]
  },
  {
   "cell_type": "code",
   "execution_count": null,
   "id": "a41d743c-2cfd-4693-8ee6-1084e2a2a074",
   "metadata": {},
   "outputs": [],
   "source": [
    "Here, I pass encoding=\"utf-8\" as a best practice because the default Unicode encoding for reading files varies from platform to platform."
   ]
  },
  {
   "cell_type": "code",
   "execution_count": null,
   "id": "b82d09c1-e410-4350-80ba-20bd98cc99dc",
   "metadata": {},
   "outputs": [],
   "source": [
    "By default, the file is opened in read-only mode \"r\". We can then treat the file object f like a list and iterate over the lines like so:"
   ]
  },
  {
   "cell_type": "code",
   "execution_count": null,
   "id": "073a06fd-49b7-4704-bcc9-d009853550c4",
   "metadata": {},
   "outputs": [],
   "source": [
    "for line in f:\n",
    "    print(line)"
   ]
  },
  {
   "cell_type": "code",
   "execution_count": null,
   "id": "01e80f55-54f8-49f4-a81c-2bbed829fc98",
   "metadata": {},
   "outputs": [],
   "source": [
    "The lines come out of the file with the end-of-line (EOL) markers intact, so you’ll often see code to get an EOL-free list of lines in a file like:"
   ]
  },
  {
   "cell_type": "code",
   "execution_count": null,
   "id": "a62efd90-2443-48c3-967a-2813732dff84",
   "metadata": {},
   "outputs": [],
   "source": [
    "In [235]: lines = [x.rstrip() for x in open(path, encoding=\"utf-8\")]\n",
    "\n",
    "In [236]: lines\n",
    "Out[236]: \n",
    "['Sueña el rico en su riqueza,',\n",
    " 'que más cuidados le ofrece;',\n",
    " '',\n",
    " 'sueña el pobre que padece',\n",
    " 'su miseria y su pobreza;',\n",
    " '',\n",
    " 'sueña el que a medrar empieza,',\n",
    " 'sueña el que afana y pretende,',\n",
    " 'sueña el que agravia y ofende,',\n",
    " '',\n",
    " 'y en el mundo, en conclusión,',\n",
    " 'todos sueñan lo que son,',\n",
    " 'aunque ninguno lo entiende.',\n",
    " '']"
   ]
  },
  {
   "cell_type": "code",
   "execution_count": null,
   "id": "44ebeb7e-2242-4c5b-ae07-cf5d38963b3f",
   "metadata": {},
   "outputs": [],
   "source": [
    "When you use open to create file objects, it is recommended to close the file when you are finished with it. Closing the file releases its resources back to the operating system:"
   ]
  },
  {
   "cell_type": "code",
   "execution_count": null,
   "id": "b4c7d10c-f811-461a-9dd5-db4d66ef5c76",
   "metadata": {},
   "outputs": [],
   "source": [
    "In [237]: f.close()"
   ]
  },
  {
   "cell_type": "code",
   "execution_count": null,
   "id": "bfba7abb-fe63-49a3-815f-67c67f0f9d4c",
   "metadata": {},
   "outputs": [],
   "source": [
    "One of the ways to make it easier to clean up open files is to use the with statement:"
   ]
  },
  {
   "cell_type": "code",
   "execution_count": null,
   "id": "62f90c09-b554-4b18-968a-b2294d392983",
   "metadata": {},
   "outputs": [],
   "source": [
    "In [238]: with open(path, encoding=\"utf-8\") as f:\n",
    "   .....:     lines = [x.rstrip() for x in f]"
   ]
  },
  {
   "cell_type": "code",
   "execution_count": null,
   "id": "a6883463-c89f-4465-b69d-301948ab8d41",
   "metadata": {},
   "outputs": [],
   "source": [
    "This will automatically close the file f when exiting the with block. Failing to ensure that files are closed will not cause problems in many small programs or scripts, but it can be an issue in programs that need to interact with a large number of files."
   ]
  },
  {
   "cell_type": "code",
   "execution_count": null,
   "id": "6be6af40-09ad-4c7f-8e79-4adc392e6eda",
   "metadata": {},
   "outputs": [],
   "source": [
    "If we had typed f = open(path, \"w\"), a new file at examples/segismundo.txt would have been created (be careful!), overwriting any file in its place. There is also the \"x\" file mode, which creates a writable file but fails if the file path already exists. See Table 3-3 for a list of all valid file read/write modes."
   ]
  },
  {
   "cell_type": "code",
   "execution_count": null,
   "id": "12a375f7-f60f-495e-b2a8-a684b5a852b7",
   "metadata": {},
   "outputs": [],
   "source": [
    "Table 3-3. Python file modes\n",
    "Mode\tDescription\n",
    "r\tRead-only mode\n",
    "w\tWrite-only mode; creates a new file (erasing the data for any file with the same name)\n",
    "x\tWrite-only mode; creates a new file but fails if the file path already exists\n",
    "a\tAppend to existing file (creates the file if it does not already exist)\n",
    "r+\tRead and write\n",
    "b\tAdd to mode for binary files (i.e., \"rb\" or \"wb\")\n",
    "t\tText mode for files (automatically decoding bytes to Unicode); this is the default if not specified"
   ]
  },
  {
   "cell_type": "code",
   "execution_count": null,
   "id": "2b0edfd6-136d-454a-bdc1-aa3a750b173b",
   "metadata": {},
   "outputs": [],
   "source": [
    "For readable files, some of the most commonly used methods are read, seek, and tell. read returns a certain number of characters from the file. What constitutes a “character” is determined by the file encoding or simply raw bytes if the file is opened in binary mode:"
   ]
  },
  {
   "cell_type": "code",
   "execution_count": null,
   "id": "12431cfd-322b-427c-bf1d-44f78ab776ac",
   "metadata": {},
   "outputs": [],
   "source": [
    "In [239]: f1 = open(path)\n",
    "\n",
    "In [240]: f1.read(10)\n",
    "Out[240]: 'Sueña el r'\n",
    "\n",
    "In [241]: f2 = open(path, mode=\"rb\")  # Binary mode\n",
    "\n",
    "In [242]: f2.read(10)\n",
    "Out[242]: b'Sue\\xc3\\xb1a el '"
   ]
  },
  {
   "cell_type": "code",
   "execution_count": null,
   "id": "94c9dbe8-abc8-4f05-a32e-935af403ce98",
   "metadata": {},
   "outputs": [],
   "source": [
    "The read method advances the file object position by the number of bytes read. tell gives you the current position:"
   ]
  },
  {
   "cell_type": "code",
   "execution_count": null,
   "id": "c67e7c58-d4eb-4542-b24a-5e0751d50fb9",
   "metadata": {},
   "outputs": [],
   "source": [
    "In [243]: f1.tell()\n",
    "Out[243]: 11\n",
    "\n",
    "In [244]: f2.tell()\n",
    "Out[244]: 10"
   ]
  },
  {
   "cell_type": "code",
   "execution_count": null,
   "id": "c150fe71-e6ce-4690-8600-2ea636501650",
   "metadata": {},
   "outputs": [],
   "source": [
    "Even though we read 10 characters from the file f1 opened in text mode, the position is 11 because it took that many bytes to decode 10 characters using the default encoding. You can check the default encoding in the sys module:"
   ]
  },
  {
   "cell_type": "code",
   "execution_count": null,
   "id": "acf2c77c-39a7-4bea-96d0-fef2152a80e7",
   "metadata": {},
   "outputs": [],
   "source": [
    "In [245]: import sys\n",
    "\n",
    "In [246]: sys.getdefaultencoding()\n",
    "Out[246]: 'utf-8'\n"
   ]
  },
  {
   "cell_type": "code",
   "execution_count": null,
   "id": "0e5cb80a-6844-4c0e-9793-e93dcf6ce936",
   "metadata": {},
   "outputs": [],
   "source": [
    "To get consistent behavior across platforms, it is best to pass an encoding (such as encoding=\"utf-8\", which is widely used) when opening files."
   ]
  },
  {
   "cell_type": "code",
   "execution_count": null,
   "id": "81379a46-f52d-4d66-a65a-532f6933c3da",
   "metadata": {},
   "outputs": [],
   "source": [
    "seek changes the file position to the indicated byte in the file:"
   ]
  },
  {
   "cell_type": "code",
   "execution_count": null,
   "id": "42ff68f1-81c0-4406-93fb-669cf44c6733",
   "metadata": {},
   "outputs": [],
   "source": [
    "In [247]: f1.seek(3)\n",
    "Out[247]: 3\n",
    "\n",
    "In [248]: f1.read(1)\n",
    "Out[248]: 'ñ'\n",
    "\n",
    "In [249]: f1.tell()\n",
    "Out[249]: 5"
   ]
  },
  {
   "cell_type": "code",
   "execution_count": null,
   "id": "19939b9a-ddda-4dec-9225-bbf66a0e715d",
   "metadata": {},
   "outputs": [],
   "source": [
    "Lastly, we remember to close the files:"
   ]
  },
  {
   "cell_type": "code",
   "execution_count": null,
   "id": "d56a345c-cab0-46dc-9e15-470c93d88745",
   "metadata": {},
   "outputs": [],
   "source": [
    "In [250]: f1.close()\n",
    "\n",
    "In [251]: f2.close()"
   ]
  },
  {
   "cell_type": "code",
   "execution_count": null,
   "id": "e180adf8-f7b2-47fc-96fe-f8060c50ff30",
   "metadata": {},
   "outputs": [],
   "source": [
    "To write text to a file, you can use the file’s write or writelines methods. For example, we could create a version of examples/segismundo.txt with no blank lines like so:"
   ]
  },
  {
   "cell_type": "code",
   "execution_count": null,
   "id": "d20c97d1-9ea5-4af2-ac58-c7274ec32953",
   "metadata": {},
   "outputs": [],
   "source": [
    "In [252]: path\n",
    "Out[252]: 'examples/segismundo.txt'\n",
    "\n",
    "In [253]: with open(\"tmp.txt\", mode=\"w\") as handle:\n",
    "   .....:     handle.writelines(x for x in open(path) if len(x) > 1)\n",
    "\n",
    "In [254]: with open(\"tmp.txt\") as f:\n",
    "   .....:     lines = f.readlines()\n",
    "\n",
    "In [255]: lines\n",
    "Out[255]: \n",
    "['Sueña el rico en su riqueza,\\n',\n",
    " 'que más cuidados le ofrece;\\n',\n",
    " 'sueña el pobre que padece\\n',\n",
    " 'su miseria y su pobreza;\\n',\n",
    " 'sueña el que a medrar empieza,\\n',\n",
    " 'sueña el que afana y pretende,\\n',\n",
    " 'sueña el que agravia y ofende,\\n',\n",
    " 'y en el mundo, en conclusión,\\n',\n",
    " 'todos sueñan lo que son,\\n',\n",
    " 'aunque ninguno lo entiende.\\n']"
   ]
  },
  {
   "cell_type": "code",
   "execution_count": null,
   "id": "b7c10391-e3df-4df6-bed4-f07c0988e6b2",
   "metadata": {},
   "outputs": [],
   "source": [
    "See Table 3-4 for many of the most commonly used file methods."
   ]
  },
  {
   "cell_type": "code",
   "execution_count": null,
   "id": "43d74d8b-2ed4-4ff9-b932-c31d1d83759c",
   "metadata": {},
   "outputs": [],
   "source": [
    "Table 3-4. Important Python file methods or attributes\n",
    "Method/attribute\tDescription\n",
    "read([size])\tReturn data from file as bytes or string depending on the file mode, with optional size argument indicating the number of bytes or string characters to read\n",
    "readable()\tReturn True if the file supports read operations\n",
    "readlines([size])\tReturn list of lines in the file, with optional size argument\n",
    "write(string)\tWrite passed string to file\n",
    "writable()\tReturn True if the file supports write operations\n",
    "writelines(strings)\tWrite passed sequence of strings to the file\n",
    "close()\tClose the file object\n",
    "flush()\tFlush the internal I/O buffer to disk\n",
    "seek(pos)\tMove to indicated file position (integer)\n",
    "seekable()\tReturn True if the file object supports seeking and thus random access (some file-like objects do not)\n",
    "tell()\tReturn current file position as integer\n",
    "closed\tTrue if the file is closed\n",
    "encoding\tThe encoding used to interpret bytes in the file as Unicode (typically UTF-8)"
   ]
  },
  {
   "cell_type": "markdown",
   "id": "dcb9c676-54c9-4a58-8838-525ca604d0e0",
   "metadata": {},
   "source": [
    "## Bytes and Unicode with Files"
   ]
  },
  {
   "cell_type": "code",
   "execution_count": null,
   "id": "66cede33-6de2-4a22-b060-7b4fb530468c",
   "metadata": {},
   "outputs": [],
   "source": [
    "The default behavior for Python files (whether readable or writable) is text mode, which means that you intend to work with Python strings (i.e., Unicode). This contrasts with binary mode, which you can obtain by appending b to the file mode. Revisiting the file (which contains non-ASCII characters with UTF-8 encoding) from the previous section, we have:"
   ]
  },
  {
   "cell_type": "code",
   "execution_count": null,
   "id": "98064b40-433f-4501-aee7-31505a84e095",
   "metadata": {},
   "outputs": [],
   "source": [
    "In [258]: with open(path) as f:\n",
    "   .....:     chars = f.read(10)\n",
    "\n",
    "In [259]: chars\n",
    "Out[259]: 'Sueña el r'\n",
    "\n",
    "In [260]: len(chars)\n",
    "Out[260]: 10"
   ]
  },
  {
   "cell_type": "code",
   "execution_count": null,
   "id": "01872c1e-870f-4c64-aef5-d0c7eff15aec",
   "metadata": {},
   "outputs": [],
   "source": [
    "UTF-8 is a variable-length Unicode encoding, so when I request some number of characters from the file, Python reads enough bytes (which could be as few as 10 or as many as 40 bytes) from the file to decode that many characters. If I open the file in \"rb\" mode instead, read requests that exact number of bytes:"
   ]
  },
  {
   "cell_type": "code",
   "execution_count": null,
   "id": "c01c0f99-0fa2-4fed-9c60-7aa37400cb0d",
   "metadata": {},
   "outputs": [],
   "source": [
    "In [261]: with open(path, mode=\"rb\") as f:\n",
    "   .....:     data = f.read(10)\n",
    "\n",
    "In [262]: data\n",
    "Out[262]: b'Sue\\xc3\\xb1a el '"
   ]
  },
  {
   "cell_type": "code",
   "execution_count": null,
   "id": "78417e02-679d-4dd3-b962-8287f9baac45",
   "metadata": {},
   "outputs": [],
   "source": [
    "Depending on the text encoding, you may be able to decode the bytes to a str object yourself, but only if each of the encoded Unicode characters is fully formed:"
   ]
  },
  {
   "cell_type": "code",
   "execution_count": null,
   "id": "c21c5574-d041-4c4a-9bd1-409ce860ced0",
   "metadata": {},
   "outputs": [],
   "source": [
    "In [263]: data.decode(\"utf-8\")\n",
    "Out[263]: 'Sueña el '\n",
    "\n",
    "In [264]: data[:4].decode(\"utf-8\")\n",
    "---------------------------------------------------------------------------\n",
    "UnicodeDecodeError                        Traceback (most recent call last)\n",
    "<ipython-input-264-846a5c2fed34> in <module>\n",
    "----> 1 data[:4].decode(\"utf-8\")\n",
    "UnicodeDecodeError: 'utf-8' codec can't decode byte 0xc3 in position 3: unexpecte\n",
    "d end of data\n"
   ]
  },
  {
   "cell_type": "code",
   "execution_count": null,
   "id": "fa2055db-cbd0-415d-bcdd-257554cde1d9",
   "metadata": {},
   "outputs": [],
   "source": [
    "Text mode, combined with the encoding option of open, provides a convenient way to convert from one Unicode encoding to another:"
   ]
  },
  {
   "cell_type": "code",
   "execution_count": null,
   "id": "2ce36142-5a04-4fe8-90e8-dd973985187a",
   "metadata": {},
   "outputs": [],
   "source": [
    "In [265]: sink_path = \"sink.txt\"\n",
    "\n",
    "In [266]: with open(path) as source:\n",
    "   .....:     with open(sink_path, \"x\", encoding=\"iso-8859-1\") as sink:\n",
    "   .....:         sink.write(source.read())\n",
    "\n",
    "In [267]: with open(sink_path, encoding=\"iso-8859-1\") as f:\n",
    "   .....:     print(f.read(10))\n",
    "Sueña el r"
   ]
  },
  {
   "cell_type": "code",
   "execution_count": null,
   "id": "1f2ea87c-ab18-4baa-bb8c-709f91df2153",
   "metadata": {},
   "outputs": [],
   "source": [
    "Beware using seek when opening files in any mode other than binary. If the file position falls in the middle of the bytes defining a Unicode character, then subsequent reads will result in an error:"
   ]
  },
  {
   "cell_type": "code",
   "execution_count": null,
   "id": "99f5b19f-95c5-4639-9011-8846a40c30b1",
   "metadata": {},
   "outputs": [],
   "source": [
    "In [269]: f = open(path, encoding='utf-8')\n",
    "\n",
    "In [270]: f.read(5)\n",
    "Out[270]: 'Sueña'\n",
    "\n",
    "In [271]: f.seek(4)\n",
    "Out[271]: 4\n",
    "\n",
    "In [272]: f.read(1)\n",
    "---------------------------------------------------------------------------\n",
    "UnicodeDecodeError                        Traceback (most recent call last)\n",
    "<ipython-input-272-5a354f952aa4> in <module>\n",
    "----> 1 f.read(1)\n",
    "/miniconda/envs/book-env/lib/python3.10/codecs.py in decode(self, input, final)\n",
    "    320         # decode input (taking the buffer into account)\n",
    "    321         data = self.buffer + input\n",
    "--> 322         (result, consumed) = self._buffer_decode(data, self.errors, final\n",
    ")\n",
    "    323         # keep undecoded input until the next call\n",
    "    324         self.buffer = data[consumed:]\n",
    "UnicodeDecodeError: 'utf-8' codec can't decode byte 0xb1 in position 0: invalid s\n",
    "tart byte\n",
    "\n",
    "In [273]: f.close()"
   ]
  },
  {
   "cell_type": "code",
   "execution_count": null,
   "id": "1d7d4866-82ff-4aa3-adff-4c4fefec91b2",
   "metadata": {},
   "outputs": [],
   "source": [
    "If you find yourself regularly doing data analysis on non-ASCII text data, mastering Python’s Unicode functionality will prove valuable. See Python’s online documentation for much more."
   ]
  },
  {
   "cell_type": "markdown",
   "id": "941a050d-07e1-4750-a2be-41bb9d06d418",
   "metadata": {},
   "source": [
    "# 3.4 Conclusion"
   ]
  },
  {
   "cell_type": "code",
   "execution_count": null,
   "id": "5a4fdbb0-4db4-44fc-a817-aa5527d24079",
   "metadata": {},
   "outputs": [],
   "source": [
    "With some of the basics of the Python environment and language now under your belt, it is time to move on and learn about NumPy and array-oriented computing in Python."
   ]
  }
 ],
 "metadata": {
  "kernelspec": {
   "display_name": "Python [conda env:base] *",
   "language": "python",
   "name": "conda-base-py"
  },
  "language_info": {
   "codemirror_mode": {
    "name": "ipython",
    "version": 3
   },
   "file_extension": ".py",
   "mimetype": "text/x-python",
   "name": "python",
   "nbconvert_exporter": "python",
   "pygments_lexer": "ipython3",
   "version": "3.12.7"
  }
 },
 "nbformat": 4,
 "nbformat_minor": 5
}
